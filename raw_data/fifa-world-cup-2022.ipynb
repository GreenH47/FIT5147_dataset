{
 "cells": [
  {
   "cell_type": "markdown",
   "id": "43b51149",
   "metadata": {
    "_execution_state": "idle",
    "_uuid": "051d70d956493feee0c6d64651c6a088724dca2a",
    "execution": {
     "iopub.execute_input": "2022-12-25T17:44:57.503663Z",
     "iopub.status.busy": "2022-12-25T17:44:57.502362Z",
     "iopub.status.idle": "2022-12-25T17:44:57.518721Z"
    },
    "papermill": {
     "duration": 0.006473,
     "end_time": "2022-12-25T19:30:38.082633",
     "exception": false,
     "start_time": "2022-12-25T19:30:38.076160",
     "status": "completed"
    },
    "tags": []
   },
   "source": [
    "# Fifa world cup 2022 - Trying to predict match outcome (PCA & k-means analysis)\n",
    "\n",
    "In this notebook I will try to predict the outcomes of the 2022 Fifa world cup matches, mixing supervised and unsupervised learning methods. In the first stage, I will perform PCA in order to reduce the dimensionality of the data. In the second stage I will perform k-means analysis in order to cluster the matches to 3 categories (corresponding to 3 possible outcomes of a football match).\n",
    "\n",
    "### Initializing\n",
    "#### Starting with loading the libraries:"
   ]
  },
  {
   "cell_type": "code",
   "execution_count": 1,
   "id": "2ebbd4b1",
   "metadata": {
    "execution": {
     "iopub.execute_input": "2022-12-25T19:30:38.097834Z",
     "iopub.status.busy": "2022-12-25T19:30:38.095745Z",
     "iopub.status.idle": "2022-12-25T19:30:39.675482Z",
     "shell.execute_reply": "2022-12-25T19:30:39.674021Z"
    },
    "papermill": {
     "duration": 1.589743,
     "end_time": "2022-12-25T19:30:39.677801",
     "exception": false,
     "start_time": "2022-12-25T19:30:38.088058",
     "status": "completed"
    },
    "tags": []
   },
   "outputs": [
    {
     "name": "stderr",
     "output_type": "stream",
     "text": [
      "── \u001b[1mAttaching packages\u001b[22m ─────────────────────────────────────── tidyverse 1.3.2 ──\n",
      "\u001b[32m✔\u001b[39m \u001b[34mggplot2\u001b[39m 3.3.6      \u001b[32m✔\u001b[39m \u001b[34mpurrr  \u001b[39m 0.3.5 \n",
      "\u001b[32m✔\u001b[39m \u001b[34mtibble \u001b[39m 3.1.8      \u001b[32m✔\u001b[39m \u001b[34mdplyr  \u001b[39m 1.0.10\n",
      "\u001b[32m✔\u001b[39m \u001b[34mtidyr  \u001b[39m 1.2.1      \u001b[32m✔\u001b[39m \u001b[34mstringr\u001b[39m 1.4.1 \n",
      "\u001b[32m✔\u001b[39m \u001b[34mreadr  \u001b[39m 2.1.3      \u001b[32m✔\u001b[39m \u001b[34mforcats\u001b[39m 0.5.2 \n",
      "── \u001b[1mConflicts\u001b[22m ────────────────────────────────────────── tidyverse_conflicts() ──\n",
      "\u001b[31m✖\u001b[39m \u001b[34mdplyr\u001b[39m::\u001b[32mfilter()\u001b[39m masks \u001b[34mstats\u001b[39m::filter()\n",
      "\u001b[31m✖\u001b[39m \u001b[34mdplyr\u001b[39m::\u001b[32mlag()\u001b[39m    masks \u001b[34mstats\u001b[39m::lag()\n",
      "\n",
      "Attaching package: ‘psych’\n",
      "\n",
      "\n",
      "The following objects are masked from ‘package:ggplot2’:\n",
      "\n",
      "    %+%, alpha\n",
      "\n",
      "\n"
     ]
    }
   ],
   "source": [
    "library(tidyverse) # Useful data cleaning and analysis\n",
    "library(psych) # For PCA\n",
    "library(ggplot2) # Plotting\n",
    "library(ggfortify) # ...\n",
    "library(ggrepel) # ...\n",
    "library(stringr) # Text and string manipulations"
   ]
  },
  {
   "cell_type": "markdown",
   "id": "6149f7b8",
   "metadata": {
    "papermill": {
     "duration": 0.005837,
     "end_time": "2022-12-25T19:30:39.689578",
     "exception": false,
     "start_time": "2022-12-25T19:30:39.683741",
     "status": "completed"
    },
    "tags": []
   },
   "source": [
    "#### Defining some helpful functions:"
   ]
  },
  {
   "cell_type": "markdown",
   "id": "41515842",
   "metadata": {
    "papermill": {
     "duration": 0.005663,
     "end_time": "2022-12-25T19:30:39.700976",
     "exception": false,
     "start_time": "2022-12-25T19:30:39.695313",
     "status": "completed"
    },
    "tags": []
   },
   "source": []
  },
  {
   "cell_type": "code",
   "execution_count": 2,
   "id": "fb1b5f63",
   "metadata": {
    "execution": {
     "iopub.execute_input": "2022-12-25T19:30:39.749724Z",
     "iopub.status.busy": "2022-12-25T19:30:39.714503Z",
     "iopub.status.idle": "2022-12-25T19:30:39.762990Z",
     "shell.execute_reply": "2022-12-25T19:30:39.761121Z"
    },
    "papermill": {
     "duration": 0.05844,
     "end_time": "2022-12-25T19:30:39.765127",
     "exception": false,
     "start_time": "2022-12-25T19:30:39.706687",
     "status": "completed"
    },
    "tags": []
   },
   "outputs": [],
   "source": [
    "percent_to_prob <- function(percent) { # Transforming percentage data in the form of a string '56%' to numeric data between 0 and 1 (0.56)\n",
    "  output <-  rep(NA, length(percent))\n",
    "  for (i in 1:length(percent)) {\n",
    "    output[i] <- as.numeric(gsub(\"%\", \"\", percent[i]))/100 # Removing from every cell in the string vector the % sign, transforming to numeric and dividing by 100\n",
    "  }\n",
    "  return(output)\n",
    "}\n",
    "\n",
    "\n",
    "remove_vars_containing <- function(vars, forbidden) { # This function indetify and clean a vector of strings from items contatning spcified expressions\n",
    "  for (word in forbidden) {                           # Looping for every forbidden expression\n",
    "    vars <- vars[!str_detect(vars, regex(word, ignore_case = T))] # Keeping only the expressions that don't (the sign ! in the beginning) contain the forbidden word\n",
    "  }\n",
    "  return(vars)\n",
    "}"
   ]
  },
  {
   "cell_type": "markdown",
   "id": "e5f767a1",
   "metadata": {
    "papermill": {
     "duration": 0.005614,
     "end_time": "2022-12-25T19:30:39.776506",
     "exception": false,
     "start_time": "2022-12-25T19:30:39.770892",
     "status": "completed"
    },
    "tags": []
   },
   "source": [
    "### Loading the data and some pre-processing\n",
    "After we load the data, we will define a new variable 'winner' that codes the winner of the match. We also transform some variables from string class to numeric class:"
   ]
  },
  {
   "cell_type": "code",
   "execution_count": 3,
   "id": "4edb5b38",
   "metadata": {
    "execution": {
     "iopub.execute_input": "2022-12-25T19:30:39.790630Z",
     "iopub.status.busy": "2022-12-25T19:30:39.789305Z",
     "iopub.status.idle": "2022-12-25T19:30:39.868625Z",
     "shell.execute_reply": "2022-12-25T19:30:39.867017Z"
    },
    "papermill": {
     "duration": 0.088621,
     "end_time": "2022-12-25T19:30:39.870770",
     "exception": false,
     "start_time": "2022-12-25T19:30:39.782149",
     "status": "completed"
    },
    "tags": []
   },
   "outputs": [
    {
     "name": "stdout",
     "output_type": "stream",
     "text": [
      "Rows: 64\n",
      "Columns: 89\n",
      "$ team1                                                 \u001b[3m\u001b[90m<chr>\u001b[39m\u001b[23m \"QATAR\", \"ENGLAN…\n",
      "$ team2                                                 \u001b[3m\u001b[90m<chr>\u001b[39m\u001b[23m \"ECUADOR\", \"IRAN…\n",
      "$ possession.team1                                      \u001b[3m\u001b[90m<dbl>\u001b[39m\u001b[23m 0.42, 0.72, 0.44…\n",
      "$ possession.team2                                      \u001b[3m\u001b[90m<dbl>\u001b[39m\u001b[23m 0.50, 0.19, 0.45…\n",
      "$ possession.in.contest                                 \u001b[3m\u001b[90m<dbl>\u001b[39m\u001b[23m 0.08, 0.09, 0.11…\n",
      "$ number.of.goals.team1                                 \u001b[3m\u001b[90m<int>\u001b[39m\u001b[23m 0, 6, 0, 1, 1, 0…\n",
      "$ number.of.goals.team2                                 \u001b[3m\u001b[90m<int>\u001b[39m\u001b[23m 2, 2, 2, 1, 2, 0…\n",
      "$ date                                                  \u001b[3m\u001b[90m<chr>\u001b[39m\u001b[23m \"20 NOV 2022\", \"…\n",
      "$ hour                                                  \u001b[3m\u001b[90m<chr>\u001b[39m\u001b[23m \"17 : 00\", \"14 :…\n",
      "$ category                                              \u001b[3m\u001b[90m<chr>\u001b[39m\u001b[23m \"Group A\", \"Grou…\n",
      "$ total.attempts.team1                                  \u001b[3m\u001b[90m<int>\u001b[39m\u001b[23m 5, 13, 14, 6, 14…\n",
      "$ total.attempts.team2                                  \u001b[3m\u001b[90m<int>\u001b[39m\u001b[23m 6, 8, 9, 7, 3, 1…\n",
      "$ conceded.team1                                        \u001b[3m\u001b[90m<int>\u001b[39m\u001b[23m 2, 2, 2, 1, 2, 0…\n",
      "$ conceded.team2                                        \u001b[3m\u001b[90m<int>\u001b[39m\u001b[23m 0, 6, 0, 1, 1, 0…\n",
      "$ goal.inside.the.penalty.area.team1                    \u001b[3m\u001b[90m<int>\u001b[39m\u001b[23m 0, 6, 0, 1, 1, 0…\n",
      "$ goal.inside.the.penalty.area.team2                    \u001b[3m\u001b[90m<int>\u001b[39m\u001b[23m 2, 2, 2, 1, 2, 0…\n",
      "$ goal.outside.the.penalty.area.team1                   \u001b[3m\u001b[90m<int>\u001b[39m\u001b[23m 0, 0, 0, 0, 0, 0…\n",
      "$ goal.outside.the.penalty.area.team2                   \u001b[3m\u001b[90m<int>\u001b[39m\u001b[23m 0, 0, 0, 0, 0, 0…\n",
      "$ assists.team1                                         \u001b[3m\u001b[90m<int>\u001b[39m\u001b[23m 0, 6, 0, 1, 0, 0…\n",
      "$ assists.team2                                         \u001b[3m\u001b[90m<int>\u001b[39m\u001b[23m 1, 1, 1, 0, 1, 0…\n",
      "$ on.target.attempts.team1                              \u001b[3m\u001b[90m<int>\u001b[39m\u001b[23m 0, 7, 3, 1, 6, 4…\n",
      "$ on.target.attempts.team2                              \u001b[3m\u001b[90m<int>\u001b[39m\u001b[23m 3, 3, 3, 3, 2, 1…\n",
      "$ off.target.attempts.team1                             \u001b[3m\u001b[90m<int>\u001b[39m\u001b[23m 5, 3, 8, 4, 5, 4…\n",
      "$ off.target.attempts.team2                             \u001b[3m\u001b[90m<int>\u001b[39m\u001b[23m 3, 4, 5, 3, 0, 7…\n",
      "$ attempts.inside.the.penalty.area.team1                \u001b[3m\u001b[90m<int>\u001b[39m\u001b[23m 2, 10, 7, 4, 10,…\n",
      "$ attempts.inside.the.penalty.area..team2               \u001b[3m\u001b[90m<int>\u001b[39m\u001b[23m 4, 6, 5, 5, 3, 6…\n",
      "$ attempts.outside.the.penalty.area..team1              \u001b[3m\u001b[90m<int>\u001b[39m\u001b[23m 3, 3, 7, 2, 4, 4…\n",
      "$ attempts.outside.the.penalty.area..team2              \u001b[3m\u001b[90m<int>\u001b[39m\u001b[23m 2, 2, 4, 2, 0, 5…\n",
      "$ left.channel.team1                                    \u001b[3m\u001b[90m<int>\u001b[39m\u001b[23m 15, 11, 12, 14, …\n",
      "$ left.channel.team2                                    \u001b[3m\u001b[90m<int>\u001b[39m\u001b[23m 8, 3, 11, 7, 3, …\n",
      "$ left.inside.channel.team1                             \u001b[3m\u001b[90m<int>\u001b[39m\u001b[23m 0, 5, 4, 5, 4, 4…\n",
      "$ left.inside.channel.team2                             \u001b[3m\u001b[90m<int>\u001b[39m\u001b[23m 7, 0, 2, 2, 2, 2…\n",
      "$ central.channel.team1                                 \u001b[3m\u001b[90m<int>\u001b[39m\u001b[23m 3, 2, 2, 4, 5, 7…\n",
      "$ central.channel.team2                                 \u001b[3m\u001b[90m<int>\u001b[39m\u001b[23m 6, 3, 2, 5, 3, 2…\n",
      "$ right.inside.channel.team1                            \u001b[3m\u001b[90m<int>\u001b[39m\u001b[23m 1, 3, 4, 4, 8, 6…\n",
      "$ right.inside.channel.team2                            \u001b[3m\u001b[90m<int>\u001b[39m\u001b[23m 4, 1, 7, 2, 3, 3…\n",
      "$ right.channel.team1                                   \u001b[3m\u001b[90m<int>\u001b[39m\u001b[23m 9, 11, 13, 11, 1…\n",
      "$ right.channel.team2                                   \u001b[3m\u001b[90m<int>\u001b[39m\u001b[23m 6, 0, 20, 7, 8, …\n",
      "$ total.offers.to.receive.team1                         \u001b[3m\u001b[90m<int>\u001b[39m\u001b[23m 520, 1061, 502, …\n",
      "$ total.offers.to.receive.team2                         \u001b[3m\u001b[90m<int>\u001b[39m\u001b[23m 532, 212, 506, 4…\n",
      "$ inbehind.offers.to.receive.team1                      \u001b[3m\u001b[90m<int>\u001b[39m\u001b[23m 116, 207, 123, 1…\n",
      "$ inbehind.offers.to.receive.team2                      \u001b[3m\u001b[90m<int>\u001b[39m\u001b[23m 127, 53, 117, 10…\n",
      "$ inbetween.offers.to.receive.team1                     \u001b[3m\u001b[90m<int>\u001b[39m\u001b[23m 235, 386, 230, 3…\n",
      "$ inbetween.offers.to.receive.team2                     \u001b[3m\u001b[90m<int>\u001b[39m\u001b[23m 187, 86, 191, 17…\n",
      "$ infront.offers.to.receive.team1                       \u001b[3m\u001b[90m<int>\u001b[39m\u001b[23m 169, 468, 149, 2…\n",
      "$ infront.offers.to.receive.team2                       \u001b[3m\u001b[90m<int>\u001b[39m\u001b[23m 218, 73, 198, 16…\n",
      "$ receptions.between.midfield.and.defensive.lines.team1 \u001b[3m\u001b[90m<int>\u001b[39m\u001b[23m 5, 16, 15, 12, 2…\n",
      "$ receptions.between.midfield.and.defensive.lines.team2 \u001b[3m\u001b[90m<int>\u001b[39m\u001b[23m 8, 4, 14, 9, 9, …\n",
      "$ attempted.line.breaks.team1                           \u001b[3m\u001b[90m<int>\u001b[39m\u001b[23m 136, 238, 151, 1…\n",
      "$ attempted.line.breaks.team2                           \u001b[3m\u001b[90m<int>\u001b[39m\u001b[23m 155, 101, 162, 1…\n",
      "$ completed.line.breaksteam1                            \u001b[3m\u001b[90m<int>\u001b[39m\u001b[23m 86, 178, 89, 146…\n",
      "$ completed.line.breaks.team2                           \u001b[3m\u001b[90m<int>\u001b[39m\u001b[23m 99, 45, 96, 103,…\n",
      "$ attempted.defensive.line.breaks.team1                 \u001b[3m\u001b[90m<int>\u001b[39m\u001b[23m 9, 25, 22, 23, 3…\n",
      "$ attempted.defensive.line.breaks.team2                 \u001b[3m\u001b[90m<int>\u001b[39m\u001b[23m 13, 7, 22, 17, 1…\n",
      "$ completed.defensive.line.breaksteam1                  \u001b[3m\u001b[90m<int>\u001b[39m\u001b[23m 4, 16, 15, 15, 2…\n",
      "$ completed.defensive.line.breaks.team2                 \u001b[3m\u001b[90m<int>\u001b[39m\u001b[23m 7, 4, 10, 8, 7, …\n",
      "$ yellow.cards.team1                                    \u001b[3m\u001b[90m<int>\u001b[39m\u001b[23m 4, 0, 2, 4, 0, 2…\n",
      "$ yellow.cards.team2                                    \u001b[3m\u001b[90m<int>\u001b[39m\u001b[23m 2, 2, 1, 2, 6, 1…\n",
      "$ red.cards.team1                                       \u001b[3m\u001b[90m<int>\u001b[39m\u001b[23m 0, 0, 0, 0, 0, 0…\n",
      "$ red.cards.team2                                       \u001b[3m\u001b[90m<int>\u001b[39m\u001b[23m 0, 0, 0, 0, 0, 0…\n",
      "$ fouls.against.team1                                   \u001b[3m\u001b[90m<int>\u001b[39m\u001b[23m 15, 9, 13, 15, 7…\n",
      "$ fouls.against.team2                                   \u001b[3m\u001b[90m<int>\u001b[39m\u001b[23m 15, 14, 13, 10, …\n",
      "$ offsides.team1                                        \u001b[3m\u001b[90m<int>\u001b[39m\u001b[23m 3, 2, 2, 1, 10, …\n",
      "$ offsides.team2                                        \u001b[3m\u001b[90m<int>\u001b[39m\u001b[23m 4, 2, 1, 1, 1, 1…\n",
      "$ passes.team1                                          \u001b[3m\u001b[90m<int>\u001b[39m\u001b[23m 450, 809, 383, 5…\n",
      "$ passes.team2                                          \u001b[3m\u001b[90m<int>\u001b[39m\u001b[23m 480, 224, 438, 4…\n",
      "$ passes.completed.team1                                \u001b[3m\u001b[90m<int>\u001b[39m\u001b[23m 381, 730, 313, 5…\n",
      "$ passes.completed.team2                                \u001b[3m\u001b[90m<int>\u001b[39m\u001b[23m 409, 154, 374, 3…\n",
      "$ crosses.team1                                         \u001b[3m\u001b[90m<int>\u001b[39m\u001b[23m 9, 23, 19, 31, 2…\n",
      "$ crosses.team2                                         \u001b[3m\u001b[90m<int>\u001b[39m\u001b[23m 14, 8, 25, 15, 9…\n",
      "$ crosses.completed.team1                               \u001b[3m\u001b[90m<int>\u001b[39m\u001b[23m 4, 7, 7, 4, 12, …\n",
      "$ crosses.completed.team2                               \u001b[3m\u001b[90m<int>\u001b[39m\u001b[23m 4, 1, 8, 6, 2, 3…\n",
      "$ switches.of.play.completed.team1                      \u001b[3m\u001b[90m<int>\u001b[39m\u001b[23m 9, 12, 9, 5, 5, …\n",
      "$ switches.of.play.completed.team2                      \u001b[3m\u001b[90m<int>\u001b[39m\u001b[23m 9, 3, 6, 8, 7, 1…\n",
      "$ corners.team1                                         \u001b[3m\u001b[90m<int>\u001b[39m\u001b[23m 1, 8, 6, 5, 9, 1…\n",
      "$ corners.team2                                         \u001b[3m\u001b[90m<int>\u001b[39m\u001b[23m 3, 0, 7, 3, 2, 9…\n",
      "$ free.kicks.team1                                      \u001b[3m\u001b[90m<int>\u001b[39m\u001b[23m 19, 16, 14, 11, …\n",
      "$ free.kicks.team2                                      \u001b[3m\u001b[90m<int>\u001b[39m\u001b[23m 17, 10, 14, 15, …\n",
      "$ penalties.scored.team1                                \u001b[3m\u001b[90m<int>\u001b[39m\u001b[23m 0, 0, 0, 0, 1, 0…\n",
      "$ penalties.scored.team2                                \u001b[3m\u001b[90m<int>\u001b[39m\u001b[23m 1, 1, 0, 1, 0, 0…\n",
      "$ goal.preventions.team1                                \u001b[3m\u001b[90m<int>\u001b[39m\u001b[23m 6, 8, 9, 7, 4, 1…\n",
      "$ goal.preventions.team2                                \u001b[3m\u001b[90m<int>\u001b[39m\u001b[23m 5, 13, 15, 7, 14…\n",
      "$ own.goals.team1                                       \u001b[3m\u001b[90m<int>\u001b[39m\u001b[23m 0, 0, 0, 0, 0, 0…\n",
      "$ own.goals.team2                                       \u001b[3m\u001b[90m<int>\u001b[39m\u001b[23m 0, 0, 0, 0, 0, 0…\n",
      "$ forced.turnovers.team1                                \u001b[3m\u001b[90m<int>\u001b[39m\u001b[23m 52, 63, 63, 81, …\n",
      "$ forced.turnovers.team2                                \u001b[3m\u001b[90m<int>\u001b[39m\u001b[23m 72, 72, 73, 72, …\n",
      "$ defensive.pressures.applied.team1                     \u001b[3m\u001b[90m<int>\u001b[39m\u001b[23m 256, 139, 263, 2…\n",
      "$ defensive.pressures.applied.team2                     \u001b[3m\u001b[90m<int>\u001b[39m\u001b[23m 279, 416, 251, 2…\n",
      "$ winner                                                \u001b[3m\u001b[90m<chr>\u001b[39m\u001b[23m \"team2\", \"team1\"…\n"
     ]
    }
   ],
   "source": [
    "data <- read.csv(\"../input/fifa-world-cup-2022-complete-dataset/Fifa_world_cup_matches.csv\") %>%\n",
    "  mutate(winner = ifelse(number.of.goals.team1 > number.of.goals.team2, \"team1\",\n",
    "                        ifelse(number.of.goals.team2 > number.of.goals.team1, \"team2\", \"draw\"))) %>% # Adding a 'Winner' variable.\n",
    "  mutate(possession.team1 = percent_to_prob(possession.team1),\n",
    "         possession.team2 = percent_to_prob(possession.team2),\n",
    "         possession.in.contest = percent_to_prob(possession.in.contest)) # Transforming possesion percentage to numeric.\n",
    "\n",
    "glimpse(data)"
   ]
  },
  {
   "cell_type": "markdown",
   "id": "c04e7f34",
   "metadata": {
    "papermill": {
     "duration": 0.00617,
     "end_time": "2022-12-25T19:30:39.884089",
     "exception": false,
     "start_time": "2022-12-25T19:30:39.877919",
     "status": "completed"
    },
    "tags": []
   },
   "source": [
    "Second thing we will want to do is to remove variables with very low variance. For example: the variable 'goal.outside.the.penalty.area.team1' codes the number of goals scored by the home team in the match from outside the box. It looks like this:"
   ]
  },
  {
   "cell_type": "code",
   "execution_count": 4,
   "id": "bf19e4ca",
   "metadata": {
    "execution": {
     "iopub.execute_input": "2022-12-25T19:30:39.899292Z",
     "iopub.status.busy": "2022-12-25T19:30:39.897945Z",
     "iopub.status.idle": "2022-12-25T19:30:39.914737Z",
     "shell.execute_reply": "2022-12-25T19:30:39.913166Z"
    },
    "papermill": {
     "duration": 0.026853,
     "end_time": "2022-12-25T19:30:39.917127",
     "exception": false,
     "start_time": "2022-12-25T19:30:39.890274",
     "status": "completed"
    },
    "tags": []
   },
   "outputs": [
    {
     "data": {
      "text/plain": [
       "   Min. 1st Qu.  Median    Mean 3rd Qu.    Max. \n",
       "0.00000 0.00000 0.00000 0.09375 0.00000 1.00000 "
      ]
     },
     "metadata": {},
     "output_type": "display_data"
    }
   ],
   "source": [
    "summary(data$goal.outside.the.penalty.area.team1)"
   ]
  },
  {
   "cell_type": "markdown",
   "id": "92098eaa",
   "metadata": {
    "papermill": {
     "duration": 0.01535,
     "end_time": "2022-12-25T19:30:39.938618",
     "exception": false,
     "start_time": "2022-12-25T19:30:39.923268",
     "status": "completed"
    },
    "tags": []
   },
   "source": [
    "Therefore, we will want to remove those non-informative variables. We will do that using our function that detects (un)desired expressions in strings and removes them:"
   ]
  },
  {
   "cell_type": "code",
   "execution_count": 5,
   "id": "ae358663",
   "metadata": {
    "execution": {
     "iopub.execute_input": "2022-12-25T19:30:39.954482Z",
     "iopub.status.busy": "2022-12-25T19:30:39.952872Z",
     "iopub.status.idle": "2022-12-25T19:30:39.984714Z",
     "shell.execute_reply": "2022-12-25T19:30:39.983047Z"
    },
    "papermill": {
     "duration": 0.041789,
     "end_time": "2022-12-25T19:30:39.986742",
     "exception": false,
     "start_time": "2022-12-25T19:30:39.944953",
     "status": "completed"
    },
    "tags": []
   },
   "outputs": [],
   "source": [
    "vars_full <- names(data) # Full list of variable names\n",
    "forbidden_exp <- c(\"goal\", \"goals\", \"assist\", \"assists\", \"penalty\", \"penalties\", \"card\", \"cards\", \"conceded\")\n",
    "vars_analytics <- remove_vars_containing(vars_full, forbidden_exp) # Removing vars containing info about goals, assists and cards because of low variance."
   ]
  },
  {
   "cell_type": "markdown",
   "id": "8a86f8c2",
   "metadata": {
    "papermill": {
     "duration": 0.006416,
     "end_time": "2022-12-25T19:30:40.000780",
     "exception": false,
     "start_time": "2022-12-25T19:30:39.994364",
     "status": "completed"
    },
    "tags": []
   },
   "source": [
    "#### Final filtering and end of pre-processing\n",
    "Selecting the desired variables:"
   ]
  },
  {
   "cell_type": "code",
   "execution_count": 6,
   "id": "89bac121",
   "metadata": {
    "execution": {
     "iopub.execute_input": "2022-12-25T19:30:40.016304Z",
     "iopub.status.busy": "2022-12-25T19:30:40.014970Z",
     "iopub.status.idle": "2022-12-25T19:30:40.088320Z",
     "shell.execute_reply": "2022-12-25T19:30:40.086709Z"
    },
    "papermill": {
     "duration": 0.083231,
     "end_time": "2022-12-25T19:30:40.090133",
     "exception": false,
     "start_time": "2022-12-25T19:30:40.006902",
     "status": "completed"
    },
    "tags": []
   },
   "outputs": [],
   "source": [
    "data_for_pca <- data %>%\n",
    "  select(all_of(vars_analytics)) %>% # Selecting relatively high variance vars.\n",
    "  select(-team1, -team2, -date, -hour, -category, -winner) # Removing non numeric vars."
   ]
  },
  {
   "cell_type": "markdown",
   "id": "72f88cff",
   "metadata": {
    "papermill": {
     "duration": 0.006153,
     "end_time": "2022-12-25T19:30:40.102467",
     "exception": false,
     "start_time": "2022-12-25T19:30:40.096314",
     "status": "completed"
    },
    "tags": []
   },
   "source": [
    "### PCA (Principal Components Analysis)\n",
    "We are left with 59 variables which is quite a large number if we desire some explainability by the end of the process ;). Therefore we will perform some PCA in order to reduce those 59 variables to some smaller number of features.\n",
    "\n",
    "If you are interested in learning more about PCA. check out this helpful video by StatQuest (Josh Starmer): https://www.youtube.com/watch?v=FgakZw6K1QQ\n",
    "\n",
    "We will start with calculating 59 PC's:"
   ]
  },
  {
   "cell_type": "code",
   "execution_count": 7,
   "id": "31ce1e86",
   "metadata": {
    "execution": {
     "iopub.execute_input": "2022-12-25T19:30:40.117576Z",
     "iopub.status.busy": "2022-12-25T19:30:40.116345Z",
     "iopub.status.idle": "2022-12-25T19:30:40.167615Z",
     "shell.execute_reply": "2022-12-25T19:30:40.165484Z"
    },
    "papermill": {
     "duration": 0.061544,
     "end_time": "2022-12-25T19:30:40.170226",
     "exception": false,
     "start_time": "2022-12-25T19:30:40.108682",
     "status": "completed"
    },
    "tags": []
   },
   "outputs": [
    {
     "data": {
      "text/plain": [
       "Importance of components:\n",
       "                          PC1     PC2     PC3     PC4     PC5     PC6     PC7\n",
       "Standard deviation     4.8252 2.29457 2.01125 1.82599 1.62346 1.45476 1.38953\n",
       "Proportion of Variance 0.3946 0.08924 0.06856 0.05651 0.04467 0.03587 0.03273\n",
       "Cumulative Proportion  0.3946 0.48386 0.55242 0.60893 0.65360 0.68947 0.72220\n",
       "                           PC8     PC9    PC10    PC11    PC12   PC13    PC14\n",
       "Standard deviation     1.29794 1.18285 1.06947 1.00395 0.99218 0.9563 0.92881\n",
       "Proportion of Variance 0.02855 0.02371 0.01939 0.01708 0.01669 0.0155 0.01462\n",
       "Cumulative Proportion  0.75075 0.77447 0.79385 0.81094 0.82762 0.8431 0.85774\n",
       "                          PC15   PC16    PC17    PC18    PC19    PC20    PC21\n",
       "Standard deviation     0.86947 0.8621 0.85836 0.80441 0.75369 0.72136 0.67813\n",
       "Proportion of Variance 0.01281 0.0126 0.01249 0.01097 0.00963 0.00882 0.00779\n",
       "Cumulative Proportion  0.87056 0.8831 0.89564 0.90661 0.91623 0.92505 0.93285\n",
       "                          PC22    PC23    PC24    PC25    PC26    PC27    PC28\n",
       "Standard deviation     0.66859 0.61153 0.59535 0.56620 0.56105 0.50510 0.50092\n",
       "Proportion of Variance 0.00758 0.00634 0.00601 0.00543 0.00534 0.00432 0.00425\n",
       "Cumulative Proportion  0.94042 0.94676 0.95277 0.95820 0.96354 0.96786 0.97212\n",
       "                         PC29    PC30    PC31    PC32    PC33   PC34    PC35\n",
       "Standard deviation     0.4672 0.44302 0.41451 0.38361 0.37127 0.3260 0.31439\n",
       "Proportion of Variance 0.0037 0.00333 0.00291 0.00249 0.00234 0.0018 0.00168\n",
       "Cumulative Proportion  0.9758 0.97914 0.98206 0.98455 0.98689 0.9887 0.99036\n",
       "                         PC36    PC37    PC38    PC39    PC40   PC41    PC42\n",
       "Standard deviation     0.2875 0.26855 0.26097 0.25390 0.23474 0.2168 0.19756\n",
       "Proportion of Variance 0.0014 0.00122 0.00115 0.00109 0.00093 0.0008 0.00066\n",
       "Cumulative Proportion  0.9918 0.99299 0.99414 0.99523 0.99617 0.9970 0.99762\n",
       "                          PC43    PC44    PC45    PC46    PC47    PC48    PC49\n",
       "Standard deviation     0.17956 0.16342 0.14111 0.12193 0.11808 0.09979 0.09013\n",
       "Proportion of Variance 0.00055 0.00045 0.00034 0.00025 0.00024 0.00017 0.00014\n",
       "Cumulative Proportion  0.99817 0.99862 0.99896 0.99921 0.99945 0.99962 0.99976\n",
       "                          PC50    PC51    PC52    PC53    PC54     PC55\n",
       "Standard deviation     0.07723 0.06437 0.04919 0.03495 0.02276 0.008137\n",
       "Proportion of Variance 0.00010 0.00007 0.00004 0.00002 0.00001 0.000000\n",
       "Cumulative Proportion  0.99986 0.99993 0.99997 0.99999 1.00000 1.000000\n",
       "                           PC56     PC57      PC58      PC59\n",
       "Standard deviation     0.004808 0.004118 4.524e-16 4.524e-16\n",
       "Proportion of Variance 0.000000 0.000000 0.000e+00 0.000e+00\n",
       "Cumulative Proportion  1.000000 1.000000 1.000e+00 1.000e+00"
      ]
     },
     "metadata": {},
     "output_type": "display_data"
    }
   ],
   "source": [
    "pc_fit <- prcomp(~ ., data_for_pca, scale = T)\n",
    "summary(pc_fit)"
   ]
  },
  {
   "cell_type": "markdown",
   "id": "a50a9198",
   "metadata": {
    "papermill": {
     "duration": 0.008298,
     "end_time": "2022-12-25T19:30:40.186670",
     "exception": false,
     "start_time": "2022-12-25T19:30:40.178372",
     "status": "completed"
    },
    "tags": []
   },
   "source": [
    "##### That's a scary output...\n",
    "As expected, only the first two PC's are helpful in explaining the variance between data points. Therefore we can use them in analyses without losing much of the explainied variance.\n",
    "\n",
    "Each PC is a linear combination of the original 59 variables, we can see the coefficients of the first two PC's (also called the eigenvector's components or loadings):"
   ]
  },
  {
   "cell_type": "code",
   "execution_count": 8,
   "id": "dd4c4903",
   "metadata": {
    "execution": {
     "iopub.execute_input": "2022-12-25T19:30:40.206872Z",
     "iopub.status.busy": "2022-12-25T19:30:40.204912Z",
     "iopub.status.idle": "2022-12-25T19:30:40.268717Z",
     "shell.execute_reply": "2022-12-25T19:30:40.266539Z"
    },
    "papermill": {
     "duration": 0.07638,
     "end_time": "2022-12-25T19:30:40.271192",
     "exception": false,
     "start_time": "2022-12-25T19:30:40.194812",
     "status": "completed"
    },
    "tags": []
   },
   "outputs": [
    {
     "name": "stderr",
     "output_type": "stream",
     "text": [
      "Warning message in cor.smooth(r):\n",
      "“Matrix was not positive definite, smoothing was done”\n",
      "Warning message in principal(data_for_pca, nfactors = 2, rotate = \"none\"):\n",
      "“The matrix is not positive semi-definite, scores found from Structure loadings”\n"
     ]
    },
    {
     "data": {
      "text/plain": [
       "\n",
       "Loadings:\n",
       "                                                      PC1    PC2   \n",
       "possession.team1                                      -0.958       \n",
       "possession.team2                                       0.948       \n",
       "possession.in.contest                                              \n",
       "total.attempts.team1                                  -0.533  0.347\n",
       "total.attempts.team2                                   0.679  0.331\n",
       "on.target.attempts.team1                              -0.362  0.331\n",
       "on.target.attempts.team2                               0.504  0.302\n",
       "off.target.attempts.team1                             -0.441  0.279\n",
       "off.target.attempts.team2                              0.537  0.251\n",
       "left.channel.team1                                    -0.709  0.138\n",
       "left.channel.team2                                     0.776  0.290\n",
       "left.inside.channel.team1                             -0.415       \n",
       "left.inside.channel.team2                              0.601  0.391\n",
       "central.channel.team1                                 -0.418  0.182\n",
       "central.channel.team2                                  0.444  0.385\n",
       "right.inside.channel.team1                            -0.450  0.338\n",
       "right.inside.channel.team2                             0.756  0.230\n",
       "right.channel.team1                                   -0.529  0.372\n",
       "right.channel.team2                                    0.642  0.349\n",
       "total.offers.to.receive.team1                         -0.865  0.124\n",
       "total.offers.to.receive.team2                          0.849       \n",
       "inbehind.offers.to.receive.team1                      -0.782  0.246\n",
       "inbehind.offers.to.receive.team2                       0.835  0.295\n",
       "inbetween.offers.to.receive.team1                     -0.724  0.186\n",
       "inbetween.offers.to.receive.team2                      0.680       \n",
       "infront.offers.to.receive.team1                       -0.813       \n",
       "infront.offers.to.receive.team2                        0.717       \n",
       "receptions.between.midfield.and.defensive.lines.team1 -0.512  0.562\n",
       "receptions.between.midfield.and.defensive.lines.team2  0.764  0.374\n",
       "attempted.line.breaks.team1                           -0.640  0.591\n",
       "attempted.line.breaks.team2                            0.727  0.320\n",
       "completed.line.breaksteam1                            -0.747  0.437\n",
       "completed.line.breaks.team2                            0.859  0.231\n",
       "attempted.defensive.line.breaks.team1                 -0.534  0.461\n",
       "attempted.defensive.line.breaks.team2                  0.638  0.468\n",
       "completed.defensive.line.breaksteam1                  -0.629  0.489\n",
       "completed.defensive.line.breaks.team2                  0.709  0.412\n",
       "fouls.against.team1                                                \n",
       "fouls.against.team2                                   -0.279  0.322\n",
       "offsides.team1                                        -0.187  0.321\n",
       "offsides.team2                                                     \n",
       "passes.team1                                          -0.856  0.198\n",
       "passes.team2                                           0.827  0.183\n",
       "passes.completed.team1                                -0.859  0.154\n",
       "passes.completed.team2                                 0.827  0.166\n",
       "crosses.team1                                         -0.564  0.350\n",
       "crosses.team2                                          0.732  0.416\n",
       "crosses.completed.team1                               -0.366  0.332\n",
       "crosses.completed.team2                                0.486  0.268\n",
       "switches.of.play.completed.team1                      -0.328  0.253\n",
       "switches.of.play.completed.team2                       0.373 -0.126\n",
       "corners.team1                                         -0.590  0.151\n",
       "corners.team2                                          0.559  0.336\n",
       "free.kicks.team1                                      -0.218  0.310\n",
       "free.kicks.team2                                                   \n",
       "forced.turnovers.team1                                 0.458  0.441\n",
       "forced.turnovers.team2                                -0.387  0.447\n",
       "defensive.pressures.applied.team1                      0.779  0.125\n",
       "defensive.pressures.applied.team2                     -0.814  0.273\n",
       "\n",
       "                  PC1   PC2\n",
       "SS loadings    23.283 5.265\n",
       "Proportion Var  0.395 0.089\n",
       "Cumulative Var  0.395 0.484"
      ]
     },
     "metadata": {},
     "output_type": "display_data"
    }
   ],
   "source": [
    "metrics <- principal(data_for_pca, nfactors = 2, rotate = \"none\")\n",
    "metrics$loadings"
   ]
  },
  {
   "cell_type": "markdown",
   "id": "98c86e55",
   "metadata": {
    "papermill": {
     "duration": 0.008333,
     "end_time": "2022-12-25T19:30:40.288431",
     "exception": false,
     "start_time": "2022-12-25T19:30:40.280098",
     "status": "completed"
    },
    "tags": []
   },
   "source": [
    "We can also see the values of each data point on the two PC's. Those are the 'scores' variable in the 'metrics' object:"
   ]
  },
  {
   "cell_type": "code",
   "execution_count": 9,
   "id": "dcd80df3",
   "metadata": {
    "execution": {
     "iopub.execute_input": "2022-12-25T19:30:40.309524Z",
     "iopub.status.busy": "2022-12-25T19:30:40.307611Z",
     "iopub.status.idle": "2022-12-25T19:30:40.368524Z",
     "shell.execute_reply": "2022-12-25T19:30:40.365400Z"
    },
    "papermill": {
     "duration": 0.073785,
     "end_time": "2022-12-25T19:30:40.370895",
     "exception": false,
     "start_time": "2022-12-25T19:30:40.297110",
     "status": "completed"
    },
    "tags": []
   },
   "outputs": [
    {
     "data": {
      "text/html": [
       "<table class=\"dataframe\">\n",
       "<caption>A matrix: 64 × 2 of type dbl</caption>\n",
       "<thead>\n",
       "\t<tr><th scope=col>PC1</th><th scope=col>PC2</th></tr>\n",
       "</thead>\n",
       "<tbody>\n",
       "\t<tr><td>  3.8290127</td><td> -7.4299046</td></tr>\n",
       "\t<tr><td>-46.9345186</td><td> -1.9290034</td></tr>\n",
       "\t<tr><td>  2.5253652</td><td>  1.1351010</td></tr>\n",
       "\t<tr><td>-12.0792919</td><td> -1.2713940</td></tr>\n",
       "\t<tr><td>-35.0252017</td><td>  4.3518621</td></tr>\n",
       "\t<tr><td>-17.2310447</td><td>  0.9885101</td></tr>\n",
       "\t<tr><td>-21.9414947</td><td>  0.4299926</td></tr>\n",
       "\t<tr><td>-28.6874057</td><td>  3.2600220</td></tr>\n",
       "\t<tr><td> 16.9713053</td><td> -7.8763388</td></tr>\n",
       "\t<tr><td>-41.2481328</td><td>  8.7804669</td></tr>\n",
       "\t<tr><td>-60.7566892</td><td>  1.8704646</td></tr>\n",
       "\t<tr><td> 11.5401326</td><td>  0.4363595</td></tr>\n",
       "\t<tr><td> -5.3391466</td><td>  1.2842593</td></tr>\n",
       "\t<tr><td> -0.5792377</td><td> -5.4075860</td></tr>\n",
       "\t<tr><td>-21.3367530</td><td>  1.8809169</td></tr>\n",
       "\t<tr><td>-22.6522920</td><td> -0.5569881</td></tr>\n",
       "\t<tr><td> -9.4606635</td><td>  3.6484172</td></tr>\n",
       "\t<tr><td>  8.9232448</td><td>  0.8630253</td></tr>\n",
       "\t<tr><td>  3.0017415</td><td> -5.4471638</td></tr>\n",
       "\t<tr><td> -9.7501754</td><td> -2.6273842</td></tr>\n",
       "\t<tr><td>-13.3919597</td><td>  2.2875155</td></tr>\n",
       "\t<tr><td> 24.0698494</td><td>  3.0437290</td></tr>\n",
       "\t<tr><td>  4.2749049</td><td>  2.5305644</td></tr>\n",
       "\t<tr><td>-11.8031173</td><td> -8.2219692</td></tr>\n",
       "\t<tr><td>-19.9695908</td><td>-10.6592885</td></tr>\n",
       "\t<tr><td>-16.9359964</td><td> -5.9147165</td></tr>\n",
       "\t<tr><td>  1.6588837</td><td> -1.3967725</td></tr>\n",
       "\t<tr><td>-12.8228916</td><td> -1.8846042</td></tr>\n",
       "\t<tr><td> 13.3283728</td><td>  3.1702673</td></tr>\n",
       "\t<tr><td>-31.9005951</td><td>  3.9639042</td></tr>\n",
       "\t<tr><td>⋮</td><td>⋮</td></tr>\n",
       "\t<tr><td> 29.8026896</td><td>-10.4480144</td></tr>\n",
       "\t<tr><td> 12.8937718</td><td>  0.5332081</td></tr>\n",
       "\t<tr><td> 33.5603332</td><td>  0.4115581</td></tr>\n",
       "\t<tr><td> 13.2291649</td><td> -4.2466245</td></tr>\n",
       "\t<tr><td> 52.3411259</td><td> -1.3829959</td></tr>\n",
       "\t<tr><td> 24.5386961</td><td>  4.1821717</td></tr>\n",
       "\t<tr><td> -0.5787708</td><td>  6.4384867</td></tr>\n",
       "\t<tr><td>-13.9760613</td><td> -6.1014930</td></tr>\n",
       "\t<tr><td> 51.4814293</td><td> -3.3601448</td></tr>\n",
       "\t<tr><td> 48.8833645</td><td> 11.0261164</td></tr>\n",
       "\t<tr><td>  1.3323364</td><td>  1.0789050</td></tr>\n",
       "\t<tr><td> 19.5868983</td><td> -2.2070813</td></tr>\n",
       "\t<tr><td> -1.4508353</td><td> -3.5836743</td></tr>\n",
       "\t<tr><td> 23.9605932</td><td> -0.6063431</td></tr>\n",
       "\t<tr><td> 25.0932203</td><td>  2.0319223</td></tr>\n",
       "\t<tr><td>-18.1445167</td><td> -2.3661454</td></tr>\n",
       "\t<tr><td> -7.9322301</td><td>  1.1857811</td></tr>\n",
       "\t<tr><td>-15.0411219</td><td> -3.8437450</td></tr>\n",
       "\t<tr><td> 12.2936491</td><td> 11.5660332</td></tr>\n",
       "\t<tr><td> -5.6156229</td><td>  6.0327643</td></tr>\n",
       "\t<tr><td> 48.6262062</td><td>  9.1012269</td></tr>\n",
       "\t<tr><td>  1.1541960</td><td> -2.5895619</td></tr>\n",
       "\t<tr><td>  5.4525047</td><td> 13.2766738</td></tr>\n",
       "\t<tr><td>  5.4799721</td><td>  3.7994990</td></tr>\n",
       "\t<tr><td> 39.4980711</td><td> -1.2811785</td></tr>\n",
       "\t<tr><td>-11.8355323</td><td> -4.6747148</td></tr>\n",
       "\t<tr><td> 15.2387635</td><td> -5.9462851</td></tr>\n",
       "\t<tr><td> 18.2963291</td><td> -5.6198721</td></tr>\n",
       "\t<tr><td> -1.2563891</td><td> -1.3392732</td></tr>\n",
       "\t<tr><td>-17.1315806</td><td> 12.6281654</td></tr>\n",
       "</tbody>\n",
       "</table>\n"
      ],
      "text/latex": [
       "A matrix: 64 × 2 of type dbl\n",
       "\\begin{tabular}{ll}\n",
       " PC1 & PC2\\\\\n",
       "\\hline\n",
       "\t   3.8290127 &  -7.4299046\\\\\n",
       "\t -46.9345186 &  -1.9290034\\\\\n",
       "\t   2.5253652 &   1.1351010\\\\\n",
       "\t -12.0792919 &  -1.2713940\\\\\n",
       "\t -35.0252017 &   4.3518621\\\\\n",
       "\t -17.2310447 &   0.9885101\\\\\n",
       "\t -21.9414947 &   0.4299926\\\\\n",
       "\t -28.6874057 &   3.2600220\\\\\n",
       "\t  16.9713053 &  -7.8763388\\\\\n",
       "\t -41.2481328 &   8.7804669\\\\\n",
       "\t -60.7566892 &   1.8704646\\\\\n",
       "\t  11.5401326 &   0.4363595\\\\\n",
       "\t  -5.3391466 &   1.2842593\\\\\n",
       "\t  -0.5792377 &  -5.4075860\\\\\n",
       "\t -21.3367530 &   1.8809169\\\\\n",
       "\t -22.6522920 &  -0.5569881\\\\\n",
       "\t  -9.4606635 &   3.6484172\\\\\n",
       "\t   8.9232448 &   0.8630253\\\\\n",
       "\t   3.0017415 &  -5.4471638\\\\\n",
       "\t  -9.7501754 &  -2.6273842\\\\\n",
       "\t -13.3919597 &   2.2875155\\\\\n",
       "\t  24.0698494 &   3.0437290\\\\\n",
       "\t   4.2749049 &   2.5305644\\\\\n",
       "\t -11.8031173 &  -8.2219692\\\\\n",
       "\t -19.9695908 & -10.6592885\\\\\n",
       "\t -16.9359964 &  -5.9147165\\\\\n",
       "\t   1.6588837 &  -1.3967725\\\\\n",
       "\t -12.8228916 &  -1.8846042\\\\\n",
       "\t  13.3283728 &   3.1702673\\\\\n",
       "\t -31.9005951 &   3.9639042\\\\\n",
       "\t ⋮ & ⋮\\\\\n",
       "\t  29.8026896 & -10.4480144\\\\\n",
       "\t  12.8937718 &   0.5332081\\\\\n",
       "\t  33.5603332 &   0.4115581\\\\\n",
       "\t  13.2291649 &  -4.2466245\\\\\n",
       "\t  52.3411259 &  -1.3829959\\\\\n",
       "\t  24.5386961 &   4.1821717\\\\\n",
       "\t  -0.5787708 &   6.4384867\\\\\n",
       "\t -13.9760613 &  -6.1014930\\\\\n",
       "\t  51.4814293 &  -3.3601448\\\\\n",
       "\t  48.8833645 &  11.0261164\\\\\n",
       "\t   1.3323364 &   1.0789050\\\\\n",
       "\t  19.5868983 &  -2.2070813\\\\\n",
       "\t  -1.4508353 &  -3.5836743\\\\\n",
       "\t  23.9605932 &  -0.6063431\\\\\n",
       "\t  25.0932203 &   2.0319223\\\\\n",
       "\t -18.1445167 &  -2.3661454\\\\\n",
       "\t  -7.9322301 &   1.1857811\\\\\n",
       "\t -15.0411219 &  -3.8437450\\\\\n",
       "\t  12.2936491 &  11.5660332\\\\\n",
       "\t  -5.6156229 &   6.0327643\\\\\n",
       "\t  48.6262062 &   9.1012269\\\\\n",
       "\t   1.1541960 &  -2.5895619\\\\\n",
       "\t   5.4525047 &  13.2766738\\\\\n",
       "\t   5.4799721 &   3.7994990\\\\\n",
       "\t  39.4980711 &  -1.2811785\\\\\n",
       "\t -11.8355323 &  -4.6747148\\\\\n",
       "\t  15.2387635 &  -5.9462851\\\\\n",
       "\t  18.2963291 &  -5.6198721\\\\\n",
       "\t  -1.2563891 &  -1.3392732\\\\\n",
       "\t -17.1315806 &  12.6281654\\\\\n",
       "\\end{tabular}\n"
      ],
      "text/markdown": [
       "\n",
       "A matrix: 64 × 2 of type dbl\n",
       "\n",
       "| PC1 | PC2 |\n",
       "|---|---|\n",
       "|   3.8290127 |  -7.4299046 |\n",
       "| -46.9345186 |  -1.9290034 |\n",
       "|   2.5253652 |   1.1351010 |\n",
       "| -12.0792919 |  -1.2713940 |\n",
       "| -35.0252017 |   4.3518621 |\n",
       "| -17.2310447 |   0.9885101 |\n",
       "| -21.9414947 |   0.4299926 |\n",
       "| -28.6874057 |   3.2600220 |\n",
       "|  16.9713053 |  -7.8763388 |\n",
       "| -41.2481328 |   8.7804669 |\n",
       "| -60.7566892 |   1.8704646 |\n",
       "|  11.5401326 |   0.4363595 |\n",
       "|  -5.3391466 |   1.2842593 |\n",
       "|  -0.5792377 |  -5.4075860 |\n",
       "| -21.3367530 |   1.8809169 |\n",
       "| -22.6522920 |  -0.5569881 |\n",
       "|  -9.4606635 |   3.6484172 |\n",
       "|   8.9232448 |   0.8630253 |\n",
       "|   3.0017415 |  -5.4471638 |\n",
       "|  -9.7501754 |  -2.6273842 |\n",
       "| -13.3919597 |   2.2875155 |\n",
       "|  24.0698494 |   3.0437290 |\n",
       "|   4.2749049 |   2.5305644 |\n",
       "| -11.8031173 |  -8.2219692 |\n",
       "| -19.9695908 | -10.6592885 |\n",
       "| -16.9359964 |  -5.9147165 |\n",
       "|   1.6588837 |  -1.3967725 |\n",
       "| -12.8228916 |  -1.8846042 |\n",
       "|  13.3283728 |   3.1702673 |\n",
       "| -31.9005951 |   3.9639042 |\n",
       "| ⋮ | ⋮ |\n",
       "|  29.8026896 | -10.4480144 |\n",
       "|  12.8937718 |   0.5332081 |\n",
       "|  33.5603332 |   0.4115581 |\n",
       "|  13.2291649 |  -4.2466245 |\n",
       "|  52.3411259 |  -1.3829959 |\n",
       "|  24.5386961 |   4.1821717 |\n",
       "|  -0.5787708 |   6.4384867 |\n",
       "| -13.9760613 |  -6.1014930 |\n",
       "|  51.4814293 |  -3.3601448 |\n",
       "|  48.8833645 |  11.0261164 |\n",
       "|   1.3323364 |   1.0789050 |\n",
       "|  19.5868983 |  -2.2070813 |\n",
       "|  -1.4508353 |  -3.5836743 |\n",
       "|  23.9605932 |  -0.6063431 |\n",
       "|  25.0932203 |   2.0319223 |\n",
       "| -18.1445167 |  -2.3661454 |\n",
       "|  -7.9322301 |   1.1857811 |\n",
       "| -15.0411219 |  -3.8437450 |\n",
       "|  12.2936491 |  11.5660332 |\n",
       "|  -5.6156229 |   6.0327643 |\n",
       "|  48.6262062 |   9.1012269 |\n",
       "|   1.1541960 |  -2.5895619 |\n",
       "|   5.4525047 |  13.2766738 |\n",
       "|   5.4799721 |   3.7994990 |\n",
       "|  39.4980711 |  -1.2811785 |\n",
       "| -11.8355323 |  -4.6747148 |\n",
       "|  15.2387635 |  -5.9462851 |\n",
       "|  18.2963291 |  -5.6198721 |\n",
       "|  -1.2563891 |  -1.3392732 |\n",
       "| -17.1315806 |  12.6281654 |\n",
       "\n"
      ],
      "text/plain": [
       "      PC1         PC2        \n",
       " [1,]   3.8290127  -7.4299046\n",
       " [2,] -46.9345186  -1.9290034\n",
       " [3,]   2.5253652   1.1351010\n",
       " [4,] -12.0792919  -1.2713940\n",
       " [5,] -35.0252017   4.3518621\n",
       " [6,] -17.2310447   0.9885101\n",
       " [7,] -21.9414947   0.4299926\n",
       " [8,] -28.6874057   3.2600220\n",
       " [9,]  16.9713053  -7.8763388\n",
       "[10,] -41.2481328   8.7804669\n",
       "[11,] -60.7566892   1.8704646\n",
       "[12,]  11.5401326   0.4363595\n",
       "[13,]  -5.3391466   1.2842593\n",
       "[14,]  -0.5792377  -5.4075860\n",
       "[15,] -21.3367530   1.8809169\n",
       "[16,] -22.6522920  -0.5569881\n",
       "[17,]  -9.4606635   3.6484172\n",
       "[18,]   8.9232448   0.8630253\n",
       "[19,]   3.0017415  -5.4471638\n",
       "[20,]  -9.7501754  -2.6273842\n",
       "[21,] -13.3919597   2.2875155\n",
       "[22,]  24.0698494   3.0437290\n",
       "[23,]   4.2749049   2.5305644\n",
       "[24,] -11.8031173  -8.2219692\n",
       "[25,] -19.9695908 -10.6592885\n",
       "[26,] -16.9359964  -5.9147165\n",
       "[27,]   1.6588837  -1.3967725\n",
       "[28,] -12.8228916  -1.8846042\n",
       "[29,]  13.3283728   3.1702673\n",
       "[30,] -31.9005951   3.9639042\n",
       "[31,] ⋮           ⋮          \n",
       "[32,]  29.8026896 -10.4480144\n",
       "[33,]  12.8937718   0.5332081\n",
       "[34,]  33.5603332   0.4115581\n",
       "[35,]  13.2291649  -4.2466245\n",
       "[36,]  52.3411259  -1.3829959\n",
       "[37,]  24.5386961   4.1821717\n",
       "[38,]  -0.5787708   6.4384867\n",
       "[39,] -13.9760613  -6.1014930\n",
       "[40,]  51.4814293  -3.3601448\n",
       "[41,]  48.8833645  11.0261164\n",
       "[42,]   1.3323364   1.0789050\n",
       "[43,]  19.5868983  -2.2070813\n",
       "[44,]  -1.4508353  -3.5836743\n",
       "[45,]  23.9605932  -0.6063431\n",
       "[46,]  25.0932203   2.0319223\n",
       "[47,] -18.1445167  -2.3661454\n",
       "[48,]  -7.9322301   1.1857811\n",
       "[49,] -15.0411219  -3.8437450\n",
       "[50,]  12.2936491  11.5660332\n",
       "[51,]  -5.6156229   6.0327643\n",
       "[52,]  48.6262062   9.1012269\n",
       "[53,]   1.1541960  -2.5895619\n",
       "[54,]   5.4525047  13.2766738\n",
       "[55,]   5.4799721   3.7994990\n",
       "[56,]  39.4980711  -1.2811785\n",
       "[57,] -11.8355323  -4.6747148\n",
       "[58,]  15.2387635  -5.9462851\n",
       "[59,]  18.2963291  -5.6198721\n",
       "[60,]  -1.2563891  -1.3392732\n",
       "[61,] -17.1315806  12.6281654"
      ]
     },
     "metadata": {},
     "output_type": "display_data"
    }
   ],
   "source": [
    "metrics$scores"
   ]
  },
  {
   "cell_type": "markdown",
   "id": "83d07230",
   "metadata": {
    "papermill": {
     "duration": 0.006813,
     "end_time": "2022-12-25T19:30:40.384670",
     "exception": false,
     "start_time": "2022-12-25T19:30:40.377857",
     "status": "completed"
    },
    "tags": []
   },
   "source": [
    "## Plotting!\n",
    "Let's plot the data on the 2-dimensions of PC1 and PC2. we will also color the points with the actual outcome of the match (i.e. the actual labels):"
   ]
  },
  {
   "cell_type": "code",
   "execution_count": 10,
   "id": "93ad0563",
   "metadata": {
    "execution": {
     "iopub.execute_input": "2022-12-25T19:30:40.401376Z",
     "iopub.status.busy": "2022-12-25T19:30:40.400073Z",
     "iopub.status.idle": "2022-12-25T19:30:40.989642Z",
     "shell.execute_reply": "2022-12-25T19:30:40.987848Z"
    },
    "papermill": {
     "duration": 0.600404,
     "end_time": "2022-12-25T19:30:40.991989",
     "exception": false,
     "start_time": "2022-12-25T19:30:40.391585",
     "status": "completed"
    },
    "tags": []
   },
   "outputs": [
    {
     "data": {
      "image/png": "[encoded data removed]"
     },
     "metadata": {
      "image/png": {
       "height": 420,
       "width": 420
      }
     },
     "output_type": "display_data"
    }
   ],
   "source": [
    "autoplot(pc_fit, data = data, colour = \"winner\")"
   ]
  },
  {
   "cell_type": "markdown",
   "id": "80d5db82",
   "metadata": {
    "papermill": {
     "duration": 0.008638,
     "end_time": "2022-12-25T19:30:41.011374",
     "exception": false,
     "start_time": "2022-12-25T19:30:41.002736",
     "status": "completed"
    },
    "tags": []
   },
   "source": [
    "\n",
    "On this 2-dimension space we can also try and cluster the points without supervision, using the k-means method.\n",
    "First some cleaning:"
   ]
  },
  {
   "cell_type": "code",
   "execution_count": 11,
   "id": "6854c568",
   "metadata": {
    "execution": {
     "iopub.execute_input": "2022-12-25T19:30:41.033434Z",
     "iopub.status.busy": "2022-12-25T19:30:41.031433Z",
     "iopub.status.idle": "2022-12-25T19:30:41.058022Z",
     "shell.execute_reply": "2022-12-25T19:30:41.055607Z"
    },
    "papermill": {
     "duration": 0.040351,
     "end_time": "2022-12-25T19:30:41.061067",
     "exception": false,
     "start_time": "2022-12-25T19:30:41.020716",
     "status": "completed"
    },
    "tags": []
   },
   "outputs": [],
   "source": [
    "data_for_kmeans <- data.frame(cbind(metrics$scores, data$winner)) %>% # Combining PC1 and PC2 with the actual labels in order to plot later.\n",
    "  mutate(PC1 = as.numeric(PC1), PC2 = as.numeric(PC2)) %>%\n",
    "  select(PC1, PC2, winner = V3)"
   ]
  },
  {
   "cell_type": "markdown",
   "id": "a34f66eb",
   "metadata": {
    "papermill": {
     "duration": 0.007542,
     "end_time": "2022-12-25T19:30:41.076327",
     "exception": false,
     "start_time": "2022-12-25T19:30:41.068785",
     "status": "completed"
    },
    "tags": []
   },
   "source": [
    "Performing the k-means analysis:"
   ]
  },
  {
   "cell_type": "code",
   "execution_count": 12,
   "id": "cdf7bb08",
   "metadata": {
    "execution": {
     "iopub.execute_input": "2022-12-25T19:30:41.100508Z",
     "iopub.status.busy": "2022-12-25T19:30:41.098624Z",
     "iopub.status.idle": "2022-12-25T19:30:41.112119Z",
     "shell.execute_reply": "2022-12-25T19:30:41.110574Z"
    },
    "papermill": {
     "duration": 0.030197,
     "end_time": "2022-12-25T19:30:41.113935",
     "exception": false,
     "start_time": "2022-12-25T19:30:41.083738",
     "status": "completed"
    },
    "tags": []
   },
   "outputs": [],
   "source": [
    "kmeans <- kmeans(data_for_kmeans[,1:2], centers = 3, nstart = 10) # Performing the analysis on the first two variables (PC1 & PC2), trying to find 3 clusters."
   ]
  },
  {
   "cell_type": "markdown",
   "id": "55f2bc2d",
   "metadata": {
    "papermill": {
     "duration": 0.009941,
     "end_time": "2022-12-25T19:30:41.133333",
     "exception": false,
     "start_time": "2022-12-25T19:30:41.123392",
     "status": "completed"
    },
    "tags": []
   },
   "source": [
    "Addind the cluster variable to the data frame:"
   ]
  },
  {
   "cell_type": "code",
   "execution_count": 13,
   "id": "ebc3e623",
   "metadata": {
    "execution": {
     "iopub.execute_input": "2022-12-25T19:30:41.153823Z",
     "iopub.status.busy": "2022-12-25T19:30:41.151057Z",
     "iopub.status.idle": "2022-12-25T19:30:41.167239Z",
     "shell.execute_reply": "2022-12-25T19:30:41.165158Z"
    },
    "papermill": {
     "duration": 0.028533,
     "end_time": "2022-12-25T19:30:41.170061",
     "exception": false,
     "start_time": "2022-12-25T19:30:41.141528",
     "status": "completed"
    },
    "tags": []
   },
   "outputs": [],
   "source": [
    "data_for_kmeans$cluster <- factor(kmeans$cluster)"
   ]
  },
  {
   "cell_type": "markdown",
   "id": "63d51953",
   "metadata": {
    "papermill": {
     "duration": 0.007586,
     "end_time": "2022-12-25T19:30:41.185246",
     "exception": false,
     "start_time": "2022-12-25T19:30:41.177660",
     "status": "completed"
    },
    "tags": []
   },
   "source": [
    "### Finally...\n",
    "Plotting the data points on the 2-dimension space of PC1 and PC2 (our most significant components), colored by their cluster found in the k-means analysis and headed by their actual label:"
   ]
  },
  {
   "cell_type": "code",
   "execution_count": 14,
   "id": "f45942cc",
   "metadata": {
    "execution": {
     "iopub.execute_input": "2022-12-25T19:30:41.203637Z",
     "iopub.status.busy": "2022-12-25T19:30:41.201870Z",
     "iopub.status.idle": "2022-12-25T19:30:43.759262Z",
     "shell.execute_reply": "2022-12-25T19:30:43.756966Z"
    },
    "papermill": {
     "duration": 2.569549,
     "end_time": "2022-12-25T19:30:43.762173",
     "exception": false,
     "start_time": "2022-12-25T19:30:41.192624",
     "status": "completed"
    },
    "tags": []
   },
   "outputs": [
    {
     "data": {
      "image/png": "[encoded data removed]"
     },
     "metadata": {
      "image/png": {
       "height": 420,
       "width": 420
      }
     },
     "output_type": "display_data"
    }
   ],
   "source": [
    "plot <- ggplot(data_for_kmeans, aes(x = PC1, y = PC2, color = cluster)) + \n",
    "  geom_point(size = 3) + \n",
    "  geom_label_repel(aes(label = winner),\n",
    "                   box.padding   = 0.35, \n",
    "                   point.padding = 0.5,\n",
    "                   segment.color = 'grey50') +\n",
    "  theme_classic()\n",
    "\n",
    "plot"
   ]
  },
  {
   "cell_type": "markdown",
   "id": "82b97e88",
   "metadata": {
    "papermill": {
     "duration": 0.009935,
     "end_time": "2022-12-25T19:30:43.782917",
     "exception": false,
     "start_time": "2022-12-25T19:30:43.772982",
     "status": "completed"
    },
    "tags": []
   },
   "source": [
    "### Nice!\n",
    "unfortunately, the clusters and labels seem to be independent of eachother, meaning that we couldn't predict the outcome of the matches successfully :\\\n",
    "This can be indicated by this frequancy table:"
   ]
  },
  {
   "cell_type": "code",
   "execution_count": 15,
   "id": "66b10b2d",
   "metadata": {
    "execution": {
     "iopub.execute_input": "2022-12-25T19:30:43.806957Z",
     "iopub.status.busy": "2022-12-25T19:30:43.805390Z",
     "iopub.status.idle": "2022-12-25T19:30:43.822855Z",
     "shell.execute_reply": "2022-12-25T19:30:43.820969Z"
    },
    "papermill": {
     "duration": 0.03297,
     "end_time": "2022-12-25T19:30:43.825401",
     "exception": false,
     "start_time": "2022-12-25T19:30:43.792431",
     "status": "completed"
    },
    "tags": []
   },
   "outputs": [
    {
     "data": {
      "text/plain": [
       "       \n",
       "         1  2  3\n",
       "  draw   6  8  1\n",
       "  team1 12 11  6\n",
       "  team2  9  7  4"
      ]
     },
     "metadata": {},
     "output_type": "display_data"
    }
   ],
   "source": [
    "freq_table <- table(data_for_kmeans$winner, data_for_kmeans$cluster)\n",
    "freq_table"
   ]
  },
  {
   "cell_type": "markdown",
   "id": "c69cf0e0",
   "metadata": {
    "papermill": {
     "duration": 0.009352,
     "end_time": "2022-12-25T19:30:43.844046",
     "exception": false,
     "start_time": "2022-12-25T19:30:43.834694",
     "status": "completed"
    },
    "tags": []
   },
   "source": [
    "And this insignificant chi-square test of independence:"
   ]
  },
  {
   "cell_type": "code",
   "execution_count": 16,
   "id": "c238c6e1",
   "metadata": {
    "execution": {
     "iopub.execute_input": "2022-12-25T19:30:43.865987Z",
     "iopub.status.busy": "2022-12-25T19:30:43.864650Z",
     "iopub.status.idle": "2022-12-25T19:30:43.883443Z",
     "shell.execute_reply": "2022-12-25T19:30:43.881917Z"
    },
    "papermill": {
     "duration": 0.032332,
     "end_time": "2022-12-25T19:30:43.885871",
     "exception": false,
     "start_time": "2022-12-25T19:30:43.853539",
     "status": "completed"
    },
    "tags": []
   },
   "outputs": [
    {
     "name": "stderr",
     "output_type": "stream",
     "text": [
      "Warning message in chisq.test(freq_table):\n",
      "“Chi-squared approximation may be incorrect”\n"
     ]
    },
    {
     "data": {
      "text/plain": [
       "\n",
       "\tPearson's Chi-squared test\n",
       "\n",
       "data:  freq_table\n",
       "X-squared = 2.1279, df = 4, p-value = 0.7123\n"
      ]
     },
     "metadata": {},
     "output_type": "display_data"
    }
   ],
   "source": [
    "chisq.test(freq_table)"
   ]
  }
 ],
 "metadata": {
  "kernelspec": {
   "display_name": "R",
   "language": "R",
   "name": "ir"
  },
  "language_info": {
   "codemirror_mode": "r",
   "file_extension": ".r",
   "mimetype": "text/x-r-source",
   "name": "R",
   "pygments_lexer": "r",
   "version": "4.0.5"
  },
  "papermill": {
   "default_parameters": {},
   "duration": 9.600265,
   "end_time": "2022-12-25T19:30:44.015758",
   "environment_variables": {},
   "exception": null,
   "input_path": "__notebook__.ipynb",
   "output_path": "__notebook__.ipynb",
   "parameters": {},
   "start_time": "2022-12-25T19:30:34.415493",
   "version": "2.4.0"
  }
 },
 "nbformat": 4,
 "nbformat_minor": 5
}
