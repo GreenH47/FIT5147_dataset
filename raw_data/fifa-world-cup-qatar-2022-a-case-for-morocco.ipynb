{
 "cells": [
  {
   "cell_type": "markdown",
   "id": "edde77b3",
   "metadata": {
    "_kg_hide-input": false,
    "papermill": {
     "duration": 0.011118,
     "end_time": "2023-01-26T09:46:25.719974",
     "exception": false,
     "start_time": "2023-01-26T09:46:25.708856",
     "status": "completed"
    },
    "tags": []
   },
   "source": [
    "<div>    \n",
    "<img src=\"https://data1.ibtimes.co.in/en/full/721695/fifa-2022-emblem.jpg?w=1199&h=399&l=50&t=40\" align=\"center\"/>    \n",
    "</div>\n",
    "\n",
    "[Image Source: International Business Times](https://www.ibtimes.co.in/watch-fifa-world-cup-2022-official-emblem-unveiled-all-you-need-know-about-upcoming-event-804737)\n",
    "\n",
    "# FIFA World Cup Qatar 2022: A Case For Morocco\n",
    "---\n",
    "Despite the [controversies](https://nypost.com/2022/11/15/all-the-controversies-surrounding-the-qatar-world-cup-in-2022/) surrounding this World Cup, Qatar 2022 has given us so many memorable events. The Iranian team not singing the national anthem paying homage to women’s rights in Iran, the giant killing of Morocco, Argentina’s defeat by Saudi Arabia, Japan’s win against the 4-time winners Germany, Uruguay’s karma vs Ghana and so many more. This World Cup has also seen first-timers and new records being set. Qatar became the first host nation to lose its opening game; so was Brazil's defeat to Cameroon (they have never lost to an African team before), Morocco became the first African nation to advance to a world cup semi-final, Cristiano Ronaldo became the first male player to score at 5 World Cup, first all-female refereeing team at a men’s FIFA World Cup game, first time countries from all continents qualified for the knockout stage and so on [[7](https://nypost.com/2022/11/15/all-the-controversies-surrounding-the-qatar-world-cup-in-2022/),\n",
    "[8](https://www.ghanaweb.com/GhanaHomePage/SportsArchive/Key-unforgettable-moments-of-2022-World-Cup-Group-stage-in-Qatar-1673927),\n",
    "[9](https://abcnews.go.com/Sports/wireStory/ronaldo-1st-male-player-score-5-world-cups-93923484),\n",
    "[11](https://www.timeoutdoha.com/sport-wellbeing/records-broken-qatar-2022)]\n",
    ". \n",
    "\n",
    "So in this notebook I will try to explore the Qatar FIFA World Cup 2022 games dataset highlighting the key features/attributes of teams.  In addition to the obvious stats that contributes to a team's success I will try to explore if there are hidden game attributes which can be important to success in an attempt to make a case for **Morocco** , the surprise team of the tournament. "
   ]
  },
  {
   "cell_type": "markdown",
   "id": "f7564685",
   "metadata": {
    "papermill": {
     "duration": 0.009054,
     "end_time": "2023-01-26T09:46:25.738566",
     "exception": false,
     "start_time": "2023-01-26T09:46:25.729512",
     "status": "completed"
    },
    "tags": []
   },
   "source": [
    "## The dataset\n",
    "I used the [teams statistics dataset](https://www.kaggle.com/datasets/swaptr/fifa-world-cup-2022-statistics) collected and created by [Swaptr](https://www.kaggle.com/swaptr). It contains game statistics of all the teams competing at the FIFA World Cup Qatar 2022. Each row in the data represents a country and each column is a game statistics. This dataset has 32 rows and 189 columns.\n"
   ]
  },
  {
   "cell_type": "code",
   "execution_count": 1,
   "id": "d603c049",
   "metadata": {
    "_cell_guid": "b1076dfc-b9ad-4769-8c92-a6c4dae69d19",
    "_kg_hide-input": true,
    "_kg_hide-output": true,
    "_uuid": "8f2839f25d086af736a60e9eeb907d3b93b6e0e5",
    "execution": {
     "iopub.execute_input": "2023-01-26T09:46:25.759406Z",
     "iopub.status.busy": "2023-01-26T09:46:25.758626Z",
     "iopub.status.idle": "2023-01-26T09:46:27.316293Z",
     "shell.execute_reply": "2023-01-26T09:46:27.314845Z"
    },
    "papermill": {
     "duration": 1.571919,
     "end_time": "2023-01-26T09:46:27.319821",
     "exception": false,
     "start_time": "2023-01-26T09:46:25.747902",
     "status": "completed"
    },
    "tags": []
   },
   "outputs": [
    {
     "name": "stdout",
     "output_type": "stream",
     "text": [
      "(32, 189)\n"
     ]
    },
    {
     "data": {
      "text/html": [
       "<div>\n",
       "<style scoped>\n",
       "    .dataframe tbody tr th:only-of-type {\n",
       "        vertical-align: middle;\n",
       "    }\n",
       "\n",
       "    .dataframe tbody tr th {\n",
       "        vertical-align: top;\n",
       "    }\n",
       "\n",
       "    .dataframe thead th {\n",
       "        text-align: right;\n",
       "    }\n",
       "</style>\n",
       "<table border=\"1\" class=\"dataframe\">\n",
       "  <thead>\n",
       "    <tr style=\"text-align: right;\">\n",
       "      <th></th>\n",
       "      <th>team</th>\n",
       "      <th>players_used</th>\n",
       "      <th>avg_age</th>\n",
       "      <th>possession</th>\n",
       "      <th>games</th>\n",
       "      <th>games_starts</th>\n",
       "      <th>minutes</th>\n",
       "      <th>minutes_90s</th>\n",
       "      <th>goals</th>\n",
       "      <th>assists</th>\n",
       "      <th>...</th>\n",
       "      <th>fouls</th>\n",
       "      <th>fouled</th>\n",
       "      <th>offsides</th>\n",
       "      <th>pens_won</th>\n",
       "      <th>pens_conceded</th>\n",
       "      <th>own_goals</th>\n",
       "      <th>ball_recoveries</th>\n",
       "      <th>aerials_won</th>\n",
       "      <th>aerials_lost</th>\n",
       "      <th>aerials_won_pct</th>\n",
       "    </tr>\n",
       "  </thead>\n",
       "  <tbody>\n",
       "    <tr>\n",
       "      <th>0</th>\n",
       "      <td>Argentina</td>\n",
       "      <td>24</td>\n",
       "      <td>28.4</td>\n",
       "      <td>57.4</td>\n",
       "      <td>7</td>\n",
       "      <td>77</td>\n",
       "      <td>690</td>\n",
       "      <td>7.7</td>\n",
       "      <td>15</td>\n",
       "      <td>8</td>\n",
       "      <td>...</td>\n",
       "      <td>100</td>\n",
       "      <td>115</td>\n",
       "      <td>23</td>\n",
       "      <td>5</td>\n",
       "      <td>2</td>\n",
       "      <td>1</td>\n",
       "      <td>357</td>\n",
       "      <td>83</td>\n",
       "      <td>90</td>\n",
       "      <td>48.0</td>\n",
       "    </tr>\n",
       "    <tr>\n",
       "      <th>1</th>\n",
       "      <td>Australia</td>\n",
       "      <td>20</td>\n",
       "      <td>28.7</td>\n",
       "      <td>37.8</td>\n",
       "      <td>4</td>\n",
       "      <td>44</td>\n",
       "      <td>360</td>\n",
       "      <td>4.0</td>\n",
       "      <td>3</td>\n",
       "      <td>3</td>\n",
       "      <td>...</td>\n",
       "      <td>52</td>\n",
       "      <td>34</td>\n",
       "      <td>1</td>\n",
       "      <td>0</td>\n",
       "      <td>0</td>\n",
       "      <td>0</td>\n",
       "      <td>200</td>\n",
       "      <td>72</td>\n",
       "      <td>72</td>\n",
       "      <td>50.0</td>\n",
       "    </tr>\n",
       "    <tr>\n",
       "      <th>2</th>\n",
       "      <td>Belgium</td>\n",
       "      <td>20</td>\n",
       "      <td>30.6</td>\n",
       "      <td>57.0</td>\n",
       "      <td>3</td>\n",
       "      <td>33</td>\n",
       "      <td>270</td>\n",
       "      <td>3.0</td>\n",
       "      <td>1</td>\n",
       "      <td>1</td>\n",
       "      <td>...</td>\n",
       "      <td>30</td>\n",
       "      <td>35</td>\n",
       "      <td>3</td>\n",
       "      <td>0</td>\n",
       "      <td>1</td>\n",
       "      <td>0</td>\n",
       "      <td>132</td>\n",
       "      <td>33</td>\n",
       "      <td>28</td>\n",
       "      <td>54.1</td>\n",
       "    </tr>\n",
       "    <tr>\n",
       "      <th>3</th>\n",
       "      <td>Brazil</td>\n",
       "      <td>26</td>\n",
       "      <td>28.5</td>\n",
       "      <td>56.2</td>\n",
       "      <td>5</td>\n",
       "      <td>55</td>\n",
       "      <td>480</td>\n",
       "      <td>5.3</td>\n",
       "      <td>8</td>\n",
       "      <td>6</td>\n",
       "      <td>...</td>\n",
       "      <td>63</td>\n",
       "      <td>74</td>\n",
       "      <td>8</td>\n",
       "      <td>1</td>\n",
       "      <td>0</td>\n",
       "      <td>0</td>\n",
       "      <td>271</td>\n",
       "      <td>43</td>\n",
       "      <td>56</td>\n",
       "      <td>43.4</td>\n",
       "    </tr>\n",
       "    <tr>\n",
       "      <th>4</th>\n",
       "      <td>Cameroon</td>\n",
       "      <td>22</td>\n",
       "      <td>28.0</td>\n",
       "      <td>41.7</td>\n",
       "      <td>3</td>\n",
       "      <td>33</td>\n",
       "      <td>270</td>\n",
       "      <td>3.0</td>\n",
       "      <td>4</td>\n",
       "      <td>4</td>\n",
       "      <td>...</td>\n",
       "      <td>32</td>\n",
       "      <td>38</td>\n",
       "      <td>2</td>\n",
       "      <td>0</td>\n",
       "      <td>0</td>\n",
       "      <td>0</td>\n",
       "      <td>142</td>\n",
       "      <td>42</td>\n",
       "      <td>36</td>\n",
       "      <td>53.8</td>\n",
       "    </tr>\n",
       "  </tbody>\n",
       "</table>\n",
       "<p>5 rows × 189 columns</p>\n",
       "</div>"
      ],
      "text/plain": [
       "        team  players_used  avg_age  possession  games  games_starts  minutes  \\\n",
       "0  Argentina            24     28.4        57.4      7            77      690   \n",
       "1  Australia            20     28.7        37.8      4            44      360   \n",
       "2    Belgium            20     30.6        57.0      3            33      270   \n",
       "3     Brazil            26     28.5        56.2      5            55      480   \n",
       "4   Cameroon            22     28.0        41.7      3            33      270   \n",
       "\n",
       "   minutes_90s  goals  assists  ...  fouls  fouled  offsides  pens_won  \\\n",
       "0          7.7     15        8  ...    100     115        23         5   \n",
       "1          4.0      3        3  ...     52      34         1         0   \n",
       "2          3.0      1        1  ...     30      35         3         0   \n",
       "3          5.3      8        6  ...     63      74         8         1   \n",
       "4          3.0      4        4  ...     32      38         2         0   \n",
       "\n",
       "   pens_conceded  own_goals  ball_recoveries  aerials_won  aerials_lost  \\\n",
       "0              2          1              357           83            90   \n",
       "1              0          0              200           72            72   \n",
       "2              1          0              132           33            28   \n",
       "3              0          0              271           43            56   \n",
       "4              0          0              142           42            36   \n",
       "\n",
       "   aerials_won_pct  \n",
       "0             48.0  \n",
       "1             50.0  \n",
       "2             54.1  \n",
       "3             43.4  \n",
       "4             53.8  \n",
       "\n",
       "[5 rows x 189 columns]"
      ]
     },
     "execution_count": 1,
     "metadata": {},
     "output_type": "execute_result"
    }
   ],
   "source": [
    "import numpy as np \n",
    "import pandas as pd \n",
    "import plotly.express as px\n",
    "import plotly.graph_objects as go\n",
    "from plotly.subplots import make_subplots\n",
    "\n",
    "team_data = pd.read_csv('/kaggle/input/fifa-world-cup-2022-statistics/team_data.csv')\n",
    "\n",
    "print(team_data.shape)\n",
    "\n",
    "team_data.head()"
   ]
  },
  {
   "cell_type": "markdown",
   "id": "f3e142eb",
   "metadata": {
    "papermill": {
     "duration": 0.01018,
     "end_time": "2023-01-26T09:46:27.340165",
     "exception": false,
     "start_time": "2023-01-26T09:46:27.329985",
     "status": "completed"
    },
    "tags": []
   },
   "source": [
    "## Players' Age\n",
    "\n",
    "According to the [source](https://www.soccerseattlestyle.com/what-is-the-average-age-of-a-professional-soccer-player), the age of professional footballers ranges from 16 to 43 years, with an average age of 25.5 years. The source also observed that around 80% of football players are between 21 and 29 years old. \n",
    "\n",
    "Summary of player's age at the world cup.\n",
    "\n",
    "- The average age of all teams is ~28 years. \n",
    "- The oldest teams at the age of 30.6 years old are Belgium and Costa Rica. \n",
    "- The youngest team is the United States soccer team at the age of 25.3 years.\n",
    "\n",
    "**Note**:  Incidentally the two oldest teams (Belgium and Costa Rica) did not make the knock-out stage. Right after Belgium's exit from the tournament there was a debate that Roberto Martinez's (Belgium's coach) loyalty to his older players was partly to blame for their failure. Who knows what would have happened had he given the young players a chance to show what they can do? Hindsight is a wonderful thing. It's it?\n",
    "\n",
    "\n",
    "Morocco, the surprise packages of this world cup, are the **sixth** youngest team.\n"
   ]
  },
  {
   "cell_type": "code",
   "execution_count": 2,
   "id": "6c3df569",
   "metadata": {
    "_kg_hide-input": true,
    "execution": {
     "iopub.execute_input": "2023-01-26T09:46:27.363829Z",
     "iopub.status.busy": "2023-01-26T09:46:27.363399Z",
     "iopub.status.idle": "2023-01-26T09:46:27.379293Z",
     "shell.execute_reply": "2023-01-26T09:46:27.378021Z"
    },
    "papermill": {
     "duration": 0.029293,
     "end_time": "2023-01-26T09:46:27.381546",
     "exception": false,
     "start_time": "2023-01-26T09:46:27.352253",
     "status": "completed"
    },
    "tags": []
   },
   "outputs": [
    {
     "data": {
      "text/plain": [
       "count    32.000000\n",
       "mean     28.062500\n",
       "std       1.166674\n",
       "min      25.400000\n",
       "25%      27.475000\n",
       "50%      28.100000\n",
       "75%      28.725000\n",
       "max      30.600000\n",
       "Name: avg_age, dtype: float64"
      ]
     },
     "execution_count": 2,
     "metadata": {},
     "output_type": "execute_result"
    }
   ],
   "source": [
    "team_data['avg_age'].describe()"
   ]
  },
  {
   "cell_type": "code",
   "execution_count": 3,
   "id": "244b6639",
   "metadata": {
    "_kg_hide-input": true,
    "execution": {
     "iopub.execute_input": "2023-01-26T09:46:27.404114Z",
     "iopub.status.busy": "2023-01-26T09:46:27.403410Z",
     "iopub.status.idle": "2023-01-26T09:46:28.637684Z",
     "shell.execute_reply": "2023-01-26T09:46:28.636501Z"
    },
    "papermill": {
     "duration": 1.248394,
     "end_time": "2023-01-26T09:46:28.640233",
     "exception": false,
     "start_time": "2023-01-26T09:46:27.391839",
     "status": "completed"
    },
    "tags": []
   },
   "outputs": [
    {
     "data": {
      "text/html": [
       "        <script type=\"text/javascript\">\n",
       "        window.PlotlyConfig = {MathJaxConfig: 'local'};\n",
       "        if (window.MathJax && window.MathJax.Hub && window.MathJax.Hub.Config) {window.MathJax.Hub.Config({SVG: {font: \"STIX-Web\"}});}\n",
       "        if (typeof require !== 'undefined') {\n",
       "        require.undef(\"plotly\");\n",
       "        requirejs.config({\n",
       "            paths: {\n",
       "                'plotly': ['https://cdn.plot.ly/plotly-2.14.0.min']\n",
       "            }\n",
       "        });\n",
       "        require(['plotly'], function(Plotly) {\n",
       "            window._Plotly = Plotly;\n",
       "        });\n",
       "        }\n",
       "        </script>\n",
       "        "
      ]
     },
     "metadata": {},
     "output_type": "display_data"
    },
    {
     "data": {
      "text/html": [
       "<div>                            <div id=\"9235384e-8ca7-4402-9300-ed352e604498\" class=\"plotly-graph-div\" style=\"height:600px; width:750px;\"></div>            <script type=\"text/javascript\">                require([\"plotly\"], function(Plotly) {                    window.PLOTLYENV=window.PLOTLYENV || {};                                    if (document.getElementById(\"9235384e-8ca7-4402-9300-ed352e604498\")) {                    Plotly.newPlot(                        \"9235384e-8ca7-4402-9300-ed352e604498\",                        [{\"alignmentgroup\":\"True\",\"hovertemplate\":\"avg_age=%{x}<br>team=%{y}<extra></extra>\",\"legendgroup\":\"\",\"marker\":{\"color\":[\"lightseagreen\",\"lightseagreen\",\"lightseagreen\",\"lightseagreen\",\"lightseagreen\",\"crimson\",\"lightseagreen\",\"lightseagreen\",\"lightseagreen\",\"lightseagreen\",\"lightseagreen\",\"lightseagreen\",\"lightseagreen\",\"lightseagreen\",\"lightseagreen\",\"lightseagreen\",\"lightseagreen\",\"lightseagreen\",\"lightseagreen\",\"lightseagreen\",\"lightseagreen\",\"lightseagreen\",\"lightseagreen\",\"lightseagreen\",\"lightseagreen\",\"lightseagreen\",\"lightseagreen\",\"lightseagreen\",\"lightseagreen\",\"lightseagreen\",\"lightseagreen\",\"lightseagreen\"],\"pattern\":{\"shape\":\"\"},\"line\":{\"width\":2.5}},\"name\":\"\",\"offsetgroup\":\"\",\"orientation\":\"h\",\"showlegend\":false,\"textposition\":\"auto\",\"x\":[25.4,25.8,26.4,26.4,27.0,27.2,27.2,27.4,27.5,27.6,27.7,27.7,27.7,27.8,28.0,28.1,28.1,28.2,28.4,28.5,28.5,28.5,28.7,28.7,28.8,29.0,29.0,29.0,29.2,29.3,30.6,30.6],\"xaxis\":\"x\",\"y\":[\"United States\",\"Ecuador\",\"Ghana\",\"Spain\",\"England\",\"Morocco\",\"France\",\"Serbia\",\"Denmark\",\"Netherlands\",\"Senegal\",\"Tunisia\",\"Wales\",\"Portugal\",\"Cameroon\",\"Germany\",\"Saudi Arabia\",\"Canada\",\"Argentina\",\"Uruguay\",\"Brazil\",\"Switzerland\",\"Poland\",\"Australia\",\"Japan\",\"Korea Republic\",\"Qatar\",\"Mexico\",\"Croatia\",\"Iran\",\"Costa Rica\",\"Belgium\"],\"yaxis\":\"y\",\"type\":\"bar\"}],                        {\"template\":{\"data\":{\"barpolar\":[{\"marker\":{\"line\":{\"color\":\"rgb(237,237,237)\",\"width\":0.5},\"pattern\":{\"fillmode\":\"overlay\",\"size\":10,\"solidity\":0.2}},\"type\":\"barpolar\"}],\"bar\":[{\"error_x\":{\"color\":\"rgb(51,51,51)\"},\"error_y\":{\"color\":\"rgb(51,51,51)\"},\"marker\":{\"line\":{\"color\":\"rgb(237,237,237)\",\"width\":0.5},\"pattern\":{\"fillmode\":\"overlay\",\"size\":10,\"solidity\":0.2}},\"type\":\"bar\"}],\"carpet\":[{\"aaxis\":{\"endlinecolor\":\"rgb(51,51,51)\",\"gridcolor\":\"white\",\"linecolor\":\"white\",\"minorgridcolor\":\"white\",\"startlinecolor\":\"rgb(51,51,51)\"},\"baxis\":{\"endlinecolor\":\"rgb(51,51,51)\",\"gridcolor\":\"white\",\"linecolor\":\"white\",\"minorgridcolor\":\"white\",\"startlinecolor\":\"rgb(51,51,51)\"},\"type\":\"carpet\"}],\"choropleth\":[{\"colorbar\":{\"outlinewidth\":0,\"tickcolor\":\"rgb(237,237,237)\",\"ticklen\":6,\"ticks\":\"inside\"},\"type\":\"choropleth\"}],\"contourcarpet\":[{\"colorbar\":{\"outlinewidth\":0,\"tickcolor\":\"rgb(237,237,237)\",\"ticklen\":6,\"ticks\":\"inside\"},\"type\":\"contourcarpet\"}],\"contour\":[{\"colorbar\":{\"outlinewidth\":0,\"tickcolor\":\"rgb(237,237,237)\",\"ticklen\":6,\"ticks\":\"inside\"},\"colorscale\":[[0,\"rgb(20,44,66)\"],[1,\"rgb(90,179,244)\"]],\"type\":\"contour\"}],\"heatmapgl\":[{\"colorbar\":{\"outlinewidth\":0,\"tickcolor\":\"rgb(237,237,237)\",\"ticklen\":6,\"ticks\":\"inside\"},\"colorscale\":[[0,\"rgb(20,44,66)\"],[1,\"rgb(90,179,244)\"]],\"type\":\"heatmapgl\"}],\"heatmap\":[{\"colorbar\":{\"outlinewidth\":0,\"tickcolor\":\"rgb(237,237,237)\",\"ticklen\":6,\"ticks\":\"inside\"},\"colorscale\":[[0,\"rgb(20,44,66)\"],[1,\"rgb(90,179,244)\"]],\"type\":\"heatmap\"}],\"histogram2dcontour\":[{\"colorbar\":{\"outlinewidth\":0,\"tickcolor\":\"rgb(237,237,237)\",\"ticklen\":6,\"ticks\":\"inside\"},\"colorscale\":[[0,\"rgb(20,44,66)\"],[1,\"rgb(90,179,244)\"]],\"type\":\"histogram2dcontour\"}],\"histogram2d\":[{\"colorbar\":{\"outlinewidth\":0,\"tickcolor\":\"rgb(237,237,237)\",\"ticklen\":6,\"ticks\":\"inside\"},\"colorscale\":[[0,\"rgb(20,44,66)\"],[1,\"rgb(90,179,244)\"]],\"type\":\"histogram2d\"}],\"histogram\":[{\"marker\":{\"pattern\":{\"fillmode\":\"overlay\",\"size\":10,\"solidity\":0.2}},\"type\":\"histogram\"}],\"mesh3d\":[{\"colorbar\":{\"outlinewidth\":0,\"tickcolor\":\"rgb(237,237,237)\",\"ticklen\":6,\"ticks\":\"inside\"},\"type\":\"mesh3d\"}],\"parcoords\":[{\"line\":{\"colorbar\":{\"outlinewidth\":0,\"tickcolor\":\"rgb(237,237,237)\",\"ticklen\":6,\"ticks\":\"inside\"}},\"type\":\"parcoords\"}],\"pie\":[{\"automargin\":true,\"type\":\"pie\"}],\"scatter3d\":[{\"line\":{\"colorbar\":{\"outlinewidth\":0,\"tickcolor\":\"rgb(237,237,237)\",\"ticklen\":6,\"ticks\":\"inside\"}},\"marker\":{\"colorbar\":{\"outlinewidth\":0,\"tickcolor\":\"rgb(237,237,237)\",\"ticklen\":6,\"ticks\":\"inside\"}},\"type\":\"scatter3d\"}],\"scattercarpet\":[{\"marker\":{\"colorbar\":{\"outlinewidth\":0,\"tickcolor\":\"rgb(237,237,237)\",\"ticklen\":6,\"ticks\":\"inside\"}},\"type\":\"scattercarpet\"}],\"scattergeo\":[{\"marker\":{\"colorbar\":{\"outlinewidth\":0,\"tickcolor\":\"rgb(237,237,237)\",\"ticklen\":6,\"ticks\":\"inside\"}},\"type\":\"scattergeo\"}],\"scattergl\":[{\"marker\":{\"colorbar\":{\"outlinewidth\":0,\"tickcolor\":\"rgb(237,237,237)\",\"ticklen\":6,\"ticks\":\"inside\"}},\"type\":\"scattergl\"}],\"scattermapbox\":[{\"marker\":{\"colorbar\":{\"outlinewidth\":0,\"tickcolor\":\"rgb(237,237,237)\",\"ticklen\":6,\"ticks\":\"inside\"}},\"type\":\"scattermapbox\"}],\"scatterpolargl\":[{\"marker\":{\"colorbar\":{\"outlinewidth\":0,\"tickcolor\":\"rgb(237,237,237)\",\"ticklen\":6,\"ticks\":\"inside\"}},\"type\":\"scatterpolargl\"}],\"scatterpolar\":[{\"marker\":{\"colorbar\":{\"outlinewidth\":0,\"tickcolor\":\"rgb(237,237,237)\",\"ticklen\":6,\"ticks\":\"inside\"}},\"type\":\"scatterpolar\"}],\"scatter\":[{\"fillpattern\":{\"fillmode\":\"overlay\",\"size\":10,\"solidity\":0.2},\"type\":\"scatter\"}],\"scatterternary\":[{\"marker\":{\"colorbar\":{\"outlinewidth\":0,\"tickcolor\":\"rgb(237,237,237)\",\"ticklen\":6,\"ticks\":\"inside\"}},\"type\":\"scatterternary\"}],\"surface\":[{\"colorbar\":{\"outlinewidth\":0,\"tickcolor\":\"rgb(237,237,237)\",\"ticklen\":6,\"ticks\":\"inside\"},\"colorscale\":[[0,\"rgb(20,44,66)\"],[1,\"rgb(90,179,244)\"]],\"type\":\"surface\"}],\"table\":[{\"cells\":{\"fill\":{\"color\":\"rgb(237,237,237)\"},\"line\":{\"color\":\"white\"}},\"header\":{\"fill\":{\"color\":\"rgb(217,217,217)\"},\"line\":{\"color\":\"white\"}},\"type\":\"table\"}]},\"layout\":{\"annotationdefaults\":{\"arrowhead\":0,\"arrowwidth\":1},\"autotypenumbers\":\"strict\",\"coloraxis\":{\"colorbar\":{\"outlinewidth\":0,\"tickcolor\":\"rgb(237,237,237)\",\"ticklen\":6,\"ticks\":\"inside\"}},\"colorscale\":{\"sequential\":[[0,\"rgb(20,44,66)\"],[1,\"rgb(90,179,244)\"]],\"sequentialminus\":[[0,\"rgb(20,44,66)\"],[1,\"rgb(90,179,244)\"]]},\"colorway\":[\"#F8766D\",\"#A3A500\",\"#00BF7D\",\"#00B0F6\",\"#E76BF3\"],\"font\":{\"color\":\"rgb(51,51,51)\"},\"geo\":{\"bgcolor\":\"white\",\"lakecolor\":\"white\",\"landcolor\":\"rgb(237,237,237)\",\"showlakes\":true,\"showland\":true,\"subunitcolor\":\"white\"},\"hoverlabel\":{\"align\":\"left\"},\"hovermode\":\"closest\",\"paper_bgcolor\":\"white\",\"plot_bgcolor\":\"rgb(237,237,237)\",\"polar\":{\"angularaxis\":{\"gridcolor\":\"white\",\"linecolor\":\"white\",\"showgrid\":true,\"tickcolor\":\"rgb(51,51,51)\",\"ticks\":\"outside\"},\"bgcolor\":\"rgb(237,237,237)\",\"radialaxis\":{\"gridcolor\":\"white\",\"linecolor\":\"white\",\"showgrid\":true,\"tickcolor\":\"rgb(51,51,51)\",\"ticks\":\"outside\"}},\"scene\":{\"xaxis\":{\"backgroundcolor\":\"rgb(237,237,237)\",\"gridcolor\":\"white\",\"gridwidth\":2,\"linecolor\":\"white\",\"showbackground\":true,\"showgrid\":true,\"tickcolor\":\"rgb(51,51,51)\",\"ticks\":\"outside\",\"zerolinecolor\":\"white\"},\"yaxis\":{\"backgroundcolor\":\"rgb(237,237,237)\",\"gridcolor\":\"white\",\"gridwidth\":2,\"linecolor\":\"white\",\"showbackground\":true,\"showgrid\":true,\"tickcolor\":\"rgb(51,51,51)\",\"ticks\":\"outside\",\"zerolinecolor\":\"white\"},\"zaxis\":{\"backgroundcolor\":\"rgb(237,237,237)\",\"gridcolor\":\"white\",\"gridwidth\":2,\"linecolor\":\"white\",\"showbackground\":true,\"showgrid\":true,\"tickcolor\":\"rgb(51,51,51)\",\"ticks\":\"outside\",\"zerolinecolor\":\"white\"}},\"shapedefaults\":{\"fillcolor\":\"black\",\"line\":{\"width\":0},\"opacity\":0.3},\"ternary\":{\"aaxis\":{\"gridcolor\":\"white\",\"linecolor\":\"white\",\"showgrid\":true,\"tickcolor\":\"rgb(51,51,51)\",\"ticks\":\"outside\"},\"baxis\":{\"gridcolor\":\"white\",\"linecolor\":\"white\",\"showgrid\":true,\"tickcolor\":\"rgb(51,51,51)\",\"ticks\":\"outside\"},\"bgcolor\":\"rgb(237,237,237)\",\"caxis\":{\"gridcolor\":\"white\",\"linecolor\":\"white\",\"showgrid\":true,\"tickcolor\":\"rgb(51,51,51)\",\"ticks\":\"outside\"}},\"xaxis\":{\"automargin\":true,\"gridcolor\":\"white\",\"linecolor\":\"white\",\"showgrid\":true,\"tickcolor\":\"rgb(51,51,51)\",\"ticks\":\"outside\",\"title\":{\"standoff\":15},\"zerolinecolor\":\"white\"},\"yaxis\":{\"automargin\":true,\"gridcolor\":\"white\",\"linecolor\":\"white\",\"showgrid\":true,\"tickcolor\":\"rgb(51,51,51)\",\"ticks\":\"outside\",\"title\":{\"standoff\":15},\"zerolinecolor\":\"white\"}}},\"xaxis\":{\"anchor\":\"y\",\"domain\":[0.0,1.0],\"title\":{\"text\":\"avg_age\"}},\"yaxis\":{\"anchor\":\"x\",\"domain\":[0.0,1.0],\"title\":{\"text\":\"team\"}},\"legend\":{\"tracegroupgap\":0},\"margin\":{\"t\":60},\"barmode\":\"relative\",\"height\":600,\"width\":750,\"title\":{\"text\":\"<b>Team's average age <b>\",\"font\":{\"size\":24}},\"shapes\":[{\"line\":{\"color\":\"black\",\"dash\":\"dot\",\"width\":3},\"opacity\":1,\"type\":\"line\",\"x0\":28.0625,\"x1\":28.0625,\"xref\":\"x\",\"y0\":0,\"y1\":1,\"yref\":\"paper\"}]},                        {\"responsive\": true}                    ).then(function(){\n",
       "                            \n",
       "var gd = document.getElementById('9235384e-8ca7-4402-9300-ed352e604498');\n",
       "var x = new MutationObserver(function (mutations, observer) {{\n",
       "        var display = window.getComputedStyle(gd).display;\n",
       "        if (!display || display === 'none') {{\n",
       "            console.log([gd, 'removed!']);\n",
       "            Plotly.purge(gd);\n",
       "            observer.disconnect();\n",
       "        }}\n",
       "}});\n",
       "\n",
       "// Listen for the removal of the full notebook cells\n",
       "var notebookContainer = gd.closest('#notebook-container');\n",
       "if (notebookContainer) {{\n",
       "    x.observe(notebookContainer, {childList: true});\n",
       "}}\n",
       "\n",
       "// Listen for the clearing of the current output cell\n",
       "var outputEl = gd.closest('.output');\n",
       "if (outputEl) {{\n",
       "    x.observe(outputEl, {childList: true});\n",
       "}}\n",
       "\n",
       "                        })                };                });            </script>        </div>"
      ]
     },
     "metadata": {},
     "output_type": "display_data"
    }
   ],
   "source": [
    "fig = px.bar(team_data.sort_values('avg_age', ascending = True), \n",
    "             y=\"team\", x=\"avg_age\",color=None,\n",
    "             width=750, \n",
    "             height=600,\n",
    "             )\n",
    "fig.update_layout(\n",
    "             template='ggplot2',\n",
    "             title=\"<b>Team's average age <b>\",\n",
    "             titlefont={'size':24},\n",
    ")\n",
    "age_avg = np.mean(team_data['avg_age'])\n",
    "\n",
    "fig.add_shape( \n",
    "    type=\"line\", line_color=\"black\", line_width=3, opacity=1, line_dash=\"dot\",\n",
    "    y0=0, y1=1, yref=\"paper\", x0=age_avg, x1=age_avg, xref=\"x\"\n",
    ")\n",
    "colors = ['lightseagreen',] * 32 \n",
    "colors[5] = 'crimson' \n",
    "\n",
    "\n",
    "fig.update_traces(marker_color=colors, marker_line_color=None,\n",
    "                  marker_line_width=2.5, opacity=None)\n",
    "fig.show()"
   ]
  },
  {
   "cell_type": "markdown",
   "id": "cf1b05bd",
   "metadata": {
    "papermill": {
     "duration": 0.010452,
     "end_time": "2023-01-26T09:46:28.661790",
     "exception": false,
     "start_time": "2023-01-26T09:46:28.651338",
     "status": "completed"
    },
    "tags": []
   },
   "source": [
    " ## Pool of Talents\n",
    "\n",
    "Due to the unsual nature of Qatar's World Cup, FIFA has changed few rules compared to pervious editions. Such as teams' squad size has increased from 23 to 26; the number of bench players from 13 to 15 and the allowed substitutions from 3 to 5 players [[1](https://www.sportingnews.com/uk/soccer/news/how-many-players-world-cup-squads-rosters-fifa-qatar-2022/ic04lajzekgfsivpnoiv5hc0)]. However, depending on the quality of squads, game strategy and other circumstances, the number of players used in games can be different from team to teams. The highlights in Qatar 2022;\n",
    "\n",
    "- On average each team has used 21 players.\n",
    "- Brazil has used the highest number of players with 26.  \n",
    "- The fewest number of players used is 18 (Wales and Ecuador).\n",
    "\n",
    "Among the four teams which are in the semi-finals Croatia has used the fewest number of players. It seems their coach has a set of trusted players (knows his squad well). Brazil undoubtedly has a depth of talent and were among the favorites to extend their own record by winning it for the 6th time but Croatia had other ideas having used 8 less players (figures correct before the SF's games). \n",
    "\n",
    "Note: After their third place play-offs, Croatia has used a total of 21 players. \n",
    "\n",
    "\n",
    "### Number of Players Involved"
   ]
  },
  {
   "cell_type": "code",
   "execution_count": 4,
   "id": "74ca11e3",
   "metadata": {
    "_kg_hide-input": true,
    "execution": {
     "iopub.execute_input": "2023-01-26T09:46:28.685094Z",
     "iopub.status.busy": "2023-01-26T09:46:28.684654Z",
     "iopub.status.idle": "2023-01-26T09:46:28.696150Z",
     "shell.execute_reply": "2023-01-26T09:46:28.695060Z"
    },
    "papermill": {
     "duration": 0.026354,
     "end_time": "2023-01-26T09:46:28.698843",
     "exception": false,
     "start_time": "2023-01-26T09:46:28.672489",
     "status": "completed"
    },
    "tags": []
   },
   "outputs": [
    {
     "data": {
      "text/plain": [
       "count    32.000000\n",
       "mean     21.250000\n",
       "std       1.951013\n",
       "min      18.000000\n",
       "25%      20.000000\n",
       "50%      21.000000\n",
       "75%      22.000000\n",
       "max      26.000000\n",
       "Name: players_used, dtype: float64"
      ]
     },
     "execution_count": 4,
     "metadata": {},
     "output_type": "execute_result"
    }
   ],
   "source": [
    "team_data['players_used'].describe()"
   ]
  },
  {
   "cell_type": "code",
   "execution_count": 5,
   "id": "e58d1ad2",
   "metadata": {
    "_kg_hide-input": true,
    "execution": {
     "iopub.execute_input": "2023-01-26T09:46:28.722927Z",
     "iopub.status.busy": "2023-01-26T09:46:28.721948Z",
     "iopub.status.idle": "2023-01-26T09:46:28.810277Z",
     "shell.execute_reply": "2023-01-26T09:46:28.809063Z"
    },
    "papermill": {
     "duration": 0.10331,
     "end_time": "2023-01-26T09:46:28.812907",
     "exception": false,
     "start_time": "2023-01-26T09:46:28.709597",
     "status": "completed"
    },
    "tags": []
   },
   "outputs": [
    {
     "data": {
      "text/html": [
       "<div>                            <div id=\"ed660d67-25d2-4e2b-b205-dc4fd08e7687\" class=\"plotly-graph-div\" style=\"height:600px; width:750px;\"></div>            <script type=\"text/javascript\">                require([\"plotly\"], function(Plotly) {                    window.PLOTLYENV=window.PLOTLYENV || {};                                    if (document.getElementById(\"ed660d67-25d2-4e2b-b205-dc4fd08e7687\")) {                    Plotly.newPlot(                        \"ed660d67-25d2-4e2b-b205-dc4fd08e7687\",                        [{\"alignmentgroup\":\"True\",\"hovertemplate\":\"players_used=%{x}<br>team=%{y}<extra></extra>\",\"legendgroup\":\"\",\"marker\":{\"color\":[\"lightseagreen\",\"lightseagreen\",\"lightseagreen\",\"lightseagreen\",\"lightseagreen\",\"lightseagreen\",\"lightseagreen\",\"lightseagreen\",\"lightseagreen\",\"lightseagreen\",\"lightseagreen\",\"lightseagreen\",\"lightseagreen\",\"lightseagreen\",\"lightseagreen\",\"lightseagreen\",\"lightseagreen\",\"lightseagreen\",\"lightseagreen\",\"lightseagreen\",\"lightseagreen\",\"lightseagreen\",\"lightseagreen\",\"lightseagreen\",\"lightseagreen\",\"lightseagreen\",\"lightseagreen\",\"lightseagreen\",\"lightseagreen\",\"lightseagreen\",\"crimson\",\"lightseagreen\"],\"pattern\":{\"shape\":\"\"},\"line\":{\"width\":2.5}},\"name\":\"\",\"offsetgroup\":\"\",\"orientation\":\"h\",\"showlegend\":false,\"textposition\":\"auto\",\"x\":[18,18,19,19,20,20,20,20,20,20,20,20,20,21,21,21,21,21,21,21,21,22,22,22,22,23,24,24,24,24,25,26],\"xaxis\":\"x\",\"y\":[\"Wales\",\"Ecuador\",\"Uruguay\",\"Canada\",\"Senegal\",\"Ghana\",\"Germany\",\"Denmark\",\"England\",\"United States\",\"Belgium\",\"Australia\",\"Qatar\",\"Spain\",\"Poland\",\"Tunisia\",\"Iran\",\"Korea Republic\",\"Mexico\",\"Netherlands\",\"Croatia\",\"Serbia\",\"Japan\",\"Costa Rica\",\"Cameroon\",\"Saudi Arabia\",\"France\",\"Switzerland\",\"Portugal\",\"Argentina\",\"Morocco\",\"Brazil\"],\"yaxis\":\"y\",\"type\":\"bar\"}],                        {\"template\":{\"data\":{\"barpolar\":[{\"marker\":{\"line\":{\"color\":\"rgb(237,237,237)\",\"width\":0.5},\"pattern\":{\"fillmode\":\"overlay\",\"size\":10,\"solidity\":0.2}},\"type\":\"barpolar\"}],\"bar\":[{\"error_x\":{\"color\":\"rgb(51,51,51)\"},\"error_y\":{\"color\":\"rgb(51,51,51)\"},\"marker\":{\"line\":{\"color\":\"rgb(237,237,237)\",\"width\":0.5},\"pattern\":{\"fillmode\":\"overlay\",\"size\":10,\"solidity\":0.2}},\"type\":\"bar\"}],\"carpet\":[{\"aaxis\":{\"endlinecolor\":\"rgb(51,51,51)\",\"gridcolor\":\"white\",\"linecolor\":\"white\",\"minorgridcolor\":\"white\",\"startlinecolor\":\"rgb(51,51,51)\"},\"baxis\":{\"endlinecolor\":\"rgb(51,51,51)\",\"gridcolor\":\"white\",\"linecolor\":\"white\",\"minorgridcolor\":\"white\",\"startlinecolor\":\"rgb(51,51,51)\"},\"type\":\"carpet\"}],\"choropleth\":[{\"colorbar\":{\"outlinewidth\":0,\"tickcolor\":\"rgb(237,237,237)\",\"ticklen\":6,\"ticks\":\"inside\"},\"type\":\"choropleth\"}],\"contourcarpet\":[{\"colorbar\":{\"outlinewidth\":0,\"tickcolor\":\"rgb(237,237,237)\",\"ticklen\":6,\"ticks\":\"inside\"},\"type\":\"contourcarpet\"}],\"contour\":[{\"colorbar\":{\"outlinewidth\":0,\"tickcolor\":\"rgb(237,237,237)\",\"ticklen\":6,\"ticks\":\"inside\"},\"colorscale\":[[0,\"rgb(20,44,66)\"],[1,\"rgb(90,179,244)\"]],\"type\":\"contour\"}],\"heatmapgl\":[{\"colorbar\":{\"outlinewidth\":0,\"tickcolor\":\"rgb(237,237,237)\",\"ticklen\":6,\"ticks\":\"inside\"},\"colorscale\":[[0,\"rgb(20,44,66)\"],[1,\"rgb(90,179,244)\"]],\"type\":\"heatmapgl\"}],\"heatmap\":[{\"colorbar\":{\"outlinewidth\":0,\"tickcolor\":\"rgb(237,237,237)\",\"ticklen\":6,\"ticks\":\"inside\"},\"colorscale\":[[0,\"rgb(20,44,66)\"],[1,\"rgb(90,179,244)\"]],\"type\":\"heatmap\"}],\"histogram2dcontour\":[{\"colorbar\":{\"outlinewidth\":0,\"tickcolor\":\"rgb(237,237,237)\",\"ticklen\":6,\"ticks\":\"inside\"},\"colorscale\":[[0,\"rgb(20,44,66)\"],[1,\"rgb(90,179,244)\"]],\"type\":\"histogram2dcontour\"}],\"histogram2d\":[{\"colorbar\":{\"outlinewidth\":0,\"tickcolor\":\"rgb(237,237,237)\",\"ticklen\":6,\"ticks\":\"inside\"},\"colorscale\":[[0,\"rgb(20,44,66)\"],[1,\"rgb(90,179,244)\"]],\"type\":\"histogram2d\"}],\"histogram\":[{\"marker\":{\"pattern\":{\"fillmode\":\"overlay\",\"size\":10,\"solidity\":0.2}},\"type\":\"histogram\"}],\"mesh3d\":[{\"colorbar\":{\"outlinewidth\":0,\"tickcolor\":\"rgb(237,237,237)\",\"ticklen\":6,\"ticks\":\"inside\"},\"type\":\"mesh3d\"}],\"parcoords\":[{\"line\":{\"colorbar\":{\"outlinewidth\":0,\"tickcolor\":\"rgb(237,237,237)\",\"ticklen\":6,\"ticks\":\"inside\"}},\"type\":\"parcoords\"}],\"pie\":[{\"automargin\":true,\"type\":\"pie\"}],\"scatter3d\":[{\"line\":{\"colorbar\":{\"outlinewidth\":0,\"tickcolor\":\"rgb(237,237,237)\",\"ticklen\":6,\"ticks\":\"inside\"}},\"marker\":{\"colorbar\":{\"outlinewidth\":0,\"tickcolor\":\"rgb(237,237,237)\",\"ticklen\":6,\"ticks\":\"inside\"}},\"type\":\"scatter3d\"}],\"scattercarpet\":[{\"marker\":{\"colorbar\":{\"outlinewidth\":0,\"tickcolor\":\"rgb(237,237,237)\",\"ticklen\":6,\"ticks\":\"inside\"}},\"type\":\"scattercarpet\"}],\"scattergeo\":[{\"marker\":{\"colorbar\":{\"outlinewidth\":0,\"tickcolor\":\"rgb(237,237,237)\",\"ticklen\":6,\"ticks\":\"inside\"}},\"type\":\"scattergeo\"}],\"scattergl\":[{\"marker\":{\"colorbar\":{\"outlinewidth\":0,\"tickcolor\":\"rgb(237,237,237)\",\"ticklen\":6,\"ticks\":\"inside\"}},\"type\":\"scattergl\"}],\"scattermapbox\":[{\"marker\":{\"colorbar\":{\"outlinewidth\":0,\"tickcolor\":\"rgb(237,237,237)\",\"ticklen\":6,\"ticks\":\"inside\"}},\"type\":\"scattermapbox\"}],\"scatterpolargl\":[{\"marker\":{\"colorbar\":{\"outlinewidth\":0,\"tickcolor\":\"rgb(237,237,237)\",\"ticklen\":6,\"ticks\":\"inside\"}},\"type\":\"scatterpolargl\"}],\"scatterpolar\":[{\"marker\":{\"colorbar\":{\"outlinewidth\":0,\"tickcolor\":\"rgb(237,237,237)\",\"ticklen\":6,\"ticks\":\"inside\"}},\"type\":\"scatterpolar\"}],\"scatter\":[{\"fillpattern\":{\"fillmode\":\"overlay\",\"size\":10,\"solidity\":0.2},\"type\":\"scatter\"}],\"scatterternary\":[{\"marker\":{\"colorbar\":{\"outlinewidth\":0,\"tickcolor\":\"rgb(237,237,237)\",\"ticklen\":6,\"ticks\":\"inside\"}},\"type\":\"scatterternary\"}],\"surface\":[{\"colorbar\":{\"outlinewidth\":0,\"tickcolor\":\"rgb(237,237,237)\",\"ticklen\":6,\"ticks\":\"inside\"},\"colorscale\":[[0,\"rgb(20,44,66)\"],[1,\"rgb(90,179,244)\"]],\"type\":\"surface\"}],\"table\":[{\"cells\":{\"fill\":{\"color\":\"rgb(237,237,237)\"},\"line\":{\"color\":\"white\"}},\"header\":{\"fill\":{\"color\":\"rgb(217,217,217)\"},\"line\":{\"color\":\"white\"}},\"type\":\"table\"}]},\"layout\":{\"annotationdefaults\":{\"arrowhead\":0,\"arrowwidth\":1},\"autotypenumbers\":\"strict\",\"coloraxis\":{\"colorbar\":{\"outlinewidth\":0,\"tickcolor\":\"rgb(237,237,237)\",\"ticklen\":6,\"ticks\":\"inside\"}},\"colorscale\":{\"sequential\":[[0,\"rgb(20,44,66)\"],[1,\"rgb(90,179,244)\"]],\"sequentialminus\":[[0,\"rgb(20,44,66)\"],[1,\"rgb(90,179,244)\"]]},\"colorway\":[\"#F8766D\",\"#A3A500\",\"#00BF7D\",\"#00B0F6\",\"#E76BF3\"],\"font\":{\"color\":\"rgb(51,51,51)\"},\"geo\":{\"bgcolor\":\"white\",\"lakecolor\":\"white\",\"landcolor\":\"rgb(237,237,237)\",\"showlakes\":true,\"showland\":true,\"subunitcolor\":\"white\"},\"hoverlabel\":{\"align\":\"left\"},\"hovermode\":\"closest\",\"paper_bgcolor\":\"white\",\"plot_bgcolor\":\"rgb(237,237,237)\",\"polar\":{\"angularaxis\":{\"gridcolor\":\"white\",\"linecolor\":\"white\",\"showgrid\":true,\"tickcolor\":\"rgb(51,51,51)\",\"ticks\":\"outside\"},\"bgcolor\":\"rgb(237,237,237)\",\"radialaxis\":{\"gridcolor\":\"white\",\"linecolor\":\"white\",\"showgrid\":true,\"tickcolor\":\"rgb(51,51,51)\",\"ticks\":\"outside\"}},\"scene\":{\"xaxis\":{\"backgroundcolor\":\"rgb(237,237,237)\",\"gridcolor\":\"white\",\"gridwidth\":2,\"linecolor\":\"white\",\"showbackground\":true,\"showgrid\":true,\"tickcolor\":\"rgb(51,51,51)\",\"ticks\":\"outside\",\"zerolinecolor\":\"white\"},\"yaxis\":{\"backgroundcolor\":\"rgb(237,237,237)\",\"gridcolor\":\"white\",\"gridwidth\":2,\"linecolor\":\"white\",\"showbackground\":true,\"showgrid\":true,\"tickcolor\":\"rgb(51,51,51)\",\"ticks\":\"outside\",\"zerolinecolor\":\"white\"},\"zaxis\":{\"backgroundcolor\":\"rgb(237,237,237)\",\"gridcolor\":\"white\",\"gridwidth\":2,\"linecolor\":\"white\",\"showbackground\":true,\"showgrid\":true,\"tickcolor\":\"rgb(51,51,51)\",\"ticks\":\"outside\",\"zerolinecolor\":\"white\"}},\"shapedefaults\":{\"fillcolor\":\"black\",\"line\":{\"width\":0},\"opacity\":0.3},\"ternary\":{\"aaxis\":{\"gridcolor\":\"white\",\"linecolor\":\"white\",\"showgrid\":true,\"tickcolor\":\"rgb(51,51,51)\",\"ticks\":\"outside\"},\"baxis\":{\"gridcolor\":\"white\",\"linecolor\":\"white\",\"showgrid\":true,\"tickcolor\":\"rgb(51,51,51)\",\"ticks\":\"outside\"},\"bgcolor\":\"rgb(237,237,237)\",\"caxis\":{\"gridcolor\":\"white\",\"linecolor\":\"white\",\"showgrid\":true,\"tickcolor\":\"rgb(51,51,51)\",\"ticks\":\"outside\"}},\"xaxis\":{\"automargin\":true,\"gridcolor\":\"white\",\"linecolor\":\"white\",\"showgrid\":true,\"tickcolor\":\"rgb(51,51,51)\",\"ticks\":\"outside\",\"title\":{\"standoff\":15},\"zerolinecolor\":\"white\"},\"yaxis\":{\"automargin\":true,\"gridcolor\":\"white\",\"linecolor\":\"white\",\"showgrid\":true,\"tickcolor\":\"rgb(51,51,51)\",\"ticks\":\"outside\",\"title\":{\"standoff\":15},\"zerolinecolor\":\"white\"}}},\"xaxis\":{\"anchor\":\"y\",\"domain\":[0.0,1.0],\"title\":{\"text\":\"players_used\"}},\"yaxis\":{\"anchor\":\"x\",\"domain\":[0.0,1.0],\"title\":{\"text\":\"team\"}},\"legend\":{\"tracegroupgap\":0},\"margin\":{\"t\":60},\"barmode\":\"relative\",\"height\":600,\"width\":750,\"title\":{\"text\":\"<b>Number of Players Used <b>\",\"font\":{\"size\":24}},\"shapes\":[{\"line\":{\"color\":\"black\",\"dash\":\"dot\",\"width\":3},\"opacity\":1,\"type\":\"line\",\"x0\":21.25,\"x1\":21.25,\"xref\":\"x\",\"y0\":0,\"y1\":1,\"yref\":\"paper\"}]},                        {\"responsive\": true}                    ).then(function(){\n",
       "                            \n",
       "var gd = document.getElementById('ed660d67-25d2-4e2b-b205-dc4fd08e7687');\n",
       "var x = new MutationObserver(function (mutations, observer) {{\n",
       "        var display = window.getComputedStyle(gd).display;\n",
       "        if (!display || display === 'none') {{\n",
       "            console.log([gd, 'removed!']);\n",
       "            Plotly.purge(gd);\n",
       "            observer.disconnect();\n",
       "        }}\n",
       "}});\n",
       "\n",
       "// Listen for the removal of the full notebook cells\n",
       "var notebookContainer = gd.closest('#notebook-container');\n",
       "if (notebookContainer) {{\n",
       "    x.observe(notebookContainer, {childList: true});\n",
       "}}\n",
       "\n",
       "// Listen for the clearing of the current output cell\n",
       "var outputEl = gd.closest('.output');\n",
       "if (outputEl) {{\n",
       "    x.observe(outputEl, {childList: true});\n",
       "}}\n",
       "\n",
       "                        })                };                });            </script>        </div>"
      ]
     },
     "metadata": {},
     "output_type": "display_data"
    }
   ],
   "source": [
    "fig = px.bar(team_data.sort_values('players_used', ascending = True), \n",
    "             y=\"team\", x=\"players_used\",color=None,\n",
    "             width=750, \n",
    "             height=600,\n",
    "             )\n",
    "fig.update_layout(\n",
    "             template='ggplot2',\n",
    "             title=\"<b>Number of Players Used <b>\",\n",
    "             titlefont={'size':24},\n",
    ")\n",
    "age_avg = np.mean(team_data['players_used'])\n",
    "\n",
    "fig.add_shape( \n",
    "    type=\"line\", line_color=\"black\", line_width=3, opacity=1, line_dash=\"dot\",\n",
    "    y0=0, y1=1, yref=\"paper\", x0=age_avg, x1=age_avg, xref=\"x\"\n",
    ")\n",
    "colors = ['lightseagreen',] * 32 \n",
    "colors[30] = 'crimson' \n",
    "\n",
    "\n",
    "fig.update_traces(marker_color=colors, marker_line_color=None,\n",
    "                  marker_line_width=2.5, opacity=None)\n",
    "fig.show()"
   ]
  },
  {
   "cell_type": "markdown",
   "id": "7b03c4c8",
   "metadata": {
    "papermill": {
     "duration": 0.010417,
     "end_time": "2023-01-26T09:46:28.834447",
     "exception": false,
     "start_time": "2023-01-26T09:46:28.824030",
     "status": "completed"
    },
    "tags": []
   },
   "source": [
    "## The Ultimate *Goal* of a Football Game\n",
    "\n",
    "The ultimate goal of a football game is to win and scoring goals will give you a higher chance of achieving that target. However, goals do not come out of the blue; teams need to work on a strategy, players need to have the talent and composure or need to be resilient working under pressure and of course there is also luck. Among other things xG’s (expected goals), shots (on target), ball possession and effective ball could give us a good indication if a goal is about to happen or not. Here I tried to explore a few of these game attributes.\n",
    "\n",
    "\n",
    "### Goals and xG's\n",
    "\n",
    "Expected goals (xG) calculates how many goals a team should have scored based on the quality of the chances created. It is a more accurate and fairer assessment than shots on targets [[2](https://footballxg.com/)].\n",
    "\n",
    "In an ideal scenario xG is equal to goals, teams/players score the chances they are expected to convert. However, we do not live in an ideal world and that doesn't happen all the time. Higher xG's than scored goals implies wastefulness. The opposite however may suggest that teams/players were more prolific than expected. Of course (as always) there are exceptions to this assumption such as expected errors, extraordinary defense/goalkeeping, a genius of a strike etc.\n",
    "\n",
    "We observe the following from the data.\n",
    "\n",
    "- Germany has the highest xG with 3.35 per game. But the could only convert 2 of them. Meaning they were the most wasetfull of the teams. If you don't score the chance you are expected to score, probabily you don't win aginst you are expected either. Remember Japan vs Germany?\n",
    "- Of all the teams below the dotted line (higher xG than goals) only Brazil made it out of the group stage. \n"
   ]
  },
  {
   "cell_type": "code",
   "execution_count": 6,
   "id": "084b0738",
   "metadata": {
    "_kg_hide-input": true,
    "execution": {
     "iopub.execute_input": "2023-01-26T09:46:28.857975Z",
     "iopub.status.busy": "2023-01-26T09:46:28.857546Z",
     "iopub.status.idle": "2023-01-26T09:46:29.323932Z",
     "shell.execute_reply": "2023-01-26T09:46:29.322813Z"
    },
    "papermill": {
     "duration": 0.480715,
     "end_time": "2023-01-26T09:46:29.326105",
     "exception": false,
     "start_time": "2023-01-26T09:46:28.845390",
     "status": "completed"
    },
    "tags": []
   },
   "outputs": [
    {
     "data": {
      "text/html": [
       "<div>                            <div id=\"af4c11ee-e821-491e-9e4f-939ed1ae59f3\" class=\"plotly-graph-div\" style=\"height:500px; width:850px;\"></div>            <script type=\"text/javascript\">                require([\"plotly\"], function(Plotly) {                    window.PLOTLYENV=window.PLOTLYENV || {};                                    if (document.getElementById(\"af4c11ee-e821-491e-9e4f-939ed1ae59f3\")) {                    Plotly.newPlot(                        \"af4c11ee-e821-491e-9e4f-939ed1ae59f3\",                        [{\"hovertemplate\":\"team=%{text}<br>xg_per_game=%{x}<br>goal_per_game=%{marker.size}<extra></extra>\",\"legendgroup\":\"Argentina\",\"marker\":{\"color\":\"#636efa\",\"size\":[2.142857142857143],\"sizemode\":\"area\",\"sizeref\":0.006500000000000001,\"symbol\":\"circle\"},\"mode\":\"markers+text\",\"name\":\"Argentina\",\"orientation\":\"v\",\"showlegend\":true,\"text\":[\"Argentina\"],\"x\":[2.1714285714285713],\"xaxis\":\"x\",\"y\":[2.142857142857143],\"yaxis\":\"y\",\"type\":\"scatter\"},{\"hovertemplate\":\"team=%{text}<br>xg_per_game=%{x}<br>goal_per_game=%{marker.size}<extra></extra>\",\"legendgroup\":\"Australia\",\"marker\":{\"color\":\"#EF553B\",\"size\":[0.75],\"sizemode\":\"area\",\"sizeref\":0.006500000000000001,\"symbol\":\"circle\"},\"mode\":\"markers+text\",\"name\":\"Australia\",\"orientation\":\"v\",\"showlegend\":true,\"text\":[\"Australia\"],\"x\":[0.575],\"xaxis\":\"x\",\"y\":[0.75],\"yaxis\":\"y\",\"type\":\"scatter\"},{\"hovertemplate\":\"team=%{text}<br>xg_per_game=%{x}<br>goal_per_game=%{marker.size}<extra></extra>\",\"legendgroup\":\"Belgium\",\"marker\":{\"color\":\"#00cc96\",\"size\":[0.3333333333333333],\"sizemode\":\"area\",\"sizeref\":0.006500000000000001,\"symbol\":\"circle\"},\"mode\":\"markers+text\",\"name\":\"Belgium\",\"orientation\":\"v\",\"showlegend\":true,\"text\":[\"Belgium\"],\"x\":[1.5666666666666667],\"xaxis\":\"x\",\"y\":[0.3333333333333333],\"yaxis\":\"y\",\"type\":\"scatter\"},{\"hovertemplate\":\"team=%{text}<br>xg_per_game=%{x}<br>goal_per_game=%{marker.size}<extra></extra>\",\"legendgroup\":\"Brazil\",\"marker\":{\"color\":\"#ab63fa\",\"size\":[1.6],\"sizemode\":\"area\",\"sizeref\":0.006500000000000001,\"symbol\":\"circle\"},\"mode\":\"markers+text\",\"name\":\"Brazil\",\"orientation\":\"v\",\"showlegend\":true,\"text\":[\"Brazil\"],\"x\":[2.4],\"xaxis\":\"x\",\"y\":[1.6],\"yaxis\":\"y\",\"type\":\"scatter\"},{\"hovertemplate\":\"team=%{text}<br>xg_per_game=%{x}<br>goal_per_game=%{marker.size}<extra></extra>\",\"legendgroup\":\"Cameroon\",\"marker\":{\"color\":\"#FFA15A\",\"size\":[1.3333333333333333],\"sizemode\":\"area\",\"sizeref\":0.006500000000000001,\"symbol\":\"circle\"},\"mode\":\"markers+text\",\"name\":\"Cameroon\",\"orientation\":\"v\",\"showlegend\":true,\"text\":[\"Cameroon\"],\"x\":[1.1333333333333333],\"xaxis\":\"x\",\"y\":[1.3333333333333333],\"yaxis\":\"y\",\"type\":\"scatter\"},{\"hovertemplate\":\"team=%{text}<br>xg_per_game=%{x}<br>goal_per_game=%{marker.size}<extra></extra>\",\"legendgroup\":\"Canada\",\"marker\":{\"color\":\"#19d3f3\",\"size\":[0.3333333333333333],\"sizemode\":\"area\",\"sizeref\":0.006500000000000001,\"symbol\":\"circle\"},\"mode\":\"markers+text\",\"name\":\"Canada\",\"orientation\":\"v\",\"showlegend\":true,\"text\":[\"Canada\"],\"x\":[1.4000000000000001],\"xaxis\":\"x\",\"y\":[0.3333333333333333],\"yaxis\":\"y\",\"type\":\"scatter\"},{\"hovertemplate\":\"team=%{text}<br>xg_per_game=%{x}<br>goal_per_game=%{marker.size}<extra></extra>\",\"legendgroup\":\"Costa Rica\",\"marker\":{\"color\":\"#FF6692\",\"size\":[1.0],\"sizemode\":\"area\",\"sizeref\":0.006500000000000001,\"symbol\":\"circle\"},\"mode\":\"markers+text\",\"name\":\"Costa Rica\",\"orientation\":\"v\",\"showlegend\":true,\"text\":[\"Costa Rica\"],\"x\":[0.4666666666666666],\"xaxis\":\"x\",\"y\":[1.0],\"yaxis\":\"y\",\"type\":\"scatter\"},{\"hovertemplate\":\"team=%{text}<br>xg_per_game=%{x}<br>goal_per_game=%{marker.size}<extra></extra>\",\"legendgroup\":\"Croatia\",\"marker\":{\"color\":\"#B6E880\",\"size\":[1.1428571428571428],\"sizemode\":\"area\",\"sizeref\":0.006500000000000001,\"symbol\":\"circle\"},\"mode\":\"markers+text\",\"name\":\"Croatia\",\"orientation\":\"v\",\"showlegend\":true,\"text\":[\"Croatia\"],\"x\":[1.0],\"xaxis\":\"x\",\"y\":[1.1428571428571428],\"yaxis\":\"y\",\"type\":\"scatter\"},{\"hovertemplate\":\"team=%{text}<br>xg_per_game=%{x}<br>goal_per_game=%{marker.size}<extra></extra>\",\"legendgroup\":\"Denmark\",\"marker\":{\"color\":\"#FF97FF\",\"size\":[0.3333333333333333],\"sizemode\":\"area\",\"sizeref\":0.006500000000000001,\"symbol\":\"circle\"},\"mode\":\"markers+text\",\"name\":\"Denmark\",\"orientation\":\"v\",\"showlegend\":true,\"text\":[\"Denmark\"],\"x\":[0.9],\"xaxis\":\"x\",\"y\":[0.3333333333333333],\"yaxis\":\"y\",\"type\":\"scatter\"},{\"hovertemplate\":\"team=%{text}<br>xg_per_game=%{x}<br>goal_per_game=%{marker.size}<extra></extra>\",\"legendgroup\":\"Ecuador\",\"marker\":{\"color\":\"#FECB52\",\"size\":[1.3333333333333333],\"sizemode\":\"area\",\"sizeref\":0.006500000000000001,\"symbol\":\"circle\"},\"mode\":\"markers+text\",\"name\":\"Ecuador\",\"orientation\":\"v\",\"showlegend\":true,\"text\":[\"Ecuador\"],\"x\":[1.2333333333333334],\"xaxis\":\"x\",\"y\":[1.3333333333333333],\"yaxis\":\"y\",\"type\":\"scatter\"},{\"hovertemplate\":\"team=%{text}<br>xg_per_game=%{x}<br>goal_per_game=%{marker.size}<extra></extra>\",\"legendgroup\":\"England\",\"marker\":{\"color\":\"#636efa\",\"size\":[2.6],\"sizemode\":\"area\",\"sizeref\":0.006500000000000001,\"symbol\":\"circle\"},\"mode\":\"markers+text\",\"name\":\"England\",\"orientation\":\"v\",\"showlegend\":true,\"text\":[\"England\"],\"x\":[1.7399999999999998],\"xaxis\":\"x\",\"y\":[2.6],\"yaxis\":\"y\",\"type\":\"scatter\"},{\"hovertemplate\":\"team=%{text}<br>xg_per_game=%{x}<br>goal_per_game=%{marker.size}<extra></extra>\",\"legendgroup\":\"France\",\"marker\":{\"color\":\"#EF553B\",\"size\":[2.2857142857142856],\"sizemode\":\"area\",\"sizeref\":0.006500000000000001,\"symbol\":\"circle\"},\"mode\":\"markers+text\",\"name\":\"France\",\"orientation\":\"v\",\"showlegend\":true,\"text\":[\"France\"],\"x\":[1.9714285714285715],\"xaxis\":\"x\",\"y\":[2.2857142857142856],\"yaxis\":\"y\",\"type\":\"scatter\"},{\"hovertemplate\":\"team=%{text}<br>xg_per_game=%{x}<br>goal_per_game=%{marker.size}<extra></extra>\",\"legendgroup\":\"Germany\",\"marker\":{\"color\":\"#00cc96\",\"size\":[2.0],\"sizemode\":\"area\",\"sizeref\":0.006500000000000001,\"symbol\":\"circle\"},\"mode\":\"markers+text\",\"name\":\"Germany\",\"orientation\":\"v\",\"showlegend\":true,\"text\":[\"Germany\"],\"x\":[3.3666666666666667],\"xaxis\":\"x\",\"y\":[2.0],\"yaxis\":\"y\",\"type\":\"scatter\"},{\"hovertemplate\":\"team=%{text}<br>xg_per_game=%{x}<br>goal_per_game=%{marker.size}<extra></extra>\",\"legendgroup\":\"Ghana\",\"marker\":{\"color\":\"#ab63fa\",\"size\":[1.6666666666666667],\"sizemode\":\"area\",\"sizeref\":0.006500000000000001,\"symbol\":\"circle\"},\"mode\":\"markers+text\",\"name\":\"Ghana\",\"orientation\":\"v\",\"showlegend\":true,\"text\":[\"Ghana\"],\"x\":[1.3666666666666665],\"xaxis\":\"x\",\"y\":[1.6666666666666667],\"yaxis\":\"y\",\"type\":\"scatter\"},{\"hovertemplate\":\"team=%{text}<br>xg_per_game=%{x}<br>goal_per_game=%{marker.size}<extra></extra>\",\"legendgroup\":\"Iran\",\"marker\":{\"color\":\"#FFA15A\",\"size\":[1.3333333333333333],\"sizemode\":\"area\",\"sizeref\":0.006500000000000001,\"symbol\":\"circle\"},\"mode\":\"markers+text\",\"name\":\"Iran\",\"orientation\":\"v\",\"showlegend\":true,\"text\":[\"Iran\"],\"x\":[1.0666666666666667],\"xaxis\":\"x\",\"y\":[1.3333333333333333],\"yaxis\":\"y\",\"type\":\"scatter\"},{\"hovertemplate\":\"team=%{text}<br>xg_per_game=%{x}<br>goal_per_game=%{marker.size}<extra></extra>\",\"legendgroup\":\"Japan\",\"marker\":{\"color\":\"#19d3f3\",\"size\":[1.25],\"sizemode\":\"area\",\"sizeref\":0.006500000000000001,\"symbol\":\"circle\"},\"mode\":\"markers+text\",\"name\":\"Japan\",\"orientation\":\"v\",\"showlegend\":true,\"text\":[\"Japan\"],\"x\":[1.25],\"xaxis\":\"x\",\"y\":[1.25],\"yaxis\":\"y\",\"type\":\"scatter\"},{\"hovertemplate\":\"team=%{text}<br>xg_per_game=%{x}<br>goal_per_game=%{marker.size}<extra></extra>\",\"legendgroup\":\"Korea Republic\",\"marker\":{\"color\":\"#FF6692\",\"size\":[1.25],\"sizemode\":\"area\",\"sizeref\":0.006500000000000001,\"symbol\":\"circle\"},\"mode\":\"markers+text\",\"name\":\"Korea Republic\",\"orientation\":\"v\",\"showlegend\":true,\"text\":[\"Korea Republic\"],\"x\":[1.15],\"xaxis\":\"x\",\"y\":[1.25],\"yaxis\":\"y\",\"type\":\"scatter\"},{\"hovertemplate\":\"team=%{text}<br>xg_per_game=%{x}<br>goal_per_game=%{marker.size}<extra></extra>\",\"legendgroup\":\"Mexico\",\"marker\":{\"color\":\"#B6E880\",\"size\":[0.6666666666666666],\"sizemode\":\"area\",\"sizeref\":0.006500000000000001,\"symbol\":\"circle\"},\"mode\":\"markers+text\",\"name\":\"Mexico\",\"orientation\":\"v\",\"showlegend\":true,\"text\":[\"Mexico\"],\"x\":[1.0999999999999999],\"xaxis\":\"x\",\"y\":[0.6666666666666666],\"yaxis\":\"y\",\"type\":\"scatter\"},{\"hovertemplate\":\"team=%{text}<br>xg_per_game=%{x}<br>goal_per_game=%{marker.size}<extra></extra>\",\"legendgroup\":\"Morocco\",\"marker\":{\"color\":\"#FF97FF\",\"size\":[0.8571428571428571],\"sizemode\":\"area\",\"sizeref\":0.006500000000000001,\"symbol\":\"circle\"},\"mode\":\"markers+text\",\"name\":\"Morocco\",\"orientation\":\"v\",\"showlegend\":true,\"text\":[\"Morocco\"],\"x\":[0.9428571428571428],\"xaxis\":\"x\",\"y\":[0.8571428571428571],\"yaxis\":\"y\",\"type\":\"scatter\"},{\"hovertemplate\":\"team=%{text}<br>xg_per_game=%{x}<br>goal_per_game=%{marker.size}<extra></extra>\",\"legendgroup\":\"Netherlands\",\"marker\":{\"color\":\"#FECB52\",\"size\":[2.0],\"sizemode\":\"area\",\"sizeref\":0.006500000000000001,\"symbol\":\"circle\"},\"mode\":\"markers+text\",\"name\":\"Netherlands\",\"orientation\":\"v\",\"showlegend\":true,\"text\":[\"Netherlands\"],\"x\":[0.9199999999999999],\"xaxis\":\"x\",\"y\":[2.0],\"yaxis\":\"y\",\"type\":\"scatter\"},{\"hovertemplate\":\"team=%{text}<br>xg_per_game=%{x}<br>goal_per_game=%{marker.size}<extra></extra>\",\"legendgroup\":\"Poland\",\"marker\":{\"color\":\"#636efa\",\"size\":[0.75],\"sizemode\":\"area\",\"sizeref\":0.006500000000000001,\"symbol\":\"circle\"},\"mode\":\"markers+text\",\"name\":\"Poland\",\"orientation\":\"v\",\"showlegend\":true,\"text\":[\"Poland\"],\"x\":[1.125],\"xaxis\":\"x\",\"y\":[0.75],\"yaxis\":\"y\",\"type\":\"scatter\"},{\"hovertemplate\":\"team=%{text}<br>xg_per_game=%{x}<br>goal_per_game=%{marker.size}<extra></extra>\",\"legendgroup\":\"Portugal\",\"marker\":{\"color\":\"#EF553B\",\"size\":[2.4],\"sizemode\":\"area\",\"sizeref\":0.006500000000000001,\"symbol\":\"circle\"},\"mode\":\"markers+text\",\"name\":\"Portugal\",\"orientation\":\"v\",\"showlegend\":true,\"text\":[\"Portugal\"],\"x\":[1.56],\"xaxis\":\"x\",\"y\":[2.4],\"yaxis\":\"y\",\"type\":\"scatter\"},{\"hovertemplate\":\"team=%{text}<br>xg_per_game=%{x}<br>goal_per_game=%{marker.size}<extra></extra>\",\"legendgroup\":\"Qatar\",\"marker\":{\"color\":\"#00cc96\",\"size\":[0.3333333333333333],\"sizemode\":\"area\",\"sizeref\":0.006500000000000001,\"symbol\":\"circle\"},\"mode\":\"markers+text\",\"name\":\"Qatar\",\"orientation\":\"v\",\"showlegend\":true,\"text\":[\"Qatar\"],\"x\":[0.4666666666666666],\"xaxis\":\"x\",\"y\":[0.3333333333333333],\"yaxis\":\"y\",\"type\":\"scatter\"},{\"hovertemplate\":\"team=%{text}<br>xg_per_game=%{x}<br>goal_per_game=%{marker.size}<extra></extra>\",\"legendgroup\":\"Saudi Arabia\",\"marker\":{\"color\":\"#ab63fa\",\"size\":[1.0],\"sizemode\":\"area\",\"sizeref\":0.006500000000000001,\"symbol\":\"circle\"},\"mode\":\"markers+text\",\"name\":\"Saudi Arabia\",\"orientation\":\"v\",\"showlegend\":true,\"text\":[\"Saudi Arabia\"],\"x\":[1.0],\"xaxis\":\"x\",\"y\":[1.0],\"yaxis\":\"y\",\"type\":\"scatter\"},{\"hovertemplate\":\"team=%{text}<br>xg_per_game=%{x}<br>goal_per_game=%{marker.size}<extra></extra>\",\"legendgroup\":\"Senegal\",\"marker\":{\"color\":\"#FFA15A\",\"size\":[1.25],\"sizemode\":\"area\",\"sizeref\":0.006500000000000001,\"symbol\":\"circle\"},\"mode\":\"markers+text\",\"name\":\"Senegal\",\"orientation\":\"v\",\"showlegend\":true,\"text\":[\"Senegal\"],\"x\":[1.15],\"xaxis\":\"x\",\"y\":[1.25],\"yaxis\":\"y\",\"type\":\"scatter\"},{\"hovertemplate\":\"team=%{text}<br>xg_per_game=%{x}<br>goal_per_game=%{marker.size}<extra></extra>\",\"legendgroup\":\"Serbia\",\"marker\":{\"color\":\"#19d3f3\",\"size\":[1.6666666666666667],\"sizemode\":\"area\",\"sizeref\":0.006500000000000001,\"symbol\":\"circle\"},\"mode\":\"markers+text\",\"name\":\"Serbia\",\"orientation\":\"v\",\"showlegend\":true,\"text\":[\"Serbia\"],\"x\":[1.1333333333333333],\"xaxis\":\"x\",\"y\":[1.6666666666666667],\"yaxis\":\"y\",\"type\":\"scatter\"},{\"hovertemplate\":\"team=%{text}<br>xg_per_game=%{x}<br>goal_per_game=%{marker.size}<extra></extra>\",\"legendgroup\":\"Spain\",\"marker\":{\"color\":\"#FF6692\",\"size\":[2.25],\"sizemode\":\"area\",\"sizeref\":0.006500000000000001,\"symbol\":\"circle\"},\"mode\":\"markers+text\",\"name\":\"Spain\",\"orientation\":\"v\",\"showlegend\":true,\"text\":[\"Spain\"],\"x\":[1.55],\"xaxis\":\"x\",\"y\":[2.25],\"yaxis\":\"y\",\"type\":\"scatter\"},{\"hovertemplate\":\"team=%{text}<br>xg_per_game=%{x}<br>goal_per_game=%{marker.size}<extra></extra>\",\"legendgroup\":\"Switzerland\",\"marker\":{\"color\":\"#B6E880\",\"size\":[1.25],\"sizemode\":\"area\",\"sizeref\":0.006500000000000001,\"symbol\":\"circle\"},\"mode\":\"markers+text\",\"name\":\"Switzerland\",\"orientation\":\"v\",\"showlegend\":true,\"text\":[\"Switzerland\"],\"x\":[1.4],\"xaxis\":\"x\",\"y\":[1.25],\"yaxis\":\"y\",\"type\":\"scatter\"},{\"hovertemplate\":\"team=%{text}<br>xg_per_game=%{x}<br>goal_per_game=%{marker.size}<extra></extra>\",\"legendgroup\":\"Tunisia\",\"marker\":{\"color\":\"#FF97FF\",\"size\":[0.3333333333333333],\"sizemode\":\"area\",\"sizeref\":0.006500000000000001,\"symbol\":\"circle\"},\"mode\":\"markers+text\",\"name\":\"Tunisia\",\"orientation\":\"v\",\"showlegend\":true,\"text\":[\"Tunisia\"],\"x\":[0.7666666666666666],\"xaxis\":\"x\",\"y\":[0.3333333333333333],\"yaxis\":\"y\",\"type\":\"scatter\"},{\"hovertemplate\":\"team=%{text}<br>xg_per_game=%{x}<br>goal_per_game=%{marker.size}<extra></extra>\",\"legendgroup\":\"United States\",\"marker\":{\"color\":\"#FECB52\",\"size\":[0.75],\"sizemode\":\"area\",\"sizeref\":0.006500000000000001,\"symbol\":\"circle\"},\"mode\":\"markers+text\",\"name\":\"United States\",\"orientation\":\"v\",\"showlegend\":true,\"text\":[\"United States\"],\"x\":[1.025],\"xaxis\":\"x\",\"y\":[0.75],\"yaxis\":\"y\",\"type\":\"scatter\"},{\"hovertemplate\":\"team=%{text}<br>xg_per_game=%{x}<br>goal_per_game=%{marker.size}<extra></extra>\",\"legendgroup\":\"Uruguay\",\"marker\":{\"color\":\"#636efa\",\"size\":[0.6666666666666666],\"sizemode\":\"area\",\"sizeref\":0.006500000000000001,\"symbol\":\"circle\"},\"mode\":\"markers+text\",\"name\":\"Uruguay\",\"orientation\":\"v\",\"showlegend\":true,\"text\":[\"Uruguay\"],\"x\":[1.2333333333333334],\"xaxis\":\"x\",\"y\":[0.6666666666666666],\"yaxis\":\"y\",\"type\":\"scatter\"},{\"hovertemplate\":\"team=%{text}<br>xg_per_game=%{x}<br>goal_per_game=%{marker.size}<extra></extra>\",\"legendgroup\":\"Wales\",\"marker\":{\"color\":\"#EF553B\",\"size\":[0.3333333333333333],\"sizemode\":\"area\",\"sizeref\":0.006500000000000001,\"symbol\":\"circle\"},\"mode\":\"markers+text\",\"name\":\"Wales\",\"orientation\":\"v\",\"showlegend\":true,\"text\":[\"Wales\"],\"x\":[0.9],\"xaxis\":\"x\",\"y\":[0.3333333333333333],\"yaxis\":\"y\",\"type\":\"scatter\"}],                        {\"template\":{\"data\":{\"barpolar\":[{\"marker\":{\"line\":{\"color\":\"rgb(237,237,237)\",\"width\":0.5},\"pattern\":{\"fillmode\":\"overlay\",\"size\":10,\"solidity\":0.2}},\"type\":\"barpolar\"}],\"bar\":[{\"error_x\":{\"color\":\"rgb(51,51,51)\"},\"error_y\":{\"color\":\"rgb(51,51,51)\"},\"marker\":{\"line\":{\"color\":\"rgb(237,237,237)\",\"width\":0.5},\"pattern\":{\"fillmode\":\"overlay\",\"size\":10,\"solidity\":0.2}},\"type\":\"bar\"}],\"carpet\":[{\"aaxis\":{\"endlinecolor\":\"rgb(51,51,51)\",\"gridcolor\":\"white\",\"linecolor\":\"white\",\"minorgridcolor\":\"white\",\"startlinecolor\":\"rgb(51,51,51)\"},\"baxis\":{\"endlinecolor\":\"rgb(51,51,51)\",\"gridcolor\":\"white\",\"linecolor\":\"white\",\"minorgridcolor\":\"white\",\"startlinecolor\":\"rgb(51,51,51)\"},\"type\":\"carpet\"}],\"choropleth\":[{\"colorbar\":{\"outlinewidth\":0,\"tickcolor\":\"rgb(237,237,237)\",\"ticklen\":6,\"ticks\":\"inside\"},\"type\":\"choropleth\"}],\"contourcarpet\":[{\"colorbar\":{\"outlinewidth\":0,\"tickcolor\":\"rgb(237,237,237)\",\"ticklen\":6,\"ticks\":\"inside\"},\"type\":\"contourcarpet\"}],\"contour\":[{\"colorbar\":{\"outlinewidth\":0,\"tickcolor\":\"rgb(237,237,237)\",\"ticklen\":6,\"ticks\":\"inside\"},\"colorscale\":[[0,\"rgb(20,44,66)\"],[1,\"rgb(90,179,244)\"]],\"type\":\"contour\"}],\"heatmapgl\":[{\"colorbar\":{\"outlinewidth\":0,\"tickcolor\":\"rgb(237,237,237)\",\"ticklen\":6,\"ticks\":\"inside\"},\"colorscale\":[[0,\"rgb(20,44,66)\"],[1,\"rgb(90,179,244)\"]],\"type\":\"heatmapgl\"}],\"heatmap\":[{\"colorbar\":{\"outlinewidth\":0,\"tickcolor\":\"rgb(237,237,237)\",\"ticklen\":6,\"ticks\":\"inside\"},\"colorscale\":[[0,\"rgb(20,44,66)\"],[1,\"rgb(90,179,244)\"]],\"type\":\"heatmap\"}],\"histogram2dcontour\":[{\"colorbar\":{\"outlinewidth\":0,\"tickcolor\":\"rgb(237,237,237)\",\"ticklen\":6,\"ticks\":\"inside\"},\"colorscale\":[[0,\"rgb(20,44,66)\"],[1,\"rgb(90,179,244)\"]],\"type\":\"histogram2dcontour\"}],\"histogram2d\":[{\"colorbar\":{\"outlinewidth\":0,\"tickcolor\":\"rgb(237,237,237)\",\"ticklen\":6,\"ticks\":\"inside\"},\"colorscale\":[[0,\"rgb(20,44,66)\"],[1,\"rgb(90,179,244)\"]],\"type\":\"histogram2d\"}],\"histogram\":[{\"marker\":{\"pattern\":{\"fillmode\":\"overlay\",\"size\":10,\"solidity\":0.2}},\"type\":\"histogram\"}],\"mesh3d\":[{\"colorbar\":{\"outlinewidth\":0,\"tickcolor\":\"rgb(237,237,237)\",\"ticklen\":6,\"ticks\":\"inside\"},\"type\":\"mesh3d\"}],\"parcoords\":[{\"line\":{\"colorbar\":{\"outlinewidth\":0,\"tickcolor\":\"rgb(237,237,237)\",\"ticklen\":6,\"ticks\":\"inside\"}},\"type\":\"parcoords\"}],\"pie\":[{\"automargin\":true,\"type\":\"pie\"}],\"scatter3d\":[{\"line\":{\"colorbar\":{\"outlinewidth\":0,\"tickcolor\":\"rgb(237,237,237)\",\"ticklen\":6,\"ticks\":\"inside\"}},\"marker\":{\"colorbar\":{\"outlinewidth\":0,\"tickcolor\":\"rgb(237,237,237)\",\"ticklen\":6,\"ticks\":\"inside\"}},\"type\":\"scatter3d\"}],\"scattercarpet\":[{\"marker\":{\"colorbar\":{\"outlinewidth\":0,\"tickcolor\":\"rgb(237,237,237)\",\"ticklen\":6,\"ticks\":\"inside\"}},\"type\":\"scattercarpet\"}],\"scattergeo\":[{\"marker\":{\"colorbar\":{\"outlinewidth\":0,\"tickcolor\":\"rgb(237,237,237)\",\"ticklen\":6,\"ticks\":\"inside\"}},\"type\":\"scattergeo\"}],\"scattergl\":[{\"marker\":{\"colorbar\":{\"outlinewidth\":0,\"tickcolor\":\"rgb(237,237,237)\",\"ticklen\":6,\"ticks\":\"inside\"}},\"type\":\"scattergl\"}],\"scattermapbox\":[{\"marker\":{\"colorbar\":{\"outlinewidth\":0,\"tickcolor\":\"rgb(237,237,237)\",\"ticklen\":6,\"ticks\":\"inside\"}},\"type\":\"scattermapbox\"}],\"scatterpolargl\":[{\"marker\":{\"colorbar\":{\"outlinewidth\":0,\"tickcolor\":\"rgb(237,237,237)\",\"ticklen\":6,\"ticks\":\"inside\"}},\"type\":\"scatterpolargl\"}],\"scatterpolar\":[{\"marker\":{\"colorbar\":{\"outlinewidth\":0,\"tickcolor\":\"rgb(237,237,237)\",\"ticklen\":6,\"ticks\":\"inside\"}},\"type\":\"scatterpolar\"}],\"scatter\":[{\"fillpattern\":{\"fillmode\":\"overlay\",\"size\":10,\"solidity\":0.2},\"type\":\"scatter\"}],\"scatterternary\":[{\"marker\":{\"colorbar\":{\"outlinewidth\":0,\"tickcolor\":\"rgb(237,237,237)\",\"ticklen\":6,\"ticks\":\"inside\"}},\"type\":\"scatterternary\"}],\"surface\":[{\"colorbar\":{\"outlinewidth\":0,\"tickcolor\":\"rgb(237,237,237)\",\"ticklen\":6,\"ticks\":\"inside\"},\"colorscale\":[[0,\"rgb(20,44,66)\"],[1,\"rgb(90,179,244)\"]],\"type\":\"surface\"}],\"table\":[{\"cells\":{\"fill\":{\"color\":\"rgb(237,237,237)\"},\"line\":{\"color\":\"white\"}},\"header\":{\"fill\":{\"color\":\"rgb(217,217,217)\"},\"line\":{\"color\":\"white\"}},\"type\":\"table\"}]},\"layout\":{\"annotationdefaults\":{\"arrowhead\":0,\"arrowwidth\":1},\"autotypenumbers\":\"strict\",\"coloraxis\":{\"colorbar\":{\"outlinewidth\":0,\"tickcolor\":\"rgb(237,237,237)\",\"ticklen\":6,\"ticks\":\"inside\"}},\"colorscale\":{\"sequential\":[[0,\"rgb(20,44,66)\"],[1,\"rgb(90,179,244)\"]],\"sequentialminus\":[[0,\"rgb(20,44,66)\"],[1,\"rgb(90,179,244)\"]]},\"colorway\":[\"#F8766D\",\"#A3A500\",\"#00BF7D\",\"#00B0F6\",\"#E76BF3\"],\"font\":{\"color\":\"rgb(51,51,51)\"},\"geo\":{\"bgcolor\":\"white\",\"lakecolor\":\"white\",\"landcolor\":\"rgb(237,237,237)\",\"showlakes\":true,\"showland\":true,\"subunitcolor\":\"white\"},\"hoverlabel\":{\"align\":\"left\"},\"hovermode\":\"closest\",\"paper_bgcolor\":\"white\",\"plot_bgcolor\":\"rgb(237,237,237)\",\"polar\":{\"angularaxis\":{\"gridcolor\":\"white\",\"linecolor\":\"white\",\"showgrid\":true,\"tickcolor\":\"rgb(51,51,51)\",\"ticks\":\"outside\"},\"bgcolor\":\"rgb(237,237,237)\",\"radialaxis\":{\"gridcolor\":\"white\",\"linecolor\":\"white\",\"showgrid\":true,\"tickcolor\":\"rgb(51,51,51)\",\"ticks\":\"outside\"}},\"scene\":{\"xaxis\":{\"backgroundcolor\":\"rgb(237,237,237)\",\"gridcolor\":\"white\",\"gridwidth\":2,\"linecolor\":\"white\",\"showbackground\":true,\"showgrid\":true,\"tickcolor\":\"rgb(51,51,51)\",\"ticks\":\"outside\",\"zerolinecolor\":\"white\"},\"yaxis\":{\"backgroundcolor\":\"rgb(237,237,237)\",\"gridcolor\":\"white\",\"gridwidth\":2,\"linecolor\":\"white\",\"showbackground\":true,\"showgrid\":true,\"tickcolor\":\"rgb(51,51,51)\",\"ticks\":\"outside\",\"zerolinecolor\":\"white\"},\"zaxis\":{\"backgroundcolor\":\"rgb(237,237,237)\",\"gridcolor\":\"white\",\"gridwidth\":2,\"linecolor\":\"white\",\"showbackground\":true,\"showgrid\":true,\"tickcolor\":\"rgb(51,51,51)\",\"ticks\":\"outside\",\"zerolinecolor\":\"white\"}},\"shapedefaults\":{\"fillcolor\":\"black\",\"line\":{\"width\":0},\"opacity\":0.3},\"ternary\":{\"aaxis\":{\"gridcolor\":\"white\",\"linecolor\":\"white\",\"showgrid\":true,\"tickcolor\":\"rgb(51,51,51)\",\"ticks\":\"outside\"},\"baxis\":{\"gridcolor\":\"white\",\"linecolor\":\"white\",\"showgrid\":true,\"tickcolor\":\"rgb(51,51,51)\",\"ticks\":\"outside\"},\"bgcolor\":\"rgb(237,237,237)\",\"caxis\":{\"gridcolor\":\"white\",\"linecolor\":\"white\",\"showgrid\":true,\"tickcolor\":\"rgb(51,51,51)\",\"ticks\":\"outside\"}},\"xaxis\":{\"automargin\":true,\"gridcolor\":\"white\",\"linecolor\":\"white\",\"showgrid\":true,\"tickcolor\":\"rgb(51,51,51)\",\"ticks\":\"outside\",\"title\":{\"standoff\":15},\"zerolinecolor\":\"white\"},\"yaxis\":{\"automargin\":true,\"gridcolor\":\"white\",\"linecolor\":\"white\",\"showgrid\":true,\"tickcolor\":\"rgb(51,51,51)\",\"ticks\":\"outside\",\"title\":{\"standoff\":15},\"zerolinecolor\":\"white\"}}},\"xaxis\":{\"anchor\":\"y\",\"domain\":[0.0,1.0],\"title\":{\"text\":\"xg_per_game\"}},\"yaxis\":{\"anchor\":\"x\",\"domain\":[0.0,1.0],\"title\":{\"text\":\"goal_per_game\"}},\"legend\":{\"title\":{\"text\":\"team\"},\"tracegroupgap\":0,\"itemsizing\":\"constant\"},\"margin\":{\"t\":60},\"height\":500,\"width\":850,\"shapes\":[{\"line\":{\"color\":\"black\",\"dash\":\"dot\",\"width\":0.5},\"opacity\":1,\"type\":\"line\",\"x0\":0,\"x1\":1,\"xref\":\"paper\",\"y0\":0,\"y1\":1,\"yref\":\"paper\"}],\"title\":{\"text\":\"<b> Goals vs xG (expected goals) <b>\",\"font\":{\"size\":24}},\"showlegend\":false},                        {\"responsive\": true}                    ).then(function(){\n",
       "                            \n",
       "var gd = document.getElementById('af4c11ee-e821-491e-9e4f-939ed1ae59f3');\n",
       "var x = new MutationObserver(function (mutations, observer) {{\n",
       "        var display = window.getComputedStyle(gd).display;\n",
       "        if (!display || display === 'none') {{\n",
       "            console.log([gd, 'removed!']);\n",
       "            Plotly.purge(gd);\n",
       "            observer.disconnect();\n",
       "        }}\n",
       "}});\n",
       "\n",
       "// Listen for the removal of the full notebook cells\n",
       "var notebookContainer = gd.closest('#notebook-container');\n",
       "if (notebookContainer) {{\n",
       "    x.observe(notebookContainer, {childList: true});\n",
       "}}\n",
       "\n",
       "// Listen for the clearing of the current output cell\n",
       "var outputEl = gd.closest('.output');\n",
       "if (outputEl) {{\n",
       "    x.observe(outputEl, {childList: true});\n",
       "}}\n",
       "\n",
       "                        })                };                });            </script>        </div>"
      ]
     },
     "metadata": {},
     "output_type": "display_data"
    },
    {
     "data": {
      "text/html": [
       "<div>                            <div id=\"662741e5-a73b-4a94-9c9a-08e8fc1e6cc8\" class=\"plotly-graph-div\" style=\"height:500px; width:850px;\"></div>            <script type=\"text/javascript\">                require([\"plotly\"], function(Plotly) {                    window.PLOTLYENV=window.PLOTLYENV || {};                                    if (document.getElementById(\"662741e5-a73b-4a94-9c9a-08e8fc1e6cc8\")) {                    Plotly.newPlot(                        \"662741e5-a73b-4a94-9c9a-08e8fc1e6cc8\",                        [{\"hovertemplate\":\"team=%{text}<br>npxg_per_game=%{x}<br>goal_per_game=%{marker.size}<extra></extra>\",\"legendgroup\":\"Argentina\",\"marker\":{\"color\":\"#636efa\",\"size\":[2.142857142857143],\"sizemode\":\"area\",\"sizeref\":0.006500000000000001,\"symbol\":\"circle\"},\"mode\":\"markers+text\",\"name\":\"Argentina\",\"orientation\":\"v\",\"showlegend\":true,\"text\":[\"Argentina\"],\"x\":[1.6285714285714286],\"xaxis\":\"x\",\"y\":[2.142857142857143],\"yaxis\":\"y\",\"type\":\"scatter\"},{\"hovertemplate\":\"team=%{text}<br>npxg_per_game=%{x}<br>goal_per_game=%{marker.size}<extra></extra>\",\"legendgroup\":\"Australia\",\"marker\":{\"color\":\"#EF553B\",\"size\":[0.75],\"sizemode\":\"area\",\"sizeref\":0.006500000000000001,\"symbol\":\"circle\"},\"mode\":\"markers+text\",\"name\":\"Australia\",\"orientation\":\"v\",\"showlegend\":true,\"text\":[\"Australia\"],\"x\":[0.575],\"xaxis\":\"x\",\"y\":[0.75],\"yaxis\":\"y\",\"type\":\"scatter\"},{\"hovertemplate\":\"team=%{text}<br>npxg_per_game=%{x}<br>goal_per_game=%{marker.size}<extra></extra>\",\"legendgroup\":\"Belgium\",\"marker\":{\"color\":\"#00cc96\",\"size\":[0.3333333333333333],\"sizemode\":\"area\",\"sizeref\":0.006500000000000001,\"symbol\":\"circle\"},\"mode\":\"markers+text\",\"name\":\"Belgium\",\"orientation\":\"v\",\"showlegend\":true,\"text\":[\"Belgium\"],\"x\":[1.5666666666666667],\"xaxis\":\"x\",\"y\":[0.3333333333333333],\"yaxis\":\"y\",\"type\":\"scatter\"},{\"hovertemplate\":\"team=%{text}<br>npxg_per_game=%{x}<br>goal_per_game=%{marker.size}<extra></extra>\",\"legendgroup\":\"Brazil\",\"marker\":{\"color\":\"#ab63fa\",\"size\":[1.6],\"sizemode\":\"area\",\"sizeref\":0.006500000000000001,\"symbol\":\"circle\"},\"mode\":\"markers+text\",\"name\":\"Brazil\",\"orientation\":\"v\",\"showlegend\":true,\"text\":[\"Brazil\"],\"x\":[2.2399999999999998],\"xaxis\":\"x\",\"y\":[1.6],\"yaxis\":\"y\",\"type\":\"scatter\"},{\"hovertemplate\":\"team=%{text}<br>npxg_per_game=%{x}<br>goal_per_game=%{marker.size}<extra></extra>\",\"legendgroup\":\"Cameroon\",\"marker\":{\"color\":\"#FFA15A\",\"size\":[1.3333333333333333],\"sizemode\":\"area\",\"sizeref\":0.006500000000000001,\"symbol\":\"circle\"},\"mode\":\"markers+text\",\"name\":\"Cameroon\",\"orientation\":\"v\",\"showlegend\":true,\"text\":[\"Cameroon\"],\"x\":[1.1333333333333333],\"xaxis\":\"x\",\"y\":[1.3333333333333333],\"yaxis\":\"y\",\"type\":\"scatter\"},{\"hovertemplate\":\"team=%{text}<br>npxg_per_game=%{x}<br>goal_per_game=%{marker.size}<extra></extra>\",\"legendgroup\":\"Canada\",\"marker\":{\"color\":\"#19d3f3\",\"size\":[0.3333333333333333],\"sizemode\":\"area\",\"sizeref\":0.006500000000000001,\"symbol\":\"circle\"},\"mode\":\"markers+text\",\"name\":\"Canada\",\"orientation\":\"v\",\"showlegend\":true,\"text\":[\"Canada\"],\"x\":[1.2],\"xaxis\":\"x\",\"y\":[0.3333333333333333],\"yaxis\":\"y\",\"type\":\"scatter\"},{\"hovertemplate\":\"team=%{text}<br>npxg_per_game=%{x}<br>goal_per_game=%{marker.size}<extra></extra>\",\"legendgroup\":\"Costa Rica\",\"marker\":{\"color\":\"#FF6692\",\"size\":[1.0],\"sizemode\":\"area\",\"sizeref\":0.006500000000000001,\"symbol\":\"circle\"},\"mode\":\"markers+text\",\"name\":\"Costa Rica\",\"orientation\":\"v\",\"showlegend\":true,\"text\":[\"Costa Rica\"],\"x\":[0.4666666666666666],\"xaxis\":\"x\",\"y\":[1.0],\"yaxis\":\"y\",\"type\":\"scatter\"},{\"hovertemplate\":\"team=%{text}<br>npxg_per_game=%{x}<br>goal_per_game=%{marker.size}<extra></extra>\",\"legendgroup\":\"Croatia\",\"marker\":{\"color\":\"#B6E880\",\"size\":[1.1428571428571428],\"sizemode\":\"area\",\"sizeref\":0.006500000000000001,\"symbol\":\"circle\"},\"mode\":\"markers+text\",\"name\":\"Croatia\",\"orientation\":\"v\",\"showlegend\":true,\"text\":[\"Croatia\"],\"x\":[1.0],\"xaxis\":\"x\",\"y\":[1.1428571428571428],\"yaxis\":\"y\",\"type\":\"scatter\"},{\"hovertemplate\":\"team=%{text}<br>npxg_per_game=%{x}<br>goal_per_game=%{marker.size}<extra></extra>\",\"legendgroup\":\"Denmark\",\"marker\":{\"color\":\"#FF97FF\",\"size\":[0.3333333333333333],\"sizemode\":\"area\",\"sizeref\":0.006500000000000001,\"symbol\":\"circle\"},\"mode\":\"markers+text\",\"name\":\"Denmark\",\"orientation\":\"v\",\"showlegend\":true,\"text\":[\"Denmark\"],\"x\":[0.9],\"xaxis\":\"x\",\"y\":[0.3333333333333333],\"yaxis\":\"y\",\"type\":\"scatter\"},{\"hovertemplate\":\"team=%{text}<br>npxg_per_game=%{x}<br>goal_per_game=%{marker.size}<extra></extra>\",\"legendgroup\":\"Ecuador\",\"marker\":{\"color\":\"#FECB52\",\"size\":[1.3333333333333333],\"sizemode\":\"area\",\"sizeref\":0.006500000000000001,\"symbol\":\"circle\"},\"mode\":\"markers+text\",\"name\":\"Ecuador\",\"orientation\":\"v\",\"showlegend\":true,\"text\":[\"Ecuador\"],\"x\":[0.9666666666666667],\"xaxis\":\"x\",\"y\":[1.3333333333333333],\"yaxis\":\"y\",\"type\":\"scatter\"},{\"hovertemplate\":\"team=%{text}<br>npxg_per_game=%{x}<br>goal_per_game=%{marker.size}<extra></extra>\",\"legendgroup\":\"England\",\"marker\":{\"color\":\"#636efa\",\"size\":[2.6],\"sizemode\":\"area\",\"sizeref\":0.006500000000000001,\"symbol\":\"circle\"},\"mode\":\"markers+text\",\"name\":\"England\",\"orientation\":\"v\",\"showlegend\":true,\"text\":[\"England\"],\"x\":[1.42],\"xaxis\":\"x\",\"y\":[2.6],\"yaxis\":\"y\",\"type\":\"scatter\"},{\"hovertemplate\":\"team=%{text}<br>npxg_per_game=%{x}<br>goal_per_game=%{marker.size}<extra></extra>\",\"legendgroup\":\"France\",\"marker\":{\"color\":\"#EF553B\",\"size\":[2.2857142857142856],\"sizemode\":\"area\",\"sizeref\":0.006500000000000001,\"symbol\":\"circle\"},\"mode\":\"markers+text\",\"name\":\"France\",\"orientation\":\"v\",\"showlegend\":true,\"text\":[\"France\"],\"x\":[1.7428571428571427],\"xaxis\":\"x\",\"y\":[2.2857142857142856],\"yaxis\":\"y\",\"type\":\"scatter\"},{\"hovertemplate\":\"team=%{text}<br>npxg_per_game=%{x}<br>goal_per_game=%{marker.size}<extra></extra>\",\"legendgroup\":\"Germany\",\"marker\":{\"color\":\"#00cc96\",\"size\":[2.0],\"sizemode\":\"area\",\"sizeref\":0.006500000000000001,\"symbol\":\"circle\"},\"mode\":\"markers+text\",\"name\":\"Germany\",\"orientation\":\"v\",\"showlegend\":true,\"text\":[\"Germany\"],\"x\":[3.1],\"xaxis\":\"x\",\"y\":[2.0],\"yaxis\":\"y\",\"type\":\"scatter\"},{\"hovertemplate\":\"team=%{text}<br>npxg_per_game=%{x}<br>goal_per_game=%{marker.size}<extra></extra>\",\"legendgroup\":\"Ghana\",\"marker\":{\"color\":\"#ab63fa\",\"size\":[1.6666666666666667],\"sizemode\":\"area\",\"sizeref\":0.006500000000000001,\"symbol\":\"circle\"},\"mode\":\"markers+text\",\"name\":\"Ghana\",\"orientation\":\"v\",\"showlegend\":true,\"text\":[\"Ghana\"],\"x\":[1.1333333333333333],\"xaxis\":\"x\",\"y\":[1.6666666666666667],\"yaxis\":\"y\",\"type\":\"scatter\"},{\"hovertemplate\":\"team=%{text}<br>npxg_per_game=%{x}<br>goal_per_game=%{marker.size}<extra></extra>\",\"legendgroup\":\"Iran\",\"marker\":{\"color\":\"#FFA15A\",\"size\":[1.3333333333333333],\"sizemode\":\"area\",\"sizeref\":0.006500000000000001,\"symbol\":\"circle\"},\"mode\":\"markers+text\",\"name\":\"Iran\",\"orientation\":\"v\",\"showlegend\":true,\"text\":[\"Iran\"],\"x\":[0.9333333333333332],\"xaxis\":\"x\",\"y\":[1.3333333333333333],\"yaxis\":\"y\",\"type\":\"scatter\"},{\"hovertemplate\":\"team=%{text}<br>npxg_per_game=%{x}<br>goal_per_game=%{marker.size}<extra></extra>\",\"legendgroup\":\"Japan\",\"marker\":{\"color\":\"#19d3f3\",\"size\":[1.25],\"sizemode\":\"area\",\"sizeref\":0.006500000000000001,\"symbol\":\"circle\"},\"mode\":\"markers+text\",\"name\":\"Japan\",\"orientation\":\"v\",\"showlegend\":true,\"text\":[\"Japan\"],\"x\":[1.25],\"xaxis\":\"x\",\"y\":[1.25],\"yaxis\":\"y\",\"type\":\"scatter\"},{\"hovertemplate\":\"team=%{text}<br>npxg_per_game=%{x}<br>goal_per_game=%{marker.size}<extra></extra>\",\"legendgroup\":\"Korea Republic\",\"marker\":{\"color\":\"#FF6692\",\"size\":[1.25],\"sizemode\":\"area\",\"sizeref\":0.006500000000000001,\"symbol\":\"circle\"},\"mode\":\"markers+text\",\"name\":\"Korea Republic\",\"orientation\":\"v\",\"showlegend\":true,\"text\":[\"Korea Republic\"],\"x\":[1.15],\"xaxis\":\"x\",\"y\":[1.25],\"yaxis\":\"y\",\"type\":\"scatter\"},{\"hovertemplate\":\"team=%{text}<br>npxg_per_game=%{x}<br>goal_per_game=%{marker.size}<extra></extra>\",\"legendgroup\":\"Mexico\",\"marker\":{\"color\":\"#B6E880\",\"size\":[0.6666666666666666],\"sizemode\":\"area\",\"sizeref\":0.006500000000000001,\"symbol\":\"circle\"},\"mode\":\"markers+text\",\"name\":\"Mexico\",\"orientation\":\"v\",\"showlegend\":true,\"text\":[\"Mexico\"],\"x\":[1.0999999999999999],\"xaxis\":\"x\",\"y\":[0.6666666666666666],\"yaxis\":\"y\",\"type\":\"scatter\"},{\"hovertemplate\":\"team=%{text}<br>npxg_per_game=%{x}<br>goal_per_game=%{marker.size}<extra></extra>\",\"legendgroup\":\"Morocco\",\"marker\":{\"color\":\"#FF97FF\",\"size\":[0.8571428571428571],\"sizemode\":\"area\",\"sizeref\":0.006500000000000001,\"symbol\":\"circle\"},\"mode\":\"markers+text\",\"name\":\"Morocco\",\"orientation\":\"v\",\"showlegend\":true,\"text\":[\"Morocco\"],\"x\":[0.9428571428571428],\"xaxis\":\"x\",\"y\":[0.8571428571428571],\"yaxis\":\"y\",\"type\":\"scatter\"},{\"hovertemplate\":\"team=%{text}<br>npxg_per_game=%{x}<br>goal_per_game=%{marker.size}<extra></extra>\",\"legendgroup\":\"Netherlands\",\"marker\":{\"color\":\"#FECB52\",\"size\":[2.0],\"sizemode\":\"area\",\"sizeref\":0.006500000000000001,\"symbol\":\"circle\"},\"mode\":\"markers+text\",\"name\":\"Netherlands\",\"orientation\":\"v\",\"showlegend\":true,\"text\":[\"Netherlands\"],\"x\":[0.9199999999999999],\"xaxis\":\"x\",\"y\":[2.0],\"yaxis\":\"y\",\"type\":\"scatter\"},{\"hovertemplate\":\"team=%{text}<br>npxg_per_game=%{x}<br>goal_per_game=%{marker.size}<extra></extra>\",\"legendgroup\":\"Poland\",\"marker\":{\"color\":\"#636efa\",\"size\":[0.75],\"sizemode\":\"area\",\"sizeref\":0.006500000000000001,\"symbol\":\"circle\"},\"mode\":\"markers+text\",\"name\":\"Poland\",\"orientation\":\"v\",\"showlegend\":true,\"text\":[\"Poland\"],\"x\":[0.725],\"xaxis\":\"x\",\"y\":[0.75],\"yaxis\":\"y\",\"type\":\"scatter\"},{\"hovertemplate\":\"team=%{text}<br>npxg_per_game=%{x}<br>goal_per_game=%{marker.size}<extra></extra>\",\"legendgroup\":\"Portugal\",\"marker\":{\"color\":\"#EF553B\",\"size\":[2.4],\"sizemode\":\"area\",\"sizeref\":0.006500000000000001,\"symbol\":\"circle\"},\"mode\":\"markers+text\",\"name\":\"Portugal\",\"orientation\":\"v\",\"showlegend\":true,\"text\":[\"Portugal\"],\"x\":[1.24],\"xaxis\":\"x\",\"y\":[2.4],\"yaxis\":\"y\",\"type\":\"scatter\"},{\"hovertemplate\":\"team=%{text}<br>npxg_per_game=%{x}<br>goal_per_game=%{marker.size}<extra></extra>\",\"legendgroup\":\"Qatar\",\"marker\":{\"color\":\"#00cc96\",\"size\":[0.3333333333333333],\"sizemode\":\"area\",\"sizeref\":0.006500000000000001,\"symbol\":\"circle\"},\"mode\":\"markers+text\",\"name\":\"Qatar\",\"orientation\":\"v\",\"showlegend\":true,\"text\":[\"Qatar\"],\"x\":[0.4666666666666666],\"xaxis\":\"x\",\"y\":[0.3333333333333333],\"yaxis\":\"y\",\"type\":\"scatter\"},{\"hovertemplate\":\"team=%{text}<br>npxg_per_game=%{x}<br>goal_per_game=%{marker.size}<extra></extra>\",\"legendgroup\":\"Saudi Arabia\",\"marker\":{\"color\":\"#ab63fa\",\"size\":[1.0],\"sizemode\":\"area\",\"sizeref\":0.006500000000000001,\"symbol\":\"circle\"},\"mode\":\"markers+text\",\"name\":\"Saudi Arabia\",\"orientation\":\"v\",\"showlegend\":true,\"text\":[\"Saudi Arabia\"],\"x\":[0.7000000000000001],\"xaxis\":\"x\",\"y\":[1.0],\"yaxis\":\"y\",\"type\":\"scatter\"},{\"hovertemplate\":\"team=%{text}<br>npxg_per_game=%{x}<br>goal_per_game=%{marker.size}<extra></extra>\",\"legendgroup\":\"Senegal\",\"marker\":{\"color\":\"#FFA15A\",\"size\":[1.25],\"sizemode\":\"area\",\"sizeref\":0.006500000000000001,\"symbol\":\"circle\"},\"mode\":\"markers+text\",\"name\":\"Senegal\",\"orientation\":\"v\",\"showlegend\":true,\"text\":[\"Senegal\"],\"x\":[0.95],\"xaxis\":\"x\",\"y\":[1.25],\"yaxis\":\"y\",\"type\":\"scatter\"},{\"hovertemplate\":\"team=%{text}<br>npxg_per_game=%{x}<br>goal_per_game=%{marker.size}<extra></extra>\",\"legendgroup\":\"Serbia\",\"marker\":{\"color\":\"#19d3f3\",\"size\":[1.6666666666666667],\"sizemode\":\"area\",\"sizeref\":0.006500000000000001,\"symbol\":\"circle\"},\"mode\":\"markers+text\",\"name\":\"Serbia\",\"orientation\":\"v\",\"showlegend\":true,\"text\":[\"Serbia\"],\"x\":[1.1333333333333333],\"xaxis\":\"x\",\"y\":[1.6666666666666667],\"yaxis\":\"y\",\"type\":\"scatter\"},{\"hovertemplate\":\"team=%{text}<br>npxg_per_game=%{x}<br>goal_per_game=%{marker.size}<extra></extra>\",\"legendgroup\":\"Spain\",\"marker\":{\"color\":\"#FF6692\",\"size\":[2.25],\"sizemode\":\"area\",\"sizeref\":0.006500000000000001,\"symbol\":\"circle\"},\"mode\":\"markers+text\",\"name\":\"Spain\",\"orientation\":\"v\",\"showlegend\":true,\"text\":[\"Spain\"],\"x\":[1.35],\"xaxis\":\"x\",\"y\":[2.25],\"yaxis\":\"y\",\"type\":\"scatter\"},{\"hovertemplate\":\"team=%{text}<br>npxg_per_game=%{x}<br>goal_per_game=%{marker.size}<extra></extra>\",\"legendgroup\":\"Switzerland\",\"marker\":{\"color\":\"#B6E880\",\"size\":[1.25],\"sizemode\":\"area\",\"sizeref\":0.006500000000000001,\"symbol\":\"circle\"},\"mode\":\"markers+text\",\"name\":\"Switzerland\",\"orientation\":\"v\",\"showlegend\":true,\"text\":[\"Switzerland\"],\"x\":[1.4],\"xaxis\":\"x\",\"y\":[1.25],\"yaxis\":\"y\",\"type\":\"scatter\"},{\"hovertemplate\":\"team=%{text}<br>npxg_per_game=%{x}<br>goal_per_game=%{marker.size}<extra></extra>\",\"legendgroup\":\"Tunisia\",\"marker\":{\"color\":\"#FF97FF\",\"size\":[0.3333333333333333],\"sizemode\":\"area\",\"sizeref\":0.006500000000000001,\"symbol\":\"circle\"},\"mode\":\"markers+text\",\"name\":\"Tunisia\",\"orientation\":\"v\",\"showlegend\":true,\"text\":[\"Tunisia\"],\"x\":[0.7666666666666666],\"xaxis\":\"x\",\"y\":[0.3333333333333333],\"yaxis\":\"y\",\"type\":\"scatter\"},{\"hovertemplate\":\"team=%{text}<br>npxg_per_game=%{x}<br>goal_per_game=%{marker.size}<extra></extra>\",\"legendgroup\":\"United States\",\"marker\":{\"color\":\"#FECB52\",\"size\":[0.75],\"sizemode\":\"area\",\"sizeref\":0.006500000000000001,\"symbol\":\"circle\"},\"mode\":\"markers+text\",\"name\":\"United States\",\"orientation\":\"v\",\"showlegend\":true,\"text\":[\"United States\"],\"x\":[1.025],\"xaxis\":\"x\",\"y\":[0.75],\"yaxis\":\"y\",\"type\":\"scatter\"},{\"hovertemplate\":\"team=%{text}<br>npxg_per_game=%{x}<br>goal_per_game=%{marker.size}<extra></extra>\",\"legendgroup\":\"Uruguay\",\"marker\":{\"color\":\"#636efa\",\"size\":[0.6666666666666666],\"sizemode\":\"area\",\"sizeref\":0.006500000000000001,\"symbol\":\"circle\"},\"mode\":\"markers+text\",\"name\":\"Uruguay\",\"orientation\":\"v\",\"showlegend\":true,\"text\":[\"Uruguay\"],\"x\":[1.2333333333333334],\"xaxis\":\"x\",\"y\":[0.6666666666666666],\"yaxis\":\"y\",\"type\":\"scatter\"},{\"hovertemplate\":\"team=%{text}<br>npxg_per_game=%{x}<br>goal_per_game=%{marker.size}<extra></extra>\",\"legendgroup\":\"Wales\",\"marker\":{\"color\":\"#EF553B\",\"size\":[0.3333333333333333],\"sizemode\":\"area\",\"sizeref\":0.006500000000000001,\"symbol\":\"circle\"},\"mode\":\"markers+text\",\"name\":\"Wales\",\"orientation\":\"v\",\"showlegend\":true,\"text\":[\"Wales\"],\"x\":[0.6333333333333333],\"xaxis\":\"x\",\"y\":[0.3333333333333333],\"yaxis\":\"y\",\"type\":\"scatter\"}],                        {\"template\":{\"data\":{\"barpolar\":[{\"marker\":{\"line\":{\"color\":\"rgb(237,237,237)\",\"width\":0.5},\"pattern\":{\"fillmode\":\"overlay\",\"size\":10,\"solidity\":0.2}},\"type\":\"barpolar\"}],\"bar\":[{\"error_x\":{\"color\":\"rgb(51,51,51)\"},\"error_y\":{\"color\":\"rgb(51,51,51)\"},\"marker\":{\"line\":{\"color\":\"rgb(237,237,237)\",\"width\":0.5},\"pattern\":{\"fillmode\":\"overlay\",\"size\":10,\"solidity\":0.2}},\"type\":\"bar\"}],\"carpet\":[{\"aaxis\":{\"endlinecolor\":\"rgb(51,51,51)\",\"gridcolor\":\"white\",\"linecolor\":\"white\",\"minorgridcolor\":\"white\",\"startlinecolor\":\"rgb(51,51,51)\"},\"baxis\":{\"endlinecolor\":\"rgb(51,51,51)\",\"gridcolor\":\"white\",\"linecolor\":\"white\",\"minorgridcolor\":\"white\",\"startlinecolor\":\"rgb(51,51,51)\"},\"type\":\"carpet\"}],\"choropleth\":[{\"colorbar\":{\"outlinewidth\":0,\"tickcolor\":\"rgb(237,237,237)\",\"ticklen\":6,\"ticks\":\"inside\"},\"type\":\"choropleth\"}],\"contourcarpet\":[{\"colorbar\":{\"outlinewidth\":0,\"tickcolor\":\"rgb(237,237,237)\",\"ticklen\":6,\"ticks\":\"inside\"},\"type\":\"contourcarpet\"}],\"contour\":[{\"colorbar\":{\"outlinewidth\":0,\"tickcolor\":\"rgb(237,237,237)\",\"ticklen\":6,\"ticks\":\"inside\"},\"colorscale\":[[0,\"rgb(20,44,66)\"],[1,\"rgb(90,179,244)\"]],\"type\":\"contour\"}],\"heatmapgl\":[{\"colorbar\":{\"outlinewidth\":0,\"tickcolor\":\"rgb(237,237,237)\",\"ticklen\":6,\"ticks\":\"inside\"},\"colorscale\":[[0,\"rgb(20,44,66)\"],[1,\"rgb(90,179,244)\"]],\"type\":\"heatmapgl\"}],\"heatmap\":[{\"colorbar\":{\"outlinewidth\":0,\"tickcolor\":\"rgb(237,237,237)\",\"ticklen\":6,\"ticks\":\"inside\"},\"colorscale\":[[0,\"rgb(20,44,66)\"],[1,\"rgb(90,179,244)\"]],\"type\":\"heatmap\"}],\"histogram2dcontour\":[{\"colorbar\":{\"outlinewidth\":0,\"tickcolor\":\"rgb(237,237,237)\",\"ticklen\":6,\"ticks\":\"inside\"},\"colorscale\":[[0,\"rgb(20,44,66)\"],[1,\"rgb(90,179,244)\"]],\"type\":\"histogram2dcontour\"}],\"histogram2d\":[{\"colorbar\":{\"outlinewidth\":0,\"tickcolor\":\"rgb(237,237,237)\",\"ticklen\":6,\"ticks\":\"inside\"},\"colorscale\":[[0,\"rgb(20,44,66)\"],[1,\"rgb(90,179,244)\"]],\"type\":\"histogram2d\"}],\"histogram\":[{\"marker\":{\"pattern\":{\"fillmode\":\"overlay\",\"size\":10,\"solidity\":0.2}},\"type\":\"histogram\"}],\"mesh3d\":[{\"colorbar\":{\"outlinewidth\":0,\"tickcolor\":\"rgb(237,237,237)\",\"ticklen\":6,\"ticks\":\"inside\"},\"type\":\"mesh3d\"}],\"parcoords\":[{\"line\":{\"colorbar\":{\"outlinewidth\":0,\"tickcolor\":\"rgb(237,237,237)\",\"ticklen\":6,\"ticks\":\"inside\"}},\"type\":\"parcoords\"}],\"pie\":[{\"automargin\":true,\"type\":\"pie\"}],\"scatter3d\":[{\"line\":{\"colorbar\":{\"outlinewidth\":0,\"tickcolor\":\"rgb(237,237,237)\",\"ticklen\":6,\"ticks\":\"inside\"}},\"marker\":{\"colorbar\":{\"outlinewidth\":0,\"tickcolor\":\"rgb(237,237,237)\",\"ticklen\":6,\"ticks\":\"inside\"}},\"type\":\"scatter3d\"}],\"scattercarpet\":[{\"marker\":{\"colorbar\":{\"outlinewidth\":0,\"tickcolor\":\"rgb(237,237,237)\",\"ticklen\":6,\"ticks\":\"inside\"}},\"type\":\"scattercarpet\"}],\"scattergeo\":[{\"marker\":{\"colorbar\":{\"outlinewidth\":0,\"tickcolor\":\"rgb(237,237,237)\",\"ticklen\":6,\"ticks\":\"inside\"}},\"type\":\"scattergeo\"}],\"scattergl\":[{\"marker\":{\"colorbar\":{\"outlinewidth\":0,\"tickcolor\":\"rgb(237,237,237)\",\"ticklen\":6,\"ticks\":\"inside\"}},\"type\":\"scattergl\"}],\"scattermapbox\":[{\"marker\":{\"colorbar\":{\"outlinewidth\":0,\"tickcolor\":\"rgb(237,237,237)\",\"ticklen\":6,\"ticks\":\"inside\"}},\"type\":\"scattermapbox\"}],\"scatterpolargl\":[{\"marker\":{\"colorbar\":{\"outlinewidth\":0,\"tickcolor\":\"rgb(237,237,237)\",\"ticklen\":6,\"ticks\":\"inside\"}},\"type\":\"scatterpolargl\"}],\"scatterpolar\":[{\"marker\":{\"colorbar\":{\"outlinewidth\":0,\"tickcolor\":\"rgb(237,237,237)\",\"ticklen\":6,\"ticks\":\"inside\"}},\"type\":\"scatterpolar\"}],\"scatter\":[{\"fillpattern\":{\"fillmode\":\"overlay\",\"size\":10,\"solidity\":0.2},\"type\":\"scatter\"}],\"scatterternary\":[{\"marker\":{\"colorbar\":{\"outlinewidth\":0,\"tickcolor\":\"rgb(237,237,237)\",\"ticklen\":6,\"ticks\":\"inside\"}},\"type\":\"scatterternary\"}],\"surface\":[{\"colorbar\":{\"outlinewidth\":0,\"tickcolor\":\"rgb(237,237,237)\",\"ticklen\":6,\"ticks\":\"inside\"},\"colorscale\":[[0,\"rgb(20,44,66)\"],[1,\"rgb(90,179,244)\"]],\"type\":\"surface\"}],\"table\":[{\"cells\":{\"fill\":{\"color\":\"rgb(237,237,237)\"},\"line\":{\"color\":\"white\"}},\"header\":{\"fill\":{\"color\":\"rgb(217,217,217)\"},\"line\":{\"color\":\"white\"}},\"type\":\"table\"}]},\"layout\":{\"annotationdefaults\":{\"arrowhead\":0,\"arrowwidth\":1},\"autotypenumbers\":\"strict\",\"coloraxis\":{\"colorbar\":{\"outlinewidth\":0,\"tickcolor\":\"rgb(237,237,237)\",\"ticklen\":6,\"ticks\":\"inside\"}},\"colorscale\":{\"sequential\":[[0,\"rgb(20,44,66)\"],[1,\"rgb(90,179,244)\"]],\"sequentialminus\":[[0,\"rgb(20,44,66)\"],[1,\"rgb(90,179,244)\"]]},\"colorway\":[\"#F8766D\",\"#A3A500\",\"#00BF7D\",\"#00B0F6\",\"#E76BF3\"],\"font\":{\"color\":\"rgb(51,51,51)\"},\"geo\":{\"bgcolor\":\"white\",\"lakecolor\":\"white\",\"landcolor\":\"rgb(237,237,237)\",\"showlakes\":true,\"showland\":true,\"subunitcolor\":\"white\"},\"hoverlabel\":{\"align\":\"left\"},\"hovermode\":\"closest\",\"paper_bgcolor\":\"white\",\"plot_bgcolor\":\"rgb(237,237,237)\",\"polar\":{\"angularaxis\":{\"gridcolor\":\"white\",\"linecolor\":\"white\",\"showgrid\":true,\"tickcolor\":\"rgb(51,51,51)\",\"ticks\":\"outside\"},\"bgcolor\":\"rgb(237,237,237)\",\"radialaxis\":{\"gridcolor\":\"white\",\"linecolor\":\"white\",\"showgrid\":true,\"tickcolor\":\"rgb(51,51,51)\",\"ticks\":\"outside\"}},\"scene\":{\"xaxis\":{\"backgroundcolor\":\"rgb(237,237,237)\",\"gridcolor\":\"white\",\"gridwidth\":2,\"linecolor\":\"white\",\"showbackground\":true,\"showgrid\":true,\"tickcolor\":\"rgb(51,51,51)\",\"ticks\":\"outside\",\"zerolinecolor\":\"white\"},\"yaxis\":{\"backgroundcolor\":\"rgb(237,237,237)\",\"gridcolor\":\"white\",\"gridwidth\":2,\"linecolor\":\"white\",\"showbackground\":true,\"showgrid\":true,\"tickcolor\":\"rgb(51,51,51)\",\"ticks\":\"outside\",\"zerolinecolor\":\"white\"},\"zaxis\":{\"backgroundcolor\":\"rgb(237,237,237)\",\"gridcolor\":\"white\",\"gridwidth\":2,\"linecolor\":\"white\",\"showbackground\":true,\"showgrid\":true,\"tickcolor\":\"rgb(51,51,51)\",\"ticks\":\"outside\",\"zerolinecolor\":\"white\"}},\"shapedefaults\":{\"fillcolor\":\"black\",\"line\":{\"width\":0},\"opacity\":0.3},\"ternary\":{\"aaxis\":{\"gridcolor\":\"white\",\"linecolor\":\"white\",\"showgrid\":true,\"tickcolor\":\"rgb(51,51,51)\",\"ticks\":\"outside\"},\"baxis\":{\"gridcolor\":\"white\",\"linecolor\":\"white\",\"showgrid\":true,\"tickcolor\":\"rgb(51,51,51)\",\"ticks\":\"outside\"},\"bgcolor\":\"rgb(237,237,237)\",\"caxis\":{\"gridcolor\":\"white\",\"linecolor\":\"white\",\"showgrid\":true,\"tickcolor\":\"rgb(51,51,51)\",\"ticks\":\"outside\"}},\"xaxis\":{\"automargin\":true,\"gridcolor\":\"white\",\"linecolor\":\"white\",\"showgrid\":true,\"tickcolor\":\"rgb(51,51,51)\",\"ticks\":\"outside\",\"title\":{\"standoff\":15},\"zerolinecolor\":\"white\"},\"yaxis\":{\"automargin\":true,\"gridcolor\":\"white\",\"linecolor\":\"white\",\"showgrid\":true,\"tickcolor\":\"rgb(51,51,51)\",\"ticks\":\"outside\",\"title\":{\"standoff\":15},\"zerolinecolor\":\"white\"}}},\"xaxis\":{\"anchor\":\"y\",\"domain\":[0.0,1.0],\"title\":{\"text\":\"npxg_per_game\"}},\"yaxis\":{\"anchor\":\"x\",\"domain\":[0.0,1.0],\"title\":{\"text\":\"goal_per_game\"}},\"legend\":{\"title\":{\"text\":\"team\"},\"tracegroupgap\":0,\"itemsizing\":\"constant\"},\"margin\":{\"t\":60},\"height\":500,\"width\":850,\"shapes\":[{\"line\":{\"color\":\"black\",\"dash\":\"dot\",\"width\":0.5},\"opacity\":1,\"type\":\"line\",\"x0\":0,\"x1\":1,\"xref\":\"paper\",\"y0\":0,\"y1\":1,\"yref\":\"paper\"}],\"title\":{\"text\":\"<b> Goals vs npxG (non-penality expected goals) <b>\",\"font\":{\"size\":24}},\"showlegend\":false},                        {\"responsive\": true}                    ).then(function(){\n",
       "                            \n",
       "var gd = document.getElementById('662741e5-a73b-4a94-9c9a-08e8fc1e6cc8');\n",
       "var x = new MutationObserver(function (mutations, observer) {{\n",
       "        var display = window.getComputedStyle(gd).display;\n",
       "        if (!display || display === 'none') {{\n",
       "            console.log([gd, 'removed!']);\n",
       "            Plotly.purge(gd);\n",
       "            observer.disconnect();\n",
       "        }}\n",
       "}});\n",
       "\n",
       "// Listen for the removal of the full notebook cells\n",
       "var notebookContainer = gd.closest('#notebook-container');\n",
       "if (notebookContainer) {{\n",
       "    x.observe(notebookContainer, {childList: true});\n",
       "}}\n",
       "\n",
       "// Listen for the clearing of the current output cell\n",
       "var outputEl = gd.closest('.output');\n",
       "if (outputEl) {{\n",
       "    x.observe(outputEl, {childList: true});\n",
       "}}\n",
       "\n",
       "                        })                };                });            </script>        </div>"
      ]
     },
     "metadata": {},
     "output_type": "display_data"
    }
   ],
   "source": [
    "team_data['goal_per_game'] = team_data['goals']/team_data['games']\n",
    "team_data['xg_per_game'] = team_data['xg']/team_data['games']\n",
    "team_data['npxg_per_game'] = team_data['npxg']/team_data['games']\n",
    "\n",
    "\n",
    "fig = px.scatter(team_data,\n",
    "                 y='goal_per_game',\n",
    "                 x='xg_per_game',\n",
    "                 color='team',\n",
    "                 size='goal_per_game',\n",
    "                 width=850,\n",
    "                 height=500,\n",
    "                 text=team_data['team'],)\n",
    "\n",
    "fig.add_shape( \n",
    "    type=\"line\", line_color=\"black\", line_width=0.5, opacity=1, line_dash=\"dot\",\n",
    "    y0=0, y1=1, yref=\"paper\", x0=0, x1=1, xref=\"paper\", \n",
    ")\n",
    "fig.update_layout(showlegend=False, title='<b> Goals vs xG (expected goals) <b>', template='ggplot2',titlefont={'size':24})\n",
    "fig.show()\n",
    "\n",
    "fig = px.scatter(team_data,\n",
    "                 y='goal_per_game',\n",
    "                 x='npxg_per_game',\n",
    "                 color='team',\n",
    "                 size='goal_per_game',\n",
    "                 width=850,\n",
    "                 height=500,\n",
    "                 text=team_data['team'],)\n",
    "\n",
    "fig.add_shape( \n",
    "    type=\"line\", line_color=\"black\", line_width=0.5, opacity=1, line_dash=\"dot\",\n",
    "    y0=0, y1=1, yref=\"paper\", x0=0, x1=1, xref=\"paper\", \n",
    ")\n",
    "fig.update_layout(showlegend=False, title='<b> Goals vs npxG (non-penality expected goals) <b>', template='ggplot2', titlefont={'size':24})\n",
    "fig.show()"
   ]
  },
  {
   "cell_type": "markdown",
   "id": "baf936b4",
   "metadata": {
    "papermill": {
     "duration": 0.011501,
     "end_time": "2023-01-26T09:46:29.350609",
     "exception": false,
     "start_time": "2023-01-26T09:46:29.339108",
     "status": "completed"
    },
    "tags": []
   },
   "source": [
    "### Shots on Target\n",
    "\n",
    "Opta [[3]](https://www.statsperform.com/opta-event-definitions/) defines shots on target as follows:\n",
    "\n",
    "> A shot on target is defined as any goal attempt that:\n",
    "> \n",
    "> - Goes into the net regardless of intent – For Goals only.\n",
    "> - Is a clear attempt to score that would have gone into the net but for being saved by the goalkeeper or is stopped by a player who is the last-man with the goalkeeper having no chance of preventing the goal (last line block).\n",
    "> \n",
    "> Shots directly hitting the frame of the goal are not counted as shots on target, unless the ball goes in and is awarded as a goal.Shots blocked by another player, who is not the last-man, are not counted as shots on target.\n",
    "\n",
    "**Observations**:\n",
    "- The most notable observation is that **Germany** under-performed in this tournament. Although they are leading the pack with total `shots_per_game` and `shot_on_target_per_game`, they are 12th from the **bottom** (~bottom third) in goal conversion rate.\n",
    "- The Netherlands had the highest goal per shot_on_target ratio.\n",
    "- And Morocco's ratio is right down the middle of the pack. In fact they are the second (next to France) from the four Semi-Finals teams. Not bad!\n"
   ]
  },
  {
   "cell_type": "code",
   "execution_count": 7,
   "id": "6cb1ca47",
   "metadata": {
    "_kg_hide-input": true,
    "execution": {
     "iopub.execute_input": "2023-01-26T09:46:29.377883Z",
     "iopub.status.busy": "2023-01-26T09:46:29.377479Z",
     "iopub.status.idle": "2023-01-26T09:46:29.681076Z",
     "shell.execute_reply": "2023-01-26T09:46:29.679750Z"
    },
    "papermill": {
     "duration": 0.320232,
     "end_time": "2023-01-26T09:46:29.683865",
     "exception": false,
     "start_time": "2023-01-26T09:46:29.363633",
     "status": "completed"
    },
    "tags": []
   },
   "outputs": [
    {
     "data": {
      "text/html": [
       "<div>                            <div id=\"30a1121c-523e-44da-bb45-a7087ef59575\" class=\"plotly-graph-div\" style=\"height:750px; width:850px;\"></div>            <script type=\"text/javascript\">                require([\"plotly\"], function(Plotly) {                    window.PLOTLYENV=window.PLOTLYENV || {};                                    if (document.getElementById(\"30a1121c-523e-44da-bb45-a7087ef59575\")) {                    Plotly.newPlot(                        \"30a1121c-523e-44da-bb45-a7087ef59575\",                        [{\"hovertemplate\":\"team=%{text}<br>shots_per_game=%{x}<br>shots_on_target_per_game=%{y}<br>goal_per_game=%{marker.size}<extra></extra>\",\"legendgroup\":\"Argentina\",\"marker\":{\"color\":\"#636efa\",\"size\":[2.142857142857143],\"sizemode\":\"area\",\"sizeref\":0.006500000000000001,\"symbol\":\"circle\"},\"mode\":\"markers+text\",\"name\":\"Argentina\",\"orientation\":\"v\",\"showlegend\":true,\"text\":[\"Argentina\"],\"x\":[13.571428571428571],\"xaxis\":\"x\",\"y\":[5.857142857142857],\"yaxis\":\"y\",\"type\":\"scatter\"},{\"hovertemplate\":\"team=%{text}<br>shots_per_game=%{x}<br>shots_on_target_per_game=%{y}<br>goal_per_game=%{marker.size}<extra></extra>\",\"legendgroup\":\"Australia\",\"marker\":{\"color\":\"#EF553B\",\"size\":[0.75],\"sizemode\":\"area\",\"sizeref\":0.006500000000000001,\"symbol\":\"circle\"},\"mode\":\"markers+text\",\"name\":\"Australia\",\"orientation\":\"v\",\"showlegend\":true,\"text\":[\"Australia\"],\"x\":[6.5],\"xaxis\":\"x\",\"y\":[2.0],\"yaxis\":\"y\",\"type\":\"scatter\"},{\"hovertemplate\":\"team=%{text}<br>shots_per_game=%{x}<br>shots_on_target_per_game=%{y}<br>goal_per_game=%{marker.size}<extra></extra>\",\"legendgroup\":\"Belgium\",\"marker\":{\"color\":\"#00cc96\",\"size\":[0.3333333333333333],\"sizemode\":\"area\",\"sizeref\":0.006500000000000001,\"symbol\":\"circle\"},\"mode\":\"markers+text\",\"name\":\"Belgium\",\"orientation\":\"v\",\"showlegend\":true,\"text\":[\"Belgium\"],\"x\":[11.666666666666666],\"xaxis\":\"x\",\"y\":[3.0],\"yaxis\":\"y\",\"type\":\"scatter\"},{\"hovertemplate\":\"team=%{text}<br>shots_per_game=%{x}<br>shots_on_target_per_game=%{y}<br>goal_per_game=%{marker.size}<extra></extra>\",\"legendgroup\":\"Brazil\",\"marker\":{\"color\":\"#ab63fa\",\"size\":[1.6],\"sizemode\":\"area\",\"sizeref\":0.006500000000000001,\"symbol\":\"circle\"},\"mode\":\"markers+text\",\"name\":\"Brazil\",\"orientation\":\"v\",\"showlegend\":true,\"text\":[\"Brazil\"],\"x\":[19.0],\"xaxis\":\"x\",\"y\":[8.0],\"yaxis\":\"y\",\"type\":\"scatter\"},{\"hovertemplate\":\"team=%{text}<br>shots_per_game=%{x}<br>shots_on_target_per_game=%{y}<br>goal_per_game=%{marker.size}<extra></extra>\",\"legendgroup\":\"Cameroon\",\"marker\":{\"color\":\"#FFA15A\",\"size\":[1.3333333333333333],\"sizemode\":\"area\",\"sizeref\":0.006500000000000001,\"symbol\":\"circle\"},\"mode\":\"markers+text\",\"name\":\"Cameroon\",\"orientation\":\"v\",\"showlegend\":true,\"text\":[\"Cameroon\"],\"x\":[9.333333333333334],\"xaxis\":\"x\",\"y\":[5.333333333333333],\"yaxis\":\"y\",\"type\":\"scatter\"},{\"hovertemplate\":\"team=%{text}<br>shots_per_game=%{x}<br>shots_on_target_per_game=%{y}<br>goal_per_game=%{marker.size}<extra></extra>\",\"legendgroup\":\"Canada\",\"marker\":{\"color\":\"#19d3f3\",\"size\":[0.3333333333333333],\"sizemode\":\"area\",\"sizeref\":0.006500000000000001,\"symbol\":\"circle\"},\"mode\":\"markers+text\",\"name\":\"Canada\",\"orientation\":\"v\",\"showlegend\":true,\"text\":[\"Canada\"],\"x\":[11.333333333333334],\"xaxis\":\"x\",\"y\":[1.3333333333333333],\"yaxis\":\"y\",\"type\":\"scatter\"},{\"hovertemplate\":\"team=%{text}<br>shots_per_game=%{x}<br>shots_on_target_per_game=%{y}<br>goal_per_game=%{marker.size}<extra></extra>\",\"legendgroup\":\"Costa Rica\",\"marker\":{\"color\":\"#FF6692\",\"size\":[1.0],\"sizemode\":\"area\",\"sizeref\":0.006500000000000001,\"symbol\":\"circle\"},\"mode\":\"markers+text\",\"name\":\"Costa Rica\",\"orientation\":\"v\",\"showlegend\":true,\"text\":[\"Costa Rica\"],\"x\":[4.0],\"xaxis\":\"x\",\"y\":[2.3333333333333335],\"yaxis\":\"y\",\"type\":\"scatter\"},{\"hovertemplate\":\"team=%{text}<br>shots_per_game=%{x}<br>shots_on_target_per_game=%{y}<br>goal_per_game=%{marker.size}<extra></extra>\",\"legendgroup\":\"Croatia\",\"marker\":{\"color\":\"#B6E880\",\"size\":[1.1428571428571428],\"sizemode\":\"area\",\"sizeref\":0.006500000000000001,\"symbol\":\"circle\"},\"mode\":\"markers+text\",\"name\":\"Croatia\",\"orientation\":\"v\",\"showlegend\":true,\"text\":[\"Croatia\"],\"x\":[11.285714285714286],\"xaxis\":\"x\",\"y\":[3.7142857142857144],\"yaxis\":\"y\",\"type\":\"scatter\"},{\"hovertemplate\":\"team=%{text}<br>shots_per_game=%{x}<br>shots_on_target_per_game=%{y}<br>goal_per_game=%{marker.size}<extra></extra>\",\"legendgroup\":\"Denmark\",\"marker\":{\"color\":\"#FF97FF\",\"size\":[0.3333333333333333],\"sizemode\":\"area\",\"sizeref\":0.006500000000000001,\"symbol\":\"circle\"},\"mode\":\"markers+text\",\"name\":\"Denmark\",\"orientation\":\"v\",\"showlegend\":true,\"text\":[\"Denmark\"],\"x\":[11.333333333333334],\"xaxis\":\"x\",\"y\":[3.3333333333333335],\"yaxis\":\"y\",\"type\":\"scatter\"},{\"hovertemplate\":\"team=%{text}<br>shots_per_game=%{x}<br>shots_on_target_per_game=%{y}<br>goal_per_game=%{marker.size}<extra></extra>\",\"legendgroup\":\"Ecuador\",\"marker\":{\"color\":\"#FECB52\",\"size\":[1.3333333333333333],\"sizemode\":\"area\",\"sizeref\":0.006500000000000001,\"symbol\":\"circle\"},\"mode\":\"markers+text\",\"name\":\"Ecuador\",\"orientation\":\"v\",\"showlegend\":true,\"text\":[\"Ecuador\"],\"x\":[9.666666666666666],\"xaxis\":\"x\",\"y\":[3.3333333333333335],\"yaxis\":\"y\",\"type\":\"scatter\"},{\"hovertemplate\":\"team=%{text}<br>shots_per_game=%{x}<br>shots_on_target_per_game=%{y}<br>goal_per_game=%{marker.size}<extra></extra>\",\"legendgroup\":\"England\",\"marker\":{\"color\":\"#636efa\",\"size\":[2.6],\"sizemode\":\"area\",\"sizeref\":0.006500000000000001,\"symbol\":\"circle\"},\"mode\":\"markers+text\",\"name\":\"England\",\"orientation\":\"v\",\"showlegend\":true,\"text\":[\"England\"],\"x\":[12.2],\"xaxis\":\"x\",\"y\":[5.4],\"yaxis\":\"y\",\"type\":\"scatter\"},{\"hovertemplate\":\"team=%{text}<br>shots_per_game=%{x}<br>shots_on_target_per_game=%{y}<br>goal_per_game=%{marker.size}<extra></extra>\",\"legendgroup\":\"France\",\"marker\":{\"color\":\"#EF553B\",\"size\":[2.2857142857142856],\"sizemode\":\"area\",\"sizeref\":0.006500000000000001,\"symbol\":\"circle\"},\"mode\":\"markers+text\",\"name\":\"France\",\"orientation\":\"v\",\"showlegend\":true,\"text\":[\"France\"],\"x\":[14.285714285714286],\"xaxis\":\"x\",\"y\":[4.714285714285714],\"yaxis\":\"y\",\"type\":\"scatter\"},{\"hovertemplate\":\"team=%{text}<br>shots_per_game=%{x}<br>shots_on_target_per_game=%{y}<br>goal_per_game=%{marker.size}<extra></extra>\",\"legendgroup\":\"Germany\",\"marker\":{\"color\":\"#00cc96\",\"size\":[2.0],\"sizemode\":\"area\",\"sizeref\":0.006500000000000001,\"symbol\":\"circle\"},\"mode\":\"markers+text\",\"name\":\"Germany\",\"orientation\":\"v\",\"showlegend\":true,\"text\":[\"Germany\"],\"x\":[22.666666666666668],\"xaxis\":\"x\",\"y\":[7.666666666666667],\"yaxis\":\"y\",\"type\":\"scatter\"},{\"hovertemplate\":\"team=%{text}<br>shots_per_game=%{x}<br>shots_on_target_per_game=%{y}<br>goal_per_game=%{marker.size}<extra></extra>\",\"legendgroup\":\"Ghana\",\"marker\":{\"color\":\"#ab63fa\",\"size\":[1.6666666666666667],\"sizemode\":\"area\",\"sizeref\":0.006500000000000001,\"symbol\":\"circle\"},\"mode\":\"markers+text\",\"name\":\"Ghana\",\"orientation\":\"v\",\"showlegend\":true,\"text\":[\"Ghana\"],\"x\":[8.333333333333334],\"xaxis\":\"x\",\"y\":[3.0],\"yaxis\":\"y\",\"type\":\"scatter\"},{\"hovertemplate\":\"team=%{text}<br>shots_per_game=%{x}<br>shots_on_target_per_game=%{y}<br>goal_per_game=%{marker.size}<extra></extra>\",\"legendgroup\":\"Iran\",\"marker\":{\"color\":\"#FFA15A\",\"size\":[1.3333333333333333],\"sizemode\":\"area\",\"sizeref\":0.006500000000000001,\"symbol\":\"circle\"},\"mode\":\"markers+text\",\"name\":\"Iran\",\"orientation\":\"v\",\"showlegend\":true,\"text\":[\"Iran\"],\"x\":[10.666666666666666],\"xaxis\":\"x\",\"y\":[2.6666666666666665],\"yaxis\":\"y\",\"type\":\"scatter\"},{\"hovertemplate\":\"team=%{text}<br>shots_per_game=%{x}<br>shots_on_target_per_game=%{y}<br>goal_per_game=%{marker.size}<extra></extra>\",\"legendgroup\":\"Japan\",\"marker\":{\"color\":\"#19d3f3\",\"size\":[1.25],\"sizemode\":\"area\",\"sizeref\":0.006500000000000001,\"symbol\":\"circle\"},\"mode\":\"markers+text\",\"name\":\"Japan\",\"orientation\":\"v\",\"showlegend\":true,\"text\":[\"Japan\"],\"x\":[11.0],\"xaxis\":\"x\",\"y\":[3.5],\"yaxis\":\"y\",\"type\":\"scatter\"},{\"hovertemplate\":\"team=%{text}<br>shots_per_game=%{x}<br>shots_on_target_per_game=%{y}<br>goal_per_game=%{marker.size}<extra></extra>\",\"legendgroup\":\"Korea Republic\",\"marker\":{\"color\":\"#FF6692\",\"size\":[1.25],\"sizemode\":\"area\",\"sizeref\":0.006500000000000001,\"symbol\":\"circle\"},\"mode\":\"markers+text\",\"name\":\"Korea Republic\",\"orientation\":\"v\",\"showlegend\":true,\"text\":[\"Korea Republic\"],\"x\":[12.5],\"xaxis\":\"x\",\"y\":[4.5],\"yaxis\":\"y\",\"type\":\"scatter\"},{\"hovertemplate\":\"team=%{text}<br>shots_per_game=%{x}<br>shots_on_target_per_game=%{y}<br>goal_per_game=%{marker.size}<extra></extra>\",\"legendgroup\":\"Mexico\",\"marker\":{\"color\":\"#B6E880\",\"size\":[0.6666666666666666],\"sizemode\":\"area\",\"sizeref\":0.006500000000000001,\"symbol\":\"circle\"},\"mode\":\"markers+text\",\"name\":\"Mexico\",\"orientation\":\"v\",\"showlegend\":true,\"text\":[\"Mexico\"],\"x\":[13.666666666666666],\"xaxis\":\"x\",\"y\":[5.0],\"yaxis\":\"y\",\"type\":\"scatter\"},{\"hovertemplate\":\"team=%{text}<br>shots_per_game=%{x}<br>shots_on_target_per_game=%{y}<br>goal_per_game=%{marker.size}<extra></extra>\",\"legendgroup\":\"Morocco\",\"marker\":{\"color\":\"#FF97FF\",\"size\":[0.8571428571428571],\"sizemode\":\"area\",\"sizeref\":0.006500000000000001,\"symbol\":\"circle\"},\"mode\":\"markers+text\",\"name\":\"Morocco\",\"orientation\":\"v\",\"showlegend\":true,\"text\":[\"Morocco\"],\"x\":[8.714285714285714],\"xaxis\":\"x\",\"y\":[2.4285714285714284],\"yaxis\":\"y\",\"type\":\"scatter\"},{\"hovertemplate\":\"team=%{text}<br>shots_per_game=%{x}<br>shots_on_target_per_game=%{y}<br>goal_per_game=%{marker.size}<extra></extra>\",\"legendgroup\":\"Netherlands\",\"marker\":{\"color\":\"#FECB52\",\"size\":[2.0],\"sizemode\":\"area\",\"sizeref\":0.006500000000000001,\"symbol\":\"circle\"},\"mode\":\"markers+text\",\"name\":\"Netherlands\",\"orientation\":\"v\",\"showlegend\":true,\"text\":[\"Netherlands\"],\"x\":[8.4],\"xaxis\":\"x\",\"y\":[3.2],\"yaxis\":\"y\",\"type\":\"scatter\"},{\"hovertemplate\":\"team=%{text}<br>shots_per_game=%{x}<br>shots_on_target_per_game=%{y}<br>goal_per_game=%{marker.size}<extra></extra>\",\"legendgroup\":\"Poland\",\"marker\":{\"color\":\"#636efa\",\"size\":[0.75],\"sizemode\":\"area\",\"sizeref\":0.006500000000000001,\"symbol\":\"circle\"},\"mode\":\"markers+text\",\"name\":\"Poland\",\"orientation\":\"v\",\"showlegend\":true,\"text\":[\"Poland\"],\"x\":[7.25],\"xaxis\":\"x\",\"y\":[1.25],\"yaxis\":\"y\",\"type\":\"scatter\"},{\"hovertemplate\":\"team=%{text}<br>shots_per_game=%{x}<br>shots_on_target_per_game=%{y}<br>goal_per_game=%{marker.size}<extra></extra>\",\"legendgroup\":\"Portugal\",\"marker\":{\"color\":\"#EF553B\",\"size\":[2.4],\"sizemode\":\"area\",\"sizeref\":0.006500000000000001,\"symbol\":\"circle\"},\"mode\":\"markers+text\",\"name\":\"Portugal\",\"orientation\":\"v\",\"showlegend\":true,\"text\":[\"Portugal\"],\"x\":[12.8],\"xaxis\":\"x\",\"y\":[4.8],\"yaxis\":\"y\",\"type\":\"scatter\"},{\"hovertemplate\":\"team=%{text}<br>shots_per_game=%{x}<br>shots_on_target_per_game=%{y}<br>goal_per_game=%{marker.size}<extra></extra>\",\"legendgroup\":\"Qatar\",\"marker\":{\"color\":\"#00cc96\",\"size\":[0.3333333333333333],\"sizemode\":\"area\",\"sizeref\":0.006500000000000001,\"symbol\":\"circle\"},\"mode\":\"markers+text\",\"name\":\"Qatar\",\"orientation\":\"v\",\"showlegend\":true,\"text\":[\"Qatar\"],\"x\":[6.666666666666667],\"xaxis\":\"x\",\"y\":[2.0],\"yaxis\":\"y\",\"type\":\"scatter\"},{\"hovertemplate\":\"team=%{text}<br>shots_per_game=%{x}<br>shots_on_target_per_game=%{y}<br>goal_per_game=%{marker.size}<extra></extra>\",\"legendgroup\":\"Saudi Arabia\",\"marker\":{\"color\":\"#ab63fa\",\"size\":[1.0],\"sizemode\":\"area\",\"sizeref\":0.006500000000000001,\"symbol\":\"circle\"},\"mode\":\"markers+text\",\"name\":\"Saudi Arabia\",\"orientation\":\"v\",\"showlegend\":true,\"text\":[\"Saudi Arabia\"],\"x\":[9.333333333333334],\"xaxis\":\"x\",\"y\":[2.6666666666666665],\"yaxis\":\"y\",\"type\":\"scatter\"},{\"hovertemplate\":\"team=%{text}<br>shots_per_game=%{x}<br>shots_on_target_per_game=%{y}<br>goal_per_game=%{marker.size}<extra></extra>\",\"legendgroup\":\"Senegal\",\"marker\":{\"color\":\"#FFA15A\",\"size\":[1.25],\"sizemode\":\"area\",\"sizeref\":0.006500000000000001,\"symbol\":\"circle\"},\"mode\":\"markers+text\",\"name\":\"Senegal\",\"orientation\":\"v\",\"showlegend\":true,\"text\":[\"Senegal\"],\"x\":[12.75],\"xaxis\":\"x\",\"y\":[3.0],\"yaxis\":\"y\",\"type\":\"scatter\"},{\"hovertemplate\":\"team=%{text}<br>shots_per_game=%{x}<br>shots_on_target_per_game=%{y}<br>goal_per_game=%{marker.size}<extra></extra>\",\"legendgroup\":\"Serbia\",\"marker\":{\"color\":\"#19d3f3\",\"size\":[1.6666666666666667],\"sizemode\":\"area\",\"sizeref\":0.006500000000000001,\"symbol\":\"circle\"},\"mode\":\"markers+text\",\"name\":\"Serbia\",\"orientation\":\"v\",\"showlegend\":true,\"text\":[\"Serbia\"],\"x\":[10.666666666666666],\"xaxis\":\"x\",\"y\":[3.0],\"yaxis\":\"y\",\"type\":\"scatter\"},{\"hovertemplate\":\"team=%{text}<br>shots_per_game=%{x}<br>shots_on_target_per_game=%{y}<br>goal_per_game=%{marker.size}<extra></extra>\",\"legendgroup\":\"Spain\",\"marker\":{\"color\":\"#FF6692\",\"size\":[2.25],\"sizemode\":\"area\",\"sizeref\":0.006500000000000001,\"symbol\":\"circle\"},\"mode\":\"markers+text\",\"name\":\"Spain\",\"orientation\":\"v\",\"showlegend\":true,\"text\":[\"Spain\"],\"x\":[12.0],\"xaxis\":\"x\",\"y\":[4.0],\"yaxis\":\"y\",\"type\":\"scatter\"},{\"hovertemplate\":\"team=%{text}<br>shots_per_game=%{x}<br>shots_on_target_per_game=%{y}<br>goal_per_game=%{marker.size}<extra></extra>\",\"legendgroup\":\"Switzerland\",\"marker\":{\"color\":\"#B6E880\",\"size\":[1.25],\"sizemode\":\"area\",\"sizeref\":0.006500000000000001,\"symbol\":\"circle\"},\"mode\":\"markers+text\",\"name\":\"Switzerland\",\"orientation\":\"v\",\"showlegend\":true,\"text\":[\"Switzerland\"],\"x\":[9.25],\"xaxis\":\"x\",\"y\":[3.0],\"yaxis\":\"y\",\"type\":\"scatter\"},{\"hovertemplate\":\"team=%{text}<br>shots_per_game=%{x}<br>shots_on_target_per_game=%{y}<br>goal_per_game=%{marker.size}<extra></extra>\",\"legendgroup\":\"Tunisia\",\"marker\":{\"color\":\"#FF97FF\",\"size\":[0.3333333333333333],\"sizemode\":\"area\",\"sizeref\":0.006500000000000001,\"symbol\":\"circle\"},\"mode\":\"markers+text\",\"name\":\"Tunisia\",\"orientation\":\"v\",\"showlegend\":true,\"text\":[\"Tunisia\"],\"x\":[10.666666666666666],\"xaxis\":\"x\",\"y\":[2.6666666666666665],\"yaxis\":\"y\",\"type\":\"scatter\"},{\"hovertemplate\":\"team=%{text}<br>shots_per_game=%{x}<br>shots_on_target_per_game=%{y}<br>goal_per_game=%{marker.size}<extra></extra>\",\"legendgroup\":\"United States\",\"marker\":{\"color\":\"#FECB52\",\"size\":[0.75],\"sizemode\":\"area\",\"sizeref\":0.006500000000000001,\"symbol\":\"circle\"},\"mode\":\"markers+text\",\"name\":\"United States\",\"orientation\":\"v\",\"showlegend\":true,\"text\":[\"United States\"],\"x\":[11.25],\"xaxis\":\"x\",\"y\":[3.25],\"yaxis\":\"y\",\"type\":\"scatter\"},{\"hovertemplate\":\"team=%{text}<br>shots_per_game=%{x}<br>shots_on_target_per_game=%{y}<br>goal_per_game=%{marker.size}<extra></extra>\",\"legendgroup\":\"Uruguay\",\"marker\":{\"color\":\"#636efa\",\"size\":[0.6666666666666666],\"sizemode\":\"area\",\"sizeref\":0.006500000000000001,\"symbol\":\"circle\"},\"mode\":\"markers+text\",\"name\":\"Uruguay\",\"orientation\":\"v\",\"showlegend\":true,\"text\":[\"Uruguay\"],\"x\":[11.0],\"xaxis\":\"x\",\"y\":[3.3333333333333335],\"yaxis\":\"y\",\"type\":\"scatter\"},{\"hovertemplate\":\"team=%{text}<br>shots_per_game=%{x}<br>shots_on_target_per_game=%{y}<br>goal_per_game=%{marker.size}<extra></extra>\",\"legendgroup\":\"Wales\",\"marker\":{\"color\":\"#EF553B\",\"size\":[0.3333333333333333],\"sizemode\":\"area\",\"sizeref\":0.006500000000000001,\"symbol\":\"circle\"},\"mode\":\"markers+text\",\"name\":\"Wales\",\"orientation\":\"v\",\"showlegend\":true,\"text\":[\"Wales\"],\"x\":[7.666666666666667],\"xaxis\":\"x\",\"y\":[2.0],\"yaxis\":\"y\",\"type\":\"scatter\"}],                        {\"template\":{\"data\":{\"barpolar\":[{\"marker\":{\"line\":{\"color\":\"rgb(237,237,237)\",\"width\":0.5},\"pattern\":{\"fillmode\":\"overlay\",\"size\":10,\"solidity\":0.2}},\"type\":\"barpolar\"}],\"bar\":[{\"error_x\":{\"color\":\"rgb(51,51,51)\"},\"error_y\":{\"color\":\"rgb(51,51,51)\"},\"marker\":{\"line\":{\"color\":\"rgb(237,237,237)\",\"width\":0.5},\"pattern\":{\"fillmode\":\"overlay\",\"size\":10,\"solidity\":0.2}},\"type\":\"bar\"}],\"carpet\":[{\"aaxis\":{\"endlinecolor\":\"rgb(51,51,51)\",\"gridcolor\":\"white\",\"linecolor\":\"white\",\"minorgridcolor\":\"white\",\"startlinecolor\":\"rgb(51,51,51)\"},\"baxis\":{\"endlinecolor\":\"rgb(51,51,51)\",\"gridcolor\":\"white\",\"linecolor\":\"white\",\"minorgridcolor\":\"white\",\"startlinecolor\":\"rgb(51,51,51)\"},\"type\":\"carpet\"}],\"choropleth\":[{\"colorbar\":{\"outlinewidth\":0,\"tickcolor\":\"rgb(237,237,237)\",\"ticklen\":6,\"ticks\":\"inside\"},\"type\":\"choropleth\"}],\"contourcarpet\":[{\"colorbar\":{\"outlinewidth\":0,\"tickcolor\":\"rgb(237,237,237)\",\"ticklen\":6,\"ticks\":\"inside\"},\"type\":\"contourcarpet\"}],\"contour\":[{\"colorbar\":{\"outlinewidth\":0,\"tickcolor\":\"rgb(237,237,237)\",\"ticklen\":6,\"ticks\":\"inside\"},\"colorscale\":[[0,\"rgb(20,44,66)\"],[1,\"rgb(90,179,244)\"]],\"type\":\"contour\"}],\"heatmapgl\":[{\"colorbar\":{\"outlinewidth\":0,\"tickcolor\":\"rgb(237,237,237)\",\"ticklen\":6,\"ticks\":\"inside\"},\"colorscale\":[[0,\"rgb(20,44,66)\"],[1,\"rgb(90,179,244)\"]],\"type\":\"heatmapgl\"}],\"heatmap\":[{\"colorbar\":{\"outlinewidth\":0,\"tickcolor\":\"rgb(237,237,237)\",\"ticklen\":6,\"ticks\":\"inside\"},\"colorscale\":[[0,\"rgb(20,44,66)\"],[1,\"rgb(90,179,244)\"]],\"type\":\"heatmap\"}],\"histogram2dcontour\":[{\"colorbar\":{\"outlinewidth\":0,\"tickcolor\":\"rgb(237,237,237)\",\"ticklen\":6,\"ticks\":\"inside\"},\"colorscale\":[[0,\"rgb(20,44,66)\"],[1,\"rgb(90,179,244)\"]],\"type\":\"histogram2dcontour\"}],\"histogram2d\":[{\"colorbar\":{\"outlinewidth\":0,\"tickcolor\":\"rgb(237,237,237)\",\"ticklen\":6,\"ticks\":\"inside\"},\"colorscale\":[[0,\"rgb(20,44,66)\"],[1,\"rgb(90,179,244)\"]],\"type\":\"histogram2d\"}],\"histogram\":[{\"marker\":{\"pattern\":{\"fillmode\":\"overlay\",\"size\":10,\"solidity\":0.2}},\"type\":\"histogram\"}],\"mesh3d\":[{\"colorbar\":{\"outlinewidth\":0,\"tickcolor\":\"rgb(237,237,237)\",\"ticklen\":6,\"ticks\":\"inside\"},\"type\":\"mesh3d\"}],\"parcoords\":[{\"line\":{\"colorbar\":{\"outlinewidth\":0,\"tickcolor\":\"rgb(237,237,237)\",\"ticklen\":6,\"ticks\":\"inside\"}},\"type\":\"parcoords\"}],\"pie\":[{\"automargin\":true,\"type\":\"pie\"}],\"scatter3d\":[{\"line\":{\"colorbar\":{\"outlinewidth\":0,\"tickcolor\":\"rgb(237,237,237)\",\"ticklen\":6,\"ticks\":\"inside\"}},\"marker\":{\"colorbar\":{\"outlinewidth\":0,\"tickcolor\":\"rgb(237,237,237)\",\"ticklen\":6,\"ticks\":\"inside\"}},\"type\":\"scatter3d\"}],\"scattercarpet\":[{\"marker\":{\"colorbar\":{\"outlinewidth\":0,\"tickcolor\":\"rgb(237,237,237)\",\"ticklen\":6,\"ticks\":\"inside\"}},\"type\":\"scattercarpet\"}],\"scattergeo\":[{\"marker\":{\"colorbar\":{\"outlinewidth\":0,\"tickcolor\":\"rgb(237,237,237)\",\"ticklen\":6,\"ticks\":\"inside\"}},\"type\":\"scattergeo\"}],\"scattergl\":[{\"marker\":{\"colorbar\":{\"outlinewidth\":0,\"tickcolor\":\"rgb(237,237,237)\",\"ticklen\":6,\"ticks\":\"inside\"}},\"type\":\"scattergl\"}],\"scattermapbox\":[{\"marker\":{\"colorbar\":{\"outlinewidth\":0,\"tickcolor\":\"rgb(237,237,237)\",\"ticklen\":6,\"ticks\":\"inside\"}},\"type\":\"scattermapbox\"}],\"scatterpolargl\":[{\"marker\":{\"colorbar\":{\"outlinewidth\":0,\"tickcolor\":\"rgb(237,237,237)\",\"ticklen\":6,\"ticks\":\"inside\"}},\"type\":\"scatterpolargl\"}],\"scatterpolar\":[{\"marker\":{\"colorbar\":{\"outlinewidth\":0,\"tickcolor\":\"rgb(237,237,237)\",\"ticklen\":6,\"ticks\":\"inside\"}},\"type\":\"scatterpolar\"}],\"scatter\":[{\"fillpattern\":{\"fillmode\":\"overlay\",\"size\":10,\"solidity\":0.2},\"type\":\"scatter\"}],\"scatterternary\":[{\"marker\":{\"colorbar\":{\"outlinewidth\":0,\"tickcolor\":\"rgb(237,237,237)\",\"ticklen\":6,\"ticks\":\"inside\"}},\"type\":\"scatterternary\"}],\"surface\":[{\"colorbar\":{\"outlinewidth\":0,\"tickcolor\":\"rgb(237,237,237)\",\"ticklen\":6,\"ticks\":\"inside\"},\"colorscale\":[[0,\"rgb(20,44,66)\"],[1,\"rgb(90,179,244)\"]],\"type\":\"surface\"}],\"table\":[{\"cells\":{\"fill\":{\"color\":\"rgb(237,237,237)\"},\"line\":{\"color\":\"white\"}},\"header\":{\"fill\":{\"color\":\"rgb(217,217,217)\"},\"line\":{\"color\":\"white\"}},\"type\":\"table\"}]},\"layout\":{\"annotationdefaults\":{\"arrowhead\":0,\"arrowwidth\":1},\"autotypenumbers\":\"strict\",\"coloraxis\":{\"colorbar\":{\"outlinewidth\":0,\"tickcolor\":\"rgb(237,237,237)\",\"ticklen\":6,\"ticks\":\"inside\"}},\"colorscale\":{\"sequential\":[[0,\"rgb(20,44,66)\"],[1,\"rgb(90,179,244)\"]],\"sequentialminus\":[[0,\"rgb(20,44,66)\"],[1,\"rgb(90,179,244)\"]]},\"colorway\":[\"#F8766D\",\"#A3A500\",\"#00BF7D\",\"#00B0F6\",\"#E76BF3\"],\"font\":{\"color\":\"rgb(51,51,51)\"},\"geo\":{\"bgcolor\":\"white\",\"lakecolor\":\"white\",\"landcolor\":\"rgb(237,237,237)\",\"showlakes\":true,\"showland\":true,\"subunitcolor\":\"white\"},\"hoverlabel\":{\"align\":\"left\"},\"hovermode\":\"closest\",\"paper_bgcolor\":\"white\",\"plot_bgcolor\":\"rgb(237,237,237)\",\"polar\":{\"angularaxis\":{\"gridcolor\":\"white\",\"linecolor\":\"white\",\"showgrid\":true,\"tickcolor\":\"rgb(51,51,51)\",\"ticks\":\"outside\"},\"bgcolor\":\"rgb(237,237,237)\",\"radialaxis\":{\"gridcolor\":\"white\",\"linecolor\":\"white\",\"showgrid\":true,\"tickcolor\":\"rgb(51,51,51)\",\"ticks\":\"outside\"}},\"scene\":{\"xaxis\":{\"backgroundcolor\":\"rgb(237,237,237)\",\"gridcolor\":\"white\",\"gridwidth\":2,\"linecolor\":\"white\",\"showbackground\":true,\"showgrid\":true,\"tickcolor\":\"rgb(51,51,51)\",\"ticks\":\"outside\",\"zerolinecolor\":\"white\"},\"yaxis\":{\"backgroundcolor\":\"rgb(237,237,237)\",\"gridcolor\":\"white\",\"gridwidth\":2,\"linecolor\":\"white\",\"showbackground\":true,\"showgrid\":true,\"tickcolor\":\"rgb(51,51,51)\",\"ticks\":\"outside\",\"zerolinecolor\":\"white\"},\"zaxis\":{\"backgroundcolor\":\"rgb(237,237,237)\",\"gridcolor\":\"white\",\"gridwidth\":2,\"linecolor\":\"white\",\"showbackground\":true,\"showgrid\":true,\"tickcolor\":\"rgb(51,51,51)\",\"ticks\":\"outside\",\"zerolinecolor\":\"white\"}},\"shapedefaults\":{\"fillcolor\":\"black\",\"line\":{\"width\":0},\"opacity\":0.3},\"ternary\":{\"aaxis\":{\"gridcolor\":\"white\",\"linecolor\":\"white\",\"showgrid\":true,\"tickcolor\":\"rgb(51,51,51)\",\"ticks\":\"outside\"},\"baxis\":{\"gridcolor\":\"white\",\"linecolor\":\"white\",\"showgrid\":true,\"tickcolor\":\"rgb(51,51,51)\",\"ticks\":\"outside\"},\"bgcolor\":\"rgb(237,237,237)\",\"caxis\":{\"gridcolor\":\"white\",\"linecolor\":\"white\",\"showgrid\":true,\"tickcolor\":\"rgb(51,51,51)\",\"ticks\":\"outside\"}},\"xaxis\":{\"automargin\":true,\"gridcolor\":\"white\",\"linecolor\":\"white\",\"showgrid\":true,\"tickcolor\":\"rgb(51,51,51)\",\"ticks\":\"outside\",\"title\":{\"standoff\":15},\"zerolinecolor\":\"white\"},\"yaxis\":{\"automargin\":true,\"gridcolor\":\"white\",\"linecolor\":\"white\",\"showgrid\":true,\"tickcolor\":\"rgb(51,51,51)\",\"ticks\":\"outside\",\"title\":{\"standoff\":15},\"zerolinecolor\":\"white\"}}},\"xaxis\":{\"anchor\":\"y\",\"domain\":[0.0,1.0],\"title\":{\"text\":\"shots_per_game\"}},\"yaxis\":{\"anchor\":\"x\",\"domain\":[0.0,1.0],\"title\":{\"text\":\"shots_on_target_per_game\"}},\"legend\":{\"title\":{\"text\":\"team\"},\"tracegroupgap\":0,\"itemsizing\":\"constant\"},\"margin\":{\"t\":60},\"height\":750,\"width\":850,\"title\":{\"text\":\"<b> Shots on target <b>\",\"font\":{\"size\":24}},\"showlegend\":false},                        {\"responsive\": true}                    ).then(function(){\n",
       "                            \n",
       "var gd = document.getElementById('30a1121c-523e-44da-bb45-a7087ef59575');\n",
       "var x = new MutationObserver(function (mutations, observer) {{\n",
       "        var display = window.getComputedStyle(gd).display;\n",
       "        if (!display || display === 'none') {{\n",
       "            console.log([gd, 'removed!']);\n",
       "            Plotly.purge(gd);\n",
       "            observer.disconnect();\n",
       "        }}\n",
       "}});\n",
       "\n",
       "// Listen for the removal of the full notebook cells\n",
       "var notebookContainer = gd.closest('#notebook-container');\n",
       "if (notebookContainer) {{\n",
       "    x.observe(notebookContainer, {childList: true});\n",
       "}}\n",
       "\n",
       "// Listen for the clearing of the current output cell\n",
       "var outputEl = gd.closest('.output');\n",
       "if (outputEl) {{\n",
       "    x.observe(outputEl, {childList: true});\n",
       "}}\n",
       "\n",
       "                        })                };                });            </script>        </div>"
      ]
     },
     "metadata": {},
     "output_type": "display_data"
    },
    {
     "data": {
      "text/html": [
       "<div>                            <div id=\"11d96eb1-7b97-4d7c-8b88-fa5d0b1a4f7d\" class=\"plotly-graph-div\" style=\"height:600px; width:750px;\"></div>            <script type=\"text/javascript\">                require([\"plotly\"], function(Plotly) {                    window.PLOTLYENV=window.PLOTLYENV || {};                                    if (document.getElementById(\"11d96eb1-7b97-4d7c-8b88-fa5d0b1a4f7d\")) {                    Plotly.newPlot(                        \"11d96eb1-7b97-4d7c-8b88-fa5d0b1a4f7d\",                        [{\"alignmentgroup\":\"True\",\"hovertemplate\":\"goal_to_shot_ratio=%{x}<br>team=%{y}<extra></extra>\",\"legendgroup\":\"\",\"marker\":{\"color\":[\"lightseagreen\",\"lightseagreen\",\"lightseagreen\",\"lightseagreen\",\"lightseagreen\",\"lightseagreen\",\"lightseagreen\",\"gold\",\"lightseagreen\",\"lightseagreen\",\"lightseagreen\",\"black\",\"lightseagreen\",\"lightseagreen\",\"crimson\",\"lightseagreen\",\"lightseagreen\",\"lightseagreen\",\"lightseagreen\",\"lightseagreen\",\"lightseagreen\",\"lightseagreen\",\"lightseagreen\",\"lightseagreen\",\"lightseagreen\",\"lightseagreen\",\"lightseagreen\",\"lightseagreen\",\"lightseagreen\",\"lightseagreen\",\"lightseagreen\",\"lightseagreen\"],\"pattern\":{\"shape\":\"\"},\"line\":{\"width\":2.5}},\"name\":\"\",\"offsetgroup\":\"\",\"orientation\":\"h\",\"showlegend\":false,\"textposition\":\"auto\",\"x\":[0.09999999999999999,0.1111111111111111,0.125,0.13333333333333333,0.16666666666666666,0.16666666666666666,0.19999999999999998,0.2,0.23076923076923078,0.25,0.25,0.2608695652173913,0.2777777777777778,0.30769230769230765,0.35294117647058826,0.35714285714285715,0.36585365853658536,0.375,0.375,0.39999999999999997,0.4166666666666667,0.4166666666666667,0.42857142857142855,0.48148148148148145,0.4848484848484848,0.5,0.5,0.5555555555555556,0.5555555555555556,0.5625,0.6,0.625],\"xaxis\":\"x\",\"y\":[\"Denmark\",\"Belgium\",\"Tunisia\",\"Mexico\",\"Wales\",\"Qatar\",\"Uruguay\",\"Brazil\",\"United States\",\"Cameroon\",\"Canada\",\"Germany\",\"Korea Republic\",\"Croatia\",\"Morocco\",\"Japan\",\"Argentina\",\"Saudi Arabia\",\"Australia\",\"Ecuador\",\"Senegal\",\"Switzerland\",\"Costa Rica\",\"England\",\"France\",\"Portugal\",\"Iran\",\"Ghana\",\"Serbia\",\"Spain\",\"Poland\",\"Netherlands\"],\"yaxis\":\"y\",\"type\":\"bar\"}],                        {\"template\":{\"data\":{\"barpolar\":[{\"marker\":{\"line\":{\"color\":\"rgb(237,237,237)\",\"width\":0.5},\"pattern\":{\"fillmode\":\"overlay\",\"size\":10,\"solidity\":0.2}},\"type\":\"barpolar\"}],\"bar\":[{\"error_x\":{\"color\":\"rgb(51,51,51)\"},\"error_y\":{\"color\":\"rgb(51,51,51)\"},\"marker\":{\"line\":{\"color\":\"rgb(237,237,237)\",\"width\":0.5},\"pattern\":{\"fillmode\":\"overlay\",\"size\":10,\"solidity\":0.2}},\"type\":\"bar\"}],\"carpet\":[{\"aaxis\":{\"endlinecolor\":\"rgb(51,51,51)\",\"gridcolor\":\"white\",\"linecolor\":\"white\",\"minorgridcolor\":\"white\",\"startlinecolor\":\"rgb(51,51,51)\"},\"baxis\":{\"endlinecolor\":\"rgb(51,51,51)\",\"gridcolor\":\"white\",\"linecolor\":\"white\",\"minorgridcolor\":\"white\",\"startlinecolor\":\"rgb(51,51,51)\"},\"type\":\"carpet\"}],\"choropleth\":[{\"colorbar\":{\"outlinewidth\":0,\"tickcolor\":\"rgb(237,237,237)\",\"ticklen\":6,\"ticks\":\"inside\"},\"type\":\"choropleth\"}],\"contourcarpet\":[{\"colorbar\":{\"outlinewidth\":0,\"tickcolor\":\"rgb(237,237,237)\",\"ticklen\":6,\"ticks\":\"inside\"},\"type\":\"contourcarpet\"}],\"contour\":[{\"colorbar\":{\"outlinewidth\":0,\"tickcolor\":\"rgb(237,237,237)\",\"ticklen\":6,\"ticks\":\"inside\"},\"colorscale\":[[0,\"rgb(20,44,66)\"],[1,\"rgb(90,179,244)\"]],\"type\":\"contour\"}],\"heatmapgl\":[{\"colorbar\":{\"outlinewidth\":0,\"tickcolor\":\"rgb(237,237,237)\",\"ticklen\":6,\"ticks\":\"inside\"},\"colorscale\":[[0,\"rgb(20,44,66)\"],[1,\"rgb(90,179,244)\"]],\"type\":\"heatmapgl\"}],\"heatmap\":[{\"colorbar\":{\"outlinewidth\":0,\"tickcolor\":\"rgb(237,237,237)\",\"ticklen\":6,\"ticks\":\"inside\"},\"colorscale\":[[0,\"rgb(20,44,66)\"],[1,\"rgb(90,179,244)\"]],\"type\":\"heatmap\"}],\"histogram2dcontour\":[{\"colorbar\":{\"outlinewidth\":0,\"tickcolor\":\"rgb(237,237,237)\",\"ticklen\":6,\"ticks\":\"inside\"},\"colorscale\":[[0,\"rgb(20,44,66)\"],[1,\"rgb(90,179,244)\"]],\"type\":\"histogram2dcontour\"}],\"histogram2d\":[{\"colorbar\":{\"outlinewidth\":0,\"tickcolor\":\"rgb(237,237,237)\",\"ticklen\":6,\"ticks\":\"inside\"},\"colorscale\":[[0,\"rgb(20,44,66)\"],[1,\"rgb(90,179,244)\"]],\"type\":\"histogram2d\"}],\"histogram\":[{\"marker\":{\"pattern\":{\"fillmode\":\"overlay\",\"size\":10,\"solidity\":0.2}},\"type\":\"histogram\"}],\"mesh3d\":[{\"colorbar\":{\"outlinewidth\":0,\"tickcolor\":\"rgb(237,237,237)\",\"ticklen\":6,\"ticks\":\"inside\"},\"type\":\"mesh3d\"}],\"parcoords\":[{\"line\":{\"colorbar\":{\"outlinewidth\":0,\"tickcolor\":\"rgb(237,237,237)\",\"ticklen\":6,\"ticks\":\"inside\"}},\"type\":\"parcoords\"}],\"pie\":[{\"automargin\":true,\"type\":\"pie\"}],\"scatter3d\":[{\"line\":{\"colorbar\":{\"outlinewidth\":0,\"tickcolor\":\"rgb(237,237,237)\",\"ticklen\":6,\"ticks\":\"inside\"}},\"marker\":{\"colorbar\":{\"outlinewidth\":0,\"tickcolor\":\"rgb(237,237,237)\",\"ticklen\":6,\"ticks\":\"inside\"}},\"type\":\"scatter3d\"}],\"scattercarpet\":[{\"marker\":{\"colorbar\":{\"outlinewidth\":0,\"tickcolor\":\"rgb(237,237,237)\",\"ticklen\":6,\"ticks\":\"inside\"}},\"type\":\"scattercarpet\"}],\"scattergeo\":[{\"marker\":{\"colorbar\":{\"outlinewidth\":0,\"tickcolor\":\"rgb(237,237,237)\",\"ticklen\":6,\"ticks\":\"inside\"}},\"type\":\"scattergeo\"}],\"scattergl\":[{\"marker\":{\"colorbar\":{\"outlinewidth\":0,\"tickcolor\":\"rgb(237,237,237)\",\"ticklen\":6,\"ticks\":\"inside\"}},\"type\":\"scattergl\"}],\"scattermapbox\":[{\"marker\":{\"colorbar\":{\"outlinewidth\":0,\"tickcolor\":\"rgb(237,237,237)\",\"ticklen\":6,\"ticks\":\"inside\"}},\"type\":\"scattermapbox\"}],\"scatterpolargl\":[{\"marker\":{\"colorbar\":{\"outlinewidth\":0,\"tickcolor\":\"rgb(237,237,237)\",\"ticklen\":6,\"ticks\":\"inside\"}},\"type\":\"scatterpolargl\"}],\"scatterpolar\":[{\"marker\":{\"colorbar\":{\"outlinewidth\":0,\"tickcolor\":\"rgb(237,237,237)\",\"ticklen\":6,\"ticks\":\"inside\"}},\"type\":\"scatterpolar\"}],\"scatter\":[{\"fillpattern\":{\"fillmode\":\"overlay\",\"size\":10,\"solidity\":0.2},\"type\":\"scatter\"}],\"scatterternary\":[{\"marker\":{\"colorbar\":{\"outlinewidth\":0,\"tickcolor\":\"rgb(237,237,237)\",\"ticklen\":6,\"ticks\":\"inside\"}},\"type\":\"scatterternary\"}],\"surface\":[{\"colorbar\":{\"outlinewidth\":0,\"tickcolor\":\"rgb(237,237,237)\",\"ticklen\":6,\"ticks\":\"inside\"},\"colorscale\":[[0,\"rgb(20,44,66)\"],[1,\"rgb(90,179,244)\"]],\"type\":\"surface\"}],\"table\":[{\"cells\":{\"fill\":{\"color\":\"rgb(237,237,237)\"},\"line\":{\"color\":\"white\"}},\"header\":{\"fill\":{\"color\":\"rgb(217,217,217)\"},\"line\":{\"color\":\"white\"}},\"type\":\"table\"}]},\"layout\":{\"annotationdefaults\":{\"arrowhead\":0,\"arrowwidth\":1},\"autotypenumbers\":\"strict\",\"coloraxis\":{\"colorbar\":{\"outlinewidth\":0,\"tickcolor\":\"rgb(237,237,237)\",\"ticklen\":6,\"ticks\":\"inside\"}},\"colorscale\":{\"sequential\":[[0,\"rgb(20,44,66)\"],[1,\"rgb(90,179,244)\"]],\"sequentialminus\":[[0,\"rgb(20,44,66)\"],[1,\"rgb(90,179,244)\"]]},\"colorway\":[\"#F8766D\",\"#A3A500\",\"#00BF7D\",\"#00B0F6\",\"#E76BF3\"],\"font\":{\"color\":\"rgb(51,51,51)\"},\"geo\":{\"bgcolor\":\"white\",\"lakecolor\":\"white\",\"landcolor\":\"rgb(237,237,237)\",\"showlakes\":true,\"showland\":true,\"subunitcolor\":\"white\"},\"hoverlabel\":{\"align\":\"left\"},\"hovermode\":\"closest\",\"paper_bgcolor\":\"white\",\"plot_bgcolor\":\"rgb(237,237,237)\",\"polar\":{\"angularaxis\":{\"gridcolor\":\"white\",\"linecolor\":\"white\",\"showgrid\":true,\"tickcolor\":\"rgb(51,51,51)\",\"ticks\":\"outside\"},\"bgcolor\":\"rgb(237,237,237)\",\"radialaxis\":{\"gridcolor\":\"white\",\"linecolor\":\"white\",\"showgrid\":true,\"tickcolor\":\"rgb(51,51,51)\",\"ticks\":\"outside\"}},\"scene\":{\"xaxis\":{\"backgroundcolor\":\"rgb(237,237,237)\",\"gridcolor\":\"white\",\"gridwidth\":2,\"linecolor\":\"white\",\"showbackground\":true,\"showgrid\":true,\"tickcolor\":\"rgb(51,51,51)\",\"ticks\":\"outside\",\"zerolinecolor\":\"white\"},\"yaxis\":{\"backgroundcolor\":\"rgb(237,237,237)\",\"gridcolor\":\"white\",\"gridwidth\":2,\"linecolor\":\"white\",\"showbackground\":true,\"showgrid\":true,\"tickcolor\":\"rgb(51,51,51)\",\"ticks\":\"outside\",\"zerolinecolor\":\"white\"},\"zaxis\":{\"backgroundcolor\":\"rgb(237,237,237)\",\"gridcolor\":\"white\",\"gridwidth\":2,\"linecolor\":\"white\",\"showbackground\":true,\"showgrid\":true,\"tickcolor\":\"rgb(51,51,51)\",\"ticks\":\"outside\",\"zerolinecolor\":\"white\"}},\"shapedefaults\":{\"fillcolor\":\"black\",\"line\":{\"width\":0},\"opacity\":0.3},\"ternary\":{\"aaxis\":{\"gridcolor\":\"white\",\"linecolor\":\"white\",\"showgrid\":true,\"tickcolor\":\"rgb(51,51,51)\",\"ticks\":\"outside\"},\"baxis\":{\"gridcolor\":\"white\",\"linecolor\":\"white\",\"showgrid\":true,\"tickcolor\":\"rgb(51,51,51)\",\"ticks\":\"outside\"},\"bgcolor\":\"rgb(237,237,237)\",\"caxis\":{\"gridcolor\":\"white\",\"linecolor\":\"white\",\"showgrid\":true,\"tickcolor\":\"rgb(51,51,51)\",\"ticks\":\"outside\"}},\"xaxis\":{\"automargin\":true,\"gridcolor\":\"white\",\"linecolor\":\"white\",\"showgrid\":true,\"tickcolor\":\"rgb(51,51,51)\",\"ticks\":\"outside\",\"title\":{\"standoff\":15},\"zerolinecolor\":\"white\"},\"yaxis\":{\"automargin\":true,\"gridcolor\":\"white\",\"linecolor\":\"white\",\"showgrid\":true,\"tickcolor\":\"rgb(51,51,51)\",\"ticks\":\"outside\",\"title\":{\"standoff\":15},\"zerolinecolor\":\"white\"}}},\"xaxis\":{\"anchor\":\"y\",\"domain\":[0.0,1.0],\"title\":{\"text\":\"goal_to_shot_ratio\"}},\"yaxis\":{\"anchor\":\"x\",\"domain\":[0.0,1.0],\"title\":{\"text\":\"team\"}},\"legend\":{\"tracegroupgap\":0},\"margin\":{\"t\":60},\"barmode\":\"relative\",\"height\":600,\"width\":750,\"title\":{\"text\":\"<b> Goals per shot_on_target ratio  <b>\",\"font\":{\"size\":24}}},                        {\"responsive\": true}                    ).then(function(){\n",
       "                            \n",
       "var gd = document.getElementById('11d96eb1-7b97-4d7c-8b88-fa5d0b1a4f7d');\n",
       "var x = new MutationObserver(function (mutations, observer) {{\n",
       "        var display = window.getComputedStyle(gd).display;\n",
       "        if (!display || display === 'none') {{\n",
       "            console.log([gd, 'removed!']);\n",
       "            Plotly.purge(gd);\n",
       "            observer.disconnect();\n",
       "        }}\n",
       "}});\n",
       "\n",
       "// Listen for the removal of the full notebook cells\n",
       "var notebookContainer = gd.closest('#notebook-container');\n",
       "if (notebookContainer) {{\n",
       "    x.observe(notebookContainer, {childList: true});\n",
       "}}\n",
       "\n",
       "// Listen for the clearing of the current output cell\n",
       "var outputEl = gd.closest('.output');\n",
       "if (outputEl) {{\n",
       "    x.observe(outputEl, {childList: true});\n",
       "}}\n",
       "\n",
       "                        })                };                });            </script>        </div>"
      ]
     },
     "metadata": {},
     "output_type": "display_data"
    }
   ],
   "source": [
    "team_data['shots_per_game'] = team_data['shots']/team_data['games']\n",
    "team_data['shots_on_target_per_game'] = team_data['shots_on_target']/team_data['games']\n",
    "team_data['npxg_per_game'] = team_data['npxg']/team_data['games']\n",
    "\n",
    "fig = px.scatter(team_data,\n",
    "                 x='shots_per_game',\n",
    "                 y='shots_on_target_per_game',\n",
    "                 color='team',\n",
    "                 size='goal_per_game',\n",
    "                 width=850,\n",
    "                 height=750,\n",
    "                 text=team_data['team'],\n",
    "                 )\n",
    "\n",
    "fig.update_layout(showlegend=False, title='<b> Shots on target <b>', template='ggplot2', titlefont={'size':24})\n",
    "fig.show()\n",
    "\n",
    "\n",
    "# goals to shors ratio\n",
    "\n",
    "team_data['goal_to_shot_ratio'] = team_data['goal_per_game']/team_data['shots_on_target_per_game']\n",
    "\n",
    "fig = px.bar(team_data.sort_values('goal_to_shot_ratio', ascending = True), \n",
    "             y=\"team\", x='goal_to_shot_ratio',color=None,\n",
    "             width=750, \n",
    "             height=600,\n",
    "             )\n",
    "fig.update_layout(\n",
    "             template='ggplot2',\n",
    "             title=\"<b> Goals per shot_on_target ratio  <b>\",\n",
    "             titlefont={'size':24},\n",
    ")\n",
    "\n",
    "colors = ['lightseagreen',] * 32 \n",
    "colors[14] = 'crimson'\n",
    "colors[11] = 'black' \n",
    "colors[7] = 'gold'\n",
    "\n",
    "fig.update_traces(marker_color=colors, marker_line_color=None,\n",
    "                  marker_line_width=2.5, opacity=None)\n",
    "fig.show()\n"
   ]
  },
  {
   "cell_type": "markdown",
   "id": "a7ace025",
   "metadata": {
    "papermill": {
     "duration": 0.012015,
     "end_time": "2023-01-26T09:46:29.708949",
     "exception": false,
     "start_time": "2023-01-26T09:46:29.696934",
     "status": "completed"
    },
    "tags": []
   },
   "source": [
    "### Possessions/Passes/Dribbles\n",
    "\n",
    "Let's use Opta's definition of the three terminologies first before we go into the observations:\n",
    "\n",
    "- **Possessions:** One or more sequences in a row belonging to the same team. A possession is ended by the opposition gaining control of the ball.\n",
    "- **Pass:** Any intentionally played ball from one player to another. Passes include open play passes, goal kicks, corners and free kicks played as pass – but exclude crosses, keeper throws and throw-ins.\n",
    "- **Progressive pass:** A forward pass that attempts to advance a team significantly closer to the opponent’s goal [[10](https://dataglossary.wyscout.com/progressive_pass/)].\n",
    "- **Bribbles:** An attempt by a player to beat an opponent when they have possession of the ball. A successful dribble means the player beats the defender while retaining possession, unsuccessful ones are where the dribbler is tackled.\n",
    "\n",
    "**Observations**:\n",
    "\n",
    "For fair comparison we'll consider the per-game stats here.\n",
    "\n",
    "- Spain had by far the most average ball possession (75.8%), a 13 percent more possession than the second placed team England.\n",
    "- Spain is also a pass master. They led by quite a margin having made more than 300 passes more than Germany per game, 2nd on the list.\n",
    "- On progressive passing statistics three teams stand out; Denmark, Germany and Spain. However, having failed to advance to the last-16 stage, Denmark and Germany must be wondering if they could have used their progressive passes a little more effectively. \n",
    "- The progressive to total pass ratio tells an interesting story. Spain's impressive ball possession and passes wasn't that effective going forward and finding key passes to score goals. \n"
   ]
  },
  {
   "cell_type": "code",
   "execution_count": 8,
   "id": "b4e8d4b0",
   "metadata": {
    "_kg_hide-input": true,
    "execution": {
     "iopub.execute_input": "2023-01-26T09:46:29.736009Z",
     "iopub.status.busy": "2023-01-26T09:46:29.735017Z",
     "iopub.status.idle": "2023-01-26T09:46:30.366115Z",
     "shell.execute_reply": "2023-01-26T09:46:30.364976Z"
    },
    "papermill": {
     "duration": 0.647082,
     "end_time": "2023-01-26T09:46:30.368404",
     "exception": false,
     "start_time": "2023-01-26T09:46:29.721322",
     "status": "completed"
    },
    "tags": []
   },
   "outputs": [
    {
     "data": {
      "text/html": [
       "<div>                            <div id=\"1b465af5-313c-46ab-b094-09ad88f52678\" class=\"plotly-graph-div\" style=\"height:750px; width:850px;\"></div>            <script type=\"text/javascript\">                require([\"plotly\"], function(Plotly) {                    window.PLOTLYENV=window.PLOTLYENV || {};                                    if (document.getElementById(\"1b465af5-313c-46ab-b094-09ad88f52678\")) {                    Plotly.newPlot(                        \"1b465af5-313c-46ab-b094-09ad88f52678\",                        [{\"hovertemplate\":\"team=%{text}<br>passes_completed=%{x}<br>progressive_passes=%{y}<br>possession=%{marker.size}<extra></extra>\",\"legendgroup\":\"Argentina\",\"marker\":{\"color\":\"#636efa\",\"size\":[57.4],\"sizemode\":\"area\",\"sizeref\":0.1895,\"symbol\":\"circle\"},\"mode\":\"markers+text\",\"name\":\"Argentina\",\"orientation\":\"v\",\"showlegend\":true,\"text\":[\"Argentina\"],\"x\":[3911],\"xaxis\":\"x\",\"y\":[217],\"yaxis\":\"y\",\"type\":\"scatter\"},{\"hovertemplate\":\"team=%{text}<br>passes_completed=%{x}<br>progressive_passes=%{y}<br>possession=%{marker.size}<extra></extra>\",\"legendgroup\":\"Australia\",\"marker\":{\"color\":\"#EF553B\",\"size\":[37.8],\"sizemode\":\"area\",\"sizeref\":0.1895,\"symbol\":\"circle\"},\"mode\":\"markers+text\",\"name\":\"Australia\",\"orientation\":\"v\",\"showlegend\":true,\"text\":[\"Australia\"],\"x\":[1254],\"xaxis\":\"x\",\"y\":[68],\"yaxis\":\"y\",\"type\":\"scatter\"},{\"hovertemplate\":\"team=%{text}<br>passes_completed=%{x}<br>progressive_passes=%{y}<br>possession=%{marker.size}<extra></extra>\",\"legendgroup\":\"Belgium\",\"marker\":{\"color\":\"#00cc96\",\"size\":[57.0],\"sizemode\":\"area\",\"sizeref\":0.1895,\"symbol\":\"circle\"},\"mode\":\"markers+text\",\"name\":\"Belgium\",\"orientation\":\"v\",\"showlegend\":true,\"text\":[\"Belgium\"],\"x\":[1598],\"xaxis\":\"x\",\"y\":[99],\"yaxis\":\"y\",\"type\":\"scatter\"},{\"hovertemplate\":\"team=%{text}<br>passes_completed=%{x}<br>progressive_passes=%{y}<br>possession=%{marker.size}<extra></extra>\",\"legendgroup\":\"Brazil\",\"marker\":{\"color\":\"#ab63fa\",\"size\":[56.2],\"sizemode\":\"area\",\"sizeref\":0.1895,\"symbol\":\"circle\"},\"mode\":\"markers+text\",\"name\":\"Brazil\",\"orientation\":\"v\",\"showlegend\":true,\"text\":[\"Brazil\"],\"x\":[2750],\"xaxis\":\"x\",\"y\":[190],\"yaxis\":\"y\",\"type\":\"scatter\"},{\"hovertemplate\":\"team=%{text}<br>passes_completed=%{x}<br>progressive_passes=%{y}<br>possession=%{marker.size}<extra></extra>\",\"legendgroup\":\"Cameroon\",\"marker\":{\"color\":\"#FFA15A\",\"size\":[41.7],\"sizemode\":\"area\",\"sizeref\":0.1895,\"symbol\":\"circle\"},\"mode\":\"markers+text\",\"name\":\"Cameroon\",\"orientation\":\"v\",\"showlegend\":true,\"text\":[\"Cameroon\"],\"x\":[960],\"xaxis\":\"x\",\"y\":[62],\"yaxis\":\"y\",\"type\":\"scatter\"},{\"hovertemplate\":\"team=%{text}<br>passes_completed=%{x}<br>progressive_passes=%{y}<br>possession=%{marker.size}<extra></extra>\",\"legendgroup\":\"Canada\",\"marker\":{\"color\":\"#19d3f3\",\"size\":[52.0],\"sizemode\":\"area\",\"sizeref\":0.1895,\"symbol\":\"circle\"},\"mode\":\"markers+text\",\"name\":\"Canada\",\"orientation\":\"v\",\"showlegend\":true,\"text\":[\"Canada\"],\"x\":[1307],\"xaxis\":\"x\",\"y\":[84],\"yaxis\":\"y\",\"type\":\"scatter\"},{\"hovertemplate\":\"team=%{text}<br>passes_completed=%{x}<br>progressive_passes=%{y}<br>possession=%{marker.size}<extra></extra>\",\"legendgroup\":\"Costa Rica\",\"marker\":{\"color\":\"#FF6692\",\"size\":[31.3],\"sizemode\":\"area\",\"sizeref\":0.1895,\"symbol\":\"circle\"},\"mode\":\"markers+text\",\"name\":\"Costa Rica\",\"orientation\":\"v\",\"showlegend\":true,\"text\":[\"Costa Rica\"],\"x\":[823],\"xaxis\":\"x\",\"y\":[38],\"yaxis\":\"y\",\"type\":\"scatter\"},{\"hovertemplate\":\"team=%{text}<br>passes_completed=%{x}<br>progressive_passes=%{y}<br>possession=%{marker.size}<extra></extra>\",\"legendgroup\":\"Croatia\",\"marker\":{\"color\":\"#B6E880\",\"size\":[54.3],\"sizemode\":\"area\",\"sizeref\":0.1895,\"symbol\":\"circle\"},\"mode\":\"markers+text\",\"name\":\"Croatia\",\"orientation\":\"v\",\"showlegend\":true,\"text\":[\"Croatia\"],\"x\":[3766],\"xaxis\":\"x\",\"y\":[236],\"yaxis\":\"y\",\"type\":\"scatter\"},{\"hovertemplate\":\"team=%{text}<br>passes_completed=%{x}<br>progressive_passes=%{y}<br>possession=%{marker.size}<extra></extra>\",\"legendgroup\":\"Denmark\",\"marker\":{\"color\":\"#FF97FF\",\"size\":[60.0],\"sizemode\":\"area\",\"sizeref\":0.1895,\"symbol\":\"circle\"},\"mode\":\"markers+text\",\"name\":\"Denmark\",\"orientation\":\"v\",\"showlegend\":true,\"text\":[\"Denmark\"],\"x\":[1598],\"xaxis\":\"x\",\"y\":[133],\"yaxis\":\"y\",\"type\":\"scatter\"},{\"hovertemplate\":\"team=%{text}<br>passes_completed=%{x}<br>progressive_passes=%{y}<br>possession=%{marker.size}<extra></extra>\",\"legendgroup\":\"Ecuador\",\"marker\":{\"color\":\"#FECB52\",\"size\":[53.3],\"sizemode\":\"area\",\"sizeref\":0.1895,\"symbol\":\"circle\"},\"mode\":\"markers+text\",\"name\":\"Ecuador\",\"orientation\":\"v\",\"showlegend\":true,\"text\":[\"Ecuador\"],\"x\":[1153],\"xaxis\":\"x\",\"y\":[52],\"yaxis\":\"y\",\"type\":\"scatter\"},{\"hovertemplate\":\"team=%{text}<br>passes_completed=%{x}<br>progressive_passes=%{y}<br>possession=%{marker.size}<extra></extra>\",\"legendgroup\":\"England\",\"marker\":{\"color\":\"#636efa\",\"size\":[62.8],\"sizemode\":\"area\",\"sizeref\":0.1895,\"symbol\":\"circle\"},\"mode\":\"markers+text\",\"name\":\"England\",\"orientation\":\"v\",\"showlegend\":true,\"text\":[\"England\"],\"x\":[2775],\"xaxis\":\"x\",\"y\":[186],\"yaxis\":\"y\",\"type\":\"scatter\"},{\"hovertemplate\":\"team=%{text}<br>passes_completed=%{x}<br>progressive_passes=%{y}<br>possession=%{marker.size}<extra></extra>\",\"legendgroup\":\"France\",\"marker\":{\"color\":\"#EF553B\",\"size\":[51.3],\"sizemode\":\"area\",\"sizeref\":0.1895,\"symbol\":\"circle\"},\"mode\":\"markers+text\",\"name\":\"France\",\"orientation\":\"v\",\"showlegend\":true,\"text\":[\"France\"],\"x\":[3279],\"xaxis\":\"x\",\"y\":[186],\"yaxis\":\"y\",\"type\":\"scatter\"},{\"hovertemplate\":\"team=%{text}<br>passes_completed=%{x}<br>progressive_passes=%{y}<br>possession=%{marker.size}<extra></extra>\",\"legendgroup\":\"Germany\",\"marker\":{\"color\":\"#00cc96\",\"size\":[59.3],\"sizemode\":\"area\",\"sizeref\":0.1895,\"symbol\":\"circle\"},\"mode\":\"markers+text\",\"name\":\"Germany\",\"orientation\":\"v\",\"showlegend\":true,\"text\":[\"Germany\"],\"x\":[1686],\"xaxis\":\"x\",\"y\":[132],\"yaxis\":\"y\",\"type\":\"scatter\"},{\"hovertemplate\":\"team=%{text}<br>passes_completed=%{x}<br>progressive_passes=%{y}<br>possession=%{marker.size}<extra></extra>\",\"legendgroup\":\"Ghana\",\"marker\":{\"color\":\"#ab63fa\",\"size\":[42.0],\"sizemode\":\"area\",\"sizeref\":0.1895,\"symbol\":\"circle\"},\"mode\":\"markers+text\",\"name\":\"Ghana\",\"orientation\":\"v\",\"showlegend\":true,\"text\":[\"Ghana\"],\"x\":[972],\"xaxis\":\"x\",\"y\":[62],\"yaxis\":\"y\",\"type\":\"scatter\"},{\"hovertemplate\":\"team=%{text}<br>passes_completed=%{x}<br>progressive_passes=%{y}<br>possession=%{marker.size}<extra></extra>\",\"legendgroup\":\"Iran\",\"marker\":{\"color\":\"#FFA15A\",\"size\":[36.7],\"sizemode\":\"area\",\"sizeref\":0.1895,\"symbol\":\"circle\"},\"mode\":\"markers+text\",\"name\":\"Iran\",\"orientation\":\"v\",\"showlegend\":true,\"text\":[\"Iran\"],\"x\":[769],\"xaxis\":\"x\",\"y\":[56],\"yaxis\":\"y\",\"type\":\"scatter\"},{\"hovertemplate\":\"team=%{text}<br>passes_completed=%{x}<br>progressive_passes=%{y}<br>possession=%{marker.size}<extra></extra>\",\"legendgroup\":\"Japan\",\"marker\":{\"color\":\"#19d3f3\",\"size\":[35.8],\"sizemode\":\"area\",\"sizeref\":0.1895,\"symbol\":\"circle\"},\"mode\":\"markers+text\",\"name\":\"Japan\",\"orientation\":\"v\",\"showlegend\":true,\"text\":[\"Japan\"],\"x\":[1324],\"xaxis\":\"x\",\"y\":[79],\"yaxis\":\"y\",\"type\":\"scatter\"},{\"hovertemplate\":\"team=%{text}<br>passes_completed=%{x}<br>progressive_passes=%{y}<br>possession=%{marker.size}<extra></extra>\",\"legendgroup\":\"Korea Republic\",\"marker\":{\"color\":\"#FF6692\",\"size\":[48.3],\"sizemode\":\"area\",\"sizeref\":0.1895,\"symbol\":\"circle\"},\"mode\":\"markers+text\",\"name\":\"Korea Republic\",\"orientation\":\"v\",\"showlegend\":true,\"text\":[\"Korea Republic\"],\"x\":[1619],\"xaxis\":\"x\",\"y\":[112],\"yaxis\":\"y\",\"type\":\"scatter\"},{\"hovertemplate\":\"team=%{text}<br>passes_completed=%{x}<br>progressive_passes=%{y}<br>possession=%{marker.size}<extra></extra>\",\"legendgroup\":\"Mexico\",\"marker\":{\"color\":\"#B6E880\",\"size\":[54.0],\"sizemode\":\"area\",\"sizeref\":0.1895,\"symbol\":\"circle\"},\"mode\":\"markers+text\",\"name\":\"Mexico\",\"orientation\":\"v\",\"showlegend\":true,\"text\":[\"Mexico\"],\"x\":[1097],\"xaxis\":\"x\",\"y\":[77],\"yaxis\":\"y\",\"type\":\"scatter\"},{\"hovertemplate\":\"team=%{text}<br>passes_completed=%{x}<br>progressive_passes=%{y}<br>possession=%{marker.size}<extra></extra>\",\"legendgroup\":\"Morocco\",\"marker\":{\"color\":\"#FF97FF\",\"size\":[39.0],\"sizemode\":\"area\",\"sizeref\":0.1895,\"symbol\":\"circle\"},\"mode\":\"markers+text\",\"name\":\"Morocco\",\"orientation\":\"v\",\"showlegend\":true,\"text\":[\"Morocco\"],\"x\":[2270],\"xaxis\":\"x\",\"y\":[115],\"yaxis\":\"y\",\"type\":\"scatter\"},{\"hovertemplate\":\"team=%{text}<br>passes_completed=%{x}<br>progressive_passes=%{y}<br>possession=%{marker.size}<extra></extra>\",\"legendgroup\":\"Netherlands\",\"marker\":{\"color\":\"#FECB52\",\"size\":[53.0],\"sizemode\":\"area\",\"sizeref\":0.1895,\"symbol\":\"circle\"},\"mode\":\"markers+text\",\"name\":\"Netherlands\",\"orientation\":\"v\",\"showlegend\":true,\"text\":[\"Netherlands\"],\"x\":[2472],\"xaxis\":\"x\",\"y\":[149],\"yaxis\":\"y\",\"type\":\"scatter\"},{\"hovertemplate\":\"team=%{text}<br>passes_completed=%{x}<br>progressive_passes=%{y}<br>possession=%{marker.size}<extra></extra>\",\"legendgroup\":\"Poland\",\"marker\":{\"color\":\"#636efa\",\"size\":[37.3],\"sizemode\":\"area\",\"sizeref\":0.1895,\"symbol\":\"circle\"},\"mode\":\"markers+text\",\"name\":\"Poland\",\"orientation\":\"v\",\"showlegend\":true,\"text\":[\"Poland\"],\"x\":[1169],\"xaxis\":\"x\",\"y\":[50],\"yaxis\":\"y\",\"type\":\"scatter\"},{\"hovertemplate\":\"team=%{text}<br>passes_completed=%{x}<br>progressive_passes=%{y}<br>possession=%{marker.size}<extra></extra>\",\"legendgroup\":\"Portugal\",\"marker\":{\"color\":\"#EF553B\",\"size\":[60.4],\"sizemode\":\"area\",\"sizeref\":0.1895,\"symbol\":\"circle\"},\"mode\":\"markers+text\",\"name\":\"Portugal\",\"orientation\":\"v\",\"showlegend\":true,\"text\":[\"Portugal\"],\"x\":[2630],\"xaxis\":\"x\",\"y\":[164],\"yaxis\":\"y\",\"type\":\"scatter\"},{\"hovertemplate\":\"team=%{text}<br>passes_completed=%{x}<br>progressive_passes=%{y}<br>possession=%{marker.size}<extra></extra>\",\"legendgroup\":\"Qatar\",\"marker\":{\"color\":\"#00cc96\",\"size\":[43.0],\"sizemode\":\"area\",\"sizeref\":0.1895,\"symbol\":\"circle\"},\"mode\":\"markers+text\",\"name\":\"Qatar\",\"orientation\":\"v\",\"showlegend\":true,\"text\":[\"Qatar\"],\"x\":[1129],\"xaxis\":\"x\",\"y\":[49],\"yaxis\":\"y\",\"type\":\"scatter\"},{\"hovertemplate\":\"team=%{text}<br>passes_completed=%{x}<br>progressive_passes=%{y}<br>possession=%{marker.size}<extra></extra>\",\"legendgroup\":\"Saudi Arabia\",\"marker\":{\"color\":\"#ab63fa\",\"size\":[44.7],\"sizemode\":\"area\",\"sizeref\":0.1895,\"symbol\":\"circle\"},\"mode\":\"markers+text\",\"name\":\"Saudi Arabia\",\"orientation\":\"v\",\"showlegend\":true,\"text\":[\"Saudi Arabia\"],\"x\":[870],\"xaxis\":\"x\",\"y\":[76],\"yaxis\":\"y\",\"type\":\"scatter\"},{\"hovertemplate\":\"team=%{text}<br>passes_completed=%{x}<br>progressive_passes=%{y}<br>possession=%{marker.size}<extra></extra>\",\"legendgroup\":\"Senegal\",\"marker\":{\"color\":\"#FFA15A\",\"size\":[44.8],\"sizemode\":\"area\",\"sizeref\":0.1895,\"symbol\":\"circle\"},\"mode\":\"markers+text\",\"name\":\"Senegal\",\"orientation\":\"v\",\"showlegend\":true,\"text\":[\"Senegal\"],\"x\":[1310],\"xaxis\":\"x\",\"y\":[81],\"yaxis\":\"y\",\"type\":\"scatter\"},{\"hovertemplate\":\"team=%{text}<br>passes_completed=%{x}<br>progressive_passes=%{y}<br>possession=%{marker.size}<extra></extra>\",\"legendgroup\":\"Serbia\",\"marker\":{\"color\":\"#19d3f3\",\"size\":[51.3],\"sizemode\":\"area\",\"sizeref\":0.1895,\"symbol\":\"circle\"},\"mode\":\"markers+text\",\"name\":\"Serbia\",\"orientation\":\"v\",\"showlegend\":true,\"text\":[\"Serbia\"],\"x\":[1181],\"xaxis\":\"x\",\"y\":[73],\"yaxis\":\"y\",\"type\":\"scatter\"},{\"hovertemplate\":\"team=%{text}<br>passes_completed=%{x}<br>progressive_passes=%{y}<br>possession=%{marker.size}<extra></extra>\",\"legendgroup\":\"Spain\",\"marker\":{\"color\":\"#FF6692\",\"size\":[75.8],\"sizemode\":\"area\",\"sizeref\":0.1895,\"symbol\":\"circle\"},\"mode\":\"markers+text\",\"name\":\"Spain\",\"orientation\":\"v\",\"showlegend\":true,\"text\":[\"Spain\"],\"x\":[3542],\"xaxis\":\"x\",\"y\":[175],\"yaxis\":\"y\",\"type\":\"scatter\"},{\"hovertemplate\":\"team=%{text}<br>passes_completed=%{x}<br>progressive_passes=%{y}<br>possession=%{marker.size}<extra></extra>\",\"legendgroup\":\"Switzerland\",\"marker\":{\"color\":\"#B6E880\",\"size\":[49.0],\"sizemode\":\"area\",\"sizeref\":0.1895,\"symbol\":\"circle\"},\"mode\":\"markers+text\",\"name\":\"Switzerland\",\"orientation\":\"v\",\"showlegend\":true,\"text\":[\"Switzerland\"],\"x\":[1663],\"xaxis\":\"x\",\"y\":[116],\"yaxis\":\"y\",\"type\":\"scatter\"},{\"hovertemplate\":\"team=%{text}<br>passes_completed=%{x}<br>progressive_passes=%{y}<br>possession=%{marker.size}<extra></extra>\",\"legendgroup\":\"Tunisia\",\"marker\":{\"color\":\"#FF97FF\",\"size\":[44.3],\"sizemode\":\"area\",\"sizeref\":0.1895,\"symbol\":\"circle\"},\"mode\":\"markers+text\",\"name\":\"Tunisia\",\"orientation\":\"v\",\"showlegend\":true,\"text\":[\"Tunisia\"],\"x\":[998],\"xaxis\":\"x\",\"y\":[88],\"yaxis\":\"y\",\"type\":\"scatter\"},{\"hovertemplate\":\"team=%{text}<br>passes_completed=%{x}<br>progressive_passes=%{y}<br>possession=%{marker.size}<extra></extra>\",\"legendgroup\":\"United States\",\"marker\":{\"color\":\"#FECB52\",\"size\":[53.0],\"sizemode\":\"area\",\"sizeref\":0.1895,\"symbol\":\"circle\"},\"mode\":\"markers+text\",\"name\":\"United States\",\"orientation\":\"v\",\"showlegend\":true,\"text\":[\"United States\"],\"x\":[1816],\"xaxis\":\"x\",\"y\":[120],\"yaxis\":\"y\",\"type\":\"scatter\"},{\"hovertemplate\":\"team=%{text}<br>passes_completed=%{x}<br>progressive_passes=%{y}<br>possession=%{marker.size}<extra></extra>\",\"legendgroup\":\"Uruguay\",\"marker\":{\"color\":\"#636efa\",\"size\":[48.7],\"sizemode\":\"area\",\"sizeref\":0.1895,\"symbol\":\"circle\"},\"mode\":\"markers+text\",\"name\":\"Uruguay\",\"orientation\":\"v\",\"showlegend\":true,\"text\":[\"Uruguay\"],\"x\":[1155],\"xaxis\":\"x\",\"y\":[88],\"yaxis\":\"y\",\"type\":\"scatter\"},{\"hovertemplate\":\"team=%{text}<br>passes_completed=%{x}<br>progressive_passes=%{y}<br>possession=%{marker.size}<extra></extra>\",\"legendgroup\":\"Wales\",\"marker\":{\"color\":\"#EF553B\",\"size\":[46.7],\"sizemode\":\"area\",\"sizeref\":0.1895,\"symbol\":\"circle\"},\"mode\":\"markers+text\",\"name\":\"Wales\",\"orientation\":\"v\",\"showlegend\":true,\"text\":[\"Wales\"],\"x\":[1044],\"xaxis\":\"x\",\"y\":[65],\"yaxis\":\"y\",\"type\":\"scatter\"}],                        {\"template\":{\"data\":{\"barpolar\":[{\"marker\":{\"line\":{\"color\":\"rgb(237,237,237)\",\"width\":0.5},\"pattern\":{\"fillmode\":\"overlay\",\"size\":10,\"solidity\":0.2}},\"type\":\"barpolar\"}],\"bar\":[{\"error_x\":{\"color\":\"rgb(51,51,51)\"},\"error_y\":{\"color\":\"rgb(51,51,51)\"},\"marker\":{\"line\":{\"color\":\"rgb(237,237,237)\",\"width\":0.5},\"pattern\":{\"fillmode\":\"overlay\",\"size\":10,\"solidity\":0.2}},\"type\":\"bar\"}],\"carpet\":[{\"aaxis\":{\"endlinecolor\":\"rgb(51,51,51)\",\"gridcolor\":\"white\",\"linecolor\":\"white\",\"minorgridcolor\":\"white\",\"startlinecolor\":\"rgb(51,51,51)\"},\"baxis\":{\"endlinecolor\":\"rgb(51,51,51)\",\"gridcolor\":\"white\",\"linecolor\":\"white\",\"minorgridcolor\":\"white\",\"startlinecolor\":\"rgb(51,51,51)\"},\"type\":\"carpet\"}],\"choropleth\":[{\"colorbar\":{\"outlinewidth\":0,\"tickcolor\":\"rgb(237,237,237)\",\"ticklen\":6,\"ticks\":\"inside\"},\"type\":\"choropleth\"}],\"contourcarpet\":[{\"colorbar\":{\"outlinewidth\":0,\"tickcolor\":\"rgb(237,237,237)\",\"ticklen\":6,\"ticks\":\"inside\"},\"type\":\"contourcarpet\"}],\"contour\":[{\"colorbar\":{\"outlinewidth\":0,\"tickcolor\":\"rgb(237,237,237)\",\"ticklen\":6,\"ticks\":\"inside\"},\"colorscale\":[[0,\"rgb(20,44,66)\"],[1,\"rgb(90,179,244)\"]],\"type\":\"contour\"}],\"heatmapgl\":[{\"colorbar\":{\"outlinewidth\":0,\"tickcolor\":\"rgb(237,237,237)\",\"ticklen\":6,\"ticks\":\"inside\"},\"colorscale\":[[0,\"rgb(20,44,66)\"],[1,\"rgb(90,179,244)\"]],\"type\":\"heatmapgl\"}],\"heatmap\":[{\"colorbar\":{\"outlinewidth\":0,\"tickcolor\":\"rgb(237,237,237)\",\"ticklen\":6,\"ticks\":\"inside\"},\"colorscale\":[[0,\"rgb(20,44,66)\"],[1,\"rgb(90,179,244)\"]],\"type\":\"heatmap\"}],\"histogram2dcontour\":[{\"colorbar\":{\"outlinewidth\":0,\"tickcolor\":\"rgb(237,237,237)\",\"ticklen\":6,\"ticks\":\"inside\"},\"colorscale\":[[0,\"rgb(20,44,66)\"],[1,\"rgb(90,179,244)\"]],\"type\":\"histogram2dcontour\"}],\"histogram2d\":[{\"colorbar\":{\"outlinewidth\":0,\"tickcolor\":\"rgb(237,237,237)\",\"ticklen\":6,\"ticks\":\"inside\"},\"colorscale\":[[0,\"rgb(20,44,66)\"],[1,\"rgb(90,179,244)\"]],\"type\":\"histogram2d\"}],\"histogram\":[{\"marker\":{\"pattern\":{\"fillmode\":\"overlay\",\"size\":10,\"solidity\":0.2}},\"type\":\"histogram\"}],\"mesh3d\":[{\"colorbar\":{\"outlinewidth\":0,\"tickcolor\":\"rgb(237,237,237)\",\"ticklen\":6,\"ticks\":\"inside\"},\"type\":\"mesh3d\"}],\"parcoords\":[{\"line\":{\"colorbar\":{\"outlinewidth\":0,\"tickcolor\":\"rgb(237,237,237)\",\"ticklen\":6,\"ticks\":\"inside\"}},\"type\":\"parcoords\"}],\"pie\":[{\"automargin\":true,\"type\":\"pie\"}],\"scatter3d\":[{\"line\":{\"colorbar\":{\"outlinewidth\":0,\"tickcolor\":\"rgb(237,237,237)\",\"ticklen\":6,\"ticks\":\"inside\"}},\"marker\":{\"colorbar\":{\"outlinewidth\":0,\"tickcolor\":\"rgb(237,237,237)\",\"ticklen\":6,\"ticks\":\"inside\"}},\"type\":\"scatter3d\"}],\"scattercarpet\":[{\"marker\":{\"colorbar\":{\"outlinewidth\":0,\"tickcolor\":\"rgb(237,237,237)\",\"ticklen\":6,\"ticks\":\"inside\"}},\"type\":\"scattercarpet\"}],\"scattergeo\":[{\"marker\":{\"colorbar\":{\"outlinewidth\":0,\"tickcolor\":\"rgb(237,237,237)\",\"ticklen\":6,\"ticks\":\"inside\"}},\"type\":\"scattergeo\"}],\"scattergl\":[{\"marker\":{\"colorbar\":{\"outlinewidth\":0,\"tickcolor\":\"rgb(237,237,237)\",\"ticklen\":6,\"ticks\":\"inside\"}},\"type\":\"scattergl\"}],\"scattermapbox\":[{\"marker\":{\"colorbar\":{\"outlinewidth\":0,\"tickcolor\":\"rgb(237,237,237)\",\"ticklen\":6,\"ticks\":\"inside\"}},\"type\":\"scattermapbox\"}],\"scatterpolargl\":[{\"marker\":{\"colorbar\":{\"outlinewidth\":0,\"tickcolor\":\"rgb(237,237,237)\",\"ticklen\":6,\"ticks\":\"inside\"}},\"type\":\"scatterpolargl\"}],\"scatterpolar\":[{\"marker\":{\"colorbar\":{\"outlinewidth\":0,\"tickcolor\":\"rgb(237,237,237)\",\"ticklen\":6,\"ticks\":\"inside\"}},\"type\":\"scatterpolar\"}],\"scatter\":[{\"fillpattern\":{\"fillmode\":\"overlay\",\"size\":10,\"solidity\":0.2},\"type\":\"scatter\"}],\"scatterternary\":[{\"marker\":{\"colorbar\":{\"outlinewidth\":0,\"tickcolor\":\"rgb(237,237,237)\",\"ticklen\":6,\"ticks\":\"inside\"}},\"type\":\"scatterternary\"}],\"surface\":[{\"colorbar\":{\"outlinewidth\":0,\"tickcolor\":\"rgb(237,237,237)\",\"ticklen\":6,\"ticks\":\"inside\"},\"colorscale\":[[0,\"rgb(20,44,66)\"],[1,\"rgb(90,179,244)\"]],\"type\":\"surface\"}],\"table\":[{\"cells\":{\"fill\":{\"color\":\"rgb(237,237,237)\"},\"line\":{\"color\":\"white\"}},\"header\":{\"fill\":{\"color\":\"rgb(217,217,217)\"},\"line\":{\"color\":\"white\"}},\"type\":\"table\"}]},\"layout\":{\"annotationdefaults\":{\"arrowhead\":0,\"arrowwidth\":1},\"autotypenumbers\":\"strict\",\"coloraxis\":{\"colorbar\":{\"outlinewidth\":0,\"tickcolor\":\"rgb(237,237,237)\",\"ticklen\":6,\"ticks\":\"inside\"}},\"colorscale\":{\"sequential\":[[0,\"rgb(20,44,66)\"],[1,\"rgb(90,179,244)\"]],\"sequentialminus\":[[0,\"rgb(20,44,66)\"],[1,\"rgb(90,179,244)\"]]},\"colorway\":[\"#F8766D\",\"#A3A500\",\"#00BF7D\",\"#00B0F6\",\"#E76BF3\"],\"font\":{\"color\":\"rgb(51,51,51)\"},\"geo\":{\"bgcolor\":\"white\",\"lakecolor\":\"white\",\"landcolor\":\"rgb(237,237,237)\",\"showlakes\":true,\"showland\":true,\"subunitcolor\":\"white\"},\"hoverlabel\":{\"align\":\"left\"},\"hovermode\":\"closest\",\"paper_bgcolor\":\"white\",\"plot_bgcolor\":\"rgb(237,237,237)\",\"polar\":{\"angularaxis\":{\"gridcolor\":\"white\",\"linecolor\":\"white\",\"showgrid\":true,\"tickcolor\":\"rgb(51,51,51)\",\"ticks\":\"outside\"},\"bgcolor\":\"rgb(237,237,237)\",\"radialaxis\":{\"gridcolor\":\"white\",\"linecolor\":\"white\",\"showgrid\":true,\"tickcolor\":\"rgb(51,51,51)\",\"ticks\":\"outside\"}},\"scene\":{\"xaxis\":{\"backgroundcolor\":\"rgb(237,237,237)\",\"gridcolor\":\"white\",\"gridwidth\":2,\"linecolor\":\"white\",\"showbackground\":true,\"showgrid\":true,\"tickcolor\":\"rgb(51,51,51)\",\"ticks\":\"outside\",\"zerolinecolor\":\"white\"},\"yaxis\":{\"backgroundcolor\":\"rgb(237,237,237)\",\"gridcolor\":\"white\",\"gridwidth\":2,\"linecolor\":\"white\",\"showbackground\":true,\"showgrid\":true,\"tickcolor\":\"rgb(51,51,51)\",\"ticks\":\"outside\",\"zerolinecolor\":\"white\"},\"zaxis\":{\"backgroundcolor\":\"rgb(237,237,237)\",\"gridcolor\":\"white\",\"gridwidth\":2,\"linecolor\":\"white\",\"showbackground\":true,\"showgrid\":true,\"tickcolor\":\"rgb(51,51,51)\",\"ticks\":\"outside\",\"zerolinecolor\":\"white\"}},\"shapedefaults\":{\"fillcolor\":\"black\",\"line\":{\"width\":0},\"opacity\":0.3},\"ternary\":{\"aaxis\":{\"gridcolor\":\"white\",\"linecolor\":\"white\",\"showgrid\":true,\"tickcolor\":\"rgb(51,51,51)\",\"ticks\":\"outside\"},\"baxis\":{\"gridcolor\":\"white\",\"linecolor\":\"white\",\"showgrid\":true,\"tickcolor\":\"rgb(51,51,51)\",\"ticks\":\"outside\"},\"bgcolor\":\"rgb(237,237,237)\",\"caxis\":{\"gridcolor\":\"white\",\"linecolor\":\"white\",\"showgrid\":true,\"tickcolor\":\"rgb(51,51,51)\",\"ticks\":\"outside\"}},\"xaxis\":{\"automargin\":true,\"gridcolor\":\"white\",\"linecolor\":\"white\",\"showgrid\":true,\"tickcolor\":\"rgb(51,51,51)\",\"ticks\":\"outside\",\"title\":{\"standoff\":15},\"zerolinecolor\":\"white\"},\"yaxis\":{\"automargin\":true,\"gridcolor\":\"white\",\"linecolor\":\"white\",\"showgrid\":true,\"tickcolor\":\"rgb(51,51,51)\",\"ticks\":\"outside\",\"title\":{\"standoff\":15},\"zerolinecolor\":\"white\"}}},\"xaxis\":{\"anchor\":\"y\",\"domain\":[0.0,1.0],\"title\":{\"text\":\"passes_completed\"}},\"yaxis\":{\"anchor\":\"x\",\"domain\":[0.0,1.0],\"title\":{\"text\":\"progressive_passes\"}},\"legend\":{\"title\":{\"text\":\"team\"},\"tracegroupgap\":0,\"itemsizing\":\"constant\"},\"margin\":{\"t\":60},\"height\":750,\"width\":850,\"title\":{\"text\":\"<b> Passes completed vs progressive passes <b>\",\"font\":{\"size\":24}},\"showlegend\":false},                        {\"responsive\": true}                    ).then(function(){\n",
       "                            \n",
       "var gd = document.getElementById('1b465af5-313c-46ab-b094-09ad88f52678');\n",
       "var x = new MutationObserver(function (mutations, observer) {{\n",
       "        var display = window.getComputedStyle(gd).display;\n",
       "        if (!display || display === 'none') {{\n",
       "            console.log([gd, 'removed!']);\n",
       "            Plotly.purge(gd);\n",
       "            observer.disconnect();\n",
       "        }}\n",
       "}});\n",
       "\n",
       "// Listen for the removal of the full notebook cells\n",
       "var notebookContainer = gd.closest('#notebook-container');\n",
       "if (notebookContainer) {{\n",
       "    x.observe(notebookContainer, {childList: true});\n",
       "}}\n",
       "\n",
       "// Listen for the clearing of the current output cell\n",
       "var outputEl = gd.closest('.output');\n",
       "if (outputEl) {{\n",
       "    x.observe(outputEl, {childList: true});\n",
       "}}\n",
       "\n",
       "                        })                };                });            </script>        </div>"
      ]
     },
     "metadata": {},
     "output_type": "display_data"
    },
    {
     "data": {
      "text/html": [
       "<div>                            <div id=\"a52521a0-0bbe-47e0-ab9c-bec365c3dd3c\" class=\"plotly-graph-div\" style=\"height:750px; width:850px;\"></div>            <script type=\"text/javascript\">                require([\"plotly\"], function(Plotly) {                    window.PLOTLYENV=window.PLOTLYENV || {};                                    if (document.getElementById(\"a52521a0-0bbe-47e0-ab9c-bec365c3dd3c\")) {                    Plotly.newPlot(                        \"a52521a0-0bbe-47e0-ab9c-bec365c3dd3c\",                        [{\"hovertemplate\":\"team=%{text}<br>passes_completed_pergame=%{x}<br>progressive_passes_pergame=%{y}<br>possession=%{marker.size}<extra></extra>\",\"legendgroup\":\"Argentina\",\"marker\":{\"color\":\"#636efa\",\"size\":[57.4],\"sizemode\":\"area\",\"sizeref\":0.1895,\"symbol\":\"circle\"},\"mode\":\"markers+text\",\"name\":\"Argentina\",\"orientation\":\"v\",\"showlegend\":true,\"text\":[\"Argentina\"],\"x\":[558.7142857142857],\"xaxis\":\"x\",\"y\":[31.0],\"yaxis\":\"y\",\"type\":\"scatter\"},{\"hovertemplate\":\"team=%{text}<br>passes_completed_pergame=%{x}<br>progressive_passes_pergame=%{y}<br>possession=%{marker.size}<extra></extra>\",\"legendgroup\":\"Australia\",\"marker\":{\"color\":\"#EF553B\",\"size\":[37.8],\"sizemode\":\"area\",\"sizeref\":0.1895,\"symbol\":\"circle\"},\"mode\":\"markers+text\",\"name\":\"Australia\",\"orientation\":\"v\",\"showlegend\":true,\"text\":[\"Australia\"],\"x\":[313.5],\"xaxis\":\"x\",\"y\":[17.0],\"yaxis\":\"y\",\"type\":\"scatter\"},{\"hovertemplate\":\"team=%{text}<br>passes_completed_pergame=%{x}<br>progressive_passes_pergame=%{y}<br>possession=%{marker.size}<extra></extra>\",\"legendgroup\":\"Belgium\",\"marker\":{\"color\":\"#00cc96\",\"size\":[57.0],\"sizemode\":\"area\",\"sizeref\":0.1895,\"symbol\":\"circle\"},\"mode\":\"markers+text\",\"name\":\"Belgium\",\"orientation\":\"v\",\"showlegend\":true,\"text\":[\"Belgium\"],\"x\":[532.6666666666666],\"xaxis\":\"x\",\"y\":[33.0],\"yaxis\":\"y\",\"type\":\"scatter\"},{\"hovertemplate\":\"team=%{text}<br>passes_completed_pergame=%{x}<br>progressive_passes_pergame=%{y}<br>possession=%{marker.size}<extra></extra>\",\"legendgroup\":\"Brazil\",\"marker\":{\"color\":\"#ab63fa\",\"size\":[56.2],\"sizemode\":\"area\",\"sizeref\":0.1895,\"symbol\":\"circle\"},\"mode\":\"markers+text\",\"name\":\"Brazil\",\"orientation\":\"v\",\"showlegend\":true,\"text\":[\"Brazil\"],\"x\":[550.0],\"xaxis\":\"x\",\"y\":[38.0],\"yaxis\":\"y\",\"type\":\"scatter\"},{\"hovertemplate\":\"team=%{text}<br>passes_completed_pergame=%{x}<br>progressive_passes_pergame=%{y}<br>possession=%{marker.size}<extra></extra>\",\"legendgroup\":\"Cameroon\",\"marker\":{\"color\":\"#FFA15A\",\"size\":[41.7],\"sizemode\":\"area\",\"sizeref\":0.1895,\"symbol\":\"circle\"},\"mode\":\"markers+text\",\"name\":\"Cameroon\",\"orientation\":\"v\",\"showlegend\":true,\"text\":[\"Cameroon\"],\"x\":[320.0],\"xaxis\":\"x\",\"y\":[20.666666666666668],\"yaxis\":\"y\",\"type\":\"scatter\"},{\"hovertemplate\":\"team=%{text}<br>passes_completed_pergame=%{x}<br>progressive_passes_pergame=%{y}<br>possession=%{marker.size}<extra></extra>\",\"legendgroup\":\"Canada\",\"marker\":{\"color\":\"#19d3f3\",\"size\":[52.0],\"sizemode\":\"area\",\"sizeref\":0.1895,\"symbol\":\"circle\"},\"mode\":\"markers+text\",\"name\":\"Canada\",\"orientation\":\"v\",\"showlegend\":true,\"text\":[\"Canada\"],\"x\":[435.6666666666667],\"xaxis\":\"x\",\"y\":[28.0],\"yaxis\":\"y\",\"type\":\"scatter\"},{\"hovertemplate\":\"team=%{text}<br>passes_completed_pergame=%{x}<br>progressive_passes_pergame=%{y}<br>possession=%{marker.size}<extra></extra>\",\"legendgroup\":\"Costa Rica\",\"marker\":{\"color\":\"#FF6692\",\"size\":[31.3],\"sizemode\":\"area\",\"sizeref\":0.1895,\"symbol\":\"circle\"},\"mode\":\"markers+text\",\"name\":\"Costa Rica\",\"orientation\":\"v\",\"showlegend\":true,\"text\":[\"Costa Rica\"],\"x\":[274.3333333333333],\"xaxis\":\"x\",\"y\":[12.666666666666666],\"yaxis\":\"y\",\"type\":\"scatter\"},{\"hovertemplate\":\"team=%{text}<br>passes_completed_pergame=%{x}<br>progressive_passes_pergame=%{y}<br>possession=%{marker.size}<extra></extra>\",\"legendgroup\":\"Croatia\",\"marker\":{\"color\":\"#B6E880\",\"size\":[54.3],\"sizemode\":\"area\",\"sizeref\":0.1895,\"symbol\":\"circle\"},\"mode\":\"markers+text\",\"name\":\"Croatia\",\"orientation\":\"v\",\"showlegend\":true,\"text\":[\"Croatia\"],\"x\":[538.0],\"xaxis\":\"x\",\"y\":[33.714285714285715],\"yaxis\":\"y\",\"type\":\"scatter\"},{\"hovertemplate\":\"team=%{text}<br>passes_completed_pergame=%{x}<br>progressive_passes_pergame=%{y}<br>possession=%{marker.size}<extra></extra>\",\"legendgroup\":\"Denmark\",\"marker\":{\"color\":\"#FF97FF\",\"size\":[60.0],\"sizemode\":\"area\",\"sizeref\":0.1895,\"symbol\":\"circle\"},\"mode\":\"markers+text\",\"name\":\"Denmark\",\"orientation\":\"v\",\"showlegend\":true,\"text\":[\"Denmark\"],\"x\":[532.6666666666666],\"xaxis\":\"x\",\"y\":[44.333333333333336],\"yaxis\":\"y\",\"type\":\"scatter\"},{\"hovertemplate\":\"team=%{text}<br>passes_completed_pergame=%{x}<br>progressive_passes_pergame=%{y}<br>possession=%{marker.size}<extra></extra>\",\"legendgroup\":\"Ecuador\",\"marker\":{\"color\":\"#FECB52\",\"size\":[53.3],\"sizemode\":\"area\",\"sizeref\":0.1895,\"symbol\":\"circle\"},\"mode\":\"markers+text\",\"name\":\"Ecuador\",\"orientation\":\"v\",\"showlegend\":true,\"text\":[\"Ecuador\"],\"x\":[384.3333333333333],\"xaxis\":\"x\",\"y\":[17.333333333333332],\"yaxis\":\"y\",\"type\":\"scatter\"},{\"hovertemplate\":\"team=%{text}<br>passes_completed_pergame=%{x}<br>progressive_passes_pergame=%{y}<br>possession=%{marker.size}<extra></extra>\",\"legendgroup\":\"England\",\"marker\":{\"color\":\"#636efa\",\"size\":[62.8],\"sizemode\":\"area\",\"sizeref\":0.1895,\"symbol\":\"circle\"},\"mode\":\"markers+text\",\"name\":\"England\",\"orientation\":\"v\",\"showlegend\":true,\"text\":[\"England\"],\"x\":[555.0],\"xaxis\":\"x\",\"y\":[37.2],\"yaxis\":\"y\",\"type\":\"scatter\"},{\"hovertemplate\":\"team=%{text}<br>passes_completed_pergame=%{x}<br>progressive_passes_pergame=%{y}<br>possession=%{marker.size}<extra></extra>\",\"legendgroup\":\"France\",\"marker\":{\"color\":\"#EF553B\",\"size\":[51.3],\"sizemode\":\"area\",\"sizeref\":0.1895,\"symbol\":\"circle\"},\"mode\":\"markers+text\",\"name\":\"France\",\"orientation\":\"v\",\"showlegend\":true,\"text\":[\"France\"],\"x\":[468.42857142857144],\"xaxis\":\"x\",\"y\":[26.571428571428573],\"yaxis\":\"y\",\"type\":\"scatter\"},{\"hovertemplate\":\"team=%{text}<br>passes_completed_pergame=%{x}<br>progressive_passes_pergame=%{y}<br>possession=%{marker.size}<extra></extra>\",\"legendgroup\":\"Germany\",\"marker\":{\"color\":\"#00cc96\",\"size\":[59.3],\"sizemode\":\"area\",\"sizeref\":0.1895,\"symbol\":\"circle\"},\"mode\":\"markers+text\",\"name\":\"Germany\",\"orientation\":\"v\",\"showlegend\":true,\"text\":[\"Germany\"],\"x\":[562.0],\"xaxis\":\"x\",\"y\":[44.0],\"yaxis\":\"y\",\"type\":\"scatter\"},{\"hovertemplate\":\"team=%{text}<br>passes_completed_pergame=%{x}<br>progressive_passes_pergame=%{y}<br>possession=%{marker.size}<extra></extra>\",\"legendgroup\":\"Ghana\",\"marker\":{\"color\":\"#ab63fa\",\"size\":[42.0],\"sizemode\":\"area\",\"sizeref\":0.1895,\"symbol\":\"circle\"},\"mode\":\"markers+text\",\"name\":\"Ghana\",\"orientation\":\"v\",\"showlegend\":true,\"text\":[\"Ghana\"],\"x\":[324.0],\"xaxis\":\"x\",\"y\":[20.666666666666668],\"yaxis\":\"y\",\"type\":\"scatter\"},{\"hovertemplate\":\"team=%{text}<br>passes_completed_pergame=%{x}<br>progressive_passes_pergame=%{y}<br>possession=%{marker.size}<extra></extra>\",\"legendgroup\":\"Iran\",\"marker\":{\"color\":\"#FFA15A\",\"size\":[36.7],\"sizemode\":\"area\",\"sizeref\":0.1895,\"symbol\":\"circle\"},\"mode\":\"markers+text\",\"name\":\"Iran\",\"orientation\":\"v\",\"showlegend\":true,\"text\":[\"Iran\"],\"x\":[256.3333333333333],\"xaxis\":\"x\",\"y\":[18.666666666666668],\"yaxis\":\"y\",\"type\":\"scatter\"},{\"hovertemplate\":\"team=%{text}<br>passes_completed_pergame=%{x}<br>progressive_passes_pergame=%{y}<br>possession=%{marker.size}<extra></extra>\",\"legendgroup\":\"Japan\",\"marker\":{\"color\":\"#19d3f3\",\"size\":[35.8],\"sizemode\":\"area\",\"sizeref\":0.1895,\"symbol\":\"circle\"},\"mode\":\"markers+text\",\"name\":\"Japan\",\"orientation\":\"v\",\"showlegend\":true,\"text\":[\"Japan\"],\"x\":[331.0],\"xaxis\":\"x\",\"y\":[19.75],\"yaxis\":\"y\",\"type\":\"scatter\"},{\"hovertemplate\":\"team=%{text}<br>passes_completed_pergame=%{x}<br>progressive_passes_pergame=%{y}<br>possession=%{marker.size}<extra></extra>\",\"legendgroup\":\"Korea Republic\",\"marker\":{\"color\":\"#FF6692\",\"size\":[48.3],\"sizemode\":\"area\",\"sizeref\":0.1895,\"symbol\":\"circle\"},\"mode\":\"markers+text\",\"name\":\"Korea Republic\",\"orientation\":\"v\",\"showlegend\":true,\"text\":[\"Korea Republic\"],\"x\":[404.75],\"xaxis\":\"x\",\"y\":[28.0],\"yaxis\":\"y\",\"type\":\"scatter\"},{\"hovertemplate\":\"team=%{text}<br>passes_completed_pergame=%{x}<br>progressive_passes_pergame=%{y}<br>possession=%{marker.size}<extra></extra>\",\"legendgroup\":\"Mexico\",\"marker\":{\"color\":\"#B6E880\",\"size\":[54.0],\"sizemode\":\"area\",\"sizeref\":0.1895,\"symbol\":\"circle\"},\"mode\":\"markers+text\",\"name\":\"Mexico\",\"orientation\":\"v\",\"showlegend\":true,\"text\":[\"Mexico\"],\"x\":[365.6666666666667],\"xaxis\":\"x\",\"y\":[25.666666666666668],\"yaxis\":\"y\",\"type\":\"scatter\"},{\"hovertemplate\":\"team=%{text}<br>passes_completed_pergame=%{x}<br>progressive_passes_pergame=%{y}<br>possession=%{marker.size}<extra></extra>\",\"legendgroup\":\"Morocco\",\"marker\":{\"color\":\"#FF97FF\",\"size\":[39.0],\"sizemode\":\"area\",\"sizeref\":0.1895,\"symbol\":\"circle\"},\"mode\":\"markers+text\",\"name\":\"Morocco\",\"orientation\":\"v\",\"showlegend\":true,\"text\":[\"Morocco\"],\"x\":[324.2857142857143],\"xaxis\":\"x\",\"y\":[16.428571428571427],\"yaxis\":\"y\",\"type\":\"scatter\"},{\"hovertemplate\":\"team=%{text}<br>passes_completed_pergame=%{x}<br>progressive_passes_pergame=%{y}<br>possession=%{marker.size}<extra></extra>\",\"legendgroup\":\"Netherlands\",\"marker\":{\"color\":\"#FECB52\",\"size\":[53.0],\"sizemode\":\"area\",\"sizeref\":0.1895,\"symbol\":\"circle\"},\"mode\":\"markers+text\",\"name\":\"Netherlands\",\"orientation\":\"v\",\"showlegend\":true,\"text\":[\"Netherlands\"],\"x\":[494.4],\"xaxis\":\"x\",\"y\":[29.8],\"yaxis\":\"y\",\"type\":\"scatter\"},{\"hovertemplate\":\"team=%{text}<br>passes_completed_pergame=%{x}<br>progressive_passes_pergame=%{y}<br>possession=%{marker.size}<extra></extra>\",\"legendgroup\":\"Poland\",\"marker\":{\"color\":\"#636efa\",\"size\":[37.3],\"sizemode\":\"area\",\"sizeref\":0.1895,\"symbol\":\"circle\"},\"mode\":\"markers+text\",\"name\":\"Poland\",\"orientation\":\"v\",\"showlegend\":true,\"text\":[\"Poland\"],\"x\":[292.25],\"xaxis\":\"x\",\"y\":[12.5],\"yaxis\":\"y\",\"type\":\"scatter\"},{\"hovertemplate\":\"team=%{text}<br>passes_completed_pergame=%{x}<br>progressive_passes_pergame=%{y}<br>possession=%{marker.size}<extra></extra>\",\"legendgroup\":\"Portugal\",\"marker\":{\"color\":\"#EF553B\",\"size\":[60.4],\"sizemode\":\"area\",\"sizeref\":0.1895,\"symbol\":\"circle\"},\"mode\":\"markers+text\",\"name\":\"Portugal\",\"orientation\":\"v\",\"showlegend\":true,\"text\":[\"Portugal\"],\"x\":[526.0],\"xaxis\":\"x\",\"y\":[32.8],\"yaxis\":\"y\",\"type\":\"scatter\"},{\"hovertemplate\":\"team=%{text}<br>passes_completed_pergame=%{x}<br>progressive_passes_pergame=%{y}<br>possession=%{marker.size}<extra></extra>\",\"legendgroup\":\"Qatar\",\"marker\":{\"color\":\"#00cc96\",\"size\":[43.0],\"sizemode\":\"area\",\"sizeref\":0.1895,\"symbol\":\"circle\"},\"mode\":\"markers+text\",\"name\":\"Qatar\",\"orientation\":\"v\",\"showlegend\":true,\"text\":[\"Qatar\"],\"x\":[376.3333333333333],\"xaxis\":\"x\",\"y\":[16.333333333333332],\"yaxis\":\"y\",\"type\":\"scatter\"},{\"hovertemplate\":\"team=%{text}<br>passes_completed_pergame=%{x}<br>progressive_passes_pergame=%{y}<br>possession=%{marker.size}<extra></extra>\",\"legendgroup\":\"Saudi Arabia\",\"marker\":{\"color\":\"#ab63fa\",\"size\":[44.7],\"sizemode\":\"area\",\"sizeref\":0.1895,\"symbol\":\"circle\"},\"mode\":\"markers+text\",\"name\":\"Saudi Arabia\",\"orientation\":\"v\",\"showlegend\":true,\"text\":[\"Saudi Arabia\"],\"x\":[290.0],\"xaxis\":\"x\",\"y\":[25.333333333333332],\"yaxis\":\"y\",\"type\":\"scatter\"},{\"hovertemplate\":\"team=%{text}<br>passes_completed_pergame=%{x}<br>progressive_passes_pergame=%{y}<br>possession=%{marker.size}<extra></extra>\",\"legendgroup\":\"Senegal\",\"marker\":{\"color\":\"#FFA15A\",\"size\":[44.8],\"sizemode\":\"area\",\"sizeref\":0.1895,\"symbol\":\"circle\"},\"mode\":\"markers+text\",\"name\":\"Senegal\",\"orientation\":\"v\",\"showlegend\":true,\"text\":[\"Senegal\"],\"x\":[327.5],\"xaxis\":\"x\",\"y\":[20.25],\"yaxis\":\"y\",\"type\":\"scatter\"},{\"hovertemplate\":\"team=%{text}<br>passes_completed_pergame=%{x}<br>progressive_passes_pergame=%{y}<br>possession=%{marker.size}<extra></extra>\",\"legendgroup\":\"Serbia\",\"marker\":{\"color\":\"#19d3f3\",\"size\":[51.3],\"sizemode\":\"area\",\"sizeref\":0.1895,\"symbol\":\"circle\"},\"mode\":\"markers+text\",\"name\":\"Serbia\",\"orientation\":\"v\",\"showlegend\":true,\"text\":[\"Serbia\"],\"x\":[393.6666666666667],\"xaxis\":\"x\",\"y\":[24.333333333333332],\"yaxis\":\"y\",\"type\":\"scatter\"},{\"hovertemplate\":\"team=%{text}<br>passes_completed_pergame=%{x}<br>progressive_passes_pergame=%{y}<br>possession=%{marker.size}<extra></extra>\",\"legendgroup\":\"Spain\",\"marker\":{\"color\":\"#FF6692\",\"size\":[75.8],\"sizemode\":\"area\",\"sizeref\":0.1895,\"symbol\":\"circle\"},\"mode\":\"markers+text\",\"name\":\"Spain\",\"orientation\":\"v\",\"showlegend\":true,\"text\":[\"Spain\"],\"x\":[885.5],\"xaxis\":\"x\",\"y\":[43.75],\"yaxis\":\"y\",\"type\":\"scatter\"},{\"hovertemplate\":\"team=%{text}<br>passes_completed_pergame=%{x}<br>progressive_passes_pergame=%{y}<br>possession=%{marker.size}<extra></extra>\",\"legendgroup\":\"Switzerland\",\"marker\":{\"color\":\"#B6E880\",\"size\":[49.0],\"sizemode\":\"area\",\"sizeref\":0.1895,\"symbol\":\"circle\"},\"mode\":\"markers+text\",\"name\":\"Switzerland\",\"orientation\":\"v\",\"showlegend\":true,\"text\":[\"Switzerland\"],\"x\":[415.75],\"xaxis\":\"x\",\"y\":[29.0],\"yaxis\":\"y\",\"type\":\"scatter\"},{\"hovertemplate\":\"team=%{text}<br>passes_completed_pergame=%{x}<br>progressive_passes_pergame=%{y}<br>possession=%{marker.size}<extra></extra>\",\"legendgroup\":\"Tunisia\",\"marker\":{\"color\":\"#FF97FF\",\"size\":[44.3],\"sizemode\":\"area\",\"sizeref\":0.1895,\"symbol\":\"circle\"},\"mode\":\"markers+text\",\"name\":\"Tunisia\",\"orientation\":\"v\",\"showlegend\":true,\"text\":[\"Tunisia\"],\"x\":[332.6666666666667],\"xaxis\":\"x\",\"y\":[29.333333333333332],\"yaxis\":\"y\",\"type\":\"scatter\"},{\"hovertemplate\":\"team=%{text}<br>passes_completed_pergame=%{x}<br>progressive_passes_pergame=%{y}<br>possession=%{marker.size}<extra></extra>\",\"legendgroup\":\"United States\",\"marker\":{\"color\":\"#FECB52\",\"size\":[53.0],\"sizemode\":\"area\",\"sizeref\":0.1895,\"symbol\":\"circle\"},\"mode\":\"markers+text\",\"name\":\"United States\",\"orientation\":\"v\",\"showlegend\":true,\"text\":[\"United States\"],\"x\":[454.0],\"xaxis\":\"x\",\"y\":[30.0],\"yaxis\":\"y\",\"type\":\"scatter\"},{\"hovertemplate\":\"team=%{text}<br>passes_completed_pergame=%{x}<br>progressive_passes_pergame=%{y}<br>possession=%{marker.size}<extra></extra>\",\"legendgroup\":\"Uruguay\",\"marker\":{\"color\":\"#636efa\",\"size\":[48.7],\"sizemode\":\"area\",\"sizeref\":0.1895,\"symbol\":\"circle\"},\"mode\":\"markers+text\",\"name\":\"Uruguay\",\"orientation\":\"v\",\"showlegend\":true,\"text\":[\"Uruguay\"],\"x\":[385.0],\"xaxis\":\"x\",\"y\":[29.333333333333332],\"yaxis\":\"y\",\"type\":\"scatter\"},{\"hovertemplate\":\"team=%{text}<br>passes_completed_pergame=%{x}<br>progressive_passes_pergame=%{y}<br>possession=%{marker.size}<extra></extra>\",\"legendgroup\":\"Wales\",\"marker\":{\"color\":\"#EF553B\",\"size\":[46.7],\"sizemode\":\"area\",\"sizeref\":0.1895,\"symbol\":\"circle\"},\"mode\":\"markers+text\",\"name\":\"Wales\",\"orientation\":\"v\",\"showlegend\":true,\"text\":[\"Wales\"],\"x\":[348.0],\"xaxis\":\"x\",\"y\":[21.666666666666668],\"yaxis\":\"y\",\"type\":\"scatter\"}],                        {\"template\":{\"data\":{\"barpolar\":[{\"marker\":{\"line\":{\"color\":\"rgb(237,237,237)\",\"width\":0.5},\"pattern\":{\"fillmode\":\"overlay\",\"size\":10,\"solidity\":0.2}},\"type\":\"barpolar\"}],\"bar\":[{\"error_x\":{\"color\":\"rgb(51,51,51)\"},\"error_y\":{\"color\":\"rgb(51,51,51)\"},\"marker\":{\"line\":{\"color\":\"rgb(237,237,237)\",\"width\":0.5},\"pattern\":{\"fillmode\":\"overlay\",\"size\":10,\"solidity\":0.2}},\"type\":\"bar\"}],\"carpet\":[{\"aaxis\":{\"endlinecolor\":\"rgb(51,51,51)\",\"gridcolor\":\"white\",\"linecolor\":\"white\",\"minorgridcolor\":\"white\",\"startlinecolor\":\"rgb(51,51,51)\"},\"baxis\":{\"endlinecolor\":\"rgb(51,51,51)\",\"gridcolor\":\"white\",\"linecolor\":\"white\",\"minorgridcolor\":\"white\",\"startlinecolor\":\"rgb(51,51,51)\"},\"type\":\"carpet\"}],\"choropleth\":[{\"colorbar\":{\"outlinewidth\":0,\"tickcolor\":\"rgb(237,237,237)\",\"ticklen\":6,\"ticks\":\"inside\"},\"type\":\"choropleth\"}],\"contourcarpet\":[{\"colorbar\":{\"outlinewidth\":0,\"tickcolor\":\"rgb(237,237,237)\",\"ticklen\":6,\"ticks\":\"inside\"},\"type\":\"contourcarpet\"}],\"contour\":[{\"colorbar\":{\"outlinewidth\":0,\"tickcolor\":\"rgb(237,237,237)\",\"ticklen\":6,\"ticks\":\"inside\"},\"colorscale\":[[0,\"rgb(20,44,66)\"],[1,\"rgb(90,179,244)\"]],\"type\":\"contour\"}],\"heatmapgl\":[{\"colorbar\":{\"outlinewidth\":0,\"tickcolor\":\"rgb(237,237,237)\",\"ticklen\":6,\"ticks\":\"inside\"},\"colorscale\":[[0,\"rgb(20,44,66)\"],[1,\"rgb(90,179,244)\"]],\"type\":\"heatmapgl\"}],\"heatmap\":[{\"colorbar\":{\"outlinewidth\":0,\"tickcolor\":\"rgb(237,237,237)\",\"ticklen\":6,\"ticks\":\"inside\"},\"colorscale\":[[0,\"rgb(20,44,66)\"],[1,\"rgb(90,179,244)\"]],\"type\":\"heatmap\"}],\"histogram2dcontour\":[{\"colorbar\":{\"outlinewidth\":0,\"tickcolor\":\"rgb(237,237,237)\",\"ticklen\":6,\"ticks\":\"inside\"},\"colorscale\":[[0,\"rgb(20,44,66)\"],[1,\"rgb(90,179,244)\"]],\"type\":\"histogram2dcontour\"}],\"histogram2d\":[{\"colorbar\":{\"outlinewidth\":0,\"tickcolor\":\"rgb(237,237,237)\",\"ticklen\":6,\"ticks\":\"inside\"},\"colorscale\":[[0,\"rgb(20,44,66)\"],[1,\"rgb(90,179,244)\"]],\"type\":\"histogram2d\"}],\"histogram\":[{\"marker\":{\"pattern\":{\"fillmode\":\"overlay\",\"size\":10,\"solidity\":0.2}},\"type\":\"histogram\"}],\"mesh3d\":[{\"colorbar\":{\"outlinewidth\":0,\"tickcolor\":\"rgb(237,237,237)\",\"ticklen\":6,\"ticks\":\"inside\"},\"type\":\"mesh3d\"}],\"parcoords\":[{\"line\":{\"colorbar\":{\"outlinewidth\":0,\"tickcolor\":\"rgb(237,237,237)\",\"ticklen\":6,\"ticks\":\"inside\"}},\"type\":\"parcoords\"}],\"pie\":[{\"automargin\":true,\"type\":\"pie\"}],\"scatter3d\":[{\"line\":{\"colorbar\":{\"outlinewidth\":0,\"tickcolor\":\"rgb(237,237,237)\",\"ticklen\":6,\"ticks\":\"inside\"}},\"marker\":{\"colorbar\":{\"outlinewidth\":0,\"tickcolor\":\"rgb(237,237,237)\",\"ticklen\":6,\"ticks\":\"inside\"}},\"type\":\"scatter3d\"}],\"scattercarpet\":[{\"marker\":{\"colorbar\":{\"outlinewidth\":0,\"tickcolor\":\"rgb(237,237,237)\",\"ticklen\":6,\"ticks\":\"inside\"}},\"type\":\"scattercarpet\"}],\"scattergeo\":[{\"marker\":{\"colorbar\":{\"outlinewidth\":0,\"tickcolor\":\"rgb(237,237,237)\",\"ticklen\":6,\"ticks\":\"inside\"}},\"type\":\"scattergeo\"}],\"scattergl\":[{\"marker\":{\"colorbar\":{\"outlinewidth\":0,\"tickcolor\":\"rgb(237,237,237)\",\"ticklen\":6,\"ticks\":\"inside\"}},\"type\":\"scattergl\"}],\"scattermapbox\":[{\"marker\":{\"colorbar\":{\"outlinewidth\":0,\"tickcolor\":\"rgb(237,237,237)\",\"ticklen\":6,\"ticks\":\"inside\"}},\"type\":\"scattermapbox\"}],\"scatterpolargl\":[{\"marker\":{\"colorbar\":{\"outlinewidth\":0,\"tickcolor\":\"rgb(237,237,237)\",\"ticklen\":6,\"ticks\":\"inside\"}},\"type\":\"scatterpolargl\"}],\"scatterpolar\":[{\"marker\":{\"colorbar\":{\"outlinewidth\":0,\"tickcolor\":\"rgb(237,237,237)\",\"ticklen\":6,\"ticks\":\"inside\"}},\"type\":\"scatterpolar\"}],\"scatter\":[{\"fillpattern\":{\"fillmode\":\"overlay\",\"size\":10,\"solidity\":0.2},\"type\":\"scatter\"}],\"scatterternary\":[{\"marker\":{\"colorbar\":{\"outlinewidth\":0,\"tickcolor\":\"rgb(237,237,237)\",\"ticklen\":6,\"ticks\":\"inside\"}},\"type\":\"scatterternary\"}],\"surface\":[{\"colorbar\":{\"outlinewidth\":0,\"tickcolor\":\"rgb(237,237,237)\",\"ticklen\":6,\"ticks\":\"inside\"},\"colorscale\":[[0,\"rgb(20,44,66)\"],[1,\"rgb(90,179,244)\"]],\"type\":\"surface\"}],\"table\":[{\"cells\":{\"fill\":{\"color\":\"rgb(237,237,237)\"},\"line\":{\"color\":\"white\"}},\"header\":{\"fill\":{\"color\":\"rgb(217,217,217)\"},\"line\":{\"color\":\"white\"}},\"type\":\"table\"}]},\"layout\":{\"annotationdefaults\":{\"arrowhead\":0,\"arrowwidth\":1},\"autotypenumbers\":\"strict\",\"coloraxis\":{\"colorbar\":{\"outlinewidth\":0,\"tickcolor\":\"rgb(237,237,237)\",\"ticklen\":6,\"ticks\":\"inside\"}},\"colorscale\":{\"sequential\":[[0,\"rgb(20,44,66)\"],[1,\"rgb(90,179,244)\"]],\"sequentialminus\":[[0,\"rgb(20,44,66)\"],[1,\"rgb(90,179,244)\"]]},\"colorway\":[\"#F8766D\",\"#A3A500\",\"#00BF7D\",\"#00B0F6\",\"#E76BF3\"],\"font\":{\"color\":\"rgb(51,51,51)\"},\"geo\":{\"bgcolor\":\"white\",\"lakecolor\":\"white\",\"landcolor\":\"rgb(237,237,237)\",\"showlakes\":true,\"showland\":true,\"subunitcolor\":\"white\"},\"hoverlabel\":{\"align\":\"left\"},\"hovermode\":\"closest\",\"paper_bgcolor\":\"white\",\"plot_bgcolor\":\"rgb(237,237,237)\",\"polar\":{\"angularaxis\":{\"gridcolor\":\"white\",\"linecolor\":\"white\",\"showgrid\":true,\"tickcolor\":\"rgb(51,51,51)\",\"ticks\":\"outside\"},\"bgcolor\":\"rgb(237,237,237)\",\"radialaxis\":{\"gridcolor\":\"white\",\"linecolor\":\"white\",\"showgrid\":true,\"tickcolor\":\"rgb(51,51,51)\",\"ticks\":\"outside\"}},\"scene\":{\"xaxis\":{\"backgroundcolor\":\"rgb(237,237,237)\",\"gridcolor\":\"white\",\"gridwidth\":2,\"linecolor\":\"white\",\"showbackground\":true,\"showgrid\":true,\"tickcolor\":\"rgb(51,51,51)\",\"ticks\":\"outside\",\"zerolinecolor\":\"white\"},\"yaxis\":{\"backgroundcolor\":\"rgb(237,237,237)\",\"gridcolor\":\"white\",\"gridwidth\":2,\"linecolor\":\"white\",\"showbackground\":true,\"showgrid\":true,\"tickcolor\":\"rgb(51,51,51)\",\"ticks\":\"outside\",\"zerolinecolor\":\"white\"},\"zaxis\":{\"backgroundcolor\":\"rgb(237,237,237)\",\"gridcolor\":\"white\",\"gridwidth\":2,\"linecolor\":\"white\",\"showbackground\":true,\"showgrid\":true,\"tickcolor\":\"rgb(51,51,51)\",\"ticks\":\"outside\",\"zerolinecolor\":\"white\"}},\"shapedefaults\":{\"fillcolor\":\"black\",\"line\":{\"width\":0},\"opacity\":0.3},\"ternary\":{\"aaxis\":{\"gridcolor\":\"white\",\"linecolor\":\"white\",\"showgrid\":true,\"tickcolor\":\"rgb(51,51,51)\",\"ticks\":\"outside\"},\"baxis\":{\"gridcolor\":\"white\",\"linecolor\":\"white\",\"showgrid\":true,\"tickcolor\":\"rgb(51,51,51)\",\"ticks\":\"outside\"},\"bgcolor\":\"rgb(237,237,237)\",\"caxis\":{\"gridcolor\":\"white\",\"linecolor\":\"white\",\"showgrid\":true,\"tickcolor\":\"rgb(51,51,51)\",\"ticks\":\"outside\"}},\"xaxis\":{\"automargin\":true,\"gridcolor\":\"white\",\"linecolor\":\"white\",\"showgrid\":true,\"tickcolor\":\"rgb(51,51,51)\",\"ticks\":\"outside\",\"title\":{\"standoff\":15},\"zerolinecolor\":\"white\"},\"yaxis\":{\"automargin\":true,\"gridcolor\":\"white\",\"linecolor\":\"white\",\"showgrid\":true,\"tickcolor\":\"rgb(51,51,51)\",\"ticks\":\"outside\",\"title\":{\"standoff\":15},\"zerolinecolor\":\"white\"}}},\"xaxis\":{\"anchor\":\"y\",\"domain\":[0.0,1.0],\"title\":{\"text\":\"passes_completed_pergame\"}},\"yaxis\":{\"anchor\":\"x\",\"domain\":[0.0,1.0],\"title\":{\"text\":\"progressive_passes_pergame\"}},\"legend\":{\"title\":{\"text\":\"team\"},\"tracegroupgap\":0,\"itemsizing\":\"constant\"},\"margin\":{\"t\":60},\"height\":750,\"width\":850,\"title\":{\"text\":\"<b> Passes completed vs progressive passes (per-game) <b>\",\"font\":{\"size\":24}},\"showlegend\":false},                        {\"responsive\": true}                    ).then(function(){\n",
       "                            \n",
       "var gd = document.getElementById('a52521a0-0bbe-47e0-ab9c-bec365c3dd3c');\n",
       "var x = new MutationObserver(function (mutations, observer) {{\n",
       "        var display = window.getComputedStyle(gd).display;\n",
       "        if (!display || display === 'none') {{\n",
       "            console.log([gd, 'removed!']);\n",
       "            Plotly.purge(gd);\n",
       "            observer.disconnect();\n",
       "        }}\n",
       "}});\n",
       "\n",
       "// Listen for the removal of the full notebook cells\n",
       "var notebookContainer = gd.closest('#notebook-container');\n",
       "if (notebookContainer) {{\n",
       "    x.observe(notebookContainer, {childList: true});\n",
       "}}\n",
       "\n",
       "// Listen for the clearing of the current output cell\n",
       "var outputEl = gd.closest('.output');\n",
       "if (outputEl) {{\n",
       "    x.observe(outputEl, {childList: true});\n",
       "}}\n",
       "\n",
       "                        })                };                });            </script>        </div>"
      ]
     },
     "metadata": {},
     "output_type": "display_data"
    },
    {
     "data": {
      "text/html": [
       "<div>                            <div id=\"35bfee09-f04c-45b2-8c60-037e7f9a3f60\" class=\"plotly-graph-div\" style=\"height:600px; width:750px;\"></div>            <script type=\"text/javascript\">                require([\"plotly\"], function(Plotly) {                    window.PLOTLYENV=window.PLOTLYENV || {};                                    if (document.getElementById(\"35bfee09-f04c-45b2-8c60-037e7f9a3f60\")) {                    Plotly.newPlot(                        \"35bfee09-f04c-45b2-8c60-037e7f9a3f60\",                        [{\"alignmentgroup\":\"True\",\"hovertemplate\":\"dribbles_completed_pergame=%{x}<br>team=%{y}<extra></extra>\",\"legendgroup\":\"\",\"marker\":{\"color\":[\"lightseagreen\",\"lightseagreen\",\"lightseagreen\",\"lightseagreen\",\"lightseagreen\",\"lightseagreen\",\"lightseagreen\",\"lightseagreen\",\"lightseagreen\",\"lightseagreen\",\"lightseagreen\",\"lightseagreen\",\"lightseagreen\",\"lightseagreen\",\"lightseagreen\",\"lightseagreen\",\"lightseagreen\",\"lightseagreen\",\"lightseagreen\",\"lightseagreen\",\"lightseagreen\",\"lightseagreen\",\"lightseagreen\",\"lightseagreen\",\"lightseagreen\",\"crimson\",\"lightseagreen\",\"lightseagreen\",\"lightseagreen\",\"lightseagreen\",\"lightseagreen\",\"lightseagreen\"],\"pattern\":{\"shape\":\"\"},\"line\":{\"width\":2.5}},\"name\":\"\",\"offsetgroup\":\"\",\"orientation\":\"h\",\"showlegend\":false,\"textposition\":\"auto\",\"x\":[2.0,3.0,3.0,3.0,3.25,3.25,3.3333333333333335,3.6666666666666665,3.8,4.0,4.25,4.333333333333333,4.5,5.0,5.333333333333333,5.666666666666667,5.714285714285714,6.0,6.333333333333333,6.333333333333333,6.333333333333333,6.4,6.428571428571429,6.5,6.75,7.142857142857143,7.2,8.0,9.0,9.857142857142858,10.333333333333334,10.333333333333334],\"xaxis\":\"x\",\"y\":[\"Switzerland\",\"Wales\",\"Serbia\",\"Uruguay\",\"Australia\",\"Korea Republic\",\"Denmark\",\"Iran\",\"Netherlands\",\"Saudi Arabia\",\"Poland\",\"Ecuador\",\"Japan\",\"Portugal\",\"Qatar\",\"Costa Rica\",\"Croatia\",\"Spain\",\"Tunisia\",\"Belgium\",\"Mexico\",\"Brazil\",\"Argentina\",\"Senegal\",\"United States\",\"Morocco\",\"England\",\"Cameroon\",\"Ghana\",\"France\",\"Canada\",\"Germany\"],\"yaxis\":\"y\",\"type\":\"bar\"}],                        {\"template\":{\"data\":{\"barpolar\":[{\"marker\":{\"line\":{\"color\":\"rgb(237,237,237)\",\"width\":0.5},\"pattern\":{\"fillmode\":\"overlay\",\"size\":10,\"solidity\":0.2}},\"type\":\"barpolar\"}],\"bar\":[{\"error_x\":{\"color\":\"rgb(51,51,51)\"},\"error_y\":{\"color\":\"rgb(51,51,51)\"},\"marker\":{\"line\":{\"color\":\"rgb(237,237,237)\",\"width\":0.5},\"pattern\":{\"fillmode\":\"overlay\",\"size\":10,\"solidity\":0.2}},\"type\":\"bar\"}],\"carpet\":[{\"aaxis\":{\"endlinecolor\":\"rgb(51,51,51)\",\"gridcolor\":\"white\",\"linecolor\":\"white\",\"minorgridcolor\":\"white\",\"startlinecolor\":\"rgb(51,51,51)\"},\"baxis\":{\"endlinecolor\":\"rgb(51,51,51)\",\"gridcolor\":\"white\",\"linecolor\":\"white\",\"minorgridcolor\":\"white\",\"startlinecolor\":\"rgb(51,51,51)\"},\"type\":\"carpet\"}],\"choropleth\":[{\"colorbar\":{\"outlinewidth\":0,\"tickcolor\":\"rgb(237,237,237)\",\"ticklen\":6,\"ticks\":\"inside\"},\"type\":\"choropleth\"}],\"contourcarpet\":[{\"colorbar\":{\"outlinewidth\":0,\"tickcolor\":\"rgb(237,237,237)\",\"ticklen\":6,\"ticks\":\"inside\"},\"type\":\"contourcarpet\"}],\"contour\":[{\"colorbar\":{\"outlinewidth\":0,\"tickcolor\":\"rgb(237,237,237)\",\"ticklen\":6,\"ticks\":\"inside\"},\"colorscale\":[[0,\"rgb(20,44,66)\"],[1,\"rgb(90,179,244)\"]],\"type\":\"contour\"}],\"heatmapgl\":[{\"colorbar\":{\"outlinewidth\":0,\"tickcolor\":\"rgb(237,237,237)\",\"ticklen\":6,\"ticks\":\"inside\"},\"colorscale\":[[0,\"rgb(20,44,66)\"],[1,\"rgb(90,179,244)\"]],\"type\":\"heatmapgl\"}],\"heatmap\":[{\"colorbar\":{\"outlinewidth\":0,\"tickcolor\":\"rgb(237,237,237)\",\"ticklen\":6,\"ticks\":\"inside\"},\"colorscale\":[[0,\"rgb(20,44,66)\"],[1,\"rgb(90,179,244)\"]],\"type\":\"heatmap\"}],\"histogram2dcontour\":[{\"colorbar\":{\"outlinewidth\":0,\"tickcolor\":\"rgb(237,237,237)\",\"ticklen\":6,\"ticks\":\"inside\"},\"colorscale\":[[0,\"rgb(20,44,66)\"],[1,\"rgb(90,179,244)\"]],\"type\":\"histogram2dcontour\"}],\"histogram2d\":[{\"colorbar\":{\"outlinewidth\":0,\"tickcolor\":\"rgb(237,237,237)\",\"ticklen\":6,\"ticks\":\"inside\"},\"colorscale\":[[0,\"rgb(20,44,66)\"],[1,\"rgb(90,179,244)\"]],\"type\":\"histogram2d\"}],\"histogram\":[{\"marker\":{\"pattern\":{\"fillmode\":\"overlay\",\"size\":10,\"solidity\":0.2}},\"type\":\"histogram\"}],\"mesh3d\":[{\"colorbar\":{\"outlinewidth\":0,\"tickcolor\":\"rgb(237,237,237)\",\"ticklen\":6,\"ticks\":\"inside\"},\"type\":\"mesh3d\"}],\"parcoords\":[{\"line\":{\"colorbar\":{\"outlinewidth\":0,\"tickcolor\":\"rgb(237,237,237)\",\"ticklen\":6,\"ticks\":\"inside\"}},\"type\":\"parcoords\"}],\"pie\":[{\"automargin\":true,\"type\":\"pie\"}],\"scatter3d\":[{\"line\":{\"colorbar\":{\"outlinewidth\":0,\"tickcolor\":\"rgb(237,237,237)\",\"ticklen\":6,\"ticks\":\"inside\"}},\"marker\":{\"colorbar\":{\"outlinewidth\":0,\"tickcolor\":\"rgb(237,237,237)\",\"ticklen\":6,\"ticks\":\"inside\"}},\"type\":\"scatter3d\"}],\"scattercarpet\":[{\"marker\":{\"colorbar\":{\"outlinewidth\":0,\"tickcolor\":\"rgb(237,237,237)\",\"ticklen\":6,\"ticks\":\"inside\"}},\"type\":\"scattercarpet\"}],\"scattergeo\":[{\"marker\":{\"colorbar\":{\"outlinewidth\":0,\"tickcolor\":\"rgb(237,237,237)\",\"ticklen\":6,\"ticks\":\"inside\"}},\"type\":\"scattergeo\"}],\"scattergl\":[{\"marker\":{\"colorbar\":{\"outlinewidth\":0,\"tickcolor\":\"rgb(237,237,237)\",\"ticklen\":6,\"ticks\":\"inside\"}},\"type\":\"scattergl\"}],\"scattermapbox\":[{\"marker\":{\"colorbar\":{\"outlinewidth\":0,\"tickcolor\":\"rgb(237,237,237)\",\"ticklen\":6,\"ticks\":\"inside\"}},\"type\":\"scattermapbox\"}],\"scatterpolargl\":[{\"marker\":{\"colorbar\":{\"outlinewidth\":0,\"tickcolor\":\"rgb(237,237,237)\",\"ticklen\":6,\"ticks\":\"inside\"}},\"type\":\"scatterpolargl\"}],\"scatterpolar\":[{\"marker\":{\"colorbar\":{\"outlinewidth\":0,\"tickcolor\":\"rgb(237,237,237)\",\"ticklen\":6,\"ticks\":\"inside\"}},\"type\":\"scatterpolar\"}],\"scatter\":[{\"fillpattern\":{\"fillmode\":\"overlay\",\"size\":10,\"solidity\":0.2},\"type\":\"scatter\"}],\"scatterternary\":[{\"marker\":{\"colorbar\":{\"outlinewidth\":0,\"tickcolor\":\"rgb(237,237,237)\",\"ticklen\":6,\"ticks\":\"inside\"}},\"type\":\"scatterternary\"}],\"surface\":[{\"colorbar\":{\"outlinewidth\":0,\"tickcolor\":\"rgb(237,237,237)\",\"ticklen\":6,\"ticks\":\"inside\"},\"colorscale\":[[0,\"rgb(20,44,66)\"],[1,\"rgb(90,179,244)\"]],\"type\":\"surface\"}],\"table\":[{\"cells\":{\"fill\":{\"color\":\"rgb(237,237,237)\"},\"line\":{\"color\":\"white\"}},\"header\":{\"fill\":{\"color\":\"rgb(217,217,217)\"},\"line\":{\"color\":\"white\"}},\"type\":\"table\"}]},\"layout\":{\"annotationdefaults\":{\"arrowhead\":0,\"arrowwidth\":1},\"autotypenumbers\":\"strict\",\"coloraxis\":{\"colorbar\":{\"outlinewidth\":0,\"tickcolor\":\"rgb(237,237,237)\",\"ticklen\":6,\"ticks\":\"inside\"}},\"colorscale\":{\"sequential\":[[0,\"rgb(20,44,66)\"],[1,\"rgb(90,179,244)\"]],\"sequentialminus\":[[0,\"rgb(20,44,66)\"],[1,\"rgb(90,179,244)\"]]},\"colorway\":[\"#F8766D\",\"#A3A500\",\"#00BF7D\",\"#00B0F6\",\"#E76BF3\"],\"font\":{\"color\":\"rgb(51,51,51)\"},\"geo\":{\"bgcolor\":\"white\",\"lakecolor\":\"white\",\"landcolor\":\"rgb(237,237,237)\",\"showlakes\":true,\"showland\":true,\"subunitcolor\":\"white\"},\"hoverlabel\":{\"align\":\"left\"},\"hovermode\":\"closest\",\"paper_bgcolor\":\"white\",\"plot_bgcolor\":\"rgb(237,237,237)\",\"polar\":{\"angularaxis\":{\"gridcolor\":\"white\",\"linecolor\":\"white\",\"showgrid\":true,\"tickcolor\":\"rgb(51,51,51)\",\"ticks\":\"outside\"},\"bgcolor\":\"rgb(237,237,237)\",\"radialaxis\":{\"gridcolor\":\"white\",\"linecolor\":\"white\",\"showgrid\":true,\"tickcolor\":\"rgb(51,51,51)\",\"ticks\":\"outside\"}},\"scene\":{\"xaxis\":{\"backgroundcolor\":\"rgb(237,237,237)\",\"gridcolor\":\"white\",\"gridwidth\":2,\"linecolor\":\"white\",\"showbackground\":true,\"showgrid\":true,\"tickcolor\":\"rgb(51,51,51)\",\"ticks\":\"outside\",\"zerolinecolor\":\"white\"},\"yaxis\":{\"backgroundcolor\":\"rgb(237,237,237)\",\"gridcolor\":\"white\",\"gridwidth\":2,\"linecolor\":\"white\",\"showbackground\":true,\"showgrid\":true,\"tickcolor\":\"rgb(51,51,51)\",\"ticks\":\"outside\",\"zerolinecolor\":\"white\"},\"zaxis\":{\"backgroundcolor\":\"rgb(237,237,237)\",\"gridcolor\":\"white\",\"gridwidth\":2,\"linecolor\":\"white\",\"showbackground\":true,\"showgrid\":true,\"tickcolor\":\"rgb(51,51,51)\",\"ticks\":\"outside\",\"zerolinecolor\":\"white\"}},\"shapedefaults\":{\"fillcolor\":\"black\",\"line\":{\"width\":0},\"opacity\":0.3},\"ternary\":{\"aaxis\":{\"gridcolor\":\"white\",\"linecolor\":\"white\",\"showgrid\":true,\"tickcolor\":\"rgb(51,51,51)\",\"ticks\":\"outside\"},\"baxis\":{\"gridcolor\":\"white\",\"linecolor\":\"white\",\"showgrid\":true,\"tickcolor\":\"rgb(51,51,51)\",\"ticks\":\"outside\"},\"bgcolor\":\"rgb(237,237,237)\",\"caxis\":{\"gridcolor\":\"white\",\"linecolor\":\"white\",\"showgrid\":true,\"tickcolor\":\"rgb(51,51,51)\",\"ticks\":\"outside\"}},\"xaxis\":{\"automargin\":true,\"gridcolor\":\"white\",\"linecolor\":\"white\",\"showgrid\":true,\"tickcolor\":\"rgb(51,51,51)\",\"ticks\":\"outside\",\"title\":{\"standoff\":15},\"zerolinecolor\":\"white\"},\"yaxis\":{\"automargin\":true,\"gridcolor\":\"white\",\"linecolor\":\"white\",\"showgrid\":true,\"tickcolor\":\"rgb(51,51,51)\",\"ticks\":\"outside\",\"title\":{\"standoff\":15},\"zerolinecolor\":\"white\"}}},\"xaxis\":{\"anchor\":\"y\",\"domain\":[0.0,1.0],\"title\":{\"text\":\"dribbles_completed_pergame\"}},\"yaxis\":{\"anchor\":\"x\",\"domain\":[0.0,1.0],\"title\":{\"text\":\"team\"}},\"legend\":{\"tracegroupgap\":0},\"margin\":{\"t\":60},\"barmode\":\"relative\",\"height\":600,\"width\":750,\"title\":{\"text\":\"<b> Dribbles Completed Per game <b>\",\"font\":{\"size\":24}}},                        {\"responsive\": true}                    ).then(function(){\n",
       "                            \n",
       "var gd = document.getElementById('35bfee09-f04c-45b2-8c60-037e7f9a3f60');\n",
       "var x = new MutationObserver(function (mutations, observer) {{\n",
       "        var display = window.getComputedStyle(gd).display;\n",
       "        if (!display || display === 'none') {{\n",
       "            console.log([gd, 'removed!']);\n",
       "            Plotly.purge(gd);\n",
       "            observer.disconnect();\n",
       "        }}\n",
       "}});\n",
       "\n",
       "// Listen for the removal of the full notebook cells\n",
       "var notebookContainer = gd.closest('#notebook-container');\n",
       "if (notebookContainer) {{\n",
       "    x.observe(notebookContainer, {childList: true});\n",
       "}}\n",
       "\n",
       "// Listen for the clearing of the current output cell\n",
       "var outputEl = gd.closest('.output');\n",
       "if (outputEl) {{\n",
       "    x.observe(outputEl, {childList: true});\n",
       "}}\n",
       "\n",
       "                        })                };                });            </script>        </div>"
      ]
     },
     "metadata": {},
     "output_type": "display_data"
    }
   ],
   "source": [
    "fig = px.scatter(team_data,\n",
    "                 x='passes_completed',\n",
    "                 y='progressive_passes',\n",
    "                 color='team',\n",
    "                 size='possession',\n",
    "                 width=850,\n",
    "                 height=750,\n",
    "                 text=team_data['team']\n",
    "                )\n",
    "\n",
    "fig.update_layout(showlegend=False, title='<b> Passes completed vs progressive passes <b>', template='ggplot2', titlefont={'size':24})\n",
    "fig.show()\n",
    "\n",
    "team_data['passes_completed_pergame'] = team_data['passes_completed']/team_data['games']\n",
    "team_data['progressive_passes_pergame'] = team_data['progressive_passes']/team_data['games']\n",
    "\n",
    "fig = px.scatter(team_data,\n",
    "                 x='passes_completed_pergame',\n",
    "                 y='progressive_passes_pergame',\n",
    "                 color='team',\n",
    "                 size='possession',\n",
    "                 width=850,\n",
    "                 height=750,\n",
    "                 text=team_data['team']\n",
    "                )\n",
    "\n",
    "fig.update_layout(showlegend=False, title='<b> Passes completed vs progressive passes (per-game) <b>', template='ggplot2', titlefont={'size':24})\n",
    "fig.show()\n",
    "\n",
    "team_data['dribbles_completed_pergame'] = team_data['dribbles_completed']/team_data['games']\n",
    "\n",
    "fig = px.bar(team_data.sort_values('dribbles_completed_pergame', ascending = True), \n",
    "             y=\"team\", x='dribbles_completed_pergame',color=None,\n",
    "             width=750, \n",
    "             height=600,\n",
    "             )\n",
    "fig.update_layout(\n",
    "             template='ggplot2',\n",
    "             title=\"<b> Dribbles Completed Per game <b>\",\n",
    "             titlefont={'size':24},\n",
    ")\n",
    "\n",
    "colors = ['lightseagreen',] * 32 \n",
    "colors[25] = 'crimson' \n",
    "\n",
    "fig.update_traces(marker_color=colors, marker_line_color=None,\n",
    "                  marker_line_width=2.5, opacity=None)\n",
    "fig.show()"
   ]
  },
  {
   "cell_type": "code",
   "execution_count": 9,
   "id": "ab40ca0b",
   "metadata": {
    "_kg_hide-input": true,
    "execution": {
     "iopub.execute_input": "2023-01-26T09:46:30.397456Z",
     "iopub.status.busy": "2023-01-26T09:46:30.397045Z",
     "iopub.status.idle": "2023-01-26T09:46:30.482009Z",
     "shell.execute_reply": "2023-01-26T09:46:30.480895Z"
    },
    "jupyter": {
     "source_hidden": true
    },
    "papermill": {
     "duration": 0.102171,
     "end_time": "2023-01-26T09:46:30.484389",
     "exception": false,
     "start_time": "2023-01-26T09:46:30.382218",
     "status": "completed"
    },
    "tags": []
   },
   "outputs": [
    {
     "data": {
      "text/html": [
       "<div>                            <div id=\"b0b142ad-74a7-4dd3-ae4f-47693215e51c\" class=\"plotly-graph-div\" style=\"height:600px; width:750px;\"></div>            <script type=\"text/javascript\">                require([\"plotly\"], function(Plotly) {                    window.PLOTLYENV=window.PLOTLYENV || {};                                    if (document.getElementById(\"b0b142ad-74a7-4dd3-ae4f-47693215e51c\")) {                    Plotly.newPlot(                        \"b0b142ad-74a7-4dd3-ae4f-47693215e51c\",                        [{\"alignmentgroup\":\"True\",\"hovertemplate\":\"progressive_passes_ratio=%{x}<br>team=%{y}<extra></extra>\",\"legendgroup\":\"\",\"marker\":{\"color\":[\"lightseagreen\",\"lightseagreen\",\"lightseagreen\",\"lightseagreen\",\"gold\",\"crimson\",\"lightseagreen\",\"lightseagreen\",\"lightseagreen\",\"lightseagreen\",\"lightseagreen\",\"lightseagreen\",\"lightseagreen\",\"lightseagreen\",\"lightseagreen\",\"lightseagreen\",\"lightseagreen\",\"lightseagreen\",\"lightseagreen\",\"lightseagreen\",\"lightseagreen\",\"lightseagreen\",\"lightseagreen\",\"lightseagreen\",\"lightseagreen\",\"lightseagreen\",\"lightseagreen\",\"lightseagreen\",\"lightseagreen\",\"lightseagreen\",\"lightseagreen\",\"lightseagreen\"],\"pattern\":{\"shape\":\"\"},\"line\":{\"width\":2.5}},\"name\":\"\",\"offsetgroup\":\"\",\"orientation\":\"h\",\"showlegend\":false,\"textposition\":\"auto\",\"x\":[0.0427715996578272,0.043401240035429584,0.045099739809193407,0.046172539489671933,0.04940711462450593,0.05066079295154185,0.05422647527910686,0.05548453081053439,0.056724611161939616,0.05966767371601209,0.060275080906148866,0.06181202370872142,0.06183206106870229,0.06195244055068836,0.06226053639846743,0.0623574144486692,0.06266595857673925,0.06378600823045268,0.06426931905126243,0.06458333333333334,0.06607929515418502,0.06702702702702702,0.06909090909090909,0.06917850525015441,0.06975345760673482,0.07019143117593436,0.07282184655396619,0.0761904761904762,0.07829181494661921,0.08322903629536921,0.08735632183908046,0.08817635270541083],\"xaxis\":\"x\",\"y\":[\"Poland\",\"Qatar\",\"Ecuador\",\"Costa Rica\",\"Spain\",\"Morocco\",\"Australia\",\"Argentina\",\"France\",\"Japan\",\"Netherlands\",\"Serbia\",\"Senegal\",\"Belgium\",\"Wales\",\"Portugal\",\"Croatia\",\"Ghana\",\"Canada\",\"Cameroon\",\"United States\",\"England\",\"Brazil\",\"Korea Republic\",\"Switzerland\",\"Mexico\",\"Iran\",\"Uruguay\",\"Germany\",\"Denmark\",\"Saudi Arabia\",\"Tunisia\"],\"yaxis\":\"y\",\"type\":\"bar\"}],                        {\"template\":{\"data\":{\"barpolar\":[{\"marker\":{\"line\":{\"color\":\"rgb(237,237,237)\",\"width\":0.5},\"pattern\":{\"fillmode\":\"overlay\",\"size\":10,\"solidity\":0.2}},\"type\":\"barpolar\"}],\"bar\":[{\"error_x\":{\"color\":\"rgb(51,51,51)\"},\"error_y\":{\"color\":\"rgb(51,51,51)\"},\"marker\":{\"line\":{\"color\":\"rgb(237,237,237)\",\"width\":0.5},\"pattern\":{\"fillmode\":\"overlay\",\"size\":10,\"solidity\":0.2}},\"type\":\"bar\"}],\"carpet\":[{\"aaxis\":{\"endlinecolor\":\"rgb(51,51,51)\",\"gridcolor\":\"white\",\"linecolor\":\"white\",\"minorgridcolor\":\"white\",\"startlinecolor\":\"rgb(51,51,51)\"},\"baxis\":{\"endlinecolor\":\"rgb(51,51,51)\",\"gridcolor\":\"white\",\"linecolor\":\"white\",\"minorgridcolor\":\"white\",\"startlinecolor\":\"rgb(51,51,51)\"},\"type\":\"carpet\"}],\"choropleth\":[{\"colorbar\":{\"outlinewidth\":0,\"tickcolor\":\"rgb(237,237,237)\",\"ticklen\":6,\"ticks\":\"inside\"},\"type\":\"choropleth\"}],\"contourcarpet\":[{\"colorbar\":{\"outlinewidth\":0,\"tickcolor\":\"rgb(237,237,237)\",\"ticklen\":6,\"ticks\":\"inside\"},\"type\":\"contourcarpet\"}],\"contour\":[{\"colorbar\":{\"outlinewidth\":0,\"tickcolor\":\"rgb(237,237,237)\",\"ticklen\":6,\"ticks\":\"inside\"},\"colorscale\":[[0,\"rgb(20,44,66)\"],[1,\"rgb(90,179,244)\"]],\"type\":\"contour\"}],\"heatmapgl\":[{\"colorbar\":{\"outlinewidth\":0,\"tickcolor\":\"rgb(237,237,237)\",\"ticklen\":6,\"ticks\":\"inside\"},\"colorscale\":[[0,\"rgb(20,44,66)\"],[1,\"rgb(90,179,244)\"]],\"type\":\"heatmapgl\"}],\"heatmap\":[{\"colorbar\":{\"outlinewidth\":0,\"tickcolor\":\"rgb(237,237,237)\",\"ticklen\":6,\"ticks\":\"inside\"},\"colorscale\":[[0,\"rgb(20,44,66)\"],[1,\"rgb(90,179,244)\"]],\"type\":\"heatmap\"}],\"histogram2dcontour\":[{\"colorbar\":{\"outlinewidth\":0,\"tickcolor\":\"rgb(237,237,237)\",\"ticklen\":6,\"ticks\":\"inside\"},\"colorscale\":[[0,\"rgb(20,44,66)\"],[1,\"rgb(90,179,244)\"]],\"type\":\"histogram2dcontour\"}],\"histogram2d\":[{\"colorbar\":{\"outlinewidth\":0,\"tickcolor\":\"rgb(237,237,237)\",\"ticklen\":6,\"ticks\":\"inside\"},\"colorscale\":[[0,\"rgb(20,44,66)\"],[1,\"rgb(90,179,244)\"]],\"type\":\"histogram2d\"}],\"histogram\":[{\"marker\":{\"pattern\":{\"fillmode\":\"overlay\",\"size\":10,\"solidity\":0.2}},\"type\":\"histogram\"}],\"mesh3d\":[{\"colorbar\":{\"outlinewidth\":0,\"tickcolor\":\"rgb(237,237,237)\",\"ticklen\":6,\"ticks\":\"inside\"},\"type\":\"mesh3d\"}],\"parcoords\":[{\"line\":{\"colorbar\":{\"outlinewidth\":0,\"tickcolor\":\"rgb(237,237,237)\",\"ticklen\":6,\"ticks\":\"inside\"}},\"type\":\"parcoords\"}],\"pie\":[{\"automargin\":true,\"type\":\"pie\"}],\"scatter3d\":[{\"line\":{\"colorbar\":{\"outlinewidth\":0,\"tickcolor\":\"rgb(237,237,237)\",\"ticklen\":6,\"ticks\":\"inside\"}},\"marker\":{\"colorbar\":{\"outlinewidth\":0,\"tickcolor\":\"rgb(237,237,237)\",\"ticklen\":6,\"ticks\":\"inside\"}},\"type\":\"scatter3d\"}],\"scattercarpet\":[{\"marker\":{\"colorbar\":{\"outlinewidth\":0,\"tickcolor\":\"rgb(237,237,237)\",\"ticklen\":6,\"ticks\":\"inside\"}},\"type\":\"scattercarpet\"}],\"scattergeo\":[{\"marker\":{\"colorbar\":{\"outlinewidth\":0,\"tickcolor\":\"rgb(237,237,237)\",\"ticklen\":6,\"ticks\":\"inside\"}},\"type\":\"scattergeo\"}],\"scattergl\":[{\"marker\":{\"colorbar\":{\"outlinewidth\":0,\"tickcolor\":\"rgb(237,237,237)\",\"ticklen\":6,\"ticks\":\"inside\"}},\"type\":\"scattergl\"}],\"scattermapbox\":[{\"marker\":{\"colorbar\":{\"outlinewidth\":0,\"tickcolor\":\"rgb(237,237,237)\",\"ticklen\":6,\"ticks\":\"inside\"}},\"type\":\"scattermapbox\"}],\"scatterpolargl\":[{\"marker\":{\"colorbar\":{\"outlinewidth\":0,\"tickcolor\":\"rgb(237,237,237)\",\"ticklen\":6,\"ticks\":\"inside\"}},\"type\":\"scatterpolargl\"}],\"scatterpolar\":[{\"marker\":{\"colorbar\":{\"outlinewidth\":0,\"tickcolor\":\"rgb(237,237,237)\",\"ticklen\":6,\"ticks\":\"inside\"}},\"type\":\"scatterpolar\"}],\"scatter\":[{\"fillpattern\":{\"fillmode\":\"overlay\",\"size\":10,\"solidity\":0.2},\"type\":\"scatter\"}],\"scatterternary\":[{\"marker\":{\"colorbar\":{\"outlinewidth\":0,\"tickcolor\":\"rgb(237,237,237)\",\"ticklen\":6,\"ticks\":\"inside\"}},\"type\":\"scatterternary\"}],\"surface\":[{\"colorbar\":{\"outlinewidth\":0,\"tickcolor\":\"rgb(237,237,237)\",\"ticklen\":6,\"ticks\":\"inside\"},\"colorscale\":[[0,\"rgb(20,44,66)\"],[1,\"rgb(90,179,244)\"]],\"type\":\"surface\"}],\"table\":[{\"cells\":{\"fill\":{\"color\":\"rgb(237,237,237)\"},\"line\":{\"color\":\"white\"}},\"header\":{\"fill\":{\"color\":\"rgb(217,217,217)\"},\"line\":{\"color\":\"white\"}},\"type\":\"table\"}]},\"layout\":{\"annotationdefaults\":{\"arrowhead\":0,\"arrowwidth\":1},\"autotypenumbers\":\"strict\",\"coloraxis\":{\"colorbar\":{\"outlinewidth\":0,\"tickcolor\":\"rgb(237,237,237)\",\"ticklen\":6,\"ticks\":\"inside\"}},\"colorscale\":{\"sequential\":[[0,\"rgb(20,44,66)\"],[1,\"rgb(90,179,244)\"]],\"sequentialminus\":[[0,\"rgb(20,44,66)\"],[1,\"rgb(90,179,244)\"]]},\"colorway\":[\"#F8766D\",\"#A3A500\",\"#00BF7D\",\"#00B0F6\",\"#E76BF3\"],\"font\":{\"color\":\"rgb(51,51,51)\"},\"geo\":{\"bgcolor\":\"white\",\"lakecolor\":\"white\",\"landcolor\":\"rgb(237,237,237)\",\"showlakes\":true,\"showland\":true,\"subunitcolor\":\"white\"},\"hoverlabel\":{\"align\":\"left\"},\"hovermode\":\"closest\",\"paper_bgcolor\":\"white\",\"plot_bgcolor\":\"rgb(237,237,237)\",\"polar\":{\"angularaxis\":{\"gridcolor\":\"white\",\"linecolor\":\"white\",\"showgrid\":true,\"tickcolor\":\"rgb(51,51,51)\",\"ticks\":\"outside\"},\"bgcolor\":\"rgb(237,237,237)\",\"radialaxis\":{\"gridcolor\":\"white\",\"linecolor\":\"white\",\"showgrid\":true,\"tickcolor\":\"rgb(51,51,51)\",\"ticks\":\"outside\"}},\"scene\":{\"xaxis\":{\"backgroundcolor\":\"rgb(237,237,237)\",\"gridcolor\":\"white\",\"gridwidth\":2,\"linecolor\":\"white\",\"showbackground\":true,\"showgrid\":true,\"tickcolor\":\"rgb(51,51,51)\",\"ticks\":\"outside\",\"zerolinecolor\":\"white\"},\"yaxis\":{\"backgroundcolor\":\"rgb(237,237,237)\",\"gridcolor\":\"white\",\"gridwidth\":2,\"linecolor\":\"white\",\"showbackground\":true,\"showgrid\":true,\"tickcolor\":\"rgb(51,51,51)\",\"ticks\":\"outside\",\"zerolinecolor\":\"white\"},\"zaxis\":{\"backgroundcolor\":\"rgb(237,237,237)\",\"gridcolor\":\"white\",\"gridwidth\":2,\"linecolor\":\"white\",\"showbackground\":true,\"showgrid\":true,\"tickcolor\":\"rgb(51,51,51)\",\"ticks\":\"outside\",\"zerolinecolor\":\"white\"}},\"shapedefaults\":{\"fillcolor\":\"black\",\"line\":{\"width\":0},\"opacity\":0.3},\"ternary\":{\"aaxis\":{\"gridcolor\":\"white\",\"linecolor\":\"white\",\"showgrid\":true,\"tickcolor\":\"rgb(51,51,51)\",\"ticks\":\"outside\"},\"baxis\":{\"gridcolor\":\"white\",\"linecolor\":\"white\",\"showgrid\":true,\"tickcolor\":\"rgb(51,51,51)\",\"ticks\":\"outside\"},\"bgcolor\":\"rgb(237,237,237)\",\"caxis\":{\"gridcolor\":\"white\",\"linecolor\":\"white\",\"showgrid\":true,\"tickcolor\":\"rgb(51,51,51)\",\"ticks\":\"outside\"}},\"xaxis\":{\"automargin\":true,\"gridcolor\":\"white\",\"linecolor\":\"white\",\"showgrid\":true,\"tickcolor\":\"rgb(51,51,51)\",\"ticks\":\"outside\",\"title\":{\"standoff\":15},\"zerolinecolor\":\"white\"},\"yaxis\":{\"automargin\":true,\"gridcolor\":\"white\",\"linecolor\":\"white\",\"showgrid\":true,\"tickcolor\":\"rgb(51,51,51)\",\"ticks\":\"outside\",\"title\":{\"standoff\":15},\"zerolinecolor\":\"white\"}}},\"xaxis\":{\"anchor\":\"y\",\"domain\":[0.0,1.0],\"title\":{\"text\":\"progressive_passes_ratio\"}},\"yaxis\":{\"anchor\":\"x\",\"domain\":[0.0,1.0],\"title\":{\"text\":\"team\"}},\"legend\":{\"tracegroupgap\":0},\"margin\":{\"t\":60},\"barmode\":\"relative\",\"height\":600,\"width\":750,\"title\":{\"text\":\"<b> Progressive to Total Passes Ratio  <b>\",\"font\":{\"size\":24}}},                        {\"responsive\": true}                    ).then(function(){\n",
       "                            \n",
       "var gd = document.getElementById('b0b142ad-74a7-4dd3-ae4f-47693215e51c');\n",
       "var x = new MutationObserver(function (mutations, observer) {{\n",
       "        var display = window.getComputedStyle(gd).display;\n",
       "        if (!display || display === 'none') {{\n",
       "            console.log([gd, 'removed!']);\n",
       "            Plotly.purge(gd);\n",
       "            observer.disconnect();\n",
       "        }}\n",
       "}});\n",
       "\n",
       "// Listen for the removal of the full notebook cells\n",
       "var notebookContainer = gd.closest('#notebook-container');\n",
       "if (notebookContainer) {{\n",
       "    x.observe(notebookContainer, {childList: true});\n",
       "}}\n",
       "\n",
       "// Listen for the clearing of the current output cell\n",
       "var outputEl = gd.closest('.output');\n",
       "if (outputEl) {{\n",
       "    x.observe(outputEl, {childList: true});\n",
       "}}\n",
       "\n",
       "                        })                };                });            </script>        </div>"
      ]
     },
     "metadata": {},
     "output_type": "display_data"
    }
   ],
   "source": [
    "team_data['progressive_passes_ratio'] = team_data['progressive_passes']/team_data['passes_completed']\n",
    "\n",
    "fig = px.bar(team_data.sort_values('progressive_passes_ratio', ascending = True), \n",
    "             y=\"team\", x='progressive_passes_ratio',color=None,\n",
    "             width=750, \n",
    "             height=600,\n",
    "             )\n",
    "\n",
    "fig.update_layout(\n",
    "             template='ggplot2',\n",
    "             title=\"<b> Progressive to Total Passes Ratio  <b>\",\n",
    "             titlefont={'size':24},\n",
    ")\n",
    "\n",
    "colors = ['lightseagreen',] * 32 \n",
    "colors[5] = 'crimson'\n",
    "colors[4] = 'gold'\n",
    "\n",
    "fig.update_traces(marker_color=colors, marker_line_color=None,\n",
    "                  marker_line_width=2.5, opacity=None)\n",
    "fig.show()"
   ]
  },
  {
   "cell_type": "markdown",
   "id": "332e427d",
   "metadata": {
    "papermill": {
     "duration": 0.013413,
     "end_time": "2023-01-26T09:46:30.511659",
     "exception": false,
     "start_time": "2023-01-26T09:46:30.498246",
     "status": "completed"
    },
    "tags": []
   },
   "source": [
    "**The Messi Effect?**:\n",
    "\n",
    "> In the graph below total passes completed vs the total distance covered by the passes is plotted. We can see that there is a linear relationship. More passes means more distance (kinda obvious). A straight line can be drawn through the dots. However, if we look closely Argentina deviates from the rest, i.e they seem to have made more short passes resulting in an overall distance a little less proportional to the total passes they have completed. \n",
    "\n",
    ">Being the play-maker of his team, it is likely that he [Messi] is involved in most of the passes Argentina makes. Moreover, watching his games [historically] he plays a lot of one-two's and short intricate passes. Therefore, it is safe to say that what we see here could be described as **“the Messi effect”**."
   ]
  },
  {
   "cell_type": "code",
   "execution_count": 10,
   "id": "403b4105",
   "metadata": {
    "_kg_hide-input": true,
    "execution": {
     "iopub.execute_input": "2023-01-26T09:46:30.541821Z",
     "iopub.status.busy": "2023-01-26T09:46:30.541374Z",
     "iopub.status.idle": "2023-01-26T09:46:30.765807Z",
     "shell.execute_reply": "2023-01-26T09:46:30.764668Z"
    },
    "papermill": {
     "duration": 0.242393,
     "end_time": "2023-01-26T09:46:30.768326",
     "exception": false,
     "start_time": "2023-01-26T09:46:30.525933",
     "status": "completed"
    },
    "tags": []
   },
   "outputs": [
    {
     "data": {
      "text/html": [
       "<div>                            <div id=\"2679d9d5-fad8-4e51-a665-23346f32c172\" class=\"plotly-graph-div\" style=\"height:750px; width:850px;\"></div>            <script type=\"text/javascript\">                require([\"plotly\"], function(Plotly) {                    window.PLOTLYENV=window.PLOTLYENV || {};                                    if (document.getElementById(\"2679d9d5-fad8-4e51-a665-23346f32c172\")) {                    Plotly.newPlot(                        \"2679d9d5-fad8-4e51-a665-23346f32c172\",                        [{\"hovertemplate\":\"team=%{text}<br>passes_completed=%{x}<br>passes_total_distance=%{y}<br>possession=%{marker.size}<extra></extra>\",\"legendgroup\":\"Argentina\",\"marker\":{\"color\":\"#636efa\",\"size\":[57.4],\"sizemode\":\"area\",\"sizeref\":0.1895,\"symbol\":\"circle\"},\"mode\":\"markers+text\",\"name\":\"Argentina\",\"orientation\":\"v\",\"showlegend\":true,\"text\":[\"Argentina\"],\"x\":[3911],\"xaxis\":\"x\",\"y\":[60635],\"yaxis\":\"y\",\"type\":\"scatter\"},{\"hovertemplate\":\"team=%{text}<br>passes_completed=%{x}<br>passes_total_distance=%{y}<br>possession=%{marker.size}<extra></extra>\",\"legendgroup\":\"Australia\",\"marker\":{\"color\":\"#EF553B\",\"size\":[37.8],\"sizemode\":\"area\",\"sizeref\":0.1895,\"symbol\":\"circle\"},\"mode\":\"markers+text\",\"name\":\"Australia\",\"orientation\":\"v\",\"showlegend\":true,\"text\":[\"Australia\"],\"x\":[1254],\"xaxis\":\"x\",\"y\":[22489],\"yaxis\":\"y\",\"type\":\"scatter\"},{\"hovertemplate\":\"team=%{text}<br>passes_completed=%{x}<br>passes_total_distance=%{y}<br>possession=%{marker.size}<extra></extra>\",\"legendgroup\":\"Belgium\",\"marker\":{\"color\":\"#00cc96\",\"size\":[57.0],\"sizemode\":\"area\",\"sizeref\":0.1895,\"symbol\":\"circle\"},\"mode\":\"markers+text\",\"name\":\"Belgium\",\"orientation\":\"v\",\"showlegend\":true,\"text\":[\"Belgium\"],\"x\":[1598],\"xaxis\":\"x\",\"y\":[30387],\"yaxis\":\"y\",\"type\":\"scatter\"},{\"hovertemplate\":\"team=%{text}<br>passes_completed=%{x}<br>passes_total_distance=%{y}<br>possession=%{marker.size}<extra></extra>\",\"legendgroup\":\"Brazil\",\"marker\":{\"color\":\"#ab63fa\",\"size\":[56.2],\"sizemode\":\"area\",\"sizeref\":0.1895,\"symbol\":\"circle\"},\"mode\":\"markers+text\",\"name\":\"Brazil\",\"orientation\":\"v\",\"showlegend\":true,\"text\":[\"Brazil\"],\"x\":[2750],\"xaxis\":\"x\",\"y\":[45228],\"yaxis\":\"y\",\"type\":\"scatter\"},{\"hovertemplate\":\"team=%{text}<br>passes_completed=%{x}<br>passes_total_distance=%{y}<br>possession=%{marker.size}<extra></extra>\",\"legendgroup\":\"Cameroon\",\"marker\":{\"color\":\"#FFA15A\",\"size\":[41.7],\"sizemode\":\"area\",\"sizeref\":0.1895,\"symbol\":\"circle\"},\"mode\":\"markers+text\",\"name\":\"Cameroon\",\"orientation\":\"v\",\"showlegend\":true,\"text\":[\"Cameroon\"],\"x\":[960],\"xaxis\":\"x\",\"y\":[17831],\"yaxis\":\"y\",\"type\":\"scatter\"},{\"hovertemplate\":\"team=%{text}<br>passes_completed=%{x}<br>passes_total_distance=%{y}<br>possession=%{marker.size}<extra></extra>\",\"legendgroup\":\"Canada\",\"marker\":{\"color\":\"#19d3f3\",\"size\":[52.0],\"sizemode\":\"area\",\"sizeref\":0.1895,\"symbol\":\"circle\"},\"mode\":\"markers+text\",\"name\":\"Canada\",\"orientation\":\"v\",\"showlegend\":true,\"text\":[\"Canada\"],\"x\":[1307],\"xaxis\":\"x\",\"y\":[22064],\"yaxis\":\"y\",\"type\":\"scatter\"},{\"hovertemplate\":\"team=%{text}<br>passes_completed=%{x}<br>passes_total_distance=%{y}<br>possession=%{marker.size}<extra></extra>\",\"legendgroup\":\"Costa Rica\",\"marker\":{\"color\":\"#FF6692\",\"size\":[31.3],\"sizemode\":\"area\",\"sizeref\":0.1895,\"symbol\":\"circle\"},\"mode\":\"markers+text\",\"name\":\"Costa Rica\",\"orientation\":\"v\",\"showlegend\":true,\"text\":[\"Costa Rica\"],\"x\":[823],\"xaxis\":\"x\",\"y\":[15308],\"yaxis\":\"y\",\"type\":\"scatter\"},{\"hovertemplate\":\"team=%{text}<br>passes_completed=%{x}<br>passes_total_distance=%{y}<br>possession=%{marker.size}<extra></extra>\",\"legendgroup\":\"Croatia\",\"marker\":{\"color\":\"#B6E880\",\"size\":[54.3],\"sizemode\":\"area\",\"sizeref\":0.1895,\"symbol\":\"circle\"},\"mode\":\"markers+text\",\"name\":\"Croatia\",\"orientation\":\"v\",\"showlegend\":true,\"text\":[\"Croatia\"],\"x\":[3766],\"xaxis\":\"x\",\"y\":[62507],\"yaxis\":\"y\",\"type\":\"scatter\"},{\"hovertemplate\":\"team=%{text}<br>passes_completed=%{x}<br>passes_total_distance=%{y}<br>possession=%{marker.size}<extra></extra>\",\"legendgroup\":\"Denmark\",\"marker\":{\"color\":\"#FF97FF\",\"size\":[60.0],\"sizemode\":\"area\",\"sizeref\":0.1895,\"symbol\":\"circle\"},\"mode\":\"markers+text\",\"name\":\"Denmark\",\"orientation\":\"v\",\"showlegend\":true,\"text\":[\"Denmark\"],\"x\":[1598],\"xaxis\":\"x\",\"y\":[28745],\"yaxis\":\"y\",\"type\":\"scatter\"},{\"hovertemplate\":\"team=%{text}<br>passes_completed=%{x}<br>passes_total_distance=%{y}<br>possession=%{marker.size}<extra></extra>\",\"legendgroup\":\"Ecuador\",\"marker\":{\"color\":\"#FECB52\",\"size\":[53.3],\"sizemode\":\"area\",\"sizeref\":0.1895,\"symbol\":\"circle\"},\"mode\":\"markers+text\",\"name\":\"Ecuador\",\"orientation\":\"v\",\"showlegend\":true,\"text\":[\"Ecuador\"],\"x\":[1153],\"xaxis\":\"x\",\"y\":[19926],\"yaxis\":\"y\",\"type\":\"scatter\"},{\"hovertemplate\":\"team=%{text}<br>passes_completed=%{x}<br>passes_total_distance=%{y}<br>possession=%{marker.size}<extra></extra>\",\"legendgroup\":\"England\",\"marker\":{\"color\":\"#636efa\",\"size\":[62.8],\"sizemode\":\"area\",\"sizeref\":0.1895,\"symbol\":\"circle\"},\"mode\":\"markers+text\",\"name\":\"England\",\"orientation\":\"v\",\"showlegend\":true,\"text\":[\"England\"],\"x\":[2775],\"xaxis\":\"x\",\"y\":[50485],\"yaxis\":\"y\",\"type\":\"scatter\"},{\"hovertemplate\":\"team=%{text}<br>passes_completed=%{x}<br>passes_total_distance=%{y}<br>possession=%{marker.size}<extra></extra>\",\"legendgroup\":\"France\",\"marker\":{\"color\":\"#EF553B\",\"size\":[51.3],\"sizemode\":\"area\",\"sizeref\":0.1895,\"symbol\":\"circle\"},\"mode\":\"markers+text\",\"name\":\"France\",\"orientation\":\"v\",\"showlegend\":true,\"text\":[\"France\"],\"x\":[3279],\"xaxis\":\"x\",\"y\":[59236],\"yaxis\":\"y\",\"type\":\"scatter\"},{\"hovertemplate\":\"team=%{text}<br>passes_completed=%{x}<br>passes_total_distance=%{y}<br>possession=%{marker.size}<extra></extra>\",\"legendgroup\":\"Germany\",\"marker\":{\"color\":\"#00cc96\",\"size\":[59.3],\"sizemode\":\"area\",\"sizeref\":0.1895,\"symbol\":\"circle\"},\"mode\":\"markers+text\",\"name\":\"Germany\",\"orientation\":\"v\",\"showlegend\":true,\"text\":[\"Germany\"],\"x\":[1686],\"xaxis\":\"x\",\"y\":[27871],\"yaxis\":\"y\",\"type\":\"scatter\"},{\"hovertemplate\":\"team=%{text}<br>passes_completed=%{x}<br>passes_total_distance=%{y}<br>possession=%{marker.size}<extra></extra>\",\"legendgroup\":\"Ghana\",\"marker\":{\"color\":\"#ab63fa\",\"size\":[42.0],\"sizemode\":\"area\",\"sizeref\":0.1895,\"symbol\":\"circle\"},\"mode\":\"markers+text\",\"name\":\"Ghana\",\"orientation\":\"v\",\"showlegend\":true,\"text\":[\"Ghana\"],\"x\":[972],\"xaxis\":\"x\",\"y\":[16652],\"yaxis\":\"y\",\"type\":\"scatter\"},{\"hovertemplate\":\"team=%{text}<br>passes_completed=%{x}<br>passes_total_distance=%{y}<br>possession=%{marker.size}<extra></extra>\",\"legendgroup\":\"Iran\",\"marker\":{\"color\":\"#FFA15A\",\"size\":[36.7],\"sizemode\":\"area\",\"sizeref\":0.1895,\"symbol\":\"circle\"},\"mode\":\"markers+text\",\"name\":\"Iran\",\"orientation\":\"v\",\"showlegend\":true,\"text\":[\"Iran\"],\"x\":[769],\"xaxis\":\"x\",\"y\":[14148],\"yaxis\":\"y\",\"type\":\"scatter\"},{\"hovertemplate\":\"team=%{text}<br>passes_completed=%{x}<br>passes_total_distance=%{y}<br>possession=%{marker.size}<extra></extra>\",\"legendgroup\":\"Japan\",\"marker\":{\"color\":\"#19d3f3\",\"size\":[35.8],\"sizemode\":\"area\",\"sizeref\":0.1895,\"symbol\":\"circle\"},\"mode\":\"markers+text\",\"name\":\"Japan\",\"orientation\":\"v\",\"showlegend\":true,\"text\":[\"Japan\"],\"x\":[1324],\"xaxis\":\"x\",\"y\":[23079],\"yaxis\":\"y\",\"type\":\"scatter\"},{\"hovertemplate\":\"team=%{text}<br>passes_completed=%{x}<br>passes_total_distance=%{y}<br>possession=%{marker.size}<extra></extra>\",\"legendgroup\":\"Korea Republic\",\"marker\":{\"color\":\"#FF6692\",\"size\":[48.3],\"sizemode\":\"area\",\"sizeref\":0.1895,\"symbol\":\"circle\"},\"mode\":\"markers+text\",\"name\":\"Korea Republic\",\"orientation\":\"v\",\"showlegend\":true,\"text\":[\"Korea Republic\"],\"x\":[1619],\"xaxis\":\"x\",\"y\":[30139],\"yaxis\":\"y\",\"type\":\"scatter\"},{\"hovertemplate\":\"team=%{text}<br>passes_completed=%{x}<br>passes_total_distance=%{y}<br>possession=%{marker.size}<extra></extra>\",\"legendgroup\":\"Mexico\",\"marker\":{\"color\":\"#B6E880\",\"size\":[54.0],\"sizemode\":\"area\",\"sizeref\":0.1895,\"symbol\":\"circle\"},\"mode\":\"markers+text\",\"name\":\"Mexico\",\"orientation\":\"v\",\"showlegend\":true,\"text\":[\"Mexico\"],\"x\":[1097],\"xaxis\":\"x\",\"y\":[19868],\"yaxis\":\"y\",\"type\":\"scatter\"},{\"hovertemplate\":\"team=%{text}<br>passes_completed=%{x}<br>passes_total_distance=%{y}<br>possession=%{marker.size}<extra></extra>\",\"legendgroup\":\"Morocco\",\"marker\":{\"color\":\"#FF97FF\",\"size\":[39.0],\"sizemode\":\"area\",\"sizeref\":0.1895,\"symbol\":\"circle\"},\"mode\":\"markers+text\",\"name\":\"Morocco\",\"orientation\":\"v\",\"showlegend\":true,\"text\":[\"Morocco\"],\"x\":[2270],\"xaxis\":\"x\",\"y\":[38633],\"yaxis\":\"y\",\"type\":\"scatter\"},{\"hovertemplate\":\"team=%{text}<br>passes_completed=%{x}<br>passes_total_distance=%{y}<br>possession=%{marker.size}<extra></extra>\",\"legendgroup\":\"Netherlands\",\"marker\":{\"color\":\"#FECB52\",\"size\":[53.0],\"sizemode\":\"area\",\"sizeref\":0.1895,\"symbol\":\"circle\"},\"mode\":\"markers+text\",\"name\":\"Netherlands\",\"orientation\":\"v\",\"showlegend\":true,\"text\":[\"Netherlands\"],\"x\":[2472],\"xaxis\":\"x\",\"y\":[41845],\"yaxis\":\"y\",\"type\":\"scatter\"},{\"hovertemplate\":\"team=%{text}<br>passes_completed=%{x}<br>passes_total_distance=%{y}<br>possession=%{marker.size}<extra></extra>\",\"legendgroup\":\"Poland\",\"marker\":{\"color\":\"#636efa\",\"size\":[37.3],\"sizemode\":\"area\",\"sizeref\":0.1895,\"symbol\":\"circle\"},\"mode\":\"markers+text\",\"name\":\"Poland\",\"orientation\":\"v\",\"showlegend\":true,\"text\":[\"Poland\"],\"x\":[1169],\"xaxis\":\"x\",\"y\":[21855],\"yaxis\":\"y\",\"type\":\"scatter\"},{\"hovertemplate\":\"team=%{text}<br>passes_completed=%{x}<br>passes_total_distance=%{y}<br>possession=%{marker.size}<extra></extra>\",\"legendgroup\":\"Portugal\",\"marker\":{\"color\":\"#EF553B\",\"size\":[60.4],\"sizemode\":\"area\",\"sizeref\":0.1895,\"symbol\":\"circle\"},\"mode\":\"markers+text\",\"name\":\"Portugal\",\"orientation\":\"v\",\"showlegend\":true,\"text\":[\"Portugal\"],\"x\":[2630],\"xaxis\":\"x\",\"y\":[46616],\"yaxis\":\"y\",\"type\":\"scatter\"},{\"hovertemplate\":\"team=%{text}<br>passes_completed=%{x}<br>passes_total_distance=%{y}<br>possession=%{marker.size}<extra></extra>\",\"legendgroup\":\"Qatar\",\"marker\":{\"color\":\"#00cc96\",\"size\":[43.0],\"sizemode\":\"area\",\"sizeref\":0.1895,\"symbol\":\"circle\"},\"mode\":\"markers+text\",\"name\":\"Qatar\",\"orientation\":\"v\",\"showlegend\":true,\"text\":[\"Qatar\"],\"x\":[1129],\"xaxis\":\"x\",\"y\":[19847],\"yaxis\":\"y\",\"type\":\"scatter\"},{\"hovertemplate\":\"team=%{text}<br>passes_completed=%{x}<br>passes_total_distance=%{y}<br>possession=%{marker.size}<extra></extra>\",\"legendgroup\":\"Saudi Arabia\",\"marker\":{\"color\":\"#ab63fa\",\"size\":[44.7],\"sizemode\":\"area\",\"sizeref\":0.1895,\"symbol\":\"circle\"},\"mode\":\"markers+text\",\"name\":\"Saudi Arabia\",\"orientation\":\"v\",\"showlegend\":true,\"text\":[\"Saudi Arabia\"],\"x\":[870],\"xaxis\":\"x\",\"y\":[14844],\"yaxis\":\"y\",\"type\":\"scatter\"},{\"hovertemplate\":\"team=%{text}<br>passes_completed=%{x}<br>passes_total_distance=%{y}<br>possession=%{marker.size}<extra></extra>\",\"legendgroup\":\"Senegal\",\"marker\":{\"color\":\"#FFA15A\",\"size\":[44.8],\"sizemode\":\"area\",\"sizeref\":0.1895,\"symbol\":\"circle\"},\"mode\":\"markers+text\",\"name\":\"Senegal\",\"orientation\":\"v\",\"showlegend\":true,\"text\":[\"Senegal\"],\"x\":[1310],\"xaxis\":\"x\",\"y\":[22903],\"yaxis\":\"y\",\"type\":\"scatter\"},{\"hovertemplate\":\"team=%{text}<br>passes_completed=%{x}<br>passes_total_distance=%{y}<br>possession=%{marker.size}<extra></extra>\",\"legendgroup\":\"Serbia\",\"marker\":{\"color\":\"#19d3f3\",\"size\":[51.3],\"sizemode\":\"area\",\"sizeref\":0.1895,\"symbol\":\"circle\"},\"mode\":\"markers+text\",\"name\":\"Serbia\",\"orientation\":\"v\",\"showlegend\":true,\"text\":[\"Serbia\"],\"x\":[1181],\"xaxis\":\"x\",\"y\":[20846],\"yaxis\":\"y\",\"type\":\"scatter\"},{\"hovertemplate\":\"team=%{text}<br>passes_completed=%{x}<br>passes_total_distance=%{y}<br>possession=%{marker.size}<extra></extra>\",\"legendgroup\":\"Spain\",\"marker\":{\"color\":\"#FF6692\",\"size\":[75.8],\"sizemode\":\"area\",\"sizeref\":0.1895,\"symbol\":\"circle\"},\"mode\":\"markers+text\",\"name\":\"Spain\",\"orientation\":\"v\",\"showlegend\":true,\"text\":[\"Spain\"],\"x\":[3542],\"xaxis\":\"x\",\"y\":[62461],\"yaxis\":\"y\",\"type\":\"scatter\"},{\"hovertemplate\":\"team=%{text}<br>passes_completed=%{x}<br>passes_total_distance=%{y}<br>possession=%{marker.size}<extra></extra>\",\"legendgroup\":\"Switzerland\",\"marker\":{\"color\":\"#B6E880\",\"size\":[49.0],\"sizemode\":\"area\",\"sizeref\":0.1895,\"symbol\":\"circle\"},\"mode\":\"markers+text\",\"name\":\"Switzerland\",\"orientation\":\"v\",\"showlegend\":true,\"text\":[\"Switzerland\"],\"x\":[1663],\"xaxis\":\"x\",\"y\":[29186],\"yaxis\":\"y\",\"type\":\"scatter\"},{\"hovertemplate\":\"team=%{text}<br>passes_completed=%{x}<br>passes_total_distance=%{y}<br>possession=%{marker.size}<extra></extra>\",\"legendgroup\":\"Tunisia\",\"marker\":{\"color\":\"#FF97FF\",\"size\":[44.3],\"sizemode\":\"area\",\"sizeref\":0.1895,\"symbol\":\"circle\"},\"mode\":\"markers+text\",\"name\":\"Tunisia\",\"orientation\":\"v\",\"showlegend\":true,\"text\":[\"Tunisia\"],\"x\":[998],\"xaxis\":\"x\",\"y\":[19453],\"yaxis\":\"y\",\"type\":\"scatter\"},{\"hovertemplate\":\"team=%{text}<br>passes_completed=%{x}<br>passes_total_distance=%{y}<br>possession=%{marker.size}<extra></extra>\",\"legendgroup\":\"United States\",\"marker\":{\"color\":\"#FECB52\",\"size\":[53.0],\"sizemode\":\"area\",\"sizeref\":0.1895,\"symbol\":\"circle\"},\"mode\":\"markers+text\",\"name\":\"United States\",\"orientation\":\"v\",\"showlegend\":true,\"text\":[\"United States\"],\"x\":[1816],\"xaxis\":\"x\",\"y\":[32313],\"yaxis\":\"y\",\"type\":\"scatter\"},{\"hovertemplate\":\"team=%{text}<br>passes_completed=%{x}<br>passes_total_distance=%{y}<br>possession=%{marker.size}<extra></extra>\",\"legendgroup\":\"Uruguay\",\"marker\":{\"color\":\"#636efa\",\"size\":[48.7],\"sizemode\":\"area\",\"sizeref\":0.1895,\"symbol\":\"circle\"},\"mode\":\"markers+text\",\"name\":\"Uruguay\",\"orientation\":\"v\",\"showlegend\":true,\"text\":[\"Uruguay\"],\"x\":[1155],\"xaxis\":\"x\",\"y\":[20435],\"yaxis\":\"y\",\"type\":\"scatter\"},{\"hovertemplate\":\"team=%{text}<br>passes_completed=%{x}<br>passes_total_distance=%{y}<br>possession=%{marker.size}<extra></extra>\",\"legendgroup\":\"Wales\",\"marker\":{\"color\":\"#EF553B\",\"size\":[46.7],\"sizemode\":\"area\",\"sizeref\":0.1895,\"symbol\":\"circle\"},\"mode\":\"markers+text\",\"name\":\"Wales\",\"orientation\":\"v\",\"showlegend\":true,\"text\":[\"Wales\"],\"x\":[1044],\"xaxis\":\"x\",\"y\":[20874],\"yaxis\":\"y\",\"type\":\"scatter\"}],                        {\"template\":{\"data\":{\"barpolar\":[{\"marker\":{\"line\":{\"color\":\"rgb(237,237,237)\",\"width\":0.5},\"pattern\":{\"fillmode\":\"overlay\",\"size\":10,\"solidity\":0.2}},\"type\":\"barpolar\"}],\"bar\":[{\"error_x\":{\"color\":\"rgb(51,51,51)\"},\"error_y\":{\"color\":\"rgb(51,51,51)\"},\"marker\":{\"line\":{\"color\":\"rgb(237,237,237)\",\"width\":0.5},\"pattern\":{\"fillmode\":\"overlay\",\"size\":10,\"solidity\":0.2}},\"type\":\"bar\"}],\"carpet\":[{\"aaxis\":{\"endlinecolor\":\"rgb(51,51,51)\",\"gridcolor\":\"white\",\"linecolor\":\"white\",\"minorgridcolor\":\"white\",\"startlinecolor\":\"rgb(51,51,51)\"},\"baxis\":{\"endlinecolor\":\"rgb(51,51,51)\",\"gridcolor\":\"white\",\"linecolor\":\"white\",\"minorgridcolor\":\"white\",\"startlinecolor\":\"rgb(51,51,51)\"},\"type\":\"carpet\"}],\"choropleth\":[{\"colorbar\":{\"outlinewidth\":0,\"tickcolor\":\"rgb(237,237,237)\",\"ticklen\":6,\"ticks\":\"inside\"},\"type\":\"choropleth\"}],\"contourcarpet\":[{\"colorbar\":{\"outlinewidth\":0,\"tickcolor\":\"rgb(237,237,237)\",\"ticklen\":6,\"ticks\":\"inside\"},\"type\":\"contourcarpet\"}],\"contour\":[{\"colorbar\":{\"outlinewidth\":0,\"tickcolor\":\"rgb(237,237,237)\",\"ticklen\":6,\"ticks\":\"inside\"},\"colorscale\":[[0,\"rgb(20,44,66)\"],[1,\"rgb(90,179,244)\"]],\"type\":\"contour\"}],\"heatmapgl\":[{\"colorbar\":{\"outlinewidth\":0,\"tickcolor\":\"rgb(237,237,237)\",\"ticklen\":6,\"ticks\":\"inside\"},\"colorscale\":[[0,\"rgb(20,44,66)\"],[1,\"rgb(90,179,244)\"]],\"type\":\"heatmapgl\"}],\"heatmap\":[{\"colorbar\":{\"outlinewidth\":0,\"tickcolor\":\"rgb(237,237,237)\",\"ticklen\":6,\"ticks\":\"inside\"},\"colorscale\":[[0,\"rgb(20,44,66)\"],[1,\"rgb(90,179,244)\"]],\"type\":\"heatmap\"}],\"histogram2dcontour\":[{\"colorbar\":{\"outlinewidth\":0,\"tickcolor\":\"rgb(237,237,237)\",\"ticklen\":6,\"ticks\":\"inside\"},\"colorscale\":[[0,\"rgb(20,44,66)\"],[1,\"rgb(90,179,244)\"]],\"type\":\"histogram2dcontour\"}],\"histogram2d\":[{\"colorbar\":{\"outlinewidth\":0,\"tickcolor\":\"rgb(237,237,237)\",\"ticklen\":6,\"ticks\":\"inside\"},\"colorscale\":[[0,\"rgb(20,44,66)\"],[1,\"rgb(90,179,244)\"]],\"type\":\"histogram2d\"}],\"histogram\":[{\"marker\":{\"pattern\":{\"fillmode\":\"overlay\",\"size\":10,\"solidity\":0.2}},\"type\":\"histogram\"}],\"mesh3d\":[{\"colorbar\":{\"outlinewidth\":0,\"tickcolor\":\"rgb(237,237,237)\",\"ticklen\":6,\"ticks\":\"inside\"},\"type\":\"mesh3d\"}],\"parcoords\":[{\"line\":{\"colorbar\":{\"outlinewidth\":0,\"tickcolor\":\"rgb(237,237,237)\",\"ticklen\":6,\"ticks\":\"inside\"}},\"type\":\"parcoords\"}],\"pie\":[{\"automargin\":true,\"type\":\"pie\"}],\"scatter3d\":[{\"line\":{\"colorbar\":{\"outlinewidth\":0,\"tickcolor\":\"rgb(237,237,237)\",\"ticklen\":6,\"ticks\":\"inside\"}},\"marker\":{\"colorbar\":{\"outlinewidth\":0,\"tickcolor\":\"rgb(237,237,237)\",\"ticklen\":6,\"ticks\":\"inside\"}},\"type\":\"scatter3d\"}],\"scattercarpet\":[{\"marker\":{\"colorbar\":{\"outlinewidth\":0,\"tickcolor\":\"rgb(237,237,237)\",\"ticklen\":6,\"ticks\":\"inside\"}},\"type\":\"scattercarpet\"}],\"scattergeo\":[{\"marker\":{\"colorbar\":{\"outlinewidth\":0,\"tickcolor\":\"rgb(237,237,237)\",\"ticklen\":6,\"ticks\":\"inside\"}},\"type\":\"scattergeo\"}],\"scattergl\":[{\"marker\":{\"colorbar\":{\"outlinewidth\":0,\"tickcolor\":\"rgb(237,237,237)\",\"ticklen\":6,\"ticks\":\"inside\"}},\"type\":\"scattergl\"}],\"scattermapbox\":[{\"marker\":{\"colorbar\":{\"outlinewidth\":0,\"tickcolor\":\"rgb(237,237,237)\",\"ticklen\":6,\"ticks\":\"inside\"}},\"type\":\"scattermapbox\"}],\"scatterpolargl\":[{\"marker\":{\"colorbar\":{\"outlinewidth\":0,\"tickcolor\":\"rgb(237,237,237)\",\"ticklen\":6,\"ticks\":\"inside\"}},\"type\":\"scatterpolargl\"}],\"scatterpolar\":[{\"marker\":{\"colorbar\":{\"outlinewidth\":0,\"tickcolor\":\"rgb(237,237,237)\",\"ticklen\":6,\"ticks\":\"inside\"}},\"type\":\"scatterpolar\"}],\"scatter\":[{\"fillpattern\":{\"fillmode\":\"overlay\",\"size\":10,\"solidity\":0.2},\"type\":\"scatter\"}],\"scatterternary\":[{\"marker\":{\"colorbar\":{\"outlinewidth\":0,\"tickcolor\":\"rgb(237,237,237)\",\"ticklen\":6,\"ticks\":\"inside\"}},\"type\":\"scatterternary\"}],\"surface\":[{\"colorbar\":{\"outlinewidth\":0,\"tickcolor\":\"rgb(237,237,237)\",\"ticklen\":6,\"ticks\":\"inside\"},\"colorscale\":[[0,\"rgb(20,44,66)\"],[1,\"rgb(90,179,244)\"]],\"type\":\"surface\"}],\"table\":[{\"cells\":{\"fill\":{\"color\":\"rgb(237,237,237)\"},\"line\":{\"color\":\"white\"}},\"header\":{\"fill\":{\"color\":\"rgb(217,217,217)\"},\"line\":{\"color\":\"white\"}},\"type\":\"table\"}]},\"layout\":{\"annotationdefaults\":{\"arrowhead\":0,\"arrowwidth\":1},\"autotypenumbers\":\"strict\",\"coloraxis\":{\"colorbar\":{\"outlinewidth\":0,\"tickcolor\":\"rgb(237,237,237)\",\"ticklen\":6,\"ticks\":\"inside\"}},\"colorscale\":{\"sequential\":[[0,\"rgb(20,44,66)\"],[1,\"rgb(90,179,244)\"]],\"sequentialminus\":[[0,\"rgb(20,44,66)\"],[1,\"rgb(90,179,244)\"]]},\"colorway\":[\"#F8766D\",\"#A3A500\",\"#00BF7D\",\"#00B0F6\",\"#E76BF3\"],\"font\":{\"color\":\"rgb(51,51,51)\"},\"geo\":{\"bgcolor\":\"white\",\"lakecolor\":\"white\",\"landcolor\":\"rgb(237,237,237)\",\"showlakes\":true,\"showland\":true,\"subunitcolor\":\"white\"},\"hoverlabel\":{\"align\":\"left\"},\"hovermode\":\"closest\",\"paper_bgcolor\":\"white\",\"plot_bgcolor\":\"rgb(237,237,237)\",\"polar\":{\"angularaxis\":{\"gridcolor\":\"white\",\"linecolor\":\"white\",\"showgrid\":true,\"tickcolor\":\"rgb(51,51,51)\",\"ticks\":\"outside\"},\"bgcolor\":\"rgb(237,237,237)\",\"radialaxis\":{\"gridcolor\":\"white\",\"linecolor\":\"white\",\"showgrid\":true,\"tickcolor\":\"rgb(51,51,51)\",\"ticks\":\"outside\"}},\"scene\":{\"xaxis\":{\"backgroundcolor\":\"rgb(237,237,237)\",\"gridcolor\":\"white\",\"gridwidth\":2,\"linecolor\":\"white\",\"showbackground\":true,\"showgrid\":true,\"tickcolor\":\"rgb(51,51,51)\",\"ticks\":\"outside\",\"zerolinecolor\":\"white\"},\"yaxis\":{\"backgroundcolor\":\"rgb(237,237,237)\",\"gridcolor\":\"white\",\"gridwidth\":2,\"linecolor\":\"white\",\"showbackground\":true,\"showgrid\":true,\"tickcolor\":\"rgb(51,51,51)\",\"ticks\":\"outside\",\"zerolinecolor\":\"white\"},\"zaxis\":{\"backgroundcolor\":\"rgb(237,237,237)\",\"gridcolor\":\"white\",\"gridwidth\":2,\"linecolor\":\"white\",\"showbackground\":true,\"showgrid\":true,\"tickcolor\":\"rgb(51,51,51)\",\"ticks\":\"outside\",\"zerolinecolor\":\"white\"}},\"shapedefaults\":{\"fillcolor\":\"black\",\"line\":{\"width\":0},\"opacity\":0.3},\"ternary\":{\"aaxis\":{\"gridcolor\":\"white\",\"linecolor\":\"white\",\"showgrid\":true,\"tickcolor\":\"rgb(51,51,51)\",\"ticks\":\"outside\"},\"baxis\":{\"gridcolor\":\"white\",\"linecolor\":\"white\",\"showgrid\":true,\"tickcolor\":\"rgb(51,51,51)\",\"ticks\":\"outside\"},\"bgcolor\":\"rgb(237,237,237)\",\"caxis\":{\"gridcolor\":\"white\",\"linecolor\":\"white\",\"showgrid\":true,\"tickcolor\":\"rgb(51,51,51)\",\"ticks\":\"outside\"}},\"xaxis\":{\"automargin\":true,\"gridcolor\":\"white\",\"linecolor\":\"white\",\"showgrid\":true,\"tickcolor\":\"rgb(51,51,51)\",\"ticks\":\"outside\",\"title\":{\"standoff\":15},\"zerolinecolor\":\"white\"},\"yaxis\":{\"automargin\":true,\"gridcolor\":\"white\",\"linecolor\":\"white\",\"showgrid\":true,\"tickcolor\":\"rgb(51,51,51)\",\"ticks\":\"outside\",\"title\":{\"standoff\":15},\"zerolinecolor\":\"white\"}}},\"xaxis\":{\"anchor\":\"y\",\"domain\":[0.0,1.0],\"title\":{\"text\":\"passes_completed\"}},\"yaxis\":{\"anchor\":\"x\",\"domain\":[0.0,1.0],\"title\":{\"text\":\"passes_total_distance\"}},\"legend\":{\"title\":{\"text\":\"team\"},\"tracegroupgap\":0,\"itemsizing\":\"constant\"},\"margin\":{\"t\":60},\"height\":750,\"width\":850,\"shapes\":[{\"line\":{\"color\":\"black\",\"dash\":\"dot\",\"width\":0.5},\"opacity\":1,\"type\":\"line\",\"x0\":0,\"x1\":0.9,\"xref\":\"paper\",\"y0\":0,\"y1\":0.99,\"yref\":\"paper\"},{\"line\":{\"color\":\"black\"},\"opacity\":0.2,\"type\":\"circle\",\"x0\":0.89,\"x1\":0.98,\"xref\":\"paper\",\"y0\":0.84,\"y1\":0.94,\"yref\":\"paper\"}],\"title\":{\"text\":\"<b> Total Passes Completed vs Total Distance of Passes <b>\",\"font\":{\"size\":24}},\"showlegend\":false},                        {\"responsive\": true}                    ).then(function(){\n",
       "                            \n",
       "var gd = document.getElementById('2679d9d5-fad8-4e51-a665-23346f32c172');\n",
       "var x = new MutationObserver(function (mutations, observer) {{\n",
       "        var display = window.getComputedStyle(gd).display;\n",
       "        if (!display || display === 'none') {{\n",
       "            console.log([gd, 'removed!']);\n",
       "            Plotly.purge(gd);\n",
       "            observer.disconnect();\n",
       "        }}\n",
       "}});\n",
       "\n",
       "// Listen for the removal of the full notebook cells\n",
       "var notebookContainer = gd.closest('#notebook-container');\n",
       "if (notebookContainer) {{\n",
       "    x.observe(notebookContainer, {childList: true});\n",
       "}}\n",
       "\n",
       "// Listen for the clearing of the current output cell\n",
       "var outputEl = gd.closest('.output');\n",
       "if (outputEl) {{\n",
       "    x.observe(outputEl, {childList: true});\n",
       "}}\n",
       "\n",
       "                        })                };                });            </script>        </div>"
      ]
     },
     "metadata": {},
     "output_type": "display_data"
    }
   ],
   "source": [
    "fig = px.scatter(team_data,\n",
    "                 x='passes_completed',\n",
    "                 y='passes_total_distance',\n",
    "                 color='team',\n",
    "                 size='possession',\n",
    "                 width=850,\n",
    "                 height=750,\n",
    "                 text=team_data['team']\n",
    "                )\n",
    "\n",
    "fig.add_shape( \n",
    "    type=\"line\", line_color=\"black\", line_width=0.5, opacity=1, line_dash=\"dot\",\n",
    "    y0=0, y1=0.99, yref=\"paper\", x0=0, x1=0.9, xref=\"paper\", \n",
    ")\n",
    "\n",
    "fig.add_shape(type=\"circle\",\n",
    "    xref=\"paper\", yref=\"paper\",\n",
    "    fillcolor=None,opacity=0.2,\n",
    "    x0=.89, y0=.84, x1=0.98, y1=0.94,\n",
    "    line_color=\"black\",\n",
    ")\n",
    "\n",
    "fig.update_layout(showlegend=False, title='<b> Total Passes Completed vs Total Distance of Passes <b>', template='ggplot2', titlefont={'size':24})\n",
    "fig.show()"
   ]
  },
  {
   "cell_type": "markdown",
   "id": "9771192b",
   "metadata": {
    "papermill": {
     "duration": 0.013853,
     "end_time": "2023-01-26T09:46:30.797510",
     "exception": false,
     "start_time": "2023-01-26T09:46:30.783657",
     "status": "completed"
    },
    "tags": []
   },
   "source": [
    "The following table confirms that Argentina is indeed the team which averaged the shortest pass-distance, 15.5m per pass. The overall average is 17.7m and the highest is almost 20m recorded by team Wales."
   ]
  },
  {
   "cell_type": "code",
   "execution_count": 11,
   "id": "6ff8e981",
   "metadata": {
    "_kg_hide-input": true,
    "execution": {
     "iopub.execute_input": "2023-01-26T09:46:30.827365Z",
     "iopub.status.busy": "2023-01-26T09:46:30.826949Z",
     "iopub.status.idle": "2023-01-26T09:46:30.855212Z",
     "shell.execute_reply": "2023-01-26T09:46:30.853469Z"
    },
    "papermill": {
     "duration": 0.046184,
     "end_time": "2023-01-26T09:46:30.857915",
     "exception": false,
     "start_time": "2023-01-26T09:46:30.811731",
     "status": "completed"
    },
    "tags": []
   },
   "outputs": [
    {
     "name": "stdout",
     "output_type": "stream",
     "text": [
      "Average Passing Distance Statistics\n",
      "+-------+----------+\n",
      "| count | 32       |\n",
      "| mean  | 17.7369  |\n",
      "| std   |  0.92504 |\n",
      "| min   | 15.5     |\n",
      "| 25%   | 17.1125  |\n",
      "| 50%   | 17.67    |\n",
      "| 75%   | 18.2425  |\n",
      "| max   | 19.99    |\n",
      "+-------+----------+\n",
      "Average Passing Distance (m)\n",
      "+----+----------------+-------+\n",
      "|  0 | Argentina      | 15.5  |\n",
      "|  3 | Brazil         | 16.45 |\n",
      "| 12 | Germany        | 16.53 |\n",
      "|  7 | Croatia        | 16.6  |\n",
      "|  5 | Canada         | 16.88 |\n",
      "| 19 | Netherlands    | 16.93 |\n",
      "| 18 | Morocco        | 17.02 |\n",
      "| 23 | Saudi Arabia   | 17.06 |\n",
      "| 13 | Ghana          | 17.13 |\n",
      "|  9 | Ecuador        | 17.28 |\n",
      "| 15 | Japan          | 17.43 |\n",
      "| 24 | Senegal        | 17.48 |\n",
      "| 27 | Switzerland    | 17.55 |\n",
      "| 22 | Qatar          | 17.58 |\n",
      "| 26 | Spain          | 17.63 |\n",
      "| 25 | Serbia         | 17.65 |\n",
      "| 30 | Uruguay        | 17.69 |\n",
      "| 21 | Portugal       | 17.72 |\n",
      "| 29 | United States  | 17.79 |\n",
      "|  1 | Australia      | 17.93 |\n",
      "|  8 | Denmark        | 17.99 |\n",
      "| 11 | France         | 18.07 |\n",
      "| 17 | Mexico         | 18.11 |\n",
      "| 10 | England        | 18.19 |\n",
      "| 14 | Iran           | 18.4  |\n",
      "|  4 | Cameroon       | 18.57 |\n",
      "|  6 | Costa Rica     | 18.6  |\n",
      "| 16 | Korea Republic | 18.62 |\n",
      "| 20 | Poland         | 18.7  |\n",
      "|  2 | Belgium        | 19.02 |\n",
      "| 28 | Tunisia        | 19.49 |\n",
      "| 31 | Wales          | 19.99 |\n",
      "+----+----------------+-------+\n"
     ]
    }
   ],
   "source": [
    "from tabulate import tabulate\n",
    "\n",
    "team_data['avg_dist_per_pass'] = np.round(team_data['passes_total_distance']/team_data['passes_completed'], 2)\n",
    "df= team_data.loc[:, ['team', 'avg_dist_per_pass']].sort_values(by='avg_dist_per_pass', ascending=True)\n",
    "\n",
    "print('Average Passing Distance Statistics')\n",
    "print(tabulate(df.describe()[:], tablefmt = 'psql'))\n",
    "\n",
    "print('Average Passing Distance (m)')\n",
    "print(tabulate(df, tablefmt = 'psql'))"
   ]
  },
  {
   "cell_type": "markdown",
   "id": "690946ef",
   "metadata": {
    "papermill": {
     "duration": 0.013677,
     "end_time": "2023-01-26T09:46:30.885900",
     "exception": false,
     "start_time": "2023-01-26T09:46:30.872223",
     "status": "completed"
    },
    "tags": []
   },
   "source": [
    "### Touches\n",
    "\n",
    "Touches is defined as the sum of all events where a player touches the ball excluding things like Aerial Duel lost or Challenge lost. Knowing on which area of the pitch those touches are occurring help us identify which teams are attack minded which are not. Since the majority of the game is contested in the middle of the park, perhaps the attacking third and the defensive third are more important to know. A football pitch has three zones; the defensive third, the middle third and the attacking third. The following picture shows the three zones of the pitch (blue line is the direction of play).\n",
    "\n",
    "![](https://4.bp.blogspot.com/-ZmFrMnhI7rg/Vbn8cUxOsVI/AAAAAAAAGWg/xtlOOcJTGFg/s1600/pitch%2Bzone.png)\n",
    "\n",
    "[Picture Source](https://objective-football.blogspot.com/2015/07/territory.html)\n",
    "\n",
    "**KEY**: `D Zone => defensive third`; `N Zone => Neutral Zone (middle third)` and `A Zone => Attacking third`\n",
    "\n",
    "**Observations**:\n",
    "- Costa Rica is the defensive team of all with ~48% of their touches happening in the defensive third (Argentina and France have made 26.4% and 26.9% touches in the middle respectively).\n",
    "- Spain loves the neutral zone. 60.4% of their touches are happening there (Argentina and France have made 50.4% touches in the middle)\n",
    "- Germany are the most attacking team with 31% of their touches occuring in the attacking third of the pitch (Argentina and France have made ~24% touches in the final third).\n",
    "- Morocco is firmly on the defensive side having ranked second in the defensive third touches and 3 from the bottom in terms of touches in the attacking third.\n"
   ]
  },
  {
   "cell_type": "code",
   "execution_count": 12,
   "id": "7c12832e",
   "metadata": {
    "_kg_hide-input": true,
    "execution": {
     "iopub.execute_input": "2023-01-26T09:46:30.916341Z",
     "iopub.status.busy": "2023-01-26T09:46:30.915735Z",
     "iopub.status.idle": "2023-01-26T09:46:31.014365Z",
     "shell.execute_reply": "2023-01-26T09:46:31.013147Z"
    },
    "papermill": {
     "duration": 0.116763,
     "end_time": "2023-01-26T09:46:31.016808",
     "exception": false,
     "start_time": "2023-01-26T09:46:30.900045",
     "status": "completed"
    },
    "tags": []
   },
   "outputs": [
    {
     "data": {
      "text/html": [
       "<div>                            <div id=\"3d96b50d-ef5f-4932-94a2-545456c612f3\" class=\"plotly-graph-div\" style=\"height:600px; width:1000px;\"></div>            <script type=\"text/javascript\">                require([\"plotly\"], function(Plotly) {                    window.PLOTLYENV=window.PLOTLYENV || {};                                    if (document.getElementById(\"3d96b50d-ef5f-4932-94a2-545456c612f3\")) {                    Plotly.newPlot(                        \"3d96b50d-ef5f-4932-94a2-545456c612f3\",                        [{\"marker\":{\"color\":[\"gray\",\"crimson\",\"lightseagreen\",\"lightseagreen\",\"lightseagreen\",\"lightseagreen\",\"lightseagreen\",\"lightseagreen\",\"lightseagreen\",\"lightseagreen\",\"lightseagreen\",\"lightseagreen\",\"lightseagreen\",\"lightseagreen\",\"lightseagreen\",\"lightseagreen\",\"lightseagreen\",\"lightseagreen\",\"lightseagreen\",\"lightseagreen\",\"lightseagreen\",\"lightseagreen\",\"lightseagreen\",\"lightseagreen\",\"lightseagreen\",\"lightseagreen\",\"lightseagreen\",\"lightseagreen\",\"lightseagreen\",\"lightseagreen\",\"lightseagreen\",\"lightseagreen\"],\"line\":{\"width\":2.5}},\"name\":\"def_3rd\",\"x\":[\"Costa Rica\",\"Morocco\",\"Australia\",\"Iran\",\"Ghana\",\"Cameroon\",\"Belgium\",\"Tunisia\",\"Wales\",\"Poland\",\"Qatar\",\"Switzerland\",\"Japan\",\"Senegal\",\"Ecuador\",\"Serbia\",\"Saudi Arabia\",\"Uruguay\",\"Netherlands\",\"Korea Republic\",\"Croatia\",\"Mexico\",\"England\",\"United States\",\"Portugal\",\"Canada\",\"France\",\"Argentina\",\"Denmark\",\"Germany\",\"Brazil\",\"Spain\"],\"y\":[47.910863509749305,42.00863930885529,40.928074245939676,39.00560224089636,38.98514851485149,38.44684914067473,38.12154696132597,37.913043478260875,37.02177751618599,36.554192229038854,35.15954244431065,35.14748649771499,34.82542524619517,33.54096789650215,32.82226007950028,31.993392070484582,31.785944551902002,31.263616557734203,30.350527215730978,29.65431070387339,29.122541603630864,28.50678733031674,27.713498622589533,27.464258841234013,27.418447694038246,27.368978295394385,26.87447346251053,26.42910170749814,25.8980044345898,25.44353093898745,24.86744432661718,18.348837209302328],\"type\":\"bar\",\"showlegend\":true},{\"marker\":{\"color\":[\"gold\",\"lightseagreen\",\"lightseagreen\",\"lightseagreen\",\"lightseagreen\",\"lightseagreen\",\"lightseagreen\",\"lightseagreen\",\"lightseagreen\",\"lightseagreen\",\"lightseagreen\",\"lightseagreen\",\"lightseagreen\",\"lightseagreen\",\"lightseagreen\",\"lightseagreen\",\"lightseagreen\",\"lightseagreen\",\"lightseagreen\",\"lightseagreen\",\"lightseagreen\",\"lightseagreen\",\"lightseagreen\",\"lightseagreen\",\"lightseagreen\",\"lightseagreen\",\"lightseagreen\",\"crimson\",\"lightseagreen\",\"lightseagreen\",\"lightseagreen\",\"lightseagreen\"],\"line\":{\"width\":2.5}},\"name\":\"mid_3rd\",\"x\":[\"Spain\",\"England\",\"Denmark\",\"Croatia\",\"Netherlands\",\"Qatar\",\"France\",\"Argentina\",\"Mexico\",\"Canada\",\"Ecuador\",\"Brazil\",\"Portugal\",\"Uruguay\",\"Serbia\",\"United States\",\"Japan\",\"Belgium\",\"Poland\",\"Switzerland\",\"Germany\",\"Wales\",\"Saudi Arabia\",\"Tunisia\",\"Korea Republic\",\"Senegal\",\"Cameroon\",\"Morocco\",\"Australia\",\"Ghana\",\"Iran\",\"Costa Rica\"],\"y\":[60.372093023255815,52.09366391184573,51.52993348115299,51.04009077155824,50.98318609290396,50.51173991571343,50.4212299915754,50.40831477357089,50.16968325791855,50.07940709370037,49.91482112436116,48.75397667020148,48.4251968503937,48.36601307189542,47.57709251101321,47.17832957110609,45.837063563115485,45.81031307550645,45.756646216768914,45.61695056086415,44.7858070099524,44.37904649793997,43.45583494519665,43.188405797101446,42.940441482715535,42.50119789171059,42.393380012730745,42.251619870410366,42.22737819025522,41.46039603960396,41.45658263305322,41.364902506963794],\"type\":\"bar\",\"showlegend\":true},{\"marker\":{\"color\":[\"black\",\"lightseagreen\",\"lightseagreen\",\"lightseagreen\",\"lightseagreen\",\"lightseagreen\",\"lightseagreen\",\"lightseagreen\",\"lightseagreen\",\"lightseagreen\",\"lightseagreen\",\"lightseagreen\",\"lightseagreen\",\"lightseagreen\",\"lightseagreen\",\"lightseagreen\",\"lightseagreen\",\"lightseagreen\",\"lightseagreen\",\"lightseagreen\",\"lightseagreen\",\"lightseagreen\",\"lightseagreen\",\"lightseagreen\",\"lightseagreen\",\"lightseagreen\",\"lightseagreen\",\"lightseagreen\",\"lightseagreen\",\"crimson\",\"lightseagreen\",\"lightseagreen\"],\"line\":{\"width\":2.5}},\"name\":\"att_3rd\",\"x\":[\"Germany\",\"Korea Republic\",\"Brazil\",\"Saudi Arabia\",\"United States\",\"Senegal\",\"Portugal\",\"Argentina\",\"France\",\"Canada\",\"Denmark\",\"Mexico\",\"Spain\",\"Serbia\",\"Uruguay\",\"England\",\"Iran\",\"Croatia\",\"Ghana\",\"Cameroon\",\"Japan\",\"Switzerland\",\"Tunisia\",\"Netherlands\",\"Wales\",\"Poland\",\"Ecuador\",\"Australia\",\"Belgium\",\"Morocco\",\"Qatar\",\"Costa Rica\"],\"y\":[30.592816962353957,27.946688879633484,27.041357370095444,26.370083816892326,26.185101580135438,25.155725922376615,24.69066366704162,23.997772828507795,23.86267902274642,23.345685547908946,23.28159645232816,22.171945701357465,21.790697674418606,21.58590308370044,21.296296296296298,21.21212121212121,21.1484593837535,21.06656580937973,20.915841584158414,20.623806492679822,20.277529095792303,20.1495637723307,19.884057971014492,19.321744086634368,18.952324896998235,18.66053169734151,17.94434980124929,17.540603248259863,16.988950276243095,16.65766738660907,15.111378687537627,11.838440111420613],\"type\":\"bar\",\"showlegend\":true}],                        {\"template\":{\"data\":{\"barpolar\":[{\"marker\":{\"line\":{\"color\":\"rgb(237,237,237)\",\"width\":0.5},\"pattern\":{\"fillmode\":\"overlay\",\"size\":10,\"solidity\":0.2}},\"type\":\"barpolar\"}],\"bar\":[{\"error_x\":{\"color\":\"rgb(51,51,51)\"},\"error_y\":{\"color\":\"rgb(51,51,51)\"},\"marker\":{\"line\":{\"color\":\"rgb(237,237,237)\",\"width\":0.5},\"pattern\":{\"fillmode\":\"overlay\",\"size\":10,\"solidity\":0.2}},\"type\":\"bar\"}],\"carpet\":[{\"aaxis\":{\"endlinecolor\":\"rgb(51,51,51)\",\"gridcolor\":\"white\",\"linecolor\":\"white\",\"minorgridcolor\":\"white\",\"startlinecolor\":\"rgb(51,51,51)\"},\"baxis\":{\"endlinecolor\":\"rgb(51,51,51)\",\"gridcolor\":\"white\",\"linecolor\":\"white\",\"minorgridcolor\":\"white\",\"startlinecolor\":\"rgb(51,51,51)\"},\"type\":\"carpet\"}],\"choropleth\":[{\"colorbar\":{\"outlinewidth\":0,\"tickcolor\":\"rgb(237,237,237)\",\"ticklen\":6,\"ticks\":\"inside\"},\"type\":\"choropleth\"}],\"contourcarpet\":[{\"colorbar\":{\"outlinewidth\":0,\"tickcolor\":\"rgb(237,237,237)\",\"ticklen\":6,\"ticks\":\"inside\"},\"type\":\"contourcarpet\"}],\"contour\":[{\"colorbar\":{\"outlinewidth\":0,\"tickcolor\":\"rgb(237,237,237)\",\"ticklen\":6,\"ticks\":\"inside\"},\"colorscale\":[[0,\"rgb(20,44,66)\"],[1,\"rgb(90,179,244)\"]],\"type\":\"contour\"}],\"heatmapgl\":[{\"colorbar\":{\"outlinewidth\":0,\"tickcolor\":\"rgb(237,237,237)\",\"ticklen\":6,\"ticks\":\"inside\"},\"colorscale\":[[0,\"rgb(20,44,66)\"],[1,\"rgb(90,179,244)\"]],\"type\":\"heatmapgl\"}],\"heatmap\":[{\"colorbar\":{\"outlinewidth\":0,\"tickcolor\":\"rgb(237,237,237)\",\"ticklen\":6,\"ticks\":\"inside\"},\"colorscale\":[[0,\"rgb(20,44,66)\"],[1,\"rgb(90,179,244)\"]],\"type\":\"heatmap\"}],\"histogram2dcontour\":[{\"colorbar\":{\"outlinewidth\":0,\"tickcolor\":\"rgb(237,237,237)\",\"ticklen\":6,\"ticks\":\"inside\"},\"colorscale\":[[0,\"rgb(20,44,66)\"],[1,\"rgb(90,179,244)\"]],\"type\":\"histogram2dcontour\"}],\"histogram2d\":[{\"colorbar\":{\"outlinewidth\":0,\"tickcolor\":\"rgb(237,237,237)\",\"ticklen\":6,\"ticks\":\"inside\"},\"colorscale\":[[0,\"rgb(20,44,66)\"],[1,\"rgb(90,179,244)\"]],\"type\":\"histogram2d\"}],\"histogram\":[{\"marker\":{\"pattern\":{\"fillmode\":\"overlay\",\"size\":10,\"solidity\":0.2}},\"type\":\"histogram\"}],\"mesh3d\":[{\"colorbar\":{\"outlinewidth\":0,\"tickcolor\":\"rgb(237,237,237)\",\"ticklen\":6,\"ticks\":\"inside\"},\"type\":\"mesh3d\"}],\"parcoords\":[{\"line\":{\"colorbar\":{\"outlinewidth\":0,\"tickcolor\":\"rgb(237,237,237)\",\"ticklen\":6,\"ticks\":\"inside\"}},\"type\":\"parcoords\"}],\"pie\":[{\"automargin\":true,\"type\":\"pie\"}],\"scatter3d\":[{\"line\":{\"colorbar\":{\"outlinewidth\":0,\"tickcolor\":\"rgb(237,237,237)\",\"ticklen\":6,\"ticks\":\"inside\"}},\"marker\":{\"colorbar\":{\"outlinewidth\":0,\"tickcolor\":\"rgb(237,237,237)\",\"ticklen\":6,\"ticks\":\"inside\"}},\"type\":\"scatter3d\"}],\"scattercarpet\":[{\"marker\":{\"colorbar\":{\"outlinewidth\":0,\"tickcolor\":\"rgb(237,237,237)\",\"ticklen\":6,\"ticks\":\"inside\"}},\"type\":\"scattercarpet\"}],\"scattergeo\":[{\"marker\":{\"colorbar\":{\"outlinewidth\":0,\"tickcolor\":\"rgb(237,237,237)\",\"ticklen\":6,\"ticks\":\"inside\"}},\"type\":\"scattergeo\"}],\"scattergl\":[{\"marker\":{\"colorbar\":{\"outlinewidth\":0,\"tickcolor\":\"rgb(237,237,237)\",\"ticklen\":6,\"ticks\":\"inside\"}},\"type\":\"scattergl\"}],\"scattermapbox\":[{\"marker\":{\"colorbar\":{\"outlinewidth\":0,\"tickcolor\":\"rgb(237,237,237)\",\"ticklen\":6,\"ticks\":\"inside\"}},\"type\":\"scattermapbox\"}],\"scatterpolargl\":[{\"marker\":{\"colorbar\":{\"outlinewidth\":0,\"tickcolor\":\"rgb(237,237,237)\",\"ticklen\":6,\"ticks\":\"inside\"}},\"type\":\"scatterpolargl\"}],\"scatterpolar\":[{\"marker\":{\"colorbar\":{\"outlinewidth\":0,\"tickcolor\":\"rgb(237,237,237)\",\"ticklen\":6,\"ticks\":\"inside\"}},\"type\":\"scatterpolar\"}],\"scatter\":[{\"fillpattern\":{\"fillmode\":\"overlay\",\"size\":10,\"solidity\":0.2},\"type\":\"scatter\"}],\"scatterternary\":[{\"marker\":{\"colorbar\":{\"outlinewidth\":0,\"tickcolor\":\"rgb(237,237,237)\",\"ticklen\":6,\"ticks\":\"inside\"}},\"type\":\"scatterternary\"}],\"surface\":[{\"colorbar\":{\"outlinewidth\":0,\"tickcolor\":\"rgb(237,237,237)\",\"ticklen\":6,\"ticks\":\"inside\"},\"colorscale\":[[0,\"rgb(20,44,66)\"],[1,\"rgb(90,179,244)\"]],\"type\":\"surface\"}],\"table\":[{\"cells\":{\"fill\":{\"color\":\"rgb(237,237,237)\"},\"line\":{\"color\":\"white\"}},\"header\":{\"fill\":{\"color\":\"rgb(217,217,217)\"},\"line\":{\"color\":\"white\"}},\"type\":\"table\"}]},\"layout\":{\"annotationdefaults\":{\"arrowhead\":0,\"arrowwidth\":1},\"autotypenumbers\":\"strict\",\"coloraxis\":{\"colorbar\":{\"outlinewidth\":0,\"tickcolor\":\"rgb(237,237,237)\",\"ticklen\":6,\"ticks\":\"inside\"}},\"colorscale\":{\"sequential\":[[0,\"rgb(20,44,66)\"],[1,\"rgb(90,179,244)\"]],\"sequentialminus\":[[0,\"rgb(20,44,66)\"],[1,\"rgb(90,179,244)\"]]},\"colorway\":[\"#F8766D\",\"#A3A500\",\"#00BF7D\",\"#00B0F6\",\"#E76BF3\"],\"font\":{\"color\":\"rgb(51,51,51)\"},\"geo\":{\"bgcolor\":\"white\",\"lakecolor\":\"white\",\"landcolor\":\"rgb(237,237,237)\",\"showlakes\":true,\"showland\":true,\"subunitcolor\":\"white\"},\"hoverlabel\":{\"align\":\"left\"},\"hovermode\":\"closest\",\"paper_bgcolor\":\"white\",\"plot_bgcolor\":\"rgb(237,237,237)\",\"polar\":{\"angularaxis\":{\"gridcolor\":\"white\",\"linecolor\":\"white\",\"showgrid\":true,\"tickcolor\":\"rgb(51,51,51)\",\"ticks\":\"outside\"},\"bgcolor\":\"rgb(237,237,237)\",\"radialaxis\":{\"gridcolor\":\"white\",\"linecolor\":\"white\",\"showgrid\":true,\"tickcolor\":\"rgb(51,51,51)\",\"ticks\":\"outside\"}},\"scene\":{\"xaxis\":{\"backgroundcolor\":\"rgb(237,237,237)\",\"gridcolor\":\"white\",\"gridwidth\":2,\"linecolor\":\"white\",\"showbackground\":true,\"showgrid\":true,\"tickcolor\":\"rgb(51,51,51)\",\"ticks\":\"outside\",\"zerolinecolor\":\"white\"},\"yaxis\":{\"backgroundcolor\":\"rgb(237,237,237)\",\"gridcolor\":\"white\",\"gridwidth\":2,\"linecolor\":\"white\",\"showbackground\":true,\"showgrid\":true,\"tickcolor\":\"rgb(51,51,51)\",\"ticks\":\"outside\",\"zerolinecolor\":\"white\"},\"zaxis\":{\"backgroundcolor\":\"rgb(237,237,237)\",\"gridcolor\":\"white\",\"gridwidth\":2,\"linecolor\":\"white\",\"showbackground\":true,\"showgrid\":true,\"tickcolor\":\"rgb(51,51,51)\",\"ticks\":\"outside\",\"zerolinecolor\":\"white\"}},\"shapedefaults\":{\"fillcolor\":\"black\",\"line\":{\"width\":0},\"opacity\":0.3},\"ternary\":{\"aaxis\":{\"gridcolor\":\"white\",\"linecolor\":\"white\",\"showgrid\":true,\"tickcolor\":\"rgb(51,51,51)\",\"ticks\":\"outside\"},\"baxis\":{\"gridcolor\":\"white\",\"linecolor\":\"white\",\"showgrid\":true,\"tickcolor\":\"rgb(51,51,51)\",\"ticks\":\"outside\"},\"bgcolor\":\"rgb(237,237,237)\",\"caxis\":{\"gridcolor\":\"white\",\"linecolor\":\"white\",\"showgrid\":true,\"tickcolor\":\"rgb(51,51,51)\",\"ticks\":\"outside\"}},\"xaxis\":{\"automargin\":true,\"gridcolor\":\"white\",\"linecolor\":\"white\",\"showgrid\":true,\"tickcolor\":\"rgb(51,51,51)\",\"ticks\":\"outside\",\"title\":{\"standoff\":15},\"zerolinecolor\":\"white\"},\"yaxis\":{\"automargin\":true,\"gridcolor\":\"white\",\"linecolor\":\"white\",\"showgrid\":true,\"tickcolor\":\"rgb(51,51,51)\",\"ticks\":\"outside\",\"title\":{\"standoff\":15},\"zerolinecolor\":\"white\"}}},\"updatemenus\":[{\"buttons\":[{\"args\":[{\"visible\":[true,true,true]},{\"title\":\"Number of touches: Full zones of the pitch.\"}],\"label\":\"All zones\",\"method\":\"update\"},{\"args\":[{\"visible\":[true,false,false]},{\"title\":\"Number of touches: Defensive 3rd of the Pitch<br><span style=\\\"font-size:16px; color: darkgray\\\"> Costa Rica, with ~48% touces in the defensive 3rd of the pitch are the most defensive team.\"},{\"markercolor\":[\"gray\",\"crimson\",\"lightseagreen\",\"lightseagreen\",\"lightseagreen\",\"lightseagreen\",\"lightseagreen\",\"lightseagreen\",\"lightseagreen\",\"lightseagreen\",\"lightseagreen\",\"lightseagreen\",\"lightseagreen\",\"lightseagreen\",\"lightseagreen\",\"lightseagreen\",\"lightseagreen\",\"lightseagreen\",\"lightseagreen\",\"lightseagreen\",\"lightseagreen\",\"lightseagreen\",\"lightseagreen\",\"lightseagreen\",\"lightseagreen\",\"lightseagreen\",\"lightseagreen\",\"lightseagreen\",\"lightseagreen\",\"lightseagreen\",\"lightseagreen\",\"lightseagreen\"]}],\"label\":\"def_3rd\",\"method\":\"update\"},{\"args\":[{\"visible\":[false,true,false]},{\"title\":\"Number of touches: Middle 3rd of the Pitch<br><span style=\\\"font-size:16px; color: darkgray\\\"> With ~60% touces, Spain enjoyed most of their touches in the middle of the pitch!\"}],\"label\":\"mid_3rd\",\"method\":\"update\"},{\"args\":[{\"visible\":[false,false,true]},{\"title\":\"Number of touches: Attacking 3rd of the Pitch<br><span style=\\\"font-size:16px; color: darkgray\\\"> Germany is the only team which had touched the ball more than 30% in the attackig 3rd.\"}],\"label\":\"att_3rd\",\"method\":\"update\"}],\"direction\":\"down\",\"pad\":{\"r\":10,\"t\":10},\"showactive\":true,\"type\":\"buttons\",\"x\":-0.2,\"xanchor\":\"left\",\"y\":1.0,\"yanchor\":\"top\"}],\"title\":{\"text\":\"<b> Percentage of touches in various zones of the pitch <b><br><span style=\\\"font-size:16px; color: darkgray\\\"> A football pitch is divided in to three zones: defending, middle and attackig 3rd.\",\"font\":{\"size\":24}},\"width\":1000,\"height\":600,\"yaxis\":{\"title\":{\"text\":\"Touches (percentage of total touches)\"}},\"xaxis\":{\"title\":{\"text\":\"Teams\"}}},                        {\"responsive\": true}                    ).then(function(){\n",
       "                            \n",
       "var gd = document.getElementById('3d96b50d-ef5f-4932-94a2-545456c612f3');\n",
       "var x = new MutationObserver(function (mutations, observer) {{\n",
       "        var display = window.getComputedStyle(gd).display;\n",
       "        if (!display || display === 'none') {{\n",
       "            console.log([gd, 'removed!']);\n",
       "            Plotly.purge(gd);\n",
       "            observer.disconnect();\n",
       "        }}\n",
       "}});\n",
       "\n",
       "// Listen for the removal of the full notebook cells\n",
       "var notebookContainer = gd.closest('#notebook-container');\n",
       "if (notebookContainer) {{\n",
       "    x.observe(notebookContainer, {childList: true});\n",
       "}}\n",
       "\n",
       "// Listen for the clearing of the current output cell\n",
       "var outputEl = gd.closest('.output');\n",
       "if (outputEl) {{\n",
       "    x.observe(outputEl, {childList: true});\n",
       "}}\n",
       "\n",
       "                        })                };                });            </script>        </div>"
      ]
     },
     "metadata": {},
     "output_type": "display_data"
    }
   ],
   "source": [
    "team_data['touches_def_pen_area_percent'] = team_data['touches_def_pen_area']/team_data['touches']*100\n",
    "team_data['touches_def_3rd_percent'] = team_data['touches_def_3rd']/team_data['touches']*100\n",
    "team_data['touches_mid_3rd_percent'] = team_data['touches_mid_3rd']/team_data['touches']*100\n",
    "team_data['touches_att_3rd_percent'] = team_data['touches_att_3rd']/team_data['touches']*100\n",
    "team_data['touches_att_pen_area_percent'] = team_data['touches_att_pen_area']/team_data['touches']*100\n",
    "\n",
    "df1= team_data[['team', 'touches_def_3rd_percent']].sort_values('touches_def_3rd_percent', ascending=False)\n",
    "df2= team_data[['team', 'touches_mid_3rd_percent']].sort_values('touches_mid_3rd_percent', ascending=False)\n",
    "df3= team_data[['team', 'touches_att_3rd_percent']].sort_values('touches_att_3rd_percent', ascending=False)\n",
    "\n",
    "\n",
    "colors = ['lightseagreen',] * 32 \n",
    "colors[1] = 'crimson'\n",
    "colors[0] = 'gray'\n",
    "\n",
    "colors1 = ['lightseagreen',] * 32 \n",
    "colors1[27] = 'crimson'\n",
    "colors1[0] = 'gold' \n",
    "\n",
    "colors2 = ['lightseagreen',] * 32 \n",
    "colors2[29] = 'crimson'\n",
    "colors2[0] = 'black'\n",
    "\n",
    "\n",
    "fig = go.Figure(data=\n",
    "                 [go.Bar(\n",
    "                     name='def_3rd',\n",
    "                     y=df1['touches_def_3rd_percent'],\n",
    "                     x=df1[\"team\"],\n",
    "                     marker_color= colors,\n",
    "                     ),\n",
    "                  go.Bar(\n",
    "                      name='mid_3rd',\n",
    "                      y=df2['touches_mid_3rd_percent'],\n",
    "                      x=df2['team'],\n",
    "                      marker_color= colors1 ,\n",
    "                      ),\n",
    "                  go.Bar(\n",
    "                      name='att_3rd',\n",
    "                      y=df3['touches_att_3rd_percent'],\n",
    "                      x=df3['team'],\n",
    "                      marker_color= colors2 ,\n",
    "                      ),\n",
    "                  ]\n",
    "                 )\n",
    "\n",
    "# dropdown buttons\n",
    "\n",
    "fig.update_layout(\n",
    "    updatemenus=[\n",
    "        dict(\n",
    "            type=\"buttons\",\n",
    "            direction=\"down\",\n",
    "            \n",
    "            pad={\"r\": 10, \"t\": 10},\n",
    "            showactive=True,\n",
    "            x=-0.2,\n",
    "            xanchor=\"left\",\n",
    "            y=1.0,\n",
    "            yanchor=\"top\",\n",
    "            \n",
    "            buttons=list([\n",
    "                dict(label=\"All zones\",\n",
    "                    method=\"update\",\n",
    "                    args=[{\"visible\": [True, True, True]},\n",
    "                        {\"title\": \"Number of touches: Full zones of the pitch.\"}]),\n",
    "                dict(label=\"def_3rd\",\n",
    "                    method=\"update\",\n",
    "                    args=[{\"visible\": [True, False, False]},\n",
    "                        {\"title\": \"Number of touches: Defensive 3rd of the Pitch\"\\\n",
    "                         '<br><span style=\"font-size:16px; color: darkgray\"> Costa Rica, with ~48% touces in the defensive 3rd of the pitch are the most defensive team.',\n",
    "                            },\n",
    "                         {\"markercolor\": colors}]),\n",
    "                dict(label=\"mid_3rd\",\n",
    "                    method=\"update\",\n",
    "                    args=[{\"visible\": [False, True, False]},\n",
    "                        {\"title\": \"Number of touches: Middle 3rd of the Pitch\"\\\n",
    "                         '<br><span style=\"font-size:16px; color: darkgray\"> With ~60% touces, Spain enjoyed most of their touches in the middle of the pitch!',\n",
    "                            }]),\n",
    "                dict(label=\"att_3rd\",\n",
    "                    method=\"update\",\n",
    "                    args=[{\"visible\": [False, False, True]},\n",
    "                        {\"title\": \"Number of touches: Attacking 3rd of the Pitch\"\\\n",
    "                         '<br><span style=\"font-size:16px; color: darkgray\"> Germany is the only team which had touched the ball more than 30% in the attackig 3rd.',\n",
    "                            }]),\n",
    "            ]),\n",
    "        )\n",
    "    ])\n",
    "\n",
    "fig.update_layout(\n",
    "             template='ggplot2',\n",
    "             title=\"<b> Percentage of touches in various zones of the pitch <b>\"\\\n",
    "                         '<br><span style=\"font-size:16px; color: darkgray\"> A football pitch is divided in to three zones: defending, middle and attackig 3rd.',\n",
    "             titlefont={'size':24},\n",
    "             width=1000, \n",
    "             height=600,\n",
    ")\n",
    "\n",
    "\n",
    "fig.update_traces(showlegend=True,\n",
    "                  marker_line_color=None,\n",
    "                  marker_line_width=2.5, opacity=None)\n",
    "fig.update_yaxes(title='Touches (percentage of total touches)')\n",
    "fig.update_xaxes(title='Teams')\n",
    "fig.show()\n"
   ]
  },
  {
   "cell_type": "markdown",
   "id": "ef3ff8d0",
   "metadata": {
    "papermill": {
     "duration": 0.014248,
     "end_time": "2023-01-26T09:46:31.045818",
     "exception": false,
     "start_time": "2023-01-26T09:46:31.031570",
     "status": "completed"
    },
    "tags": []
   },
   "source": [
    "### Through Balls\n",
    "Another key part of the game is a type of pass called *through ball*. According to [[12]](https://soccerknowledgehub.com/through-ball-in-soccer/), a through ball is defined as \"a pass that is played by splitting at least two opposing defenders in an effort to penetrate a gap and advance into a more threatening position\". In a football game through balls can be very important when they are excited to perfection as they can create goal scoring opportunities by creating havoc in the defense and defenders making last ditch tackles. So who had the edge on this stat? Did they make the most out of it?\n",
    "\n",
    "**Observations**:\n",
    "- We notice that there are three clusters (above 2.5 *TBPG, below 0.5 TBPG and the middle cluster)\n",
    "- Except Morocco which is in the bottom cluster, the other semi-finalist are in the middle group, none are in the top group - an indication that through balls aren't easy to execute.\n",
    "- This stats also magnifies Belgium's and Spain's (the top two teams on this metric) underachievement or inefficiency in the final third of the pitch.\n",
    "- Denmark occupies the last spot having made no through balls at all, a little strange for a team Christian Eriksen (one of the creative midfielders in Europe) is part of. \n",
    "\n",
    "***TBPG**: Through balls per game."
   ]
  },
  {
   "cell_type": "code",
   "execution_count": 13,
   "id": "7f249d06",
   "metadata": {
    "_kg_hide-input": true,
    "execution": {
     "iopub.execute_input": "2023-01-26T09:46:31.082840Z",
     "iopub.status.busy": "2023-01-26T09:46:31.082308Z",
     "iopub.status.idle": "2023-01-26T09:46:31.208680Z",
     "shell.execute_reply": "2023-01-26T09:46:31.207220Z"
    },
    "jupyter": {
     "source_hidden": true
    },
    "papermill": {
     "duration": 0.151087,
     "end_time": "2023-01-26T09:46:31.211467",
     "exception": false,
     "start_time": "2023-01-26T09:46:31.060380",
     "status": "completed"
    },
    "tags": []
   },
   "outputs": [
    {
     "data": {
      "text/html": [
       "<div>                            <div id=\"6f7a5be8-7273-4521-8880-cec708644676\" class=\"plotly-graph-div\" style=\"height:600px; width:750px;\"></div>            <script type=\"text/javascript\">                require([\"plotly\"], function(Plotly) {                    window.PLOTLYENV=window.PLOTLYENV || {};                                    if (document.getElementById(\"6f7a5be8-7273-4521-8880-cec708644676\")) {                    Plotly.newPlot(                        \"6f7a5be8-7273-4521-8880-cec708644676\",                        [{\"alignmentgroup\":\"True\",\"hovertemplate\":\"through_balls_pergame=%{x}<br>team=%{y}<extra></extra>\",\"legendgroup\":\"\",\"marker\":{\"color\":[\"lightseagreen\",\"lightseagreen\",\"lightseagreen\",\"lightseagreen\",\"lightseagreen\",\"lightseagreen\",\"lightseagreen\",\"lightseagreen\",\"crimson\",\"lightseagreen\",\"lightseagreen\",\"lightseagreen\",\"lightseagreen\",\"lightseagreen\",\"lightseagreen\",\"lightseagreen\",\"lightseagreen\",\"lightseagreen\",\"lightseagreen\",\"lightseagreen\",\"lightseagreen\",\"lightseagreen\",\"lightseagreen\",\"lightseagreen\",\"lightseagreen\",\"lightseagreen\",\"lightseagreen\",\"lightseagreen\",\"lightseagreen\",\"lightseagreen\",\"lightseagreen\",\"lightseagreen\"],\"pattern\":{\"shape\":\"\"},\"line\":{\"width\":2.5}},\"name\":\"\",\"offsetgroup\":\"\",\"orientation\":\"h\",\"showlegend\":false,\"textposition\":\"auto\",\"x\":[0.0,0.25,0.25,0.25,0.25,0.3333333333333333,0.3333333333333333,0.3333333333333333,0.42857142857142855,0.6666666666666666,0.6666666666666666,0.75,0.8,1.0,1.0,1.0,1.2,1.25,1.3333333333333333,1.3333333333333333,1.3333333333333333,1.4,1.4,1.4285714285714286,1.5714285714285714,1.6666666666666667,1.6666666666666667,1.7142857142857142,2.6666666666666665,3.0,3.25,3.3333333333333335],\"xaxis\":\"x\",\"y\":[\"Denmark\",\"Australia\",\"Switzerland\",\"Poland\",\"Korea Republic\",\"Canada\",\"Costa Rica\",\"Ghana\",\"Morocco\",\"Wales\",\"Saudi Arabia\",\"United States\",\"England\",\"Qatar\",\"Japan\",\"Iran\",\"Portugal\",\"Senegal\",\"Uruguay\",\"Ecuador\",\"Cameroon\",\"Brazil\",\"Netherlands\",\"Argentina\",\"France\",\"Germany\",\"Tunisia\",\"Croatia\",\"Serbia\",\"Mexico\",\"Spain\",\"Belgium\"],\"yaxis\":\"y\",\"type\":\"bar\"}],                        {\"template\":{\"data\":{\"barpolar\":[{\"marker\":{\"line\":{\"color\":\"rgb(237,237,237)\",\"width\":0.5},\"pattern\":{\"fillmode\":\"overlay\",\"size\":10,\"solidity\":0.2}},\"type\":\"barpolar\"}],\"bar\":[{\"error_x\":{\"color\":\"rgb(51,51,51)\"},\"error_y\":{\"color\":\"rgb(51,51,51)\"},\"marker\":{\"line\":{\"color\":\"rgb(237,237,237)\",\"width\":0.5},\"pattern\":{\"fillmode\":\"overlay\",\"size\":10,\"solidity\":0.2}},\"type\":\"bar\"}],\"carpet\":[{\"aaxis\":{\"endlinecolor\":\"rgb(51,51,51)\",\"gridcolor\":\"white\",\"linecolor\":\"white\",\"minorgridcolor\":\"white\",\"startlinecolor\":\"rgb(51,51,51)\"},\"baxis\":{\"endlinecolor\":\"rgb(51,51,51)\",\"gridcolor\":\"white\",\"linecolor\":\"white\",\"minorgridcolor\":\"white\",\"startlinecolor\":\"rgb(51,51,51)\"},\"type\":\"carpet\"}],\"choropleth\":[{\"colorbar\":{\"outlinewidth\":0,\"tickcolor\":\"rgb(237,237,237)\",\"ticklen\":6,\"ticks\":\"inside\"},\"type\":\"choropleth\"}],\"contourcarpet\":[{\"colorbar\":{\"outlinewidth\":0,\"tickcolor\":\"rgb(237,237,237)\",\"ticklen\":6,\"ticks\":\"inside\"},\"type\":\"contourcarpet\"}],\"contour\":[{\"colorbar\":{\"outlinewidth\":0,\"tickcolor\":\"rgb(237,237,237)\",\"ticklen\":6,\"ticks\":\"inside\"},\"colorscale\":[[0,\"rgb(20,44,66)\"],[1,\"rgb(90,179,244)\"]],\"type\":\"contour\"}],\"heatmapgl\":[{\"colorbar\":{\"outlinewidth\":0,\"tickcolor\":\"rgb(237,237,237)\",\"ticklen\":6,\"ticks\":\"inside\"},\"colorscale\":[[0,\"rgb(20,44,66)\"],[1,\"rgb(90,179,244)\"]],\"type\":\"heatmapgl\"}],\"heatmap\":[{\"colorbar\":{\"outlinewidth\":0,\"tickcolor\":\"rgb(237,237,237)\",\"ticklen\":6,\"ticks\":\"inside\"},\"colorscale\":[[0,\"rgb(20,44,66)\"],[1,\"rgb(90,179,244)\"]],\"type\":\"heatmap\"}],\"histogram2dcontour\":[{\"colorbar\":{\"outlinewidth\":0,\"tickcolor\":\"rgb(237,237,237)\",\"ticklen\":6,\"ticks\":\"inside\"},\"colorscale\":[[0,\"rgb(20,44,66)\"],[1,\"rgb(90,179,244)\"]],\"type\":\"histogram2dcontour\"}],\"histogram2d\":[{\"colorbar\":{\"outlinewidth\":0,\"tickcolor\":\"rgb(237,237,237)\",\"ticklen\":6,\"ticks\":\"inside\"},\"colorscale\":[[0,\"rgb(20,44,66)\"],[1,\"rgb(90,179,244)\"]],\"type\":\"histogram2d\"}],\"histogram\":[{\"marker\":{\"pattern\":{\"fillmode\":\"overlay\",\"size\":10,\"solidity\":0.2}},\"type\":\"histogram\"}],\"mesh3d\":[{\"colorbar\":{\"outlinewidth\":0,\"tickcolor\":\"rgb(237,237,237)\",\"ticklen\":6,\"ticks\":\"inside\"},\"type\":\"mesh3d\"}],\"parcoords\":[{\"line\":{\"colorbar\":{\"outlinewidth\":0,\"tickcolor\":\"rgb(237,237,237)\",\"ticklen\":6,\"ticks\":\"inside\"}},\"type\":\"parcoords\"}],\"pie\":[{\"automargin\":true,\"type\":\"pie\"}],\"scatter3d\":[{\"line\":{\"colorbar\":{\"outlinewidth\":0,\"tickcolor\":\"rgb(237,237,237)\",\"ticklen\":6,\"ticks\":\"inside\"}},\"marker\":{\"colorbar\":{\"outlinewidth\":0,\"tickcolor\":\"rgb(237,237,237)\",\"ticklen\":6,\"ticks\":\"inside\"}},\"type\":\"scatter3d\"}],\"scattercarpet\":[{\"marker\":{\"colorbar\":{\"outlinewidth\":0,\"tickcolor\":\"rgb(237,237,237)\",\"ticklen\":6,\"ticks\":\"inside\"}},\"type\":\"scattercarpet\"}],\"scattergeo\":[{\"marker\":{\"colorbar\":{\"outlinewidth\":0,\"tickcolor\":\"rgb(237,237,237)\",\"ticklen\":6,\"ticks\":\"inside\"}},\"type\":\"scattergeo\"}],\"scattergl\":[{\"marker\":{\"colorbar\":{\"outlinewidth\":0,\"tickcolor\":\"rgb(237,237,237)\",\"ticklen\":6,\"ticks\":\"inside\"}},\"type\":\"scattergl\"}],\"scattermapbox\":[{\"marker\":{\"colorbar\":{\"outlinewidth\":0,\"tickcolor\":\"rgb(237,237,237)\",\"ticklen\":6,\"ticks\":\"inside\"}},\"type\":\"scattermapbox\"}],\"scatterpolargl\":[{\"marker\":{\"colorbar\":{\"outlinewidth\":0,\"tickcolor\":\"rgb(237,237,237)\",\"ticklen\":6,\"ticks\":\"inside\"}},\"type\":\"scatterpolargl\"}],\"scatterpolar\":[{\"marker\":{\"colorbar\":{\"outlinewidth\":0,\"tickcolor\":\"rgb(237,237,237)\",\"ticklen\":6,\"ticks\":\"inside\"}},\"type\":\"scatterpolar\"}],\"scatter\":[{\"fillpattern\":{\"fillmode\":\"overlay\",\"size\":10,\"solidity\":0.2},\"type\":\"scatter\"}],\"scatterternary\":[{\"marker\":{\"colorbar\":{\"outlinewidth\":0,\"tickcolor\":\"rgb(237,237,237)\",\"ticklen\":6,\"ticks\":\"inside\"}},\"type\":\"scatterternary\"}],\"surface\":[{\"colorbar\":{\"outlinewidth\":0,\"tickcolor\":\"rgb(237,237,237)\",\"ticklen\":6,\"ticks\":\"inside\"},\"colorscale\":[[0,\"rgb(20,44,66)\"],[1,\"rgb(90,179,244)\"]],\"type\":\"surface\"}],\"table\":[{\"cells\":{\"fill\":{\"color\":\"rgb(237,237,237)\"},\"line\":{\"color\":\"white\"}},\"header\":{\"fill\":{\"color\":\"rgb(217,217,217)\"},\"line\":{\"color\":\"white\"}},\"type\":\"table\"}]},\"layout\":{\"annotationdefaults\":{\"arrowhead\":0,\"arrowwidth\":1},\"autotypenumbers\":\"strict\",\"coloraxis\":{\"colorbar\":{\"outlinewidth\":0,\"tickcolor\":\"rgb(237,237,237)\",\"ticklen\":6,\"ticks\":\"inside\"}},\"colorscale\":{\"sequential\":[[0,\"rgb(20,44,66)\"],[1,\"rgb(90,179,244)\"]],\"sequentialminus\":[[0,\"rgb(20,44,66)\"],[1,\"rgb(90,179,244)\"]]},\"colorway\":[\"#F8766D\",\"#A3A500\",\"#00BF7D\",\"#00B0F6\",\"#E76BF3\"],\"font\":{\"color\":\"rgb(51,51,51)\"},\"geo\":{\"bgcolor\":\"white\",\"lakecolor\":\"white\",\"landcolor\":\"rgb(237,237,237)\",\"showlakes\":true,\"showland\":true,\"subunitcolor\":\"white\"},\"hoverlabel\":{\"align\":\"left\"},\"hovermode\":\"closest\",\"paper_bgcolor\":\"white\",\"plot_bgcolor\":\"rgb(237,237,237)\",\"polar\":{\"angularaxis\":{\"gridcolor\":\"white\",\"linecolor\":\"white\",\"showgrid\":true,\"tickcolor\":\"rgb(51,51,51)\",\"ticks\":\"outside\"},\"bgcolor\":\"rgb(237,237,237)\",\"radialaxis\":{\"gridcolor\":\"white\",\"linecolor\":\"white\",\"showgrid\":true,\"tickcolor\":\"rgb(51,51,51)\",\"ticks\":\"outside\"}},\"scene\":{\"xaxis\":{\"backgroundcolor\":\"rgb(237,237,237)\",\"gridcolor\":\"white\",\"gridwidth\":2,\"linecolor\":\"white\",\"showbackground\":true,\"showgrid\":true,\"tickcolor\":\"rgb(51,51,51)\",\"ticks\":\"outside\",\"zerolinecolor\":\"white\"},\"yaxis\":{\"backgroundcolor\":\"rgb(237,237,237)\",\"gridcolor\":\"white\",\"gridwidth\":2,\"linecolor\":\"white\",\"showbackground\":true,\"showgrid\":true,\"tickcolor\":\"rgb(51,51,51)\",\"ticks\":\"outside\",\"zerolinecolor\":\"white\"},\"zaxis\":{\"backgroundcolor\":\"rgb(237,237,237)\",\"gridcolor\":\"white\",\"gridwidth\":2,\"linecolor\":\"white\",\"showbackground\":true,\"showgrid\":true,\"tickcolor\":\"rgb(51,51,51)\",\"ticks\":\"outside\",\"zerolinecolor\":\"white\"}},\"shapedefaults\":{\"fillcolor\":\"black\",\"line\":{\"width\":0},\"opacity\":0.3},\"ternary\":{\"aaxis\":{\"gridcolor\":\"white\",\"linecolor\":\"white\",\"showgrid\":true,\"tickcolor\":\"rgb(51,51,51)\",\"ticks\":\"outside\"},\"baxis\":{\"gridcolor\":\"white\",\"linecolor\":\"white\",\"showgrid\":true,\"tickcolor\":\"rgb(51,51,51)\",\"ticks\":\"outside\"},\"bgcolor\":\"rgb(237,237,237)\",\"caxis\":{\"gridcolor\":\"white\",\"linecolor\":\"white\",\"showgrid\":true,\"tickcolor\":\"rgb(51,51,51)\",\"ticks\":\"outside\"}},\"xaxis\":{\"automargin\":true,\"gridcolor\":\"white\",\"linecolor\":\"white\",\"showgrid\":true,\"tickcolor\":\"rgb(51,51,51)\",\"ticks\":\"outside\",\"title\":{\"standoff\":15},\"zerolinecolor\":\"white\"},\"yaxis\":{\"automargin\":true,\"gridcolor\":\"white\",\"linecolor\":\"white\",\"showgrid\":true,\"tickcolor\":\"rgb(51,51,51)\",\"ticks\":\"outside\",\"title\":{\"standoff\":15},\"zerolinecolor\":\"white\"}}},\"xaxis\":{\"anchor\":\"y\",\"domain\":[0.0,1.0],\"title\":{\"text\":\"through_balls_pergame\"}},\"yaxis\":{\"anchor\":\"x\",\"domain\":[0.0,1.0],\"title\":{\"text\":\"team\"}},\"legend\":{\"tracegroupgap\":0},\"margin\":{\"t\":60},\"barmode\":\"relative\",\"height\":600,\"width\":750,\"shapes\":[{\"fillcolor\":\"gold\",\"layer\":\"below\",\"line\":{\"width\":0},\"opacity\":0.7,\"type\":\"rect\",\"x0\":0,\"x1\":1,\"xref\":\"x domain\",\"y0\":27.5,\"y1\":31.5,\"yref\":\"y\"},{\"fillcolor\":\"gray\",\"layer\":\"below\",\"line\":{\"width\":0},\"opacity\":0.2,\"type\":\"rect\",\"x0\":0,\"x1\":1,\"xref\":\"x domain\",\"y0\":8.5,\"y1\":27.5,\"yref\":\"y\"},{\"fillcolor\":\"#CD7F32\",\"layer\":\"below\",\"line\":{\"width\":0},\"opacity\":0.7,\"type\":\"rect\",\"x0\":0,\"x1\":1,\"xref\":\"x domain\",\"y0\":-0.5,\"y1\":8.5,\"yref\":\"y\"}],\"title\":{\"text\":\"<b> Through Balls Per game <b>\",\"font\":{\"size\":24}}},                        {\"responsive\": true}                    ).then(function(){\n",
       "                            \n",
       "var gd = document.getElementById('6f7a5be8-7273-4521-8880-cec708644676');\n",
       "var x = new MutationObserver(function (mutations, observer) {{\n",
       "        var display = window.getComputedStyle(gd).display;\n",
       "        if (!display || display === 'none') {{\n",
       "            console.log([gd, 'removed!']);\n",
       "            Plotly.purge(gd);\n",
       "            observer.disconnect();\n",
       "        }}\n",
       "}});\n",
       "\n",
       "// Listen for the removal of the full notebook cells\n",
       "var notebookContainer = gd.closest('#notebook-container');\n",
       "if (notebookContainer) {{\n",
       "    x.observe(notebookContainer, {childList: true});\n",
       "}}\n",
       "\n",
       "// Listen for the clearing of the current output cell\n",
       "var outputEl = gd.closest('.output');\n",
       "if (outputEl) {{\n",
       "    x.observe(outputEl, {childList: true});\n",
       "}}\n",
       "\n",
       "                        })                };                });            </script>        </div>"
      ]
     },
     "metadata": {},
     "output_type": "display_data"
    }
   ],
   "source": [
    "team_data['through_balls_pergame'] = team_data['through_balls']/team_data['games']\n",
    "\n",
    "fig = px.bar(team_data.sort_values('through_balls_pergame', ascending = True), \n",
    "             y=\"team\", x='through_balls_pergame',color=None,\n",
    "             width=750, \n",
    "             height=600,\n",
    "             )\n",
    "\n",
    "fig.add_hrect(\n",
    "    y0=27.5, y1=31.5,\n",
    "    fillcolor=\"gold\", opacity=0.7,\n",
    "    layer=\"below\", line_width=0,\n",
    ")\n",
    "\n",
    "fig.add_hrect(\n",
    "    y0=8.5, y1=27.5,\n",
    "    fillcolor=\"gray\", opacity=0.2,\n",
    "    layer=\"below\", line_width=0,\n",
    ")\n",
    "\n",
    "fig.add_hrect(\n",
    "    y0=-0.5, y1=8.5,\n",
    "    fillcolor=\"#CD7F32\", opacity=0.7,\n",
    "    layer=\"below\", line_width=0,\n",
    ")\n",
    "\n",
    "fig.update_layout(\n",
    "             template='ggplot2',\n",
    "             title=\"<b> Through Balls Per game <b>\",\n",
    "             titlefont={'size':24},\n",
    ")\n",
    "\n",
    "colors = ['lightseagreen',] * 32 \n",
    "colors[8] = 'crimson' \n",
    "\n",
    "fig.update_traces(marker_color=colors, marker_line_color=None,\n",
    "                  marker_line_width=2.5, opacity=None)\n",
    "fig.show()"
   ]
  },
  {
   "cell_type": "markdown",
   "id": "b2099492",
   "metadata": {
    "papermill": {
     "duration": 0.016757,
     "end_time": "2023-01-26T09:46:31.243709",
     "exception": false,
     "start_time": "2023-01-26T09:46:31.226952",
     "status": "completed"
    },
    "tags": []
   },
   "source": [
    "## A case for Morocco\n",
    "\n",
    "\n",
    "Drawn in the same group that contains Belgium and Croatia, nobody was expecting Morocco to progress to the knock-out stages let alone reaching to the semi-finals of this world cup. The whole of the African continent is proud that they finally have a representation in the semi-finals of a world cup for the first time in the history of the competition. \n",
    "\n",
    "So knocking-down **THREE European footballing heavy weights [1]** can't be a fluke. They must have done something very right. In the following sections I will try to discover some game attributes which might have contributed to their success so far.\n",
    "\n",
    "\n",
    ">[1]. Morocco defeated Belgium (group-stage), Spain (last-16) and Portugal (quarter-finals) in the road to semi-finals. These teams are ranked 2nd, 7th and 9th respectively [[4](https://www.fifa.com/fifa-world-ranking/men?dateId=id13792)].\n",
    "\n",
    "\n",
    "### Do not concede goals!\n",
    "Football is a simple game. Pass pass pass...score more goals than your opponent and you win! But in a tournament football not conceding goals is equally important.    \n",
    "\n",
    "> In Euro 2016 Portugal reached the semi-final without winning a game in the regulation time (normal time). Granted they had two draws in which they scored goals but you get the idea, they had zero net goal difference and that shows how important not conceding goals is [[5](https://www.skysports.com/football/news/11096/10330603/when-teams-progress-in-major-tournaments-without-winning)].\n",
    "\n",
    "Conceding only 0.71 goals per game (in normal time), Morocco occupies the 5th spot at the top. Considering that the other Semi-Fianlists (team who played the maximum number of games which is 7) conceded 1 or more goals per game, this is an impressive stat! It appears that they are a team built upon a strong defense line.\n",
    "\n",
    "\n"
   ]
  },
  {
   "cell_type": "code",
   "execution_count": 14,
   "id": "37c00416",
   "metadata": {
    "_kg_hide-input": true,
    "execution": {
     "iopub.execute_input": "2023-01-26T09:46:31.279163Z",
     "iopub.status.busy": "2023-01-26T09:46:31.278154Z",
     "iopub.status.idle": "2023-01-26T09:46:31.389976Z",
     "shell.execute_reply": "2023-01-26T09:46:31.388753Z"
    },
    "papermill": {
     "duration": 0.13148,
     "end_time": "2023-01-26T09:46:31.392475",
     "exception": false,
     "start_time": "2023-01-26T09:46:31.260995",
     "status": "completed"
    },
    "tags": []
   },
   "outputs": [
    {
     "data": {
      "text/html": [
       "<div>                            <div id=\"6f52e746-0452-423f-9f3f-65b8c45cc769\" class=\"plotly-graph-div\" style=\"height:600px; width:750px;\"></div>            <script type=\"text/javascript\">                require([\"plotly\"], function(Plotly) {                    window.PLOTLYENV=window.PLOTLYENV || {};                                    if (document.getElementById(\"6f52e746-0452-423f-9f3f-65b8c45cc769\")) {                    Plotly.newPlot(                        \"6f52e746-0452-423f-9f3f-65b8c45cc769\",                        [{\"alignmentgroup\":\"True\",\"hovertemplate\":\"on_goals_against_pergame=%{x}<br>team=%{y}<extra></extra>\",\"legendgroup\":\"\",\"marker\":{\"color\":[\"lightseagreen\",\"lightseagreen\",\"lightseagreen\",\"lightseagreen\",\"lightseagreen\",\"lightseagreen\",\"lightseagreen\",\"lightseagreen\",\"lightseagreen\",\"lightseagreen\",\"lightseagreen\",\"lightseagreen\",\"lightseagreen\",\"lightseagreen\",\"lightseagreen\",\"lightseagreen\",\"lightseagreen\",\"lightseagreen\",\"lightseagreen\",\"lightseagreen\",\"lightseagreen\",\"lightseagreen\",\"lightseagreen\",\"lightseagreen\",\"lightseagreen\",\"lightseagreen\",\"lightseagreen\",\"crimson\",\"lightseagreen\",\"lightseagreen\",\"lightseagreen\",\"lightseagreen\"],\"pattern\":{\"shape\":\"\"},\"line\":{\"width\":2.5}},\"name\":\"\",\"offsetgroup\":\"\",\"orientation\":\"h\",\"showlegend\":false,\"textposition\":\"auto\",\"x\":[3.6666666666666665,2.6666666666666665,2.3333333333333335,2.3333333333333335,2.3333333333333335,2.3333333333333335,2.25,2.0,2.0,1.75,1.6666666666666667,1.6666666666666667,1.5,1.3333333333333333,1.25,1.2,1.1428571428571428,1.1428571428571428,1.0,1.0,1.0,1.0,1.0,1.0,0.8,0.8,0.75,0.7142857142857143,0.6666666666666666,0.6666666666666666,0.6,0.3333333333333333],\"xaxis\":\"x\",\"y\":[\"Costa Rica\",\"Serbia\",\"Ghana\",\"Qatar\",\"Canada\",\"Iran\",\"Switzerland\",\"Korea Republic\",\"Wales\",\"Senegal\",\"Germany\",\"Saudi Arabia\",\"Australia\",\"Cameroon\",\"Poland\",\"Portugal\",\"Argentina\",\"France\",\"Mexico\",\"Japan\",\"Croatia\",\"Denmark\",\"United States\",\"Ecuador\",\"Netherlands\",\"England\",\"Spain\",\"Morocco\",\"Belgium\",\"Uruguay\",\"Brazil\",\"Tunisia\"],\"yaxis\":\"y\",\"type\":\"bar\"}],                        {\"template\":{\"data\":{\"barpolar\":[{\"marker\":{\"line\":{\"color\":\"rgb(237,237,237)\",\"width\":0.5},\"pattern\":{\"fillmode\":\"overlay\",\"size\":10,\"solidity\":0.2}},\"type\":\"barpolar\"}],\"bar\":[{\"error_x\":{\"color\":\"rgb(51,51,51)\"},\"error_y\":{\"color\":\"rgb(51,51,51)\"},\"marker\":{\"line\":{\"color\":\"rgb(237,237,237)\",\"width\":0.5},\"pattern\":{\"fillmode\":\"overlay\",\"size\":10,\"solidity\":0.2}},\"type\":\"bar\"}],\"carpet\":[{\"aaxis\":{\"endlinecolor\":\"rgb(51,51,51)\",\"gridcolor\":\"white\",\"linecolor\":\"white\",\"minorgridcolor\":\"white\",\"startlinecolor\":\"rgb(51,51,51)\"},\"baxis\":{\"endlinecolor\":\"rgb(51,51,51)\",\"gridcolor\":\"white\",\"linecolor\":\"white\",\"minorgridcolor\":\"white\",\"startlinecolor\":\"rgb(51,51,51)\"},\"type\":\"carpet\"}],\"choropleth\":[{\"colorbar\":{\"outlinewidth\":0,\"tickcolor\":\"rgb(237,237,237)\",\"ticklen\":6,\"ticks\":\"inside\"},\"type\":\"choropleth\"}],\"contourcarpet\":[{\"colorbar\":{\"outlinewidth\":0,\"tickcolor\":\"rgb(237,237,237)\",\"ticklen\":6,\"ticks\":\"inside\"},\"type\":\"contourcarpet\"}],\"contour\":[{\"colorbar\":{\"outlinewidth\":0,\"tickcolor\":\"rgb(237,237,237)\",\"ticklen\":6,\"ticks\":\"inside\"},\"colorscale\":[[0,\"rgb(20,44,66)\"],[1,\"rgb(90,179,244)\"]],\"type\":\"contour\"}],\"heatmapgl\":[{\"colorbar\":{\"outlinewidth\":0,\"tickcolor\":\"rgb(237,237,237)\",\"ticklen\":6,\"ticks\":\"inside\"},\"colorscale\":[[0,\"rgb(20,44,66)\"],[1,\"rgb(90,179,244)\"]],\"type\":\"heatmapgl\"}],\"heatmap\":[{\"colorbar\":{\"outlinewidth\":0,\"tickcolor\":\"rgb(237,237,237)\",\"ticklen\":6,\"ticks\":\"inside\"},\"colorscale\":[[0,\"rgb(20,44,66)\"],[1,\"rgb(90,179,244)\"]],\"type\":\"heatmap\"}],\"histogram2dcontour\":[{\"colorbar\":{\"outlinewidth\":0,\"tickcolor\":\"rgb(237,237,237)\",\"ticklen\":6,\"ticks\":\"inside\"},\"colorscale\":[[0,\"rgb(20,44,66)\"],[1,\"rgb(90,179,244)\"]],\"type\":\"histogram2dcontour\"}],\"histogram2d\":[{\"colorbar\":{\"outlinewidth\":0,\"tickcolor\":\"rgb(237,237,237)\",\"ticklen\":6,\"ticks\":\"inside\"},\"colorscale\":[[0,\"rgb(20,44,66)\"],[1,\"rgb(90,179,244)\"]],\"type\":\"histogram2d\"}],\"histogram\":[{\"marker\":{\"pattern\":{\"fillmode\":\"overlay\",\"size\":10,\"solidity\":0.2}},\"type\":\"histogram\"}],\"mesh3d\":[{\"colorbar\":{\"outlinewidth\":0,\"tickcolor\":\"rgb(237,237,237)\",\"ticklen\":6,\"ticks\":\"inside\"},\"type\":\"mesh3d\"}],\"parcoords\":[{\"line\":{\"colorbar\":{\"outlinewidth\":0,\"tickcolor\":\"rgb(237,237,237)\",\"ticklen\":6,\"ticks\":\"inside\"}},\"type\":\"parcoords\"}],\"pie\":[{\"automargin\":true,\"type\":\"pie\"}],\"scatter3d\":[{\"line\":{\"colorbar\":{\"outlinewidth\":0,\"tickcolor\":\"rgb(237,237,237)\",\"ticklen\":6,\"ticks\":\"inside\"}},\"marker\":{\"colorbar\":{\"outlinewidth\":0,\"tickcolor\":\"rgb(237,237,237)\",\"ticklen\":6,\"ticks\":\"inside\"}},\"type\":\"scatter3d\"}],\"scattercarpet\":[{\"marker\":{\"colorbar\":{\"outlinewidth\":0,\"tickcolor\":\"rgb(237,237,237)\",\"ticklen\":6,\"ticks\":\"inside\"}},\"type\":\"scattercarpet\"}],\"scattergeo\":[{\"marker\":{\"colorbar\":{\"outlinewidth\":0,\"tickcolor\":\"rgb(237,237,237)\",\"ticklen\":6,\"ticks\":\"inside\"}},\"type\":\"scattergeo\"}],\"scattergl\":[{\"marker\":{\"colorbar\":{\"outlinewidth\":0,\"tickcolor\":\"rgb(237,237,237)\",\"ticklen\":6,\"ticks\":\"inside\"}},\"type\":\"scattergl\"}],\"scattermapbox\":[{\"marker\":{\"colorbar\":{\"outlinewidth\":0,\"tickcolor\":\"rgb(237,237,237)\",\"ticklen\":6,\"ticks\":\"inside\"}},\"type\":\"scattermapbox\"}],\"scatterpolargl\":[{\"marker\":{\"colorbar\":{\"outlinewidth\":0,\"tickcolor\":\"rgb(237,237,237)\",\"ticklen\":6,\"ticks\":\"inside\"}},\"type\":\"scatterpolargl\"}],\"scatterpolar\":[{\"marker\":{\"colorbar\":{\"outlinewidth\":0,\"tickcolor\":\"rgb(237,237,237)\",\"ticklen\":6,\"ticks\":\"inside\"}},\"type\":\"scatterpolar\"}],\"scatter\":[{\"fillpattern\":{\"fillmode\":\"overlay\",\"size\":10,\"solidity\":0.2},\"type\":\"scatter\"}],\"scatterternary\":[{\"marker\":{\"colorbar\":{\"outlinewidth\":0,\"tickcolor\":\"rgb(237,237,237)\",\"ticklen\":6,\"ticks\":\"inside\"}},\"type\":\"scatterternary\"}],\"surface\":[{\"colorbar\":{\"outlinewidth\":0,\"tickcolor\":\"rgb(237,237,237)\",\"ticklen\":6,\"ticks\":\"inside\"},\"colorscale\":[[0,\"rgb(20,44,66)\"],[1,\"rgb(90,179,244)\"]],\"type\":\"surface\"}],\"table\":[{\"cells\":{\"fill\":{\"color\":\"rgb(237,237,237)\"},\"line\":{\"color\":\"white\"}},\"header\":{\"fill\":{\"color\":\"rgb(217,217,217)\"},\"line\":{\"color\":\"white\"}},\"type\":\"table\"}]},\"layout\":{\"annotationdefaults\":{\"arrowhead\":0,\"arrowwidth\":1},\"autotypenumbers\":\"strict\",\"coloraxis\":{\"colorbar\":{\"outlinewidth\":0,\"tickcolor\":\"rgb(237,237,237)\",\"ticklen\":6,\"ticks\":\"inside\"}},\"colorscale\":{\"sequential\":[[0,\"rgb(20,44,66)\"],[1,\"rgb(90,179,244)\"]],\"sequentialminus\":[[0,\"rgb(20,44,66)\"],[1,\"rgb(90,179,244)\"]]},\"colorway\":[\"#F8766D\",\"#A3A500\",\"#00BF7D\",\"#00B0F6\",\"#E76BF3\"],\"font\":{\"color\":\"rgb(51,51,51)\"},\"geo\":{\"bgcolor\":\"white\",\"lakecolor\":\"white\",\"landcolor\":\"rgb(237,237,237)\",\"showlakes\":true,\"showland\":true,\"subunitcolor\":\"white\"},\"hoverlabel\":{\"align\":\"left\"},\"hovermode\":\"closest\",\"paper_bgcolor\":\"white\",\"plot_bgcolor\":\"rgb(237,237,237)\",\"polar\":{\"angularaxis\":{\"gridcolor\":\"white\",\"linecolor\":\"white\",\"showgrid\":true,\"tickcolor\":\"rgb(51,51,51)\",\"ticks\":\"outside\"},\"bgcolor\":\"rgb(237,237,237)\",\"radialaxis\":{\"gridcolor\":\"white\",\"linecolor\":\"white\",\"showgrid\":true,\"tickcolor\":\"rgb(51,51,51)\",\"ticks\":\"outside\"}},\"scene\":{\"xaxis\":{\"backgroundcolor\":\"rgb(237,237,237)\",\"gridcolor\":\"white\",\"gridwidth\":2,\"linecolor\":\"white\",\"showbackground\":true,\"showgrid\":true,\"tickcolor\":\"rgb(51,51,51)\",\"ticks\":\"outside\",\"zerolinecolor\":\"white\"},\"yaxis\":{\"backgroundcolor\":\"rgb(237,237,237)\",\"gridcolor\":\"white\",\"gridwidth\":2,\"linecolor\":\"white\",\"showbackground\":true,\"showgrid\":true,\"tickcolor\":\"rgb(51,51,51)\",\"ticks\":\"outside\",\"zerolinecolor\":\"white\"},\"zaxis\":{\"backgroundcolor\":\"rgb(237,237,237)\",\"gridcolor\":\"white\",\"gridwidth\":2,\"linecolor\":\"white\",\"showbackground\":true,\"showgrid\":true,\"tickcolor\":\"rgb(51,51,51)\",\"ticks\":\"outside\",\"zerolinecolor\":\"white\"}},\"shapedefaults\":{\"fillcolor\":\"black\",\"line\":{\"width\":0},\"opacity\":0.3},\"ternary\":{\"aaxis\":{\"gridcolor\":\"white\",\"linecolor\":\"white\",\"showgrid\":true,\"tickcolor\":\"rgb(51,51,51)\",\"ticks\":\"outside\"},\"baxis\":{\"gridcolor\":\"white\",\"linecolor\":\"white\",\"showgrid\":true,\"tickcolor\":\"rgb(51,51,51)\",\"ticks\":\"outside\"},\"bgcolor\":\"rgb(237,237,237)\",\"caxis\":{\"gridcolor\":\"white\",\"linecolor\":\"white\",\"showgrid\":true,\"tickcolor\":\"rgb(51,51,51)\",\"ticks\":\"outside\"}},\"xaxis\":{\"automargin\":true,\"gridcolor\":\"white\",\"linecolor\":\"white\",\"showgrid\":true,\"tickcolor\":\"rgb(51,51,51)\",\"ticks\":\"outside\",\"title\":{\"standoff\":15},\"zerolinecolor\":\"white\"},\"yaxis\":{\"automargin\":true,\"gridcolor\":\"white\",\"linecolor\":\"white\",\"showgrid\":true,\"tickcolor\":\"rgb(51,51,51)\",\"ticks\":\"outside\",\"title\":{\"standoff\":15},\"zerolinecolor\":\"white\"}}},\"xaxis\":{\"anchor\":\"y\",\"domain\":[0.0,1.0],\"title\":{\"text\":\"on_goals_against_pergame\"}},\"yaxis\":{\"anchor\":\"x\",\"domain\":[0.0,1.0],\"title\":{\"text\":\"team\"}},\"legend\":{\"tracegroupgap\":0},\"margin\":{\"t\":60},\"barmode\":\"relative\",\"height\":600,\"width\":750,\"title\":{\"text\":\"<b> Goals conceded (per game) <b>\",\"font\":{\"size\":24}}},                        {\"responsive\": true}                    ).then(function(){\n",
       "                            \n",
       "var gd = document.getElementById('6f52e746-0452-423f-9f3f-65b8c45cc769');\n",
       "var x = new MutationObserver(function (mutations, observer) {{\n",
       "        var display = window.getComputedStyle(gd).display;\n",
       "        if (!display || display === 'none') {{\n",
       "            console.log([gd, 'removed!']);\n",
       "            Plotly.purge(gd);\n",
       "            observer.disconnect();\n",
       "        }}\n",
       "}});\n",
       "\n",
       "// Listen for the removal of the full notebook cells\n",
       "var notebookContainer = gd.closest('#notebook-container');\n",
       "if (notebookContainer) {{\n",
       "    x.observe(notebookContainer, {childList: true});\n",
       "}}\n",
       "\n",
       "// Listen for the clearing of the current output cell\n",
       "var outputEl = gd.closest('.output');\n",
       "if (outputEl) {{\n",
       "    x.observe(outputEl, {childList: true});\n",
       "}}\n",
       "\n",
       "                        })                };                });            </script>        </div>"
      ]
     },
     "metadata": {},
     "output_type": "display_data"
    }
   ],
   "source": [
    "team_data['on_goals_against_pergame'] = team_data['on_goals_against']/team_data['games']\n",
    "\n",
    "fig = px.bar(team_data.sort_values('on_goals_against_pergame', ascending = False), \n",
    "             y=\"team\", x=\"on_goals_against_pergame\",color=None,\n",
    "             width=750, \n",
    "             height=600,\n",
    "             )\n",
    "fig.update_layout(\n",
    "             template='ggplot2',\n",
    "             title=\"<b> Goals conceded (per game) <b>\",\n",
    "             titlefont={'size':24},\n",
    ")\n",
    "\n",
    "colors = ['lightseagreen'] * 32 \n",
    "colors[27] = 'crimson' \n",
    "\n",
    "\n",
    "fig.update_traces(marker_color=colors, marker_line_color=None,\n",
    "                  marker_line_width=2.5, opacity=None)\n",
    "fig.show()"
   ]
  },
  {
   "cell_type": "markdown",
   "id": "fa685ccd",
   "metadata": {
    "papermill": {
     "duration": 0.014777,
     "end_time": "2023-01-26T09:46:31.426622",
     "exception": false,
     "start_time": "2023-01-26T09:46:31.411845",
     "status": "completed"
    },
    "tags": []
   },
   "source": [
    "### Blocked Passes/Shots\n",
    "A blocked shot is defined as any clear attempt to score that:\n",
    "- Is going on target and is blocked by an outfield player, where there are other defenders or a goalkeeper behind the blocker.\n",
    "- Includes shots blocked unintentionally by the shooter’s own team mate.\n",
    "\n",
    "*Clearances off the line by an opposition player (last line blocks) are counted as shots on target and do not get counted as a blocked shot.*\n",
    "\n",
    "From the above Opta's definition we see that block can sometimes mean saving a goal. This metric can tell us something about the quality of the defensive line and the tenacity and (maybe) the positional awareness of the midfield players. \n",
    "\n",
    "**Morocco's** stat on both of these metrics is respectable (above average). To put in perspective, from the other semi-finalists, only Argentina in `blocked passes` and France in `blocked shots` were better than Morocco. \n"
   ]
  },
  {
   "cell_type": "code",
   "execution_count": 15,
   "id": "1c6dbd31",
   "metadata": {
    "_kg_hide-input": true,
    "execution": {
     "iopub.execute_input": "2023-01-26T09:46:31.459557Z",
     "iopub.status.busy": "2023-01-26T09:46:31.458470Z",
     "iopub.status.idle": "2023-01-26T09:46:31.553884Z",
     "shell.execute_reply": "2023-01-26T09:46:31.552715Z"
    },
    "papermill": {
     "duration": 0.114114,
     "end_time": "2023-01-26T09:46:31.556260",
     "exception": false,
     "start_time": "2023-01-26T09:46:31.442146",
     "status": "completed"
    },
    "tags": []
   },
   "outputs": [
    {
     "data": {
      "text/html": [
       "<div>                            <div id=\"8cf9e53b-f74f-430b-85a4-d6e3b12114ab\" class=\"plotly-graph-div\" style=\"height:750px; width:1100px;\"></div>            <script type=\"text/javascript\">                require([\"plotly\"], function(Plotly) {                    window.PLOTLYENV=window.PLOTLYENV || {};                                    if (document.getElementById(\"8cf9e53b-f74f-430b-85a4-d6e3b12114ab\")) {                    Plotly.newPlot(                        \"8cf9e53b-f74f-430b-85a4-d6e3b12114ab\",                        [{\"orientation\":\"h\",\"showlegend\":false,\"x\":[10.0,11.0,8.333333333333334,10.0,5.333333333333333,7.0,9.333333333333334,7.0,9.0,9.666666666666666,7.0,7.0,11.333333333333334,7.666666666666667,9.666666666666666,10.75,5.75,9.666666666666666,9.428571428571429,8.0,6.5,6.2,5.666666666666667,9.0,7.0,10.333333333333334,6.75,6.0,10.666666666666666,10.0,10.333333333333334,8.666666666666666],\"y\":[\"Argentina\",\"Australia\",\"Belgium\",\"Brazil\",\"Cameroon\",\"Canada\",\"Costa Rica\",\"Croatia\",\"Denmark\",\"Ecuador\",\"England\",\"France\",\"Germany\",\"Ghana\",\"Iran\",\"Japan\",\"Korea Republic\",\"Mexico\",\"Morocco\",\"Netherlands\",\"Poland\",\"Portugal\",\"Qatar\",\"Saudi Arabia\",\"Senegal\",\"Serbia\",\"Spain\",\"Switzerland\",\"Tunisia\",\"United States\",\"Uruguay\",\"Wales\"],\"type\":\"bar\",\"xaxis\":\"x\",\"yaxis\":\"y\",\"marker\":{\"line\":{\"width\":2.5},\"color\":[\"lightseagreen\",\"lightseagreen\",\"lightseagreen\",\"lightseagreen\",\"lightseagreen\",\"lightseagreen\",\"lightseagreen\",\"lightseagreen\",\"lightseagreen\",\"lightseagreen\",\"lightseagreen\",\"lightseagreen\",\"lightseagreen\",\"lightseagreen\",\"lightseagreen\",\"lightseagreen\",\"lightseagreen\",\"lightseagreen\",\"crimson\",\"lightseagreen\",\"lightseagreen\",\"lightseagreen\",\"lightseagreen\",\"lightseagreen\",\"lightseagreen\",\"lightseagreen\",\"lightseagreen\",\"lightseagreen\",\"lightseagreen\",\"lightseagreen\",\"lightseagreen\",\"lightseagreen\"]}},{\"orientation\":\"h\",\"showlegend\":false,\"x\":[2.0,5.0,2.6666666666666665,2.0,2.0,1.6666666666666667,4.666666666666667,4.0,5.333333333333333,1.3333333333333333,2.6,3.142857142857143,2.3333333333333335,4.666666666666667,2.6666666666666665,4.75,2.0,0.6666666666666666,2.857142857142857,3.6,3.25,2.4,1.3333333333333333,4.333333333333333,1.5,3.3333333333333335,1.0,2.75,3.0,1.0,2.6666666666666665,5.0],\"y\":[\"Argentina\",\"Australia\",\"Belgium\",\"Brazil\",\"Cameroon\",\"Canada\",\"Costa Rica\",\"Croatia\",\"Denmark\",\"Ecuador\",\"England\",\"France\",\"Germany\",\"Ghana\",\"Iran\",\"Japan\",\"Korea Republic\",\"Mexico\",\"Morocco\",\"Netherlands\",\"Poland\",\"Portugal\",\"Qatar\",\"Saudi Arabia\",\"Senegal\",\"Serbia\",\"Spain\",\"Switzerland\",\"Tunisia\",\"United States\",\"Uruguay\",\"Wales\"],\"type\":\"bar\",\"xaxis\":\"x2\",\"yaxis\":\"y2\",\"marker\":{\"line\":{\"width\":2.5},\"color\":[\"lightseagreen\",\"lightseagreen\",\"lightseagreen\",\"lightseagreen\",\"lightseagreen\",\"lightseagreen\",\"lightseagreen\",\"lightseagreen\",\"lightseagreen\",\"lightseagreen\",\"lightseagreen\",\"lightseagreen\",\"lightseagreen\",\"lightseagreen\",\"lightseagreen\",\"lightseagreen\",\"lightseagreen\",\"lightseagreen\",\"crimson\",\"lightseagreen\",\"lightseagreen\",\"lightseagreen\",\"lightseagreen\",\"lightseagreen\",\"lightseagreen\",\"lightseagreen\",\"lightseagreen\",\"lightseagreen\",\"lightseagreen\",\"lightseagreen\",\"lightseagreen\",\"lightseagreen\"]}}],                        {\"template\":{\"data\":{\"barpolar\":[{\"marker\":{\"line\":{\"color\":\"rgb(237,237,237)\",\"width\":0.5},\"pattern\":{\"fillmode\":\"overlay\",\"size\":10,\"solidity\":0.2}},\"type\":\"barpolar\"}],\"bar\":[{\"error_x\":{\"color\":\"rgb(51,51,51)\"},\"error_y\":{\"color\":\"rgb(51,51,51)\"},\"marker\":{\"line\":{\"color\":\"rgb(237,237,237)\",\"width\":0.5},\"pattern\":{\"fillmode\":\"overlay\",\"size\":10,\"solidity\":0.2}},\"type\":\"bar\"}],\"carpet\":[{\"aaxis\":{\"endlinecolor\":\"rgb(51,51,51)\",\"gridcolor\":\"white\",\"linecolor\":\"white\",\"minorgridcolor\":\"white\",\"startlinecolor\":\"rgb(51,51,51)\"},\"baxis\":{\"endlinecolor\":\"rgb(51,51,51)\",\"gridcolor\":\"white\",\"linecolor\":\"white\",\"minorgridcolor\":\"white\",\"startlinecolor\":\"rgb(51,51,51)\"},\"type\":\"carpet\"}],\"choropleth\":[{\"colorbar\":{\"outlinewidth\":0,\"tickcolor\":\"rgb(237,237,237)\",\"ticklen\":6,\"ticks\":\"inside\"},\"type\":\"choropleth\"}],\"contourcarpet\":[{\"colorbar\":{\"outlinewidth\":0,\"tickcolor\":\"rgb(237,237,237)\",\"ticklen\":6,\"ticks\":\"inside\"},\"type\":\"contourcarpet\"}],\"contour\":[{\"colorbar\":{\"outlinewidth\":0,\"tickcolor\":\"rgb(237,237,237)\",\"ticklen\":6,\"ticks\":\"inside\"},\"colorscale\":[[0,\"rgb(20,44,66)\"],[1,\"rgb(90,179,244)\"]],\"type\":\"contour\"}],\"heatmapgl\":[{\"colorbar\":{\"outlinewidth\":0,\"tickcolor\":\"rgb(237,237,237)\",\"ticklen\":6,\"ticks\":\"inside\"},\"colorscale\":[[0,\"rgb(20,44,66)\"],[1,\"rgb(90,179,244)\"]],\"type\":\"heatmapgl\"}],\"heatmap\":[{\"colorbar\":{\"outlinewidth\":0,\"tickcolor\":\"rgb(237,237,237)\",\"ticklen\":6,\"ticks\":\"inside\"},\"colorscale\":[[0,\"rgb(20,44,66)\"],[1,\"rgb(90,179,244)\"]],\"type\":\"heatmap\"}],\"histogram2dcontour\":[{\"colorbar\":{\"outlinewidth\":0,\"tickcolor\":\"rgb(237,237,237)\",\"ticklen\":6,\"ticks\":\"inside\"},\"colorscale\":[[0,\"rgb(20,44,66)\"],[1,\"rgb(90,179,244)\"]],\"type\":\"histogram2dcontour\"}],\"histogram2d\":[{\"colorbar\":{\"outlinewidth\":0,\"tickcolor\":\"rgb(237,237,237)\",\"ticklen\":6,\"ticks\":\"inside\"},\"colorscale\":[[0,\"rgb(20,44,66)\"],[1,\"rgb(90,179,244)\"]],\"type\":\"histogram2d\"}],\"histogram\":[{\"marker\":{\"pattern\":{\"fillmode\":\"overlay\",\"size\":10,\"solidity\":0.2}},\"type\":\"histogram\"}],\"mesh3d\":[{\"colorbar\":{\"outlinewidth\":0,\"tickcolor\":\"rgb(237,237,237)\",\"ticklen\":6,\"ticks\":\"inside\"},\"type\":\"mesh3d\"}],\"parcoords\":[{\"line\":{\"colorbar\":{\"outlinewidth\":0,\"tickcolor\":\"rgb(237,237,237)\",\"ticklen\":6,\"ticks\":\"inside\"}},\"type\":\"parcoords\"}],\"pie\":[{\"automargin\":true,\"type\":\"pie\"}],\"scatter3d\":[{\"line\":{\"colorbar\":{\"outlinewidth\":0,\"tickcolor\":\"rgb(237,237,237)\",\"ticklen\":6,\"ticks\":\"inside\"}},\"marker\":{\"colorbar\":{\"outlinewidth\":0,\"tickcolor\":\"rgb(237,237,237)\",\"ticklen\":6,\"ticks\":\"inside\"}},\"type\":\"scatter3d\"}],\"scattercarpet\":[{\"marker\":{\"colorbar\":{\"outlinewidth\":0,\"tickcolor\":\"rgb(237,237,237)\",\"ticklen\":6,\"ticks\":\"inside\"}},\"type\":\"scattercarpet\"}],\"scattergeo\":[{\"marker\":{\"colorbar\":{\"outlinewidth\":0,\"tickcolor\":\"rgb(237,237,237)\",\"ticklen\":6,\"ticks\":\"inside\"}},\"type\":\"scattergeo\"}],\"scattergl\":[{\"marker\":{\"colorbar\":{\"outlinewidth\":0,\"tickcolor\":\"rgb(237,237,237)\",\"ticklen\":6,\"ticks\":\"inside\"}},\"type\":\"scattergl\"}],\"scattermapbox\":[{\"marker\":{\"colorbar\":{\"outlinewidth\":0,\"tickcolor\":\"rgb(237,237,237)\",\"ticklen\":6,\"ticks\":\"inside\"}},\"type\":\"scattermapbox\"}],\"scatterpolargl\":[{\"marker\":{\"colorbar\":{\"outlinewidth\":0,\"tickcolor\":\"rgb(237,237,237)\",\"ticklen\":6,\"ticks\":\"inside\"}},\"type\":\"scatterpolargl\"}],\"scatterpolar\":[{\"marker\":{\"colorbar\":{\"outlinewidth\":0,\"tickcolor\":\"rgb(237,237,237)\",\"ticklen\":6,\"ticks\":\"inside\"}},\"type\":\"scatterpolar\"}],\"scatter\":[{\"fillpattern\":{\"fillmode\":\"overlay\",\"size\":10,\"solidity\":0.2},\"type\":\"scatter\"}],\"scatterternary\":[{\"marker\":{\"colorbar\":{\"outlinewidth\":0,\"tickcolor\":\"rgb(237,237,237)\",\"ticklen\":6,\"ticks\":\"inside\"}},\"type\":\"scatterternary\"}],\"surface\":[{\"colorbar\":{\"outlinewidth\":0,\"tickcolor\":\"rgb(237,237,237)\",\"ticklen\":6,\"ticks\":\"inside\"},\"colorscale\":[[0,\"rgb(20,44,66)\"],[1,\"rgb(90,179,244)\"]],\"type\":\"surface\"}],\"table\":[{\"cells\":{\"fill\":{\"color\":\"rgb(237,237,237)\"},\"line\":{\"color\":\"white\"}},\"header\":{\"fill\":{\"color\":\"rgb(217,217,217)\"},\"line\":{\"color\":\"white\"}},\"type\":\"table\"}]},\"layout\":{\"annotationdefaults\":{\"arrowhead\":0,\"arrowwidth\":1},\"autotypenumbers\":\"strict\",\"coloraxis\":{\"colorbar\":{\"outlinewidth\":0,\"tickcolor\":\"rgb(237,237,237)\",\"ticklen\":6,\"ticks\":\"inside\"}},\"colorscale\":{\"sequential\":[[0,\"rgb(20,44,66)\"],[1,\"rgb(90,179,244)\"]],\"sequentialminus\":[[0,\"rgb(20,44,66)\"],[1,\"rgb(90,179,244)\"]]},\"colorway\":[\"#F8766D\",\"#A3A500\",\"#00BF7D\",\"#00B0F6\",\"#E76BF3\"],\"font\":{\"color\":\"rgb(51,51,51)\"},\"geo\":{\"bgcolor\":\"white\",\"lakecolor\":\"white\",\"landcolor\":\"rgb(237,237,237)\",\"showlakes\":true,\"showland\":true,\"subunitcolor\":\"white\"},\"hoverlabel\":{\"align\":\"left\"},\"hovermode\":\"closest\",\"paper_bgcolor\":\"white\",\"plot_bgcolor\":\"rgb(237,237,237)\",\"polar\":{\"angularaxis\":{\"gridcolor\":\"white\",\"linecolor\":\"white\",\"showgrid\":true,\"tickcolor\":\"rgb(51,51,51)\",\"ticks\":\"outside\"},\"bgcolor\":\"rgb(237,237,237)\",\"radialaxis\":{\"gridcolor\":\"white\",\"linecolor\":\"white\",\"showgrid\":true,\"tickcolor\":\"rgb(51,51,51)\",\"ticks\":\"outside\"}},\"scene\":{\"xaxis\":{\"backgroundcolor\":\"rgb(237,237,237)\",\"gridcolor\":\"white\",\"gridwidth\":2,\"linecolor\":\"white\",\"showbackground\":true,\"showgrid\":true,\"tickcolor\":\"rgb(51,51,51)\",\"ticks\":\"outside\",\"zerolinecolor\":\"white\"},\"yaxis\":{\"backgroundcolor\":\"rgb(237,237,237)\",\"gridcolor\":\"white\",\"gridwidth\":2,\"linecolor\":\"white\",\"showbackground\":true,\"showgrid\":true,\"tickcolor\":\"rgb(51,51,51)\",\"ticks\":\"outside\",\"zerolinecolor\":\"white\"},\"zaxis\":{\"backgroundcolor\":\"rgb(237,237,237)\",\"gridcolor\":\"white\",\"gridwidth\":2,\"linecolor\":\"white\",\"showbackground\":true,\"showgrid\":true,\"tickcolor\":\"rgb(51,51,51)\",\"ticks\":\"outside\",\"zerolinecolor\":\"white\"}},\"shapedefaults\":{\"fillcolor\":\"black\",\"line\":{\"width\":0},\"opacity\":0.3},\"ternary\":{\"aaxis\":{\"gridcolor\":\"white\",\"linecolor\":\"white\",\"showgrid\":true,\"tickcolor\":\"rgb(51,51,51)\",\"ticks\":\"outside\"},\"baxis\":{\"gridcolor\":\"white\",\"linecolor\":\"white\",\"showgrid\":true,\"tickcolor\":\"rgb(51,51,51)\",\"ticks\":\"outside\"},\"bgcolor\":\"rgb(237,237,237)\",\"caxis\":{\"gridcolor\":\"white\",\"linecolor\":\"white\",\"showgrid\":true,\"tickcolor\":\"rgb(51,51,51)\",\"ticks\":\"outside\"}},\"xaxis\":{\"automargin\":true,\"gridcolor\":\"white\",\"linecolor\":\"white\",\"showgrid\":true,\"tickcolor\":\"rgb(51,51,51)\",\"ticks\":\"outside\",\"title\":{\"standoff\":15},\"zerolinecolor\":\"white\"},\"yaxis\":{\"automargin\":true,\"gridcolor\":\"white\",\"linecolor\":\"white\",\"showgrid\":true,\"tickcolor\":\"rgb(51,51,51)\",\"ticks\":\"outside\",\"title\":{\"standoff\":15},\"zerolinecolor\":\"white\"}}},\"xaxis\":{\"anchor\":\"y\",\"domain\":[0.0,0.45]},\"yaxis\":{\"anchor\":\"x\",\"domain\":[0.0,1.0],\"categoryorder\":\"total ascending\"},\"xaxis2\":{\"anchor\":\"y2\",\"domain\":[0.55,1.0]},\"yaxis2\":{\"anchor\":\"x2\",\"domain\":[0.0,1.0],\"categoryorder\":\"total ascending\"},\"annotations\":[{\"font\":{\"size\":16},\"showarrow\":false,\"text\":\"Blocked Passes\",\"x\":0.225,\"xanchor\":\"center\",\"xref\":\"paper\",\"y\":1.0,\"yanchor\":\"bottom\",\"yref\":\"paper\"},{\"font\":{\"size\":16},\"showarrow\":false,\"text\":\"Blocked Shots\",\"x\":0.775,\"xanchor\":\"center\",\"xref\":\"paper\",\"y\":1.0,\"yanchor\":\"bottom\",\"yref\":\"paper\"}],\"height\":750,\"width\":1100},                        {\"responsive\": true}                    ).then(function(){\n",
       "                            \n",
       "var gd = document.getElementById('8cf9e53b-f74f-430b-85a4-d6e3b12114ab');\n",
       "var x = new MutationObserver(function (mutations, observer) {{\n",
       "        var display = window.getComputedStyle(gd).display;\n",
       "        if (!display || display === 'none') {{\n",
       "            console.log([gd, 'removed!']);\n",
       "            Plotly.purge(gd);\n",
       "            observer.disconnect();\n",
       "        }}\n",
       "}});\n",
       "\n",
       "// Listen for the removal of the full notebook cells\n",
       "var notebookContainer = gd.closest('#notebook-container');\n",
       "if (notebookContainer) {{\n",
       "    x.observe(notebookContainer, {childList: true});\n",
       "}}\n",
       "\n",
       "// Listen for the clearing of the current output cell\n",
       "var outputEl = gd.closest('.output');\n",
       "if (outputEl) {{\n",
       "    x.observe(outputEl, {childList: true});\n",
       "}}\n",
       "\n",
       "                        })                };                });            </script>        </div>"
      ]
     },
     "metadata": {},
     "output_type": "display_data"
    }
   ],
   "source": [
    "team_data['blocked_passes_pergame'] = team_data['blocked_passes']/team_data['games']\n",
    "team_data['blocked_shots_pergame'] = team_data['blocked_shots']/team_data['games']\n",
    "\n",
    "fig = make_subplots(\n",
    "    rows=1, cols=2,\n",
    "    specs=[[{}, {}]],\n",
    "    subplot_titles=('Blocked Passes', 'Blocked Shots'),           \n",
    "    \n",
    "    print_grid=False)\n",
    "\n",
    "fig.add_trace(go.Bar(x=team_data['blocked_passes_pergame'], \n",
    "                     y=team_data['team'], orientation='h', showlegend=False), row=1, col=1).update_yaxes(categoryorder='total descending')\n",
    "\n",
    "fig.add_trace(go.Bar(x=team_data['blocked_shots_pergame'], \n",
    "                     y=team_data['team'], orientation='h', showlegend=False), row=1, col=2).update_yaxes(categoryorder='total ascending')\n",
    "\n",
    "colors = ['lightseagreen',] * 32 \n",
    "colors[18] = 'crimson' \n",
    "\n",
    "fig.update_traces(marker_color=colors, marker_line_color=None,\n",
    "                  marker_line_width=2.5, opacity=None,)\n",
    "\n",
    "fig.update_layout(height=750, width=1100, template='ggplot2')\n",
    "fig.show()"
   ]
  },
  {
   "cell_type": "markdown",
   "id": "dd0353b2",
   "metadata": {
    "papermill": {
     "duration": 0.015403,
     "end_time": "2023-01-26T09:46:31.586948",
     "exception": false,
     "start_time": "2023-01-26T09:46:31.571545",
     "status": "completed"
    },
    "tags": []
   },
   "source": [
    "### Recoveries/Interceptions\n",
    "\n",
    "Ball recoveries and interseption/tackle interception are defined by Opta as follows:\n",
    "\n",
    "**Ball Recovery:** This is where a player recovers the ball in a situation where neither team has possession or where the ball has been played directly to him by an opponent, thus securing possession for their team.\n",
    "\n",
    "**Interception:** This is where a player reads an opponent’s pass and intercepts the ball by moving into the line of the intended pass.\n",
    "\n",
    ">**Observations**:\n",
    ">\n",
    ">We can see that this aspect of the game is also well executed by **Morocco** in comparision to the rest of the teams competing at the world cup. "
   ]
  },
  {
   "cell_type": "code",
   "execution_count": 16,
   "id": "c886a8ba",
   "metadata": {
    "_kg_hide-input": true,
    "execution": {
     "iopub.execute_input": "2023-01-26T09:46:31.621006Z",
     "iopub.status.busy": "2023-01-26T09:46:31.620321Z",
     "iopub.status.idle": "2023-01-26T09:46:31.715972Z",
     "shell.execute_reply": "2023-01-26T09:46:31.714678Z"
    },
    "jupyter": {
     "source_hidden": true
    },
    "papermill": {
     "duration": 0.115128,
     "end_time": "2023-01-26T09:46:31.718369",
     "exception": false,
     "start_time": "2023-01-26T09:46:31.603241",
     "status": "completed"
    },
    "tags": []
   },
   "outputs": [
    {
     "data": {
      "text/html": [
       "<div>                            <div id=\"091781f0-a991-47f1-ad4c-8b9d4cb5ac49\" class=\"plotly-graph-div\" style=\"height:750px; width:1300px;\"></div>            <script type=\"text/javascript\">                require([\"plotly\"], function(Plotly) {                    window.PLOTLYENV=window.PLOTLYENV || {};                                    if (document.getElementById(\"091781f0-a991-47f1-ad4c-8b9d4cb5ac49\")) {                    Plotly.newPlot(                        \"091781f0-a991-47f1-ad4c-8b9d4cb5ac49\",                        [{\"orientation\":\"h\",\"showlegend\":false,\"x\":[51.0,50.0,44.0,54.2,47.333333333333336,48.333333333333336,47.333333333333336,58.42857142857143,57.0,45.0,45.4,52.0,54.666666666666664,48.666666666666664,59.333333333333336,55.0,43.75,50.333333333333336,52.714285714285715,48.2,41.0,51.2,46.0,44.0,48.0,53.666666666666664,56.25,47.5,56.666666666666664,53.0,55.333333333333336,49.0],\"y\":[\"Argentina\",\"Australia\",\"Belgium\",\"Brazil\",\"Cameroon\",\"Canada\",\"Costa Rica\",\"Croatia\",\"Denmark\",\"Ecuador\",\"England\",\"France\",\"Germany\",\"Ghana\",\"Iran\",\"Japan\",\"Korea Republic\",\"Mexico\",\"Morocco\",\"Netherlands\",\"Poland\",\"Portugal\",\"Qatar\",\"Saudi Arabia\",\"Senegal\",\"Serbia\",\"Spain\",\"Switzerland\",\"Tunisia\",\"United States\",\"Uruguay\",\"Wales\"],\"type\":\"bar\",\"xaxis\":\"x\",\"yaxis\":\"y\",\"marker\":{\"line\":{\"width\":2.5},\"color\":[\"lightseagreen\",\"lightseagreen\",\"lightseagreen\",\"lightseagreen\",\"lightseagreen\",\"lightseagreen\",\"lightseagreen\",\"lightseagreen\",\"lightseagreen\",\"lightseagreen\",\"lightseagreen\",\"lightseagreen\",\"lightseagreen\",\"lightseagreen\",\"lightseagreen\",\"lightseagreen\",\"lightseagreen\",\"lightseagreen\",\"crimson\",\"lightseagreen\",\"lightseagreen\",\"lightseagreen\",\"lightseagreen\",\"lightseagreen\",\"lightseagreen\",\"lightseagreen\",\"lightseagreen\",\"lightseagreen\",\"lightseagreen\",\"lightseagreen\",\"lightseagreen\",\"lightseagreen\"]}},{\"orientation\":\"h\",\"showlegend\":false,\"x\":[7.428571428571429,10.0,5.666666666666667,8.0,13.333333333333334,6.0,10.333333333333334,7.571428571428571,7.666666666666667,9.333333333333334,7.6,11.0,7.0,6.333333333333333,14.0,8.5,7.75,8.333333333333334,9.714285714285714,10.4,7.5,7.0,8.0,10.333333333333334,7.75,7.333333333333333,4.75,6.0,8.333333333333334,6.25,10.666666666666666,7.0],\"y\":[\"Argentina\",\"Australia\",\"Belgium\",\"Brazil\",\"Cameroon\",\"Canada\",\"Costa Rica\",\"Croatia\",\"Denmark\",\"Ecuador\",\"England\",\"France\",\"Germany\",\"Ghana\",\"Iran\",\"Japan\",\"Korea Republic\",\"Mexico\",\"Morocco\",\"Netherlands\",\"Poland\",\"Portugal\",\"Qatar\",\"Saudi Arabia\",\"Senegal\",\"Serbia\",\"Spain\",\"Switzerland\",\"Tunisia\",\"United States\",\"Uruguay\",\"Wales\"],\"type\":\"bar\",\"xaxis\":\"x2\",\"yaxis\":\"y2\",\"marker\":{\"line\":{\"width\":2.5},\"color\":[\"lightseagreen\",\"lightseagreen\",\"lightseagreen\",\"lightseagreen\",\"lightseagreen\",\"lightseagreen\",\"lightseagreen\",\"lightseagreen\",\"lightseagreen\",\"lightseagreen\",\"lightseagreen\",\"lightseagreen\",\"lightseagreen\",\"lightseagreen\",\"lightseagreen\",\"lightseagreen\",\"lightseagreen\",\"lightseagreen\",\"crimson\",\"lightseagreen\",\"lightseagreen\",\"lightseagreen\",\"lightseagreen\",\"lightseagreen\",\"lightseagreen\",\"lightseagreen\",\"lightseagreen\",\"lightseagreen\",\"lightseagreen\",\"lightseagreen\",\"lightseagreen\",\"lightseagreen\"]}},{\"orientation\":\"h\",\"showlegend\":false,\"x\":[25.0,24.5,21.666666666666668,25.6,27.333333333333332,19.666666666666668,32.666666666666664,26.428571428571427,21.666666666666668,24.666666666666668,20.6,31.714285714285715,23.666666666666668,24.333333333333332,31.666666666666668,26.0,22.5,25.0,28.142857142857142,28.6,23.5,20.2,20.666666666666668,26.0,18.5,25.0,18.0,18.0,29.666666666666668,19.25,27.666666666666668,20.333333333333332],\"y\":[\"Argentina\",\"Australia\",\"Belgium\",\"Brazil\",\"Cameroon\",\"Canada\",\"Costa Rica\",\"Croatia\",\"Denmark\",\"Ecuador\",\"England\",\"France\",\"Germany\",\"Ghana\",\"Iran\",\"Japan\",\"Korea Republic\",\"Mexico\",\"Morocco\",\"Netherlands\",\"Poland\",\"Portugal\",\"Qatar\",\"Saudi Arabia\",\"Senegal\",\"Serbia\",\"Spain\",\"Switzerland\",\"Tunisia\",\"United States\",\"Uruguay\",\"Wales\"],\"type\":\"bar\",\"xaxis\":\"x3\",\"yaxis\":\"y3\",\"marker\":{\"line\":{\"width\":2.5},\"color\":[\"lightseagreen\",\"lightseagreen\",\"lightseagreen\",\"lightseagreen\",\"lightseagreen\",\"lightseagreen\",\"lightseagreen\",\"lightseagreen\",\"lightseagreen\",\"lightseagreen\",\"lightseagreen\",\"lightseagreen\",\"lightseagreen\",\"lightseagreen\",\"lightseagreen\",\"lightseagreen\",\"lightseagreen\",\"lightseagreen\",\"crimson\",\"lightseagreen\",\"lightseagreen\",\"lightseagreen\",\"lightseagreen\",\"lightseagreen\",\"lightseagreen\",\"lightseagreen\",\"lightseagreen\",\"lightseagreen\",\"lightseagreen\",\"lightseagreen\",\"lightseagreen\",\"lightseagreen\"]}}],                        {\"template\":{\"data\":{\"barpolar\":[{\"marker\":{\"line\":{\"color\":\"rgb(237,237,237)\",\"width\":0.5},\"pattern\":{\"fillmode\":\"overlay\",\"size\":10,\"solidity\":0.2}},\"type\":\"barpolar\"}],\"bar\":[{\"error_x\":{\"color\":\"rgb(51,51,51)\"},\"error_y\":{\"color\":\"rgb(51,51,51)\"},\"marker\":{\"line\":{\"color\":\"rgb(237,237,237)\",\"width\":0.5},\"pattern\":{\"fillmode\":\"overlay\",\"size\":10,\"solidity\":0.2}},\"type\":\"bar\"}],\"carpet\":[{\"aaxis\":{\"endlinecolor\":\"rgb(51,51,51)\",\"gridcolor\":\"white\",\"linecolor\":\"white\",\"minorgridcolor\":\"white\",\"startlinecolor\":\"rgb(51,51,51)\"},\"baxis\":{\"endlinecolor\":\"rgb(51,51,51)\",\"gridcolor\":\"white\",\"linecolor\":\"white\",\"minorgridcolor\":\"white\",\"startlinecolor\":\"rgb(51,51,51)\"},\"type\":\"carpet\"}],\"choropleth\":[{\"colorbar\":{\"outlinewidth\":0,\"tickcolor\":\"rgb(237,237,237)\",\"ticklen\":6,\"ticks\":\"inside\"},\"type\":\"choropleth\"}],\"contourcarpet\":[{\"colorbar\":{\"outlinewidth\":0,\"tickcolor\":\"rgb(237,237,237)\",\"ticklen\":6,\"ticks\":\"inside\"},\"type\":\"contourcarpet\"}],\"contour\":[{\"colorbar\":{\"outlinewidth\":0,\"tickcolor\":\"rgb(237,237,237)\",\"ticklen\":6,\"ticks\":\"inside\"},\"colorscale\":[[0,\"rgb(20,44,66)\"],[1,\"rgb(90,179,244)\"]],\"type\":\"contour\"}],\"heatmapgl\":[{\"colorbar\":{\"outlinewidth\":0,\"tickcolor\":\"rgb(237,237,237)\",\"ticklen\":6,\"ticks\":\"inside\"},\"colorscale\":[[0,\"rgb(20,44,66)\"],[1,\"rgb(90,179,244)\"]],\"type\":\"heatmapgl\"}],\"heatmap\":[{\"colorbar\":{\"outlinewidth\":0,\"tickcolor\":\"rgb(237,237,237)\",\"ticklen\":6,\"ticks\":\"inside\"},\"colorscale\":[[0,\"rgb(20,44,66)\"],[1,\"rgb(90,179,244)\"]],\"type\":\"heatmap\"}],\"histogram2dcontour\":[{\"colorbar\":{\"outlinewidth\":0,\"tickcolor\":\"rgb(237,237,237)\",\"ticklen\":6,\"ticks\":\"inside\"},\"colorscale\":[[0,\"rgb(20,44,66)\"],[1,\"rgb(90,179,244)\"]],\"type\":\"histogram2dcontour\"}],\"histogram2d\":[{\"colorbar\":{\"outlinewidth\":0,\"tickcolor\":\"rgb(237,237,237)\",\"ticklen\":6,\"ticks\":\"inside\"},\"colorscale\":[[0,\"rgb(20,44,66)\"],[1,\"rgb(90,179,244)\"]],\"type\":\"histogram2d\"}],\"histogram\":[{\"marker\":{\"pattern\":{\"fillmode\":\"overlay\",\"size\":10,\"solidity\":0.2}},\"type\":\"histogram\"}],\"mesh3d\":[{\"colorbar\":{\"outlinewidth\":0,\"tickcolor\":\"rgb(237,237,237)\",\"ticklen\":6,\"ticks\":\"inside\"},\"type\":\"mesh3d\"}],\"parcoords\":[{\"line\":{\"colorbar\":{\"outlinewidth\":0,\"tickcolor\":\"rgb(237,237,237)\",\"ticklen\":6,\"ticks\":\"inside\"}},\"type\":\"parcoords\"}],\"pie\":[{\"automargin\":true,\"type\":\"pie\"}],\"scatter3d\":[{\"line\":{\"colorbar\":{\"outlinewidth\":0,\"tickcolor\":\"rgb(237,237,237)\",\"ticklen\":6,\"ticks\":\"inside\"}},\"marker\":{\"colorbar\":{\"outlinewidth\":0,\"tickcolor\":\"rgb(237,237,237)\",\"ticklen\":6,\"ticks\":\"inside\"}},\"type\":\"scatter3d\"}],\"scattercarpet\":[{\"marker\":{\"colorbar\":{\"outlinewidth\":0,\"tickcolor\":\"rgb(237,237,237)\",\"ticklen\":6,\"ticks\":\"inside\"}},\"type\":\"scattercarpet\"}],\"scattergeo\":[{\"marker\":{\"colorbar\":{\"outlinewidth\":0,\"tickcolor\":\"rgb(237,237,237)\",\"ticklen\":6,\"ticks\":\"inside\"}},\"type\":\"scattergeo\"}],\"scattergl\":[{\"marker\":{\"colorbar\":{\"outlinewidth\":0,\"tickcolor\":\"rgb(237,237,237)\",\"ticklen\":6,\"ticks\":\"inside\"}},\"type\":\"scattergl\"}],\"scattermapbox\":[{\"marker\":{\"colorbar\":{\"outlinewidth\":0,\"tickcolor\":\"rgb(237,237,237)\",\"ticklen\":6,\"ticks\":\"inside\"}},\"type\":\"scattermapbox\"}],\"scatterpolargl\":[{\"marker\":{\"colorbar\":{\"outlinewidth\":0,\"tickcolor\":\"rgb(237,237,237)\",\"ticklen\":6,\"ticks\":\"inside\"}},\"type\":\"scatterpolargl\"}],\"scatterpolar\":[{\"marker\":{\"colorbar\":{\"outlinewidth\":0,\"tickcolor\":\"rgb(237,237,237)\",\"ticklen\":6,\"ticks\":\"inside\"}},\"type\":\"scatterpolar\"}],\"scatter\":[{\"fillpattern\":{\"fillmode\":\"overlay\",\"size\":10,\"solidity\":0.2},\"type\":\"scatter\"}],\"scatterternary\":[{\"marker\":{\"colorbar\":{\"outlinewidth\":0,\"tickcolor\":\"rgb(237,237,237)\",\"ticklen\":6,\"ticks\":\"inside\"}},\"type\":\"scatterternary\"}],\"surface\":[{\"colorbar\":{\"outlinewidth\":0,\"tickcolor\":\"rgb(237,237,237)\",\"ticklen\":6,\"ticks\":\"inside\"},\"colorscale\":[[0,\"rgb(20,44,66)\"],[1,\"rgb(90,179,244)\"]],\"type\":\"surface\"}],\"table\":[{\"cells\":{\"fill\":{\"color\":\"rgb(237,237,237)\"},\"line\":{\"color\":\"white\"}},\"header\":{\"fill\":{\"color\":\"rgb(217,217,217)\"},\"line\":{\"color\":\"white\"}},\"type\":\"table\"}]},\"layout\":{\"annotationdefaults\":{\"arrowhead\":0,\"arrowwidth\":1},\"autotypenumbers\":\"strict\",\"coloraxis\":{\"colorbar\":{\"outlinewidth\":0,\"tickcolor\":\"rgb(237,237,237)\",\"ticklen\":6,\"ticks\":\"inside\"}},\"colorscale\":{\"sequential\":[[0,\"rgb(20,44,66)\"],[1,\"rgb(90,179,244)\"]],\"sequentialminus\":[[0,\"rgb(20,44,66)\"],[1,\"rgb(90,179,244)\"]]},\"colorway\":[\"#F8766D\",\"#A3A500\",\"#00BF7D\",\"#00B0F6\",\"#E76BF3\"],\"font\":{\"color\":\"rgb(51,51,51)\"},\"geo\":{\"bgcolor\":\"white\",\"lakecolor\":\"white\",\"landcolor\":\"rgb(237,237,237)\",\"showlakes\":true,\"showland\":true,\"subunitcolor\":\"white\"},\"hoverlabel\":{\"align\":\"left\"},\"hovermode\":\"closest\",\"paper_bgcolor\":\"white\",\"plot_bgcolor\":\"rgb(237,237,237)\",\"polar\":{\"angularaxis\":{\"gridcolor\":\"white\",\"linecolor\":\"white\",\"showgrid\":true,\"tickcolor\":\"rgb(51,51,51)\",\"ticks\":\"outside\"},\"bgcolor\":\"rgb(237,237,237)\",\"radialaxis\":{\"gridcolor\":\"white\",\"linecolor\":\"white\",\"showgrid\":true,\"tickcolor\":\"rgb(51,51,51)\",\"ticks\":\"outside\"}},\"scene\":{\"xaxis\":{\"backgroundcolor\":\"rgb(237,237,237)\",\"gridcolor\":\"white\",\"gridwidth\":2,\"linecolor\":\"white\",\"showbackground\":true,\"showgrid\":true,\"tickcolor\":\"rgb(51,51,51)\",\"ticks\":\"outside\",\"zerolinecolor\":\"white\"},\"yaxis\":{\"backgroundcolor\":\"rgb(237,237,237)\",\"gridcolor\":\"white\",\"gridwidth\":2,\"linecolor\":\"white\",\"showbackground\":true,\"showgrid\":true,\"tickcolor\":\"rgb(51,51,51)\",\"ticks\":\"outside\",\"zerolinecolor\":\"white\"},\"zaxis\":{\"backgroundcolor\":\"rgb(237,237,237)\",\"gridcolor\":\"white\",\"gridwidth\":2,\"linecolor\":\"white\",\"showbackground\":true,\"showgrid\":true,\"tickcolor\":\"rgb(51,51,51)\",\"ticks\":\"outside\",\"zerolinecolor\":\"white\"}},\"shapedefaults\":{\"fillcolor\":\"black\",\"line\":{\"width\":0},\"opacity\":0.3},\"ternary\":{\"aaxis\":{\"gridcolor\":\"white\",\"linecolor\":\"white\",\"showgrid\":true,\"tickcolor\":\"rgb(51,51,51)\",\"ticks\":\"outside\"},\"baxis\":{\"gridcolor\":\"white\",\"linecolor\":\"white\",\"showgrid\":true,\"tickcolor\":\"rgb(51,51,51)\",\"ticks\":\"outside\"},\"bgcolor\":\"rgb(237,237,237)\",\"caxis\":{\"gridcolor\":\"white\",\"linecolor\":\"white\",\"showgrid\":true,\"tickcolor\":\"rgb(51,51,51)\",\"ticks\":\"outside\"}},\"xaxis\":{\"automargin\":true,\"gridcolor\":\"white\",\"linecolor\":\"white\",\"showgrid\":true,\"tickcolor\":\"rgb(51,51,51)\",\"ticks\":\"outside\",\"title\":{\"standoff\":15},\"zerolinecolor\":\"white\"},\"yaxis\":{\"automargin\":true,\"gridcolor\":\"white\",\"linecolor\":\"white\",\"showgrid\":true,\"tickcolor\":\"rgb(51,51,51)\",\"ticks\":\"outside\",\"title\":{\"standoff\":15},\"zerolinecolor\":\"white\"}}},\"xaxis\":{\"anchor\":\"y\",\"domain\":[0.0,0.2888888888888889]},\"yaxis\":{\"anchor\":\"x\",\"domain\":[0.0,1.0],\"categoryorder\":\"total ascending\"},\"xaxis2\":{\"anchor\":\"y2\",\"domain\":[0.35555555555555557,0.6444444444444445]},\"yaxis2\":{\"anchor\":\"x2\",\"domain\":[0.0,1.0],\"categoryorder\":\"total ascending\"},\"xaxis3\":{\"anchor\":\"y3\",\"domain\":[0.7111111111111111,1.0]},\"yaxis3\":{\"anchor\":\"x3\",\"domain\":[0.0,1.0],\"categoryorder\":\"total ascending\"},\"annotations\":[{\"font\":{\"size\":16},\"showarrow\":false,\"text\":\"Ball Recoveries\",\"x\":0.14444444444444446,\"xanchor\":\"center\",\"xref\":\"paper\",\"y\":1.0,\"yanchor\":\"bottom\",\"yref\":\"paper\"},{\"font\":{\"size\":16},\"showarrow\":false,\"text\":\"Interceptions\",\"x\":0.5,\"xanchor\":\"center\",\"xref\":\"paper\",\"y\":1.0,\"yanchor\":\"bottom\",\"yref\":\"paper\"},{\"font\":{\"size\":16},\"showarrow\":false,\"text\":\"Tackle Interceptions\",\"x\":0.8555555555555556,\"xanchor\":\"center\",\"xref\":\"paper\",\"y\":1.0,\"yanchor\":\"bottom\",\"yref\":\"paper\"}],\"height\":750,\"width\":1300},                        {\"responsive\": true}                    ).then(function(){\n",
       "                            \n",
       "var gd = document.getElementById('091781f0-a991-47f1-ad4c-8b9d4cb5ac49');\n",
       "var x = new MutationObserver(function (mutations, observer) {{\n",
       "        var display = window.getComputedStyle(gd).display;\n",
       "        if (!display || display === 'none') {{\n",
       "            console.log([gd, 'removed!']);\n",
       "            Plotly.purge(gd);\n",
       "            observer.disconnect();\n",
       "        }}\n",
       "}});\n",
       "\n",
       "// Listen for the removal of the full notebook cells\n",
       "var notebookContainer = gd.closest('#notebook-container');\n",
       "if (notebookContainer) {{\n",
       "    x.observe(notebookContainer, {childList: true});\n",
       "}}\n",
       "\n",
       "// Listen for the clearing of the current output cell\n",
       "var outputEl = gd.closest('.output');\n",
       "if (outputEl) {{\n",
       "    x.observe(outputEl, {childList: true});\n",
       "}}\n",
       "\n",
       "                        })                };                });            </script>        </div>"
      ]
     },
     "metadata": {},
     "output_type": "display_data"
    }
   ],
   "source": [
    "team_data['ball_recoveries_pergame'] = team_data['ball_recoveries']/team_data['games']\n",
    "team_data['interceptions_pergame'] = team_data['interceptions']/team_data['games']\n",
    "team_data['tackles_interceptions_pergame'] = team_data['tackles_interceptions']/team_data['games']\n",
    "\n",
    "\n",
    "fig = make_subplots(\n",
    "    rows=1, cols=3,\n",
    "    specs=[[{}, {}, {}]],\n",
    "    subplot_titles=('Ball Recoveries', 'Interceptions', 'Tackle Interceptions'),           \n",
    "    \n",
    "    print_grid=False)\n",
    "\n",
    "fig.add_trace(go.Bar(x=team_data['ball_recoveries_pergame'], \n",
    "                     y=team_data['team'], orientation='h', showlegend=False), row=1, col=1).update_yaxes(categoryorder='total descending')\n",
    "\n",
    "fig.add_trace(go.Bar(x=team_data['interceptions_pergame'], \n",
    "                     y=team_data['team'], orientation='h', showlegend=False), row=1, col=2).update_yaxes(categoryorder='total ascending')\n",
    "\n",
    "fig.add_trace(go.Bar(x=team_data['tackles_interceptions_pergame'], \n",
    "                     y=team_data['team'], orientation='h', showlegend=False), row=1, col=3).update_yaxes(categoryorder='total ascending')\n",
    "\n",
    "\n",
    "colors = ['lightseagreen',] * 32 \n",
    "colors[18] = 'crimson' \n",
    "\n",
    "fig.update_traces(marker_color=colors, marker_line_color=None,\n",
    "                  marker_line_width=2.5, opacity=None,)\n",
    "\n",
    "fig.update_layout(height=750, width=1300, template='ggplot2')\n",
    "fig.show()"
   ]
  },
  {
   "cell_type": "markdown",
   "id": "4f9761a0",
   "metadata": {
    "papermill": {
     "duration": 0.015075,
     "end_time": "2023-01-26T09:46:31.749141",
     "exception": false,
     "start_time": "2023-01-26T09:46:31.734066",
     "status": "completed"
    },
    "tags": []
   },
   "source": [
    "### Clearances\n",
    "\n",
    "> This is a defensive action where a player kicks the ball away from his own goal with no intended recipient [[Opta](https://www.statsperform.com/opta-event-definitions/)].\n",
    "\n",
    "Booting it out of the danger zone when necessary is also a good strategy. It relieves the pressure from the defense line and gives a breather and time to reorganize the defensive unit. **Morocco** leads the way in this aspect of the game. They know how to **clear** the danger so it appears. "
   ]
  },
  {
   "cell_type": "code",
   "execution_count": 17,
   "id": "00324086",
   "metadata": {
    "_kg_hide-input": true,
    "execution": {
     "iopub.execute_input": "2023-01-26T09:46:31.782574Z",
     "iopub.status.busy": "2023-01-26T09:46:31.781933Z",
     "iopub.status.idle": "2023-01-26T09:46:31.867158Z",
     "shell.execute_reply": "2023-01-26T09:46:31.865874Z"
    },
    "papermill": {
     "duration": 0.104716,
     "end_time": "2023-01-26T09:46:31.869462",
     "exception": false,
     "start_time": "2023-01-26T09:46:31.764746",
     "status": "completed"
    },
    "tags": []
   },
   "outputs": [
    {
     "data": {
      "text/html": [
       "<div>                            <div id=\"0a713259-cdab-45f5-bffb-15da7a3d3245\" class=\"plotly-graph-div\" style=\"height:600px; width:750px;\"></div>            <script type=\"text/javascript\">                require([\"plotly\"], function(Plotly) {                    window.PLOTLYENV=window.PLOTLYENV || {};                                    if (document.getElementById(\"0a713259-cdab-45f5-bffb-15da7a3d3245\")) {                    Plotly.newPlot(                        \"0a713259-cdab-45f5-bffb-15da7a3d3245\",                        [{\"alignmentgroup\":\"True\",\"hovertemplate\":\"clearances_pergame=%{x}<br>team=%{y}<extra></extra>\",\"legendgroup\":\"\",\"marker\":{\"color\":[\"lightseagreen\",\"lightseagreen\",\"lightseagreen\",\"lightseagreen\",\"lightseagreen\",\"lightseagreen\",\"lightseagreen\",\"lightseagreen\",\"lightseagreen\",\"lightseagreen\",\"lightseagreen\",\"lightseagreen\",\"lightseagreen\",\"lightseagreen\",\"lightseagreen\",\"lightseagreen\",\"lightseagreen\",\"lightseagreen\",\"lightseagreen\",\"lightseagreen\",\"lightseagreen\",\"lightseagreen\",\"crimson\",\"lightseagreen\",\"lightseagreen\",\"lightseagreen\",\"lightseagreen\",\"lightseagreen\",\"lightseagreen\",\"lightseagreen\",\"lightseagreen\",\"lightseagreen\"],\"pattern\":{\"shape\":\"\"},\"line\":{\"width\":2.5}},\"name\":\"\",\"offsetgroup\":\"\",\"orientation\":\"h\",\"showlegend\":false,\"textposition\":\"auto\",\"x\":[8.0,9.25,11.0,11.6,12.6,13.666666666666666,14.0,14.666666666666666,14.714285714285714,16.0,16.333333333333332,16.333333333333332,16.5,16.5,17.714285714285715,18.0,19.4,19.5,19.666666666666668,20.333333333333332,20.428571428571427,22.333333333333332,23.285714285714285,23.666666666666668,24.0,25.25,26.0,26.0,27.5,27.666666666666668,28.0,28.333333333333332],\"xaxis\":\"x\",\"y\":[\"Germany\",\"Spain\",\"England\",\"Portugal\",\"Brazil\",\"Canada\",\"Ecuador\",\"Qatar\",\"France\",\"Mexico\",\"Serbia\",\"Denmark\",\"United States\",\"Korea Republic\",\"Argentina\",\"Uruguay\",\"Netherlands\",\"Switzerland\",\"Belgium\",\"Iran\",\"Croatia\",\"Saudi Arabia\",\"Morocco\",\"Cameroon\",\"Senegal\",\"Japan\",\"Australia\",\"Wales\",\"Poland\",\"Costa Rica\",\"Ghana\",\"Tunisia\"],\"yaxis\":\"y\",\"type\":\"bar\"}],                        {\"template\":{\"data\":{\"barpolar\":[{\"marker\":{\"line\":{\"color\":\"rgb(237,237,237)\",\"width\":0.5},\"pattern\":{\"fillmode\":\"overlay\",\"size\":10,\"solidity\":0.2}},\"type\":\"barpolar\"}],\"bar\":[{\"error_x\":{\"color\":\"rgb(51,51,51)\"},\"error_y\":{\"color\":\"rgb(51,51,51)\"},\"marker\":{\"line\":{\"color\":\"rgb(237,237,237)\",\"width\":0.5},\"pattern\":{\"fillmode\":\"overlay\",\"size\":10,\"solidity\":0.2}},\"type\":\"bar\"}],\"carpet\":[{\"aaxis\":{\"endlinecolor\":\"rgb(51,51,51)\",\"gridcolor\":\"white\",\"linecolor\":\"white\",\"minorgridcolor\":\"white\",\"startlinecolor\":\"rgb(51,51,51)\"},\"baxis\":{\"endlinecolor\":\"rgb(51,51,51)\",\"gridcolor\":\"white\",\"linecolor\":\"white\",\"minorgridcolor\":\"white\",\"startlinecolor\":\"rgb(51,51,51)\"},\"type\":\"carpet\"}],\"choropleth\":[{\"colorbar\":{\"outlinewidth\":0,\"tickcolor\":\"rgb(237,237,237)\",\"ticklen\":6,\"ticks\":\"inside\"},\"type\":\"choropleth\"}],\"contourcarpet\":[{\"colorbar\":{\"outlinewidth\":0,\"tickcolor\":\"rgb(237,237,237)\",\"ticklen\":6,\"ticks\":\"inside\"},\"type\":\"contourcarpet\"}],\"contour\":[{\"colorbar\":{\"outlinewidth\":0,\"tickcolor\":\"rgb(237,237,237)\",\"ticklen\":6,\"ticks\":\"inside\"},\"colorscale\":[[0,\"rgb(20,44,66)\"],[1,\"rgb(90,179,244)\"]],\"type\":\"contour\"}],\"heatmapgl\":[{\"colorbar\":{\"outlinewidth\":0,\"tickcolor\":\"rgb(237,237,237)\",\"ticklen\":6,\"ticks\":\"inside\"},\"colorscale\":[[0,\"rgb(20,44,66)\"],[1,\"rgb(90,179,244)\"]],\"type\":\"heatmapgl\"}],\"heatmap\":[{\"colorbar\":{\"outlinewidth\":0,\"tickcolor\":\"rgb(237,237,237)\",\"ticklen\":6,\"ticks\":\"inside\"},\"colorscale\":[[0,\"rgb(20,44,66)\"],[1,\"rgb(90,179,244)\"]],\"type\":\"heatmap\"}],\"histogram2dcontour\":[{\"colorbar\":{\"outlinewidth\":0,\"tickcolor\":\"rgb(237,237,237)\",\"ticklen\":6,\"ticks\":\"inside\"},\"colorscale\":[[0,\"rgb(20,44,66)\"],[1,\"rgb(90,179,244)\"]],\"type\":\"histogram2dcontour\"}],\"histogram2d\":[{\"colorbar\":{\"outlinewidth\":0,\"tickcolor\":\"rgb(237,237,237)\",\"ticklen\":6,\"ticks\":\"inside\"},\"colorscale\":[[0,\"rgb(20,44,66)\"],[1,\"rgb(90,179,244)\"]],\"type\":\"histogram2d\"}],\"histogram\":[{\"marker\":{\"pattern\":{\"fillmode\":\"overlay\",\"size\":10,\"solidity\":0.2}},\"type\":\"histogram\"}],\"mesh3d\":[{\"colorbar\":{\"outlinewidth\":0,\"tickcolor\":\"rgb(237,237,237)\",\"ticklen\":6,\"ticks\":\"inside\"},\"type\":\"mesh3d\"}],\"parcoords\":[{\"line\":{\"colorbar\":{\"outlinewidth\":0,\"tickcolor\":\"rgb(237,237,237)\",\"ticklen\":6,\"ticks\":\"inside\"}},\"type\":\"parcoords\"}],\"pie\":[{\"automargin\":true,\"type\":\"pie\"}],\"scatter3d\":[{\"line\":{\"colorbar\":{\"outlinewidth\":0,\"tickcolor\":\"rgb(237,237,237)\",\"ticklen\":6,\"ticks\":\"inside\"}},\"marker\":{\"colorbar\":{\"outlinewidth\":0,\"tickcolor\":\"rgb(237,237,237)\",\"ticklen\":6,\"ticks\":\"inside\"}},\"type\":\"scatter3d\"}],\"scattercarpet\":[{\"marker\":{\"colorbar\":{\"outlinewidth\":0,\"tickcolor\":\"rgb(237,237,237)\",\"ticklen\":6,\"ticks\":\"inside\"}},\"type\":\"scattercarpet\"}],\"scattergeo\":[{\"marker\":{\"colorbar\":{\"outlinewidth\":0,\"tickcolor\":\"rgb(237,237,237)\",\"ticklen\":6,\"ticks\":\"inside\"}},\"type\":\"scattergeo\"}],\"scattergl\":[{\"marker\":{\"colorbar\":{\"outlinewidth\":0,\"tickcolor\":\"rgb(237,237,237)\",\"ticklen\":6,\"ticks\":\"inside\"}},\"type\":\"scattergl\"}],\"scattermapbox\":[{\"marker\":{\"colorbar\":{\"outlinewidth\":0,\"tickcolor\":\"rgb(237,237,237)\",\"ticklen\":6,\"ticks\":\"inside\"}},\"type\":\"scattermapbox\"}],\"scatterpolargl\":[{\"marker\":{\"colorbar\":{\"outlinewidth\":0,\"tickcolor\":\"rgb(237,237,237)\",\"ticklen\":6,\"ticks\":\"inside\"}},\"type\":\"scatterpolargl\"}],\"scatterpolar\":[{\"marker\":{\"colorbar\":{\"outlinewidth\":0,\"tickcolor\":\"rgb(237,237,237)\",\"ticklen\":6,\"ticks\":\"inside\"}},\"type\":\"scatterpolar\"}],\"scatter\":[{\"fillpattern\":{\"fillmode\":\"overlay\",\"size\":10,\"solidity\":0.2},\"type\":\"scatter\"}],\"scatterternary\":[{\"marker\":{\"colorbar\":{\"outlinewidth\":0,\"tickcolor\":\"rgb(237,237,237)\",\"ticklen\":6,\"ticks\":\"inside\"}},\"type\":\"scatterternary\"}],\"surface\":[{\"colorbar\":{\"outlinewidth\":0,\"tickcolor\":\"rgb(237,237,237)\",\"ticklen\":6,\"ticks\":\"inside\"},\"colorscale\":[[0,\"rgb(20,44,66)\"],[1,\"rgb(90,179,244)\"]],\"type\":\"surface\"}],\"table\":[{\"cells\":{\"fill\":{\"color\":\"rgb(237,237,237)\"},\"line\":{\"color\":\"white\"}},\"header\":{\"fill\":{\"color\":\"rgb(217,217,217)\"},\"line\":{\"color\":\"white\"}},\"type\":\"table\"}]},\"layout\":{\"annotationdefaults\":{\"arrowhead\":0,\"arrowwidth\":1},\"autotypenumbers\":\"strict\",\"coloraxis\":{\"colorbar\":{\"outlinewidth\":0,\"tickcolor\":\"rgb(237,237,237)\",\"ticklen\":6,\"ticks\":\"inside\"}},\"colorscale\":{\"sequential\":[[0,\"rgb(20,44,66)\"],[1,\"rgb(90,179,244)\"]],\"sequentialminus\":[[0,\"rgb(20,44,66)\"],[1,\"rgb(90,179,244)\"]]},\"colorway\":[\"#F8766D\",\"#A3A500\",\"#00BF7D\",\"#00B0F6\",\"#E76BF3\"],\"font\":{\"color\":\"rgb(51,51,51)\"},\"geo\":{\"bgcolor\":\"white\",\"lakecolor\":\"white\",\"landcolor\":\"rgb(237,237,237)\",\"showlakes\":true,\"showland\":true,\"subunitcolor\":\"white\"},\"hoverlabel\":{\"align\":\"left\"},\"hovermode\":\"closest\",\"paper_bgcolor\":\"white\",\"plot_bgcolor\":\"rgb(237,237,237)\",\"polar\":{\"angularaxis\":{\"gridcolor\":\"white\",\"linecolor\":\"white\",\"showgrid\":true,\"tickcolor\":\"rgb(51,51,51)\",\"ticks\":\"outside\"},\"bgcolor\":\"rgb(237,237,237)\",\"radialaxis\":{\"gridcolor\":\"white\",\"linecolor\":\"white\",\"showgrid\":true,\"tickcolor\":\"rgb(51,51,51)\",\"ticks\":\"outside\"}},\"scene\":{\"xaxis\":{\"backgroundcolor\":\"rgb(237,237,237)\",\"gridcolor\":\"white\",\"gridwidth\":2,\"linecolor\":\"white\",\"showbackground\":true,\"showgrid\":true,\"tickcolor\":\"rgb(51,51,51)\",\"ticks\":\"outside\",\"zerolinecolor\":\"white\"},\"yaxis\":{\"backgroundcolor\":\"rgb(237,237,237)\",\"gridcolor\":\"white\",\"gridwidth\":2,\"linecolor\":\"white\",\"showbackground\":true,\"showgrid\":true,\"tickcolor\":\"rgb(51,51,51)\",\"ticks\":\"outside\",\"zerolinecolor\":\"white\"},\"zaxis\":{\"backgroundcolor\":\"rgb(237,237,237)\",\"gridcolor\":\"white\",\"gridwidth\":2,\"linecolor\":\"white\",\"showbackground\":true,\"showgrid\":true,\"tickcolor\":\"rgb(51,51,51)\",\"ticks\":\"outside\",\"zerolinecolor\":\"white\"}},\"shapedefaults\":{\"fillcolor\":\"black\",\"line\":{\"width\":0},\"opacity\":0.3},\"ternary\":{\"aaxis\":{\"gridcolor\":\"white\",\"linecolor\":\"white\",\"showgrid\":true,\"tickcolor\":\"rgb(51,51,51)\",\"ticks\":\"outside\"},\"baxis\":{\"gridcolor\":\"white\",\"linecolor\":\"white\",\"showgrid\":true,\"tickcolor\":\"rgb(51,51,51)\",\"ticks\":\"outside\"},\"bgcolor\":\"rgb(237,237,237)\",\"caxis\":{\"gridcolor\":\"white\",\"linecolor\":\"white\",\"showgrid\":true,\"tickcolor\":\"rgb(51,51,51)\",\"ticks\":\"outside\"}},\"xaxis\":{\"automargin\":true,\"gridcolor\":\"white\",\"linecolor\":\"white\",\"showgrid\":true,\"tickcolor\":\"rgb(51,51,51)\",\"ticks\":\"outside\",\"title\":{\"standoff\":15},\"zerolinecolor\":\"white\"},\"yaxis\":{\"automargin\":true,\"gridcolor\":\"white\",\"linecolor\":\"white\",\"showgrid\":true,\"tickcolor\":\"rgb(51,51,51)\",\"ticks\":\"outside\",\"title\":{\"standoff\":15},\"zerolinecolor\":\"white\"}}},\"xaxis\":{\"anchor\":\"y\",\"domain\":[0.0,1.0],\"title\":{\"text\":\"clearances_pergame\"}},\"yaxis\":{\"anchor\":\"x\",\"domain\":[0.0,1.0],\"title\":{\"text\":\"team\"}},\"legend\":{\"tracegroupgap\":0},\"margin\":{\"t\":60},\"barmode\":\"relative\",\"height\":600,\"width\":750,\"title\":{\"text\":\"<b> Clearances Per Game <b>\",\"font\":{\"size\":24}}},                        {\"responsive\": true}                    ).then(function(){\n",
       "                            \n",
       "var gd = document.getElementById('0a713259-cdab-45f5-bffb-15da7a3d3245');\n",
       "var x = new MutationObserver(function (mutations, observer) {{\n",
       "        var display = window.getComputedStyle(gd).display;\n",
       "        if (!display || display === 'none') {{\n",
       "            console.log([gd, 'removed!']);\n",
       "            Plotly.purge(gd);\n",
       "            observer.disconnect();\n",
       "        }}\n",
       "}});\n",
       "\n",
       "// Listen for the removal of the full notebook cells\n",
       "var notebookContainer = gd.closest('#notebook-container');\n",
       "if (notebookContainer) {{\n",
       "    x.observe(notebookContainer, {childList: true});\n",
       "}}\n",
       "\n",
       "// Listen for the clearing of the current output cell\n",
       "var outputEl = gd.closest('.output');\n",
       "if (outputEl) {{\n",
       "    x.observe(outputEl, {childList: true});\n",
       "}}\n",
       "\n",
       "                        })                };                });            </script>        </div>"
      ]
     },
     "metadata": {},
     "output_type": "display_data"
    }
   ],
   "source": [
    "team_data['clearances_pergame'] = team_data['clearances']/team_data['games']\n",
    "\n",
    "fig = px.bar(team_data.sort_values('clearances_pergame', ascending = True), \n",
    "             y=\"team\", x=\"clearances_pergame\",color=None,\n",
    "             width=750, \n",
    "             height=600,\n",
    "             )\n",
    "fig.update_layout(\n",
    "             template='ggplot2',\n",
    "             title=\"<b> Clearances Per Game <b>\",\n",
    "             titlefont={'size':24},\n",
    ")\n",
    "\n",
    "colors = ['lightseagreen',] * 32 \n",
    "colors[22] = 'crimson' \n",
    "\n",
    "fig.update_traces(marker_color=colors, marker_line_color=None,\n",
    "                  marker_line_width=2.5, opacity=None)\n",
    "fig.show()"
   ]
  },
  {
   "cell_type": "markdown",
   "id": "8c862e56",
   "metadata": {
    "papermill": {
     "duration": 0.015528,
     "end_time": "2023-01-26T09:46:31.900835",
     "exception": false,
     "start_time": "2023-01-26T09:46:31.885307",
     "status": "completed"
    },
    "tags": []
   },
   "source": [
    "### Possessions Lost\n",
    "\n",
    "If a team loses possession every now and then chances are high that they will be exposed to counter attacks (especially if they lost it in the final third of the pitch) and that might end up leading to a goal and hence higher chances of losing the game. We see that Morocco is a team that does not lose position that much (are 4th from the fewest lost possession). \n",
    "\n",
    "What is interesting is that **Morocco** are the sixth bottom team in terms of ball possession, not impressive for a team which made it to the semi-finals one would think. However, they are 9th from the bottom (only bettered by 8 teams) when it comes to `lost possessions`. It appears that their strategy is to make the most of it when they have the ball. More importantly, not to lose it cheaply when it [the baal] is in their possession.\n"
   ]
  },
  {
   "cell_type": "code",
   "execution_count": 18,
   "id": "7eee3a24",
   "metadata": {
    "_kg_hide-input": true,
    "execution": {
     "iopub.execute_input": "2023-01-26T09:46:31.934407Z",
     "iopub.status.busy": "2023-01-26T09:46:31.933691Z",
     "iopub.status.idle": "2023-01-26T09:46:32.003992Z",
     "shell.execute_reply": "2023-01-26T09:46:32.002862Z"
    },
    "papermill": {
     "duration": 0.090175,
     "end_time": "2023-01-26T09:46:32.006626",
     "exception": false,
     "start_time": "2023-01-26T09:46:31.916451",
     "status": "completed"
    },
    "tags": []
   },
   "outputs": [
    {
     "data": {
      "text/html": [
       "<div>                            <div id=\"f9b1f998-cbf5-41c5-b220-1e3f698016a6\" class=\"plotly-graph-div\" style=\"height:750px; width:1100px;\"></div>            <script type=\"text/javascript\">                require([\"plotly\"], function(Plotly) {                    window.PLOTLYENV=window.PLOTLYENV || {};                                    if (document.getElementById(\"f9b1f998-cbf5-41c5-b220-1e3f698016a6\")) {                    Plotly.newPlot(                        \"f9b1f998-cbf5-41c5-b220-1e3f698016a6\",                        [{\"orientation\":\"h\",\"showlegend\":false,\"x\":[11.571428571428571,9.0,8.0,11.6,8.0,10.0,10.333333333333334,10.0,8.333333333333334,8.333333333333334,5.8,9.714285714285714,13.666666666666666,11.333333333333334,6.333333333333333,9.0,6.5,10.0,7.571428571428571,8.8,7.5,6.0,7.333333333333333,8.0,11.25,7.333333333333333,10.25,10.75,16.333333333333332,11.25,9.0,7.0],\"y\":[\"Argentina\",\"Australia\",\"Belgium\",\"Brazil\",\"Cameroon\",\"Canada\",\"Costa Rica\",\"Croatia\",\"Denmark\",\"Ecuador\",\"England\",\"France\",\"Germany\",\"Ghana\",\"Iran\",\"Japan\",\"Korea Republic\",\"Mexico\",\"Morocco\",\"Netherlands\",\"Poland\",\"Portugal\",\"Qatar\",\"Saudi Arabia\",\"Senegal\",\"Serbia\",\"Spain\",\"Switzerland\",\"Tunisia\",\"United States\",\"Uruguay\",\"Wales\"],\"type\":\"bar\",\"xaxis\":\"x\",\"yaxis\":\"y\",\"marker\":{\"line\":{\"width\":2.5},\"color\":[\"lightseagreen\",\"lightseagreen\",\"lightseagreen\",\"lightseagreen\",\"lightseagreen\",\"lightseagreen\",\"lightseagreen\",\"lightseagreen\",\"lightseagreen\",\"lightseagreen\",\"lightseagreen\",\"lightseagreen\",\"lightseagreen\",\"lightseagreen\",\"lightseagreen\",\"lightseagreen\",\"lightseagreen\",\"lightseagreen\",\"crimson\",\"lightseagreen\",\"lightseagreen\",\"lightseagreen\",\"lightseagreen\",\"lightseagreen\",\"lightseagreen\",\"lightseagreen\",\"lightseagreen\",\"lightseagreen\",\"lightseagreen\",\"lightseagreen\",\"lightseagreen\",\"lightseagreen\"]}},{\"orientation\":\"h\",\"showlegend\":false,\"x\":[57.4,37.8,57.0,56.2,41.7,52.0,31.3,54.3,60.0,53.3,62.8,51.3,59.3,42.0,36.7,35.8,48.3,54.0,39.0,53.0,37.3,60.4,43.0,44.7,44.8,51.3,75.8,49.0,44.3,53.0,48.7,46.7],\"y\":[\"Argentina\",\"Australia\",\"Belgium\",\"Brazil\",\"Cameroon\",\"Canada\",\"Costa Rica\",\"Croatia\",\"Denmark\",\"Ecuador\",\"England\",\"France\",\"Germany\",\"Ghana\",\"Iran\",\"Japan\",\"Korea Republic\",\"Mexico\",\"Morocco\",\"Netherlands\",\"Poland\",\"Portugal\",\"Qatar\",\"Saudi Arabia\",\"Senegal\",\"Serbia\",\"Spain\",\"Switzerland\",\"Tunisia\",\"United States\",\"Uruguay\",\"Wales\"],\"type\":\"bar\",\"xaxis\":\"x2\",\"yaxis\":\"y2\",\"marker\":{\"line\":{\"width\":2.5},\"color\":[\"lightseagreen\",\"lightseagreen\",\"lightseagreen\",\"lightseagreen\",\"lightseagreen\",\"lightseagreen\",\"lightseagreen\",\"lightseagreen\",\"lightseagreen\",\"lightseagreen\",\"lightseagreen\",\"lightseagreen\",\"lightseagreen\",\"lightseagreen\",\"lightseagreen\",\"lightseagreen\",\"lightseagreen\",\"lightseagreen\",\"crimson\",\"lightseagreen\",\"lightseagreen\",\"lightseagreen\",\"lightseagreen\",\"lightseagreen\",\"lightseagreen\",\"lightseagreen\",\"lightseagreen\",\"lightseagreen\",\"lightseagreen\",\"lightseagreen\",\"lightseagreen\",\"lightseagreen\"]}}],                        {\"template\":{\"data\":{\"barpolar\":[{\"marker\":{\"line\":{\"color\":\"rgb(237,237,237)\",\"width\":0.5},\"pattern\":{\"fillmode\":\"overlay\",\"size\":10,\"solidity\":0.2}},\"type\":\"barpolar\"}],\"bar\":[{\"error_x\":{\"color\":\"rgb(51,51,51)\"},\"error_y\":{\"color\":\"rgb(51,51,51)\"},\"marker\":{\"line\":{\"color\":\"rgb(237,237,237)\",\"width\":0.5},\"pattern\":{\"fillmode\":\"overlay\",\"size\":10,\"solidity\":0.2}},\"type\":\"bar\"}],\"carpet\":[{\"aaxis\":{\"endlinecolor\":\"rgb(51,51,51)\",\"gridcolor\":\"white\",\"linecolor\":\"white\",\"minorgridcolor\":\"white\",\"startlinecolor\":\"rgb(51,51,51)\"},\"baxis\":{\"endlinecolor\":\"rgb(51,51,51)\",\"gridcolor\":\"white\",\"linecolor\":\"white\",\"minorgridcolor\":\"white\",\"startlinecolor\":\"rgb(51,51,51)\"},\"type\":\"carpet\"}],\"choropleth\":[{\"colorbar\":{\"outlinewidth\":0,\"tickcolor\":\"rgb(237,237,237)\",\"ticklen\":6,\"ticks\":\"inside\"},\"type\":\"choropleth\"}],\"contourcarpet\":[{\"colorbar\":{\"outlinewidth\":0,\"tickcolor\":\"rgb(237,237,237)\",\"ticklen\":6,\"ticks\":\"inside\"},\"type\":\"contourcarpet\"}],\"contour\":[{\"colorbar\":{\"outlinewidth\":0,\"tickcolor\":\"rgb(237,237,237)\",\"ticklen\":6,\"ticks\":\"inside\"},\"colorscale\":[[0,\"rgb(20,44,66)\"],[1,\"rgb(90,179,244)\"]],\"type\":\"contour\"}],\"heatmapgl\":[{\"colorbar\":{\"outlinewidth\":0,\"tickcolor\":\"rgb(237,237,237)\",\"ticklen\":6,\"ticks\":\"inside\"},\"colorscale\":[[0,\"rgb(20,44,66)\"],[1,\"rgb(90,179,244)\"]],\"type\":\"heatmapgl\"}],\"heatmap\":[{\"colorbar\":{\"outlinewidth\":0,\"tickcolor\":\"rgb(237,237,237)\",\"ticklen\":6,\"ticks\":\"inside\"},\"colorscale\":[[0,\"rgb(20,44,66)\"],[1,\"rgb(90,179,244)\"]],\"type\":\"heatmap\"}],\"histogram2dcontour\":[{\"colorbar\":{\"outlinewidth\":0,\"tickcolor\":\"rgb(237,237,237)\",\"ticklen\":6,\"ticks\":\"inside\"},\"colorscale\":[[0,\"rgb(20,44,66)\"],[1,\"rgb(90,179,244)\"]],\"type\":\"histogram2dcontour\"}],\"histogram2d\":[{\"colorbar\":{\"outlinewidth\":0,\"tickcolor\":\"rgb(237,237,237)\",\"ticklen\":6,\"ticks\":\"inside\"},\"colorscale\":[[0,\"rgb(20,44,66)\"],[1,\"rgb(90,179,244)\"]],\"type\":\"histogram2d\"}],\"histogram\":[{\"marker\":{\"pattern\":{\"fillmode\":\"overlay\",\"size\":10,\"solidity\":0.2}},\"type\":\"histogram\"}],\"mesh3d\":[{\"colorbar\":{\"outlinewidth\":0,\"tickcolor\":\"rgb(237,237,237)\",\"ticklen\":6,\"ticks\":\"inside\"},\"type\":\"mesh3d\"}],\"parcoords\":[{\"line\":{\"colorbar\":{\"outlinewidth\":0,\"tickcolor\":\"rgb(237,237,237)\",\"ticklen\":6,\"ticks\":\"inside\"}},\"type\":\"parcoords\"}],\"pie\":[{\"automargin\":true,\"type\":\"pie\"}],\"scatter3d\":[{\"line\":{\"colorbar\":{\"outlinewidth\":0,\"tickcolor\":\"rgb(237,237,237)\",\"ticklen\":6,\"ticks\":\"inside\"}},\"marker\":{\"colorbar\":{\"outlinewidth\":0,\"tickcolor\":\"rgb(237,237,237)\",\"ticklen\":6,\"ticks\":\"inside\"}},\"type\":\"scatter3d\"}],\"scattercarpet\":[{\"marker\":{\"colorbar\":{\"outlinewidth\":0,\"tickcolor\":\"rgb(237,237,237)\",\"ticklen\":6,\"ticks\":\"inside\"}},\"type\":\"scattercarpet\"}],\"scattergeo\":[{\"marker\":{\"colorbar\":{\"outlinewidth\":0,\"tickcolor\":\"rgb(237,237,237)\",\"ticklen\":6,\"ticks\":\"inside\"}},\"type\":\"scattergeo\"}],\"scattergl\":[{\"marker\":{\"colorbar\":{\"outlinewidth\":0,\"tickcolor\":\"rgb(237,237,237)\",\"ticklen\":6,\"ticks\":\"inside\"}},\"type\":\"scattergl\"}],\"scattermapbox\":[{\"marker\":{\"colorbar\":{\"outlinewidth\":0,\"tickcolor\":\"rgb(237,237,237)\",\"ticklen\":6,\"ticks\":\"inside\"}},\"type\":\"scattermapbox\"}],\"scatterpolargl\":[{\"marker\":{\"colorbar\":{\"outlinewidth\":0,\"tickcolor\":\"rgb(237,237,237)\",\"ticklen\":6,\"ticks\":\"inside\"}},\"type\":\"scatterpolargl\"}],\"scatterpolar\":[{\"marker\":{\"colorbar\":{\"outlinewidth\":0,\"tickcolor\":\"rgb(237,237,237)\",\"ticklen\":6,\"ticks\":\"inside\"}},\"type\":\"scatterpolar\"}],\"scatter\":[{\"fillpattern\":{\"fillmode\":\"overlay\",\"size\":10,\"solidity\":0.2},\"type\":\"scatter\"}],\"scatterternary\":[{\"marker\":{\"colorbar\":{\"outlinewidth\":0,\"tickcolor\":\"rgb(237,237,237)\",\"ticklen\":6,\"ticks\":\"inside\"}},\"type\":\"scatterternary\"}],\"surface\":[{\"colorbar\":{\"outlinewidth\":0,\"tickcolor\":\"rgb(237,237,237)\",\"ticklen\":6,\"ticks\":\"inside\"},\"colorscale\":[[0,\"rgb(20,44,66)\"],[1,\"rgb(90,179,244)\"]],\"type\":\"surface\"}],\"table\":[{\"cells\":{\"fill\":{\"color\":\"rgb(237,237,237)\"},\"line\":{\"color\":\"white\"}},\"header\":{\"fill\":{\"color\":\"rgb(217,217,217)\"},\"line\":{\"color\":\"white\"}},\"type\":\"table\"}]},\"layout\":{\"annotationdefaults\":{\"arrowhead\":0,\"arrowwidth\":1},\"autotypenumbers\":\"strict\",\"coloraxis\":{\"colorbar\":{\"outlinewidth\":0,\"tickcolor\":\"rgb(237,237,237)\",\"ticklen\":6,\"ticks\":\"inside\"}},\"colorscale\":{\"sequential\":[[0,\"rgb(20,44,66)\"],[1,\"rgb(90,179,244)\"]],\"sequentialminus\":[[0,\"rgb(20,44,66)\"],[1,\"rgb(90,179,244)\"]]},\"colorway\":[\"#F8766D\",\"#A3A500\",\"#00BF7D\",\"#00B0F6\",\"#E76BF3\"],\"font\":{\"color\":\"rgb(51,51,51)\"},\"geo\":{\"bgcolor\":\"white\",\"lakecolor\":\"white\",\"landcolor\":\"rgb(237,237,237)\",\"showlakes\":true,\"showland\":true,\"subunitcolor\":\"white\"},\"hoverlabel\":{\"align\":\"left\"},\"hovermode\":\"closest\",\"paper_bgcolor\":\"white\",\"plot_bgcolor\":\"rgb(237,237,237)\",\"polar\":{\"angularaxis\":{\"gridcolor\":\"white\",\"linecolor\":\"white\",\"showgrid\":true,\"tickcolor\":\"rgb(51,51,51)\",\"ticks\":\"outside\"},\"bgcolor\":\"rgb(237,237,237)\",\"radialaxis\":{\"gridcolor\":\"white\",\"linecolor\":\"white\",\"showgrid\":true,\"tickcolor\":\"rgb(51,51,51)\",\"ticks\":\"outside\"}},\"scene\":{\"xaxis\":{\"backgroundcolor\":\"rgb(237,237,237)\",\"gridcolor\":\"white\",\"gridwidth\":2,\"linecolor\":\"white\",\"showbackground\":true,\"showgrid\":true,\"tickcolor\":\"rgb(51,51,51)\",\"ticks\":\"outside\",\"zerolinecolor\":\"white\"},\"yaxis\":{\"backgroundcolor\":\"rgb(237,237,237)\",\"gridcolor\":\"white\",\"gridwidth\":2,\"linecolor\":\"white\",\"showbackground\":true,\"showgrid\":true,\"tickcolor\":\"rgb(51,51,51)\",\"ticks\":\"outside\",\"zerolinecolor\":\"white\"},\"zaxis\":{\"backgroundcolor\":\"rgb(237,237,237)\",\"gridcolor\":\"white\",\"gridwidth\":2,\"linecolor\":\"white\",\"showbackground\":true,\"showgrid\":true,\"tickcolor\":\"rgb(51,51,51)\",\"ticks\":\"outside\",\"zerolinecolor\":\"white\"}},\"shapedefaults\":{\"fillcolor\":\"black\",\"line\":{\"width\":0},\"opacity\":0.3},\"ternary\":{\"aaxis\":{\"gridcolor\":\"white\",\"linecolor\":\"white\",\"showgrid\":true,\"tickcolor\":\"rgb(51,51,51)\",\"ticks\":\"outside\"},\"baxis\":{\"gridcolor\":\"white\",\"linecolor\":\"white\",\"showgrid\":true,\"tickcolor\":\"rgb(51,51,51)\",\"ticks\":\"outside\"},\"bgcolor\":\"rgb(237,237,237)\",\"caxis\":{\"gridcolor\":\"white\",\"linecolor\":\"white\",\"showgrid\":true,\"tickcolor\":\"rgb(51,51,51)\",\"ticks\":\"outside\"}},\"xaxis\":{\"automargin\":true,\"gridcolor\":\"white\",\"linecolor\":\"white\",\"showgrid\":true,\"tickcolor\":\"rgb(51,51,51)\",\"ticks\":\"outside\",\"title\":{\"standoff\":15},\"zerolinecolor\":\"white\"},\"yaxis\":{\"automargin\":true,\"gridcolor\":\"white\",\"linecolor\":\"white\",\"showgrid\":true,\"tickcolor\":\"rgb(51,51,51)\",\"ticks\":\"outside\",\"title\":{\"standoff\":15},\"zerolinecolor\":\"white\"}}},\"xaxis\":{\"anchor\":\"y\",\"domain\":[0.0,0.45]},\"yaxis\":{\"anchor\":\"x\",\"domain\":[0.0,1.0],\"categoryorder\":\"total ascending\"},\"xaxis2\":{\"anchor\":\"y2\",\"domain\":[0.55,1.0]},\"yaxis2\":{\"anchor\":\"x2\",\"domain\":[0.0,1.0],\"categoryorder\":\"total ascending\"},\"annotations\":[{\"font\":{\"size\":16},\"showarrow\":false,\"text\":\"Possession Lost (per game)\",\"x\":0.225,\"xanchor\":\"center\",\"xref\":\"paper\",\"y\":1.0,\"yanchor\":\"bottom\",\"yref\":\"paper\"},{\"font\":{\"size\":16},\"showarrow\":false,\"text\":\"Ball Possession (%)\",\"x\":0.775,\"xanchor\":\"center\",\"xref\":\"paper\",\"y\":1.0,\"yanchor\":\"bottom\",\"yref\":\"paper\"}],\"height\":750,\"width\":1100},                        {\"responsive\": true}                    ).then(function(){\n",
       "                            \n",
       "var gd = document.getElementById('f9b1f998-cbf5-41c5-b220-1e3f698016a6');\n",
       "var x = new MutationObserver(function (mutations, observer) {{\n",
       "        var display = window.getComputedStyle(gd).display;\n",
       "        if (!display || display === 'none') {{\n",
       "            console.log([gd, 'removed!']);\n",
       "            Plotly.purge(gd);\n",
       "            observer.disconnect();\n",
       "        }}\n",
       "}});\n",
       "\n",
       "// Listen for the removal of the full notebook cells\n",
       "var notebookContainer = gd.closest('#notebook-container');\n",
       "if (notebookContainer) {{\n",
       "    x.observe(notebookContainer, {childList: true});\n",
       "}}\n",
       "\n",
       "// Listen for the clearing of the current output cell\n",
       "var outputEl = gd.closest('.output');\n",
       "if (outputEl) {{\n",
       "    x.observe(outputEl, {childList: true});\n",
       "}}\n",
       "\n",
       "                        })                };                });            </script>        </div>"
      ]
     },
     "metadata": {},
     "output_type": "display_data"
    }
   ],
   "source": [
    "team_data['dispossessed_pergame'] = team_data['dispossessed']/team_data['games']\n",
    "fig = make_subplots(\n",
    "    rows=1, cols=2,\n",
    "    specs=[[{}, {}]],\n",
    "    subplot_titles=('Possession Lost (per game)', 'Ball Possession (%)'),           \n",
    "    \n",
    "    print_grid=False)\n",
    "\n",
    "fig.add_trace(go.Bar(x=team_data['dispossessed_pergame'], \n",
    "                     y=team_data['team'], orientation='h', showlegend=False), row=1, col=1).update_yaxes(categoryorder='total descending')\n",
    "\n",
    "fig.add_trace(go.Bar(x=team_data['possession'], \n",
    "                     y=team_data['team'], orientation='h', showlegend=False), row=1, col=2).update_yaxes(categoryorder='total ascending')\n",
    "\n",
    "colors = ['lightseagreen',] * 32 \n",
    "colors[18] = 'crimson' \n",
    "\n",
    "fig.update_traces(marker_color=colors, marker_line_color=None,\n",
    "                  marker_line_width=2.5, opacity=None,)\n",
    "\n",
    "fig.update_layout(height=750, width=1100, template='ggplot2')\n",
    "fig.show()"
   ]
  },
  {
   "cell_type": "markdown",
   "id": "8a3b953f",
   "metadata": {
    "papermill": {
     "duration": 0.018056,
     "end_time": "2023-01-26T09:46:32.042806",
     "exception": false,
     "start_time": "2023-01-26T09:46:32.024750",
     "status": "completed"
    },
    "tags": []
   },
   "source": [
    "## Concluding Remarks:\n",
    "\n",
    "Our exploration of the Qatar's World Cup games team's statistics has come to an end. Along the way we have tried to see what game attributes affect the performance and result of a team. We have tried to cover both sides of the game, attacking and defensive attributes. As the title of our notebook indicates, we have kept an eye on team Morocco all the way from start to finish and tried to make a case for them. The choice of our team is simply because they were the surprise package of the world cup, they defied logic and expectations. To avoid redundancy, I will not list all the highlights explored as a summary, just a few points highlighting the failure of some of the heavy weights of the game and the miracle of Morocco.  \n",
    "\n",
    " - The `Spanish` football team has shown us possession is overrated; for their impressive ball possession (75.8% on average) they have posted during the tournament they were dumped by `Morocco which averaged 39% ball-possession`.\n",
    "\n",
    "- `Germany` paid the biggest price for their poor goal conversion rate. Although they were top on total `shots_per_game` and `shot_on_target_per_game`, they were 12th from the bottom (~bottom third) in goal conversion rate. Germany's `shot on target per-game` was 3X higher than Morocco's (7.67 vs 2.43) and still did not make it out of the group stages!\n",
    "\n",
    "- Age (old) is not always a disadvantage as shown by Croatia (third oldest team in the Semi-Finals). For `Belgium` however it seems that they paid the price for relying too much on the aging squad members. Both Belgium and Costa Rica, the oldest teams, were eliminated from the group stage.\n",
    "\n",
    "- `Morocco` are the surprise teams of the tournament. They surprised everybody by their achievement. However, when we look closely the match statistics it appears that the have done the **not-so-visible** part of the game efficiently. Especially they stood out on the following stats: on `goals conceded per game (5th)`, `lost ball possession (9th)`, `interception/tackle-interception/ball recovery (9th avg.)`. They deserve their history making 4th place finish. They are the crown of African football and they set the target for other teams [Africans team and other underdogs] to match. \n",
    "\n",
    "\n",
    "\n"
   ]
  },
  {
   "cell_type": "markdown",
   "id": "e9f56003",
   "metadata": {
    "papermill": {
     "duration": 0.016958,
     "end_time": "2023-01-26T09:46:32.077105",
     "exception": false,
     "start_time": "2023-01-26T09:46:32.060147",
     "status": "completed"
    },
    "tags": []
   },
   "source": [
    "## Reference\n",
    "\n",
    "1. https://www.sportingnews.com/uk/soccer/news/how-many-players-world-cup-squads-rosters-fifa-qatar-2022/ic04lajzekgfsivpnoiv5hc0\n",
    "2. https://footballxg.com/\n",
    "3. https://www.statsperform.com/opta-event-definitions/\n",
    "4. https://www.fifa.com/fifa-world-ranking/men?dateId=id13792\n",
    "5. https://www.skysports.com/football/news/11096/10330603/when-teams-progress-in-major-tournaments-without-winning\n",
    "6. https://www.kaggle.com/datasets/swaptr/fifa-world-cup-2022-statistics\n",
    "7. https://nypost.com/2022/11/15/all-the-controversies-surrounding-the-qatar-world-cup-in-2022/\n",
    "8. https://www.ghanaweb.com/GhanaHomePage/SportsArchive/Key-unforgettable-moments-of-2022-World-Cup-Group-stage-in-Qatar-1673927\n",
    "9. https://abcnews.go.com/Sports/wireStory/ronaldo-1st-male-player-score-5-world-cups-93923484\n",
    "10. https://dataglossary.wyscout.com/progressive_pass/\n",
    "11. https://www.timeoutdoha.com/sport-wellbeing/records-broken-qatar-2022\n",
    "12. https://soccerknowledgehub.com/through-ball-in-soccer/\n",
    "13. https://www.soccerseattlestyle.com/what-is-the-average-age-of-a-professional-soccer-player\n",
    "\n",
    "\n",
    "---\n",
    "### End of Notebook!"
   ]
  },
  {
   "cell_type": "markdown",
   "id": "465e0145",
   "metadata": {
    "papermill": {
     "duration": 0.017026,
     "end_time": "2023-01-26T09:46:32.111393",
     "exception": false,
     "start_time": "2023-01-26T09:46:32.094367",
     "status": "completed"
    },
    "tags": []
   },
   "source": [
    "### ⚽⚽⚽ Thank you for reading my notebook! ⚽⚽⚽"
   ]
  },
  {
   "cell_type": "markdown",
   "id": "898f9a56",
   "metadata": {
    "execution": {
     "iopub.execute_input": "2022-12-13T10:54:59.002977Z",
     "iopub.status.busy": "2022-12-13T10:54:59.002555Z",
     "iopub.status.idle": "2022-12-13T10:54:59.008130Z",
     "shell.execute_reply": "2022-12-13T10:54:59.006808Z",
     "shell.execute_reply.started": "2022-12-13T10:54:59.002942Z"
    },
    "papermill": {
     "duration": 0.016992,
     "end_time": "2023-01-26T09:46:32.146079",
     "exception": false,
     "start_time": "2023-01-26T09:46:32.129087",
     "status": "completed"
    },
    "tags": []
   },
   "source": [
    "<!-- # import plotly.graph_objects as go\n",
    "# from sklearn.linear_model import LinearRegression\n",
    "\n",
    "# fig = go.Figure()\n",
    "\n",
    "# fig.add_trace(go.Scatter(x=team_data['passes_completed'], \n",
    "#                          y=team_data['progressive_passes'],\n",
    "#                          mode='markers',\n",
    "#                          text=team_data['team'],\n",
    "#                          marker=dict(color='mediumaquamarine',\n",
    "#                                      size=0.5*team_data['possession']                                     \n",
    "#                                      )\n",
    "#                         )\n",
    "#              )\n",
    "# model = LinearRegression().fit(np.array(team_data['passes_completed']).reshape(-1,1), (np.array(team_data['progressive_passes'])))\n",
    "# y_hat = model.predict(np.array(team_data['passes_completed']).reshape(-1,1))\n",
    "\n",
    "# fig.add_trace(go.Scatter(x=team_data['passes_completed'], y=y_hat, mode='lines',name=\"Linear_reg_fit\", marker_color='salmon'))\n",
    "\n",
    "# fig.update_layout(showlegend=False, title='<b> Passes completed vs progressive passes <b>', template='ggplot2',)\n",
    "# fig.show()\n",
    "\n",
    "#########################\n",
    "\n",
    "team_data['passes_completed_pergame'] = team_data['passes_completed']/team_data['games']\n",
    "team_data['progressive_passes_pergame'] = team_data['progressive_passes']/team_data['games']\n",
    "\n",
    "\n",
    "fig = make_subplots(\n",
    "    rows=1, cols=2,\n",
    "    specs=[[{}, {}]],\n",
    "    subplot_titles=('Passes completed vs progressive passes', 'Passes completed vs progressive passes (per-game)',),           \n",
    "    \n",
    "    print_grid=False)\n",
    "\n",
    "fig.add_trace(go.Scatter(x=team_data['passes_completed_pergame'],\n",
    "                         y=team_data['progressive_passes_pergame'], \n",
    "                         showlegend=False, text=team_data['team'], \n",
    "                         mode='markers+text',\n",
    "                         name='team',\n",
    "                         marker_size=team_data['goals'].to_numpy()\n",
    "                        ),\n",
    "              row=1, col=2)\n",
    "\n",
    "fig.add_trace(go.Scatter(x=team_data['passes_completed'],\n",
    "                         y=team_data['progressive_passes'], \n",
    "                         showlegend=False, \n",
    "                         text=team_data['team'], \n",
    "                         mode='markers+text',\n",
    "                         name='team',\n",
    "                         marker_size=10\n",
    "                        ), \n",
    "              row=1, col=1)\n",
    "# fig.update_traces(marker_color=colors, marker_line_color=None,\n",
    "#                   marker_line_width=2.5, opacity=None,)\n",
    "\n",
    "fig.update_layout(height=750, width=1200, template='ggplot2')\n",
    "fig.show()\n",
    "\n",
    "-->"
   ]
  },
  {
   "cell_type": "markdown",
   "id": "536c4bad",
   "metadata": {
    "execution": {
     "iopub.execute_input": "2022-12-31T16:26:26.083903Z",
     "iopub.status.busy": "2022-12-31T16:26:26.083184Z",
     "iopub.status.idle": "2022-12-31T16:26:26.092856Z",
     "shell.execute_reply": "2022-12-31T16:26:26.091954Z",
     "shell.execute_reply.started": "2022-12-31T16:26:26.083853Z"
    },
    "papermill": {
     "duration": 0.017004,
     "end_time": "2023-01-26T09:46:32.180427",
     "exception": false,
     "start_time": "2023-01-26T09:46:32.163423",
     "status": "completed"
    },
    "tags": []
   },
   "source": [
    "<!-- # team_data['touches_def_pen_area_pergame'] = team_data['touches_def_pen_area']/team_data['games']\n",
    "# team_data['touches_def_3rd_pergame'] = team_data['touches_def_3rd']/team_data['games']\n",
    "# team_data['touches_mid_3rd_pergame'] = team_data['touches_mid_3rd']/team_data['games']\n",
    "# team_data['touches_att_3rd_pergame'] = team_data['touches_att_3rd']/team_data['games']\n",
    "# team_data['touches_att_pen_area_pergame'] = team_data['touches_att_pen_area']/team_data['games']\n",
    "\n",
    "# df1= team_data[['team', 'touches_def_3rd_pergame']].sort_values('touches_def_3rd_pergame', ascending=False)\n",
    "# df2= team_data[['team', 'touches_mid_3rd_pergame']].sort_values('touches_mid_3rd_pergame', ascending=False)\n",
    "# df3= team_data[['team', 'touches_att_3rd_pergame']].sort_values('touches_att_3rd_pergame', ascending=False)\n",
    "\n",
    "# colors = ['lightseagreen',] * 32 \n",
    "# colors[2] = 'crimson'\n",
    "# colors[0] = 'gold'\n",
    "\n",
    "# colors1 = ['lightseagreen',] * 32 \n",
    "# colors1[26] = 'crimson'\n",
    "# colors1[0] = 'gold' \n",
    "\n",
    "# colors2 = ['lightseagreen',] * 32 \n",
    "# colors2[29] = 'crimson'\n",
    "# colors2[0] = 'gold'\n",
    "# colors2[1] = 'gold'\n",
    "\n",
    "# fig = go.Figure(data=\n",
    "#                  [go.Bar(\n",
    "#                      name='def_3rd',\n",
    "#                      y=df1['touches_def_3rd_pergame'],\n",
    "#                      x=df1[\"team\"],\n",
    "#                      marker_color= colors ,\n",
    "#                      ),\n",
    "#                   go.Bar(\n",
    "#                       name='mid_3rd',\n",
    "#                       y=df2['touches_mid_3rd_pergame'],\n",
    "#                       x=df2['team'],\n",
    "#                       marker_color= colors1 ,\n",
    "#                       ),\n",
    "#                   go.Bar(\n",
    "#                       name='att_3rd',\n",
    "#                       y=df3['touches_att_3rd_pergame'],\n",
    "#                       x=df3['team'],\n",
    "#                       marker_color= colors2 ,\n",
    "#                       ),\n",
    "#                   ]\n",
    "#                  )\n",
    "\n",
    "# # Add dropdown\n",
    "# fig.update_layout(\n",
    "#     updatemenus=[\n",
    "#         dict(\n",
    "#             type=\"buttons\",\n",
    "#             direction=\"down\",\n",
    "#             buttons=list([\n",
    "#                 dict(label=\"All zones\",\n",
    "#                     method=\"update\",\n",
    "#                     args=[{\"visible\": [True, True, True]},\n",
    "#                         {\"title\": \"Number of touches: Full zones of the pitch.\"}]),\n",
    "#                 dict(label=\"def_3rd\",\n",
    "#                     method=\"update\",\n",
    "#                     args=[{\"visible\": [True, False, False]},\n",
    "#                         {\"title\": \"Number of touches: Defensive 3rd of the Pitch\"\\\n",
    "#                          '<br><span style=\"font-size:16px; color: darkgray\"> Belgium, with 276 touces pergame in the defensive 3rd of the pitch is a litte surprising for the quality they had.',\n",
    "#                             },\n",
    "#                          {\"markercolor\": colors}]),\n",
    "#                 dict(label=\"mid_3rd\",\n",
    "#                     method=\"update\",\n",
    "#                     args=[{\"visible\": [False, True, False]},\n",
    "#                         {\"title\": \"Number of touches: Middle 3rd of the Pitch\"\\\n",
    "#                          '<br><span style=\"font-size:16px; color: darkgray\"> With 649 touces pergame, Spain had by far the highest toutches in the middle 3rd. of the pitch!',\n",
    "#                             }]),\n",
    "#                 dict(label=\"att_3rd\",\n",
    "#                     method=\"update\",\n",
    "#                     args=[{\"visible\": [False, False, True]},\n",
    "#                         {\"title\": \"Number of touches: Attacking 3rd of the Pitch\"\\\n",
    "#                          '<br><span style=\"font-size:16px; color: darkgray\"> With appx. 235 touces pergame, Germany and Spain had the highest toutches in the attackig 3rd.',\n",
    "#                             }]),\n",
    "#             ]),\n",
    "#         )\n",
    "#     ])\n",
    "\n",
    "# fig.update_layout(\n",
    "#              template='simple_white',\n",
    "#              title=\"<b> Total touches in parts of the pitch <b>\",\n",
    "#              titlefont={'size':24},\n",
    "# )\n",
    "\n",
    "\n",
    "# fig.update_traces(showlegend=True,\n",
    "# #                   legend_color='red',\n",
    "#                   marker_line_color=None,\n",
    "#                   marker_line_width=2.5, opacity=None)\n",
    "# fig.update_yaxes(title='Touches')\n",
    "# fig.update_xaxes(title='Teams')\n",
    "# fig.show()\n",
    " -->"
   ]
  },
  {
   "cell_type": "code",
   "execution_count": null,
   "id": "31646d38",
   "metadata": {
    "papermill": {
     "duration": 0.016866,
     "end_time": "2023-01-26T09:46:32.214433",
     "exception": false,
     "start_time": "2023-01-26T09:46:32.197567",
     "status": "completed"
    },
    "tags": []
   },
   "outputs": [],
   "source": []
  }
 ],
 "metadata": {
  "kernelspec": {
   "display_name": "Python 3",
   "language": "python",
   "name": "python3"
  },
  "language_info": {
   "codemirror_mode": {
    "name": "ipython",
    "version": 3
   },
   "file_extension": ".py",
   "mimetype": "text/x-python",
   "name": "python",
   "nbconvert_exporter": "python",
   "pygments_lexer": "ipython3",
   "version": "3.7.12"
  },
  "papermill": {
   "default_parameters": {},
   "duration": 16.135609,
   "end_time": "2023-01-26T09:46:33.054418",
   "environment_variables": {},
   "exception": null,
   "input_path": "__notebook__.ipynb",
   "output_path": "__notebook__.ipynb",
   "parameters": {},
   "start_time": "2023-01-26T09:46:16.918809",
   "version": "2.3.4"
  }
 },
 "nbformat": 4,
 "nbformat_minor": 5
}
